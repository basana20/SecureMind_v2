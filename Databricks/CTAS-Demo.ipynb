{
 "cells": [
  {
   "cell_type": "code",
   "execution_count": 0,
   "metadata": {
    "application/vnd.databricks.v1+cell": {
     "cellMetadata": {
      "byteLimit": 2048000,
      "rowLimit": 10000
     },
     "inputWidgets": {},
     "nuid": "c3052fea-46cd-400e-8180-46e0c97853a9",
     "showTitle": false,
     "title": ""
    }
   },
   "outputs": [
    {
     "output_type": "display_data",
     "data": {
      "text/html": [
       "<style scoped>\n",
       "  .table-result-container {\n",
       "    max-height: 300px;\n",
       "    overflow: auto;\n",
       "  }\n",
       "  table, th, td {\n",
       "    border: 1px solid black;\n",
       "    border-collapse: collapse;\n",
       "  }\n",
       "  th, td {\n",
       "    padding: 5px;\n",
       "  }\n",
       "  th {\n",
       "    text-align: left;\n",
       "  }\n",
       "</style><div class='table-result-container'><table class='table-result'><thead style='background-color: white'><tr><th>databaseName</th></tr></thead><tbody><tr><td>default</td></tr><tr><td>testdb</td></tr></tbody></table></div>"
      ]
     },
     "metadata": {
      "application/vnd.databricks.v1+output": {
       "addedWidgets": {},
       "aggData": [],
       "aggError": "",
       "aggOverflow": false,
       "aggSchema": [],
       "aggSeriesLimitReached": false,
       "aggType": "",
       "arguments": {},
       "columnCustomDisplayInfos": {},
       "data": [
        [
         "default"
        ],
        [
         "testdb"
        ]
       ],
       "datasetInfos": [],
       "dbfsResultPath": null,
       "isJsonSchema": true,
       "metadata": {
        "isDbfsCommandResult": false
       },
       "overflow": false,
       "plotOptions": {
        "customPlotOptions": {},
        "displayType": "table",
        "pivotAggregation": null,
        "pivotColumns": null,
        "xColumns": null,
        "yColumns": null
       },
       "removedWidgets": [],
       "schema": [
        {
         "metadata": "{}",
         "name": "databaseName",
         "type": "\"string\""
        }
       ],
       "type": "table"
      }
     },
     "output_type": "display_data"
    }
   ],
   "source": [
    "%sql\n",
    "show databases;"
   ]
  },
  {
   "cell_type": "code",
   "execution_count": 0,
   "metadata": {
    "application/vnd.databricks.v1+cell": {
     "cellMetadata": {
      "byteLimit": 2048000,
      "rowLimit": 10000
     },
     "inputWidgets": {},
     "nuid": "62c27565-31de-48eb-bb0d-cf9a65bbd85e",
     "showTitle": false,
     "title": ""
    }
   },
   "outputs": [
    {
     "output_type": "display_data",
     "data": {
      "text/html": [
       "<style scoped>\n",
       "  .table-result-container {\n",
       "    max-height: 300px;\n",
       "    overflow: auto;\n",
       "  }\n",
       "  table, th, td {\n",
       "    border: 1px solid black;\n",
       "    border-collapse: collapse;\n",
       "  }\n",
       "  th, td {\n",
       "    padding: 5px;\n",
       "  }\n",
       "  th {\n",
       "    text-align: left;\n",
       "  }\n",
       "</style><div class='table-result-container'><table class='table-result'><thead style='background-color: white'><tr></tr></thead><tbody></tbody></table></div>"
      ]
     },
     "metadata": {
      "application/vnd.databricks.v1+output": {
       "addedWidgets": {},
       "aggData": [],
       "aggError": "",
       "aggOverflow": false,
       "aggSchema": [],
       "aggSeriesLimitReached": false,
       "aggType": "",
       "arguments": {},
       "columnCustomDisplayInfos": {},
       "data": [],
       "datasetInfos": [],
       "dbfsResultPath": null,
       "isJsonSchema": true,
       "metadata": {
        "isDbfsCommandResult": false
       },
       "overflow": false,
       "plotOptions": {
        "customPlotOptions": {},
        "displayType": "table",
        "pivotAggregation": null,
        "pivotColumns": null,
        "xColumns": null,
        "yColumns": null
       },
       "removedWidgets": [],
       "schema": [],
       "type": "table"
      }
     },
     "output_type": "display_data"
    }
   ],
   "source": [
    "%sql\n",
    "use testdb;"
   ]
  },
  {
   "cell_type": "code",
   "execution_count": 0,
   "metadata": {
    "application/vnd.databricks.v1+cell": {
     "cellMetadata": {
      "byteLimit": 2048000,
      "rowLimit": 10000
     },
     "inputWidgets": {},
     "nuid": "48f6f896-4e58-4cb3-bbe3-6abf9db25048",
     "showTitle": false,
     "title": ""
    }
   },
   "outputs": [
    {
     "output_type": "display_data",
     "data": {
      "text/html": [
       "<style scoped>\n",
       "  .table-result-container {\n",
       "    max-height: 300px;\n",
       "    overflow: auto;\n",
       "  }\n",
       "  table, th, td {\n",
       "    border: 1px solid black;\n",
       "    border-collapse: collapse;\n",
       "  }\n",
       "  th, td {\n",
       "    padding: 5px;\n",
       "  }\n",
       "  th {\n",
       "    text-align: left;\n",
       "  }\n",
       "</style><div class='table-result-container'><table class='table-result'><thead style='background-color: white'><tr></tr></thead><tbody></tbody></table></div>"
      ]
     },
     "metadata": {
      "application/vnd.databricks.v1+output": {
       "addedWidgets": {},
       "aggData": [],
       "aggError": "",
       "aggOverflow": false,
       "aggSchema": [],
       "aggSeriesLimitReached": false,
       "aggType": "",
       "arguments": {},
       "columnCustomDisplayInfos": {},
       "data": [],
       "datasetInfos": [],
       "dbfsResultPath": null,
       "isJsonSchema": true,
       "metadata": {
        "isDbfsCommandResult": false
       },
       "overflow": false,
       "plotOptions": {
        "customPlotOptions": {},
        "displayType": "table",
        "pivotAggregation": null,
        "pivotColumns": null,
        "xColumns": null,
        "yColumns": null
       },
       "removedWidgets": [],
       "schema": [],
       "type": "table"
      }
     },
     "output_type": "display_data"
    }
   ],
   "source": [
    "%sql\n",
    "create table foods (\n",
    "\tfood_type VARCHAR(9),\n",
    "\tfood_name VARCHAR(256),\n",
    "\tcalories DECIMAL(6,2),\n",
    "\tcountry_of_origin VARCHAR(50),\n",
    "\tallergens VARCHAR(9)\n",
    ");"
   ]
  },
  {
   "cell_type": "code",
   "execution_count": 0,
   "metadata": {
    "application/vnd.databricks.v1+cell": {
     "cellMetadata": {
      "byteLimit": 2048000,
      "rowLimit": 10000
     },
     "inputWidgets": {},
     "nuid": "be9af185-b6de-4966-bb64-464c12afbf32",
     "showTitle": false,
     "title": ""
    }
   },
   "outputs": [
    {
     "output_type": "display_data",
     "data": {
      "text/html": [
       "<style scoped>\n",
       "  .table-result-container {\n",
       "    max-height: 300px;\n",
       "    overflow: auto;\n",
       "  }\n",
       "  table, th, td {\n",
       "    border: 1px solid black;\n",
       "    border-collapse: collapse;\n",
       "  }\n",
       "  th, td {\n",
       "    padding: 5px;\n",
       "  }\n",
       "  th {\n",
       "    text-align: left;\n",
       "  }\n",
       "</style><div class='table-result-container'><table class='table-result'><thead style='background-color: white'><tr><th>num_affected_rows</th><th>num_inserted_rows</th></tr></thead><tbody><tr><td>1</td><td>1</td></tr></tbody></table></div>"
      ]
     },
     "metadata": {
      "application/vnd.databricks.v1+output": {
       "addedWidgets": {},
       "aggData": [],
       "aggError": "",
       "aggOverflow": false,
       "aggSchema": [],
       "aggSeriesLimitReached": false,
       "aggType": "",
       "arguments": {},
       "columnCustomDisplayInfos": {},
       "data": [
        [
         1,
         1
        ]
       ],
       "datasetInfos": [],
       "dbfsResultPath": null,
       "isJsonSchema": true,
       "metadata": {
        "isDbfsCommandResult": false
       },
       "overflow": false,
       "plotOptions": {
        "customPlotOptions": {},
        "displayType": "table",
        "pivotAggregation": null,
        "pivotColumns": null,
        "xColumns": null,
        "yColumns": null
       },
       "removedWidgets": [],
       "schema": [
        {
         "metadata": "{}",
         "name": "num_affected_rows",
         "type": "\"long\""
        },
        {
         "metadata": "{}",
         "name": "num_inserted_rows",
         "type": "\"long\""
        }
       ],
       "type": "table"
      }
     },
     "output_type": "display_data"
    }
   ],
   "source": [
    "%sql\n",
    "insert into foods (food_type, food_name, calories, country_of_origin, allergens) values ('snack', 'praesent blandit lacinia erat vestibulum sed magna at nunc commodo placerat praesent blandit nam nulla integer pede justo lacinia', 160.25, 'China', 'soy');\n",
    "insert into foods (food_type, food_name, calories, country_of_origin, allergens) values ('condiment', 'molestie sed justo pellentesque viverra pede ac diam cras pellentesque volutpat dui', 162.68, 'China', 'dairy');\n",
    "insert into foods (food_type, food_name, calories, country_of_origin, allergens) values ('fruit', 'cras pellentesque volutpat dui maecenas tristique est et tempus semper', 862.18, 'Armenia', 'soy');\n",
    "insert into foods (food_type, food_name, calories, country_of_origin, allergens) values ('condiment', 'pede ac diam cras pellentesque volutpat dui maecenas tristique est et tempus semper', 868.14, 'Nigeria', 'soy');\n",
    "insert into foods (food_type, food_name, calories, country_of_origin, allergens) values ('condiment', 'volutpat sapien arcu sed augue aliquam erat volutpat in congue etiam justo etiam pretium iaculis justo in hac', 690.09, 'Philippines', 'gluten');\n",
    "insert into foods (food_type, food_name, calories, country_of_origin, allergens) values ('vegetable', 'venenatis tristique fusce congue diam id ornare imperdiet sapien urna pretium nisl', 966.59, 'Russia', 'shellfish');\n",
    "insert into foods (food_type, food_name, calories, country_of_origin, allergens) values ('condiment', 'ut erat id mauris vulputate elementum nullam varius nulla facilisi cras non velit nec nisi vulputate nonummy', 630.61, 'Czech Republic', 'nuts');\n",
    "insert into foods (food_type, food_name, calories, country_of_origin, allergens) values ('grain', 'ligula suspendisse ornare consequat lectus in est risus auctor sed tristique in', 401.47, 'China', 'shellfish');\n",
    "insert into foods (food_type, food_name, calories, country_of_origin, allergens) values ('dairy', 'magnis dis parturient montes nascetur ridiculus mus etiam vel augue vestibulum rutrum', 591.95, 'Morocco', 'soy');\n",
    "insert into foods (food_type, food_name, calories, country_of_origin, allergens) values ('snack', 'etiam pretium iaculis justo in hac habitasse platea dictumst etiam faucibus cursus urna ut tellus nulla ut erat', 154.72, 'Brazil', 'soy');\n",
    "insert into foods (food_type, food_name, calories, country_of_origin, allergens) values ('grain', 'est lacinia nisi venenatis tristique fusce congue diam id ornare imperdiet', 413.58, 'Czech Republic', 'dairy');\n",
    "insert into foods (food_type, food_name, calories, country_of_origin, allergens) values ('grain', 'nulla dapibus dolor vel est donec odio justo sollicitudin ut suscipit a feugiat et eros vestibulum ac est', 307.11, 'China', 'dairy');\n",
    "insert into foods (food_type, food_name, calories, country_of_origin, allergens) values ('fruit', 'sit amet justo morbi ut odio cras mi pede malesuada in imperdiet et commodo', 689.03, 'France', 'dairy');\n",
    "insert into foods (food_type, food_name, calories, country_of_origin, allergens) values ('seafood', 'diam erat fermentum justo nec condimentum neque sapien placerat ante nulla justo', 150.12, 'Peru', 'nuts');\n",
    "insert into foods (food_type, food_name, calories, country_of_origin, allergens) values ('condiment', 'justo nec condimentum neque sapien placerat ante nulla justo aliquam quis turpis eget elit sodales scelerisque mauris sit amet eros', 236.6, 'Japan', 'dairy');\n",
    "insert into foods (food_type, food_name, calories, country_of_origin, allergens) values ('snack', 'odio in hac habitasse platea dictumst maecenas ut massa quis augue luctus tincidunt nulla mollis molestie lorem quisque', 553.67, 'Indonesia', 'soy');\n",
    "insert into foods (food_type, food_name, calories, country_of_origin, allergens) values ('vegetable', 'blandit nam nulla integer pede justo lacinia eget tincidunt eget tempus vel pede morbi', 221.74, 'Philippines', 'gluten');\n",
    "insert into foods (food_type, food_name, calories, country_of_origin, allergens) values ('grain', 'in leo maecenas pulvinar lobortis est phasellus sit amet erat', 13.74, 'Indonesia', 'shellfish');\n",
    "insert into foods (food_type, food_name, calories, country_of_origin, allergens) values ('condiment', 'mauris vulputate elementum nullam varius nulla facilisi cras non velit nec nisi vulputate nonummy maecenas tincidunt lacus at velit', 152.63, 'Poland', 'gluten');\n",
    "insert into foods (food_type, food_name, calories, country_of_origin, allergens) values ('snack', 'orci luctus et ultrices posuere cubilia curae duis faucibus accumsan odio curabitur convallis duis consequat', 370.86, 'China', 'soy');"
   ]
  },
  {
   "cell_type": "code",
   "execution_count": 0,
   "metadata": {
    "application/vnd.databricks.v1+cell": {
     "cellMetadata": {
      "byteLimit": 2048000,
      "rowLimit": 10000
     },
     "inputWidgets": {},
     "nuid": "5c8300ff-f8c9-4117-9bf2-11e067016355",
     "showTitle": false,
     "title": ""
    }
   },
   "outputs": [
    {
     "output_type": "display_data",
     "data": {
      "text/html": [
       "<style scoped>\n",
       "  .table-result-container {\n",
       "    max-height: 300px;\n",
       "    overflow: auto;\n",
       "  }\n",
       "  table, th, td {\n",
       "    border: 1px solid black;\n",
       "    border-collapse: collapse;\n",
       "  }\n",
       "  th, td {\n",
       "    padding: 5px;\n",
       "  }\n",
       "  th {\n",
       "    text-align: left;\n",
       "  }\n",
       "</style><div class='table-result-container'><table class='table-result'><thead style='background-color: white'><tr><th>food_type</th><th>food_name</th><th>calories</th><th>country_of_origin</th><th>allergens</th></tr></thead><tbody><tr><td>condiment</td><td>mauris vulputate elementum nullam varius nulla facilisi cras non velit nec nisi vulputate nonummy maecenas tincidunt lacus at velit</td><td>152.63</td><td>Poland</td><td>gluten</td></tr><tr><td>condiment</td><td>justo nec condimentum neque sapien placerat ante nulla justo aliquam quis turpis eget elit sodales scelerisque mauris sit amet eros</td><td>236.60</td><td>Japan</td><td>dairy</td></tr><tr><td>snack</td><td>praesent blandit lacinia erat vestibulum sed magna at nunc commodo placerat praesent blandit nam nulla integer pede justo lacinia</td><td>160.25</td><td>China</td><td>soy</td></tr><tr><td>condiment</td><td>ut erat id mauris vulputate elementum nullam varius nulla facilisi cras non velit nec nisi vulputate nonummy</td><td>630.61</td><td>Czech Republic</td><td>nuts</td></tr><tr><td>condiment</td><td>volutpat sapien arcu sed augue aliquam erat volutpat in congue etiam justo etiam pretium iaculis justo in hac</td><td>690.09</td><td>Philippines</td><td>gluten</td></tr><tr><td>snack</td><td>odio in hac habitasse platea dictumst maecenas ut massa quis augue luctus tincidunt nulla mollis molestie lorem quisque</td><td>553.67</td><td>Indonesia</td><td>soy</td></tr><tr><td>snack</td><td>etiam pretium iaculis justo in hac habitasse platea dictumst etiam faucibus cursus urna ut tellus nulla ut erat</td><td>154.72</td><td>Brazil</td><td>soy</td></tr><tr><td>grain</td><td>nulla dapibus dolor vel est donec odio justo sollicitudin ut suscipit a feugiat et eros vestibulum ac est</td><td>307.11</td><td>China</td><td>dairy</td></tr><tr><td>snack</td><td>orci luctus et ultrices posuere cubilia curae duis faucibus accumsan odio curabitur convallis duis consequat</td><td>370.86</td><td>China</td><td>soy</td></tr><tr><td>vegetable</td><td>blandit nam nulla integer pede justo lacinia eget tincidunt eget tempus vel pede morbi</td><td>221.74</td><td>Philippines</td><td>gluten</td></tr><tr><td>vegetable</td><td>venenatis tristique fusce congue diam id ornare imperdiet sapien urna pretium nisl</td><td>966.59</td><td>Russia</td><td>shellfish</td></tr><tr><td>condiment</td><td>pede ac diam cras pellentesque volutpat dui maecenas tristique est et tempus semper</td><td>868.14</td><td>Nigeria</td><td>soy</td></tr><tr><td>condiment</td><td>molestie sed justo pellentesque viverra pede ac diam cras pellentesque volutpat dui</td><td>162.68</td><td>China</td><td>dairy</td></tr><tr><td>grain</td><td>est lacinia nisi venenatis tristique fusce congue diam id ornare imperdiet</td><td>413.58</td><td>Czech Republic</td><td>dairy</td></tr><tr><td>dairy</td><td>magnis dis parturient montes nascetur ridiculus mus etiam vel augue vestibulum rutrum</td><td>591.95</td><td>Morocco</td><td>soy</td></tr><tr><td>grain</td><td>ligula suspendisse ornare consequat lectus in est risus auctor sed tristique in</td><td>401.47</td><td>China</td><td>shellfish</td></tr><tr><td>seafood</td><td>diam erat fermentum justo nec condimentum neque sapien placerat ante nulla justo</td><td>150.12</td><td>Peru</td><td>nuts</td></tr><tr><td>fruit</td><td>sit amet justo morbi ut odio cras mi pede malesuada in imperdiet et commodo</td><td>689.03</td><td>France</td><td>dairy</td></tr><tr><td>grain</td><td>in leo maecenas pulvinar lobortis est phasellus sit amet erat</td><td>13.74</td><td>Indonesia</td><td>shellfish</td></tr><tr><td>fruit</td><td>cras pellentesque volutpat dui maecenas tristique est et tempus semper</td><td>862.18</td><td>Armenia</td><td>soy</td></tr></tbody></table></div>"
      ]
     },
     "metadata": {
      "application/vnd.databricks.v1+output": {
       "addedWidgets": {},
       "aggData": [],
       "aggError": "",
       "aggOverflow": false,
       "aggSchema": [],
       "aggSeriesLimitReached": false,
       "aggType": "",
       "arguments": {},
       "columnCustomDisplayInfos": {},
       "data": [
        [
         "condiment",
         "mauris vulputate elementum nullam varius nulla facilisi cras non velit nec nisi vulputate nonummy maecenas tincidunt lacus at velit",
         "152.63",
         "Poland",
         "gluten"
        ],
        [
         "condiment",
         "justo nec condimentum neque sapien placerat ante nulla justo aliquam quis turpis eget elit sodales scelerisque mauris sit amet eros",
         "236.60",
         "Japan",
         "dairy"
        ],
        [
         "snack",
         "praesent blandit lacinia erat vestibulum sed magna at nunc commodo placerat praesent blandit nam nulla integer pede justo lacinia",
         "160.25",
         "China",
         "soy"
        ],
        [
         "condiment",
         "ut erat id mauris vulputate elementum nullam varius nulla facilisi cras non velit nec nisi vulputate nonummy",
         "630.61",
         "Czech Republic",
         "nuts"
        ],
        [
         "condiment",
         "volutpat sapien arcu sed augue aliquam erat volutpat in congue etiam justo etiam pretium iaculis justo in hac",
         "690.09",
         "Philippines",
         "gluten"
        ],
        [
         "snack",
         "odio in hac habitasse platea dictumst maecenas ut massa quis augue luctus tincidunt nulla mollis molestie lorem quisque",
         "553.67",
         "Indonesia",
         "soy"
        ],
        [
         "snack",
         "etiam pretium iaculis justo in hac habitasse platea dictumst etiam faucibus cursus urna ut tellus nulla ut erat",
         "154.72",
         "Brazil",
         "soy"
        ],
        [
         "grain",
         "nulla dapibus dolor vel est donec odio justo sollicitudin ut suscipit a feugiat et eros vestibulum ac est",
         "307.11",
         "China",
         "dairy"
        ],
        [
         "snack",
         "orci luctus et ultrices posuere cubilia curae duis faucibus accumsan odio curabitur convallis duis consequat",
         "370.86",
         "China",
         "soy"
        ],
        [
         "vegetable",
         "blandit nam nulla integer pede justo lacinia eget tincidunt eget tempus vel pede morbi",
         "221.74",
         "Philippines",
         "gluten"
        ],
        [
         "vegetable",
         "venenatis tristique fusce congue diam id ornare imperdiet sapien urna pretium nisl",
         "966.59",
         "Russia",
         "shellfish"
        ],
        [
         "condiment",
         "pede ac diam cras pellentesque volutpat dui maecenas tristique est et tempus semper",
         "868.14",
         "Nigeria",
         "soy"
        ],
        [
         "condiment",
         "molestie sed justo pellentesque viverra pede ac diam cras pellentesque volutpat dui",
         "162.68",
         "China",
         "dairy"
        ],
        [
         "grain",
         "est lacinia nisi venenatis tristique fusce congue diam id ornare imperdiet",
         "413.58",
         "Czech Republic",
         "dairy"
        ],
        [
         "dairy",
         "magnis dis parturient montes nascetur ridiculus mus etiam vel augue vestibulum rutrum",
         "591.95",
         "Morocco",
         "soy"
        ],
        [
         "grain",
         "ligula suspendisse ornare consequat lectus in est risus auctor sed tristique in",
         "401.47",
         "China",
         "shellfish"
        ],
        [
         "seafood",
         "diam erat fermentum justo nec condimentum neque sapien placerat ante nulla justo",
         "150.12",
         "Peru",
         "nuts"
        ],
        [
         "fruit",
         "sit amet justo morbi ut odio cras mi pede malesuada in imperdiet et commodo",
         "689.03",
         "France",
         "dairy"
        ],
        [
         "grain",
         "in leo maecenas pulvinar lobortis est phasellus sit amet erat",
         "13.74",
         "Indonesia",
         "shellfish"
        ],
        [
         "fruit",
         "cras pellentesque volutpat dui maecenas tristique est et tempus semper",
         "862.18",
         "Armenia",
         "soy"
        ]
       ],
       "datasetInfos": [],
       "dbfsResultPath": null,
       "isJsonSchema": true,
       "metadata": {
        "isDbfsCommandResult": false
       },
       "overflow": false,
       "plotOptions": {
        "customPlotOptions": {},
        "displayType": "table",
        "pivotAggregation": null,
        "pivotColumns": null,
        "xColumns": null,
        "yColumns": null
       },
       "removedWidgets": [],
       "schema": [
        {
         "metadata": "{\"__CHAR_VARCHAR_TYPE_STRING\":\"varchar(9)\"}",
         "name": "food_type",
         "type": "\"string\""
        },
        {
         "metadata": "{\"__CHAR_VARCHAR_TYPE_STRING\":\"varchar(256)\"}",
         "name": "food_name",
         "type": "\"string\""
        },
        {
         "metadata": "{}",
         "name": "calories",
         "type": "\"decimal(6,2)\""
        },
        {
         "metadata": "{\"__CHAR_VARCHAR_TYPE_STRING\":\"varchar(50)\"}",
         "name": "country_of_origin",
         "type": "\"string\""
        },
        {
         "metadata": "{\"__CHAR_VARCHAR_TYPE_STRING\":\"varchar(9)\"}",
         "name": "allergens",
         "type": "\"string\""
        }
       ],
       "type": "table"
      }
     },
     "output_type": "display_data"
    }
   ],
   "source": [
    "%sql\n",
    "select * from foods;"
   ]
  },
  {
   "cell_type": "code",
   "execution_count": 0,
   "metadata": {
    "application/vnd.databricks.v1+cell": {
     "cellMetadata": {
      "byteLimit": 2048000,
      "rowLimit": 10000
     },
     "inputWidgets": {},
     "nuid": "464f7580-59ad-4d9f-bf94-a8cb2738fe23",
     "showTitle": false,
     "title": ""
    }
   },
   "outputs": [
    {
     "output_type": "display_data",
     "data": {
      "text/html": [
       "<style scoped>\n",
       "  .table-result-container {\n",
       "    max-height: 300px;\n",
       "    overflow: auto;\n",
       "  }\n",
       "  table, th, td {\n",
       "    border: 1px solid black;\n",
       "    border-collapse: collapse;\n",
       "  }\n",
       "  th, td {\n",
       "    padding: 5px;\n",
       "  }\n",
       "  th {\n",
       "    text-align: left;\n",
       "  }\n",
       "</style><div class='table-result-container'><table class='table-result'><thead style='background-color: white'><tr><th>col_name</th><th>data_type</th><th>comment</th></tr></thead><tbody><tr><td>food_type</td><td>varchar(9)</td><td>null</td></tr><tr><td>food_name</td><td>varchar(256)</td><td>null</td></tr><tr><td>calories</td><td>decimal(6,2)</td><td>null</td></tr><tr><td>country_of_origin</td><td>varchar(50)</td><td>null</td></tr><tr><td>allergens</td><td>varchar(9)</td><td>null</td></tr><tr><td></td><td></td><td></td></tr><tr><td># Delta Statistics Columns</td><td></td><td></td></tr><tr><td>Column Names</td><td>allergens, calories, country_of_origin, food_name, food_type</td><td></td></tr><tr><td>Column Selection Method</td><td>first-32</td><td></td></tr><tr><td></td><td></td><td></td></tr><tr><td># Detailed Table Information</td><td></td><td></td></tr><tr><td>Catalog</td><td>spark_catalog</td><td></td></tr><tr><td>Database</td><td>testdb</td><td></td></tr><tr><td>Table</td><td>foods</td><td></td></tr><tr><td>Created Time</td><td>Wed Feb 14 17:03:00 UTC 2024</td><td></td></tr><tr><td>Last Access</td><td>UNKNOWN</td><td></td></tr><tr><td>Created By</td><td>Spark 3.5.0</td><td></td></tr><tr><td>Type</td><td>MANAGED</td><td></td></tr><tr><td>Location</td><td>dbfs:/user/hive/warehouse/testdb.db/foods</td><td></td></tr><tr><td>Provider</td><td>delta</td><td></td></tr><tr><td>Owner</td><td>root</td><td></td></tr><tr><td>Is_managed_location</td><td>true</td><td></td></tr><tr><td>Table Properties</td><td>[delta.minReaderVersion=1,delta.minWriterVersion=2]</td><td></td></tr></tbody></table></div>"
      ]
     },
     "metadata": {
      "application/vnd.databricks.v1+output": {
       "addedWidgets": {},
       "aggData": [],
       "aggError": "",
       "aggOverflow": false,
       "aggSchema": [],
       "aggSeriesLimitReached": false,
       "aggType": "",
       "arguments": {},
       "columnCustomDisplayInfos": {},
       "data": [
        [
         "food_type",
         "varchar(9)",
         null
        ],
        [
         "food_name",
         "varchar(256)",
         null
        ],
        [
         "calories",
         "decimal(6,2)",
         null
        ],
        [
         "country_of_origin",
         "varchar(50)",
         null
        ],
        [
         "allergens",
         "varchar(9)",
         null
        ],
        [
         "",
         "",
         ""
        ],
        [
         "# Delta Statistics Columns",
         "",
         ""
        ],
        [
         "Column Names",
         "allergens, calories, country_of_origin, food_name, food_type",
         ""
        ],
        [
         "Column Selection Method",
         "first-32",
         ""
        ],
        [
         "",
         "",
         ""
        ],
        [
         "# Detailed Table Information",
         "",
         ""
        ],
        [
         "Catalog",
         "spark_catalog",
         ""
        ],
        [
         "Database",
         "testdb",
         ""
        ],
        [
         "Table",
         "foods",
         ""
        ],
        [
         "Created Time",
         "Wed Feb 14 17:03:00 UTC 2024",
         ""
        ],
        [
         "Last Access",
         "UNKNOWN",
         ""
        ],
        [
         "Created By",
         "Spark 3.5.0",
         ""
        ],
        [
         "Type",
         "MANAGED",
         ""
        ],
        [
         "Location",
         "dbfs:/user/hive/warehouse/testdb.db/foods",
         ""
        ],
        [
         "Provider",
         "delta",
         ""
        ],
        [
         "Owner",
         "root",
         ""
        ],
        [
         "Is_managed_location",
         "true",
         ""
        ],
        [
         "Table Properties",
         "[delta.minReaderVersion=1,delta.minWriterVersion=2]",
         ""
        ]
       ],
       "datasetInfos": [],
       "dbfsResultPath": null,
       "isJsonSchema": true,
       "metadata": {
        "isDbfsCommandResult": false
       },
       "overflow": false,
       "plotOptions": {
        "customPlotOptions": {},
        "displayType": "table",
        "pivotAggregation": null,
        "pivotColumns": null,
        "xColumns": null,
        "yColumns": null
       },
       "removedWidgets": [],
       "schema": [
        {
         "metadata": "{\"comment\":\"name of the column\"}",
         "name": "col_name",
         "type": "\"string\""
        },
        {
         "metadata": "{\"comment\":\"data type of the column\"}",
         "name": "data_type",
         "type": "\"string\""
        },
        {
         "metadata": "{\"comment\":\"comment of the column\"}",
         "name": "comment",
         "type": "\"string\""
        }
       ],
       "type": "table"
      }
     },
     "output_type": "display_data"
    }
   ],
   "source": [
    "%sql\n",
    "describe extended foods;"
   ]
  },
  {
   "cell_type": "code",
   "execution_count": 0,
   "metadata": {
    "application/vnd.databricks.v1+cell": {
     "cellMetadata": {
      "byteLimit": 2048000,
      "rowLimit": 10000
     },
     "inputWidgets": {},
     "nuid": "7dee386e-006a-4eaa-a6c3-0671cacee33f",
     "showTitle": false,
     "title": ""
    }
   },
   "outputs": [
    {
     "output_type": "display_data",
     "data": {
      "text/html": [
       "<style scoped>\n",
       "  .table-result-container {\n",
       "    max-height: 300px;\n",
       "    overflow: auto;\n",
       "  }\n",
       "  table, th, td {\n",
       "    border: 1px solid black;\n",
       "    border-collapse: collapse;\n",
       "  }\n",
       "  th, td {\n",
       "    padding: 5px;\n",
       "  }\n",
       "  th {\n",
       "    text-align: left;\n",
       "  }\n",
       "</style><div class='table-result-container'><table class='table-result'><thead style='background-color: white'><tr><th>food_type</th><th>food_name</th><th>calories</th><th>country_of_origin</th><th>allergens</th></tr></thead><tbody><tr><td>condiment</td><td>mauris vulputate elementum nullam varius nulla facilisi cras non velit nec nisi vulputate nonummy maecenas tincidunt lacus at velit</td><td>152.63</td><td>Poland</td><td>gluten</td></tr><tr><td>condiment</td><td>justo nec condimentum neque sapien placerat ante nulla justo aliquam quis turpis eget elit sodales scelerisque mauris sit amet eros</td><td>236.60</td><td>Japan</td><td>dairy</td></tr><tr><td>snack</td><td>praesent blandit lacinia erat vestibulum sed magna at nunc commodo placerat praesent blandit nam nulla integer pede justo lacinia</td><td>160.25</td><td>China</td><td>soy</td></tr><tr><td>condiment</td><td>ut erat id mauris vulputate elementum nullam varius nulla facilisi cras non velit nec nisi vulputate nonummy</td><td>630.61</td><td>Czech Republic</td><td>nuts</td></tr><tr><td>condiment</td><td>volutpat sapien arcu sed augue aliquam erat volutpat in congue etiam justo etiam pretium iaculis justo in hac</td><td>690.09</td><td>Philippines</td><td>gluten</td></tr><tr><td>snack</td><td>odio in hac habitasse platea dictumst maecenas ut massa quis augue luctus tincidunt nulla mollis molestie lorem quisque</td><td>553.67</td><td>Indonesia</td><td>soy</td></tr><tr><td>snack</td><td>etiam pretium iaculis justo in hac habitasse platea dictumst etiam faucibus cursus urna ut tellus nulla ut erat</td><td>154.72</td><td>Brazil</td><td>soy</td></tr><tr><td>grain</td><td>nulla dapibus dolor vel est donec odio justo sollicitudin ut suscipit a feugiat et eros vestibulum ac est</td><td>307.11</td><td>China</td><td>dairy</td></tr><tr><td>snack</td><td>orci luctus et ultrices posuere cubilia curae duis faucibus accumsan odio curabitur convallis duis consequat</td><td>370.86</td><td>China</td><td>soy</td></tr><tr><td>vegetable</td><td>blandit nam nulla integer pede justo lacinia eget tincidunt eget tempus vel pede morbi</td><td>221.74</td><td>Philippines</td><td>gluten</td></tr><tr><td>vegetable</td><td>venenatis tristique fusce congue diam id ornare imperdiet sapien urna pretium nisl</td><td>966.59</td><td>Russia</td><td>shellfish</td></tr><tr><td>condiment</td><td>pede ac diam cras pellentesque volutpat dui maecenas tristique est et tempus semper</td><td>868.14</td><td>Nigeria</td><td>soy</td></tr><tr><td>condiment</td><td>molestie sed justo pellentesque viverra pede ac diam cras pellentesque volutpat dui</td><td>162.68</td><td>China</td><td>dairy</td></tr><tr><td>grain</td><td>est lacinia nisi venenatis tristique fusce congue diam id ornare imperdiet</td><td>413.58</td><td>Czech Republic</td><td>dairy</td></tr><tr><td>dairy</td><td>magnis dis parturient montes nascetur ridiculus mus etiam vel augue vestibulum rutrum</td><td>591.95</td><td>Morocco</td><td>soy</td></tr><tr><td>grain</td><td>ligula suspendisse ornare consequat lectus in est risus auctor sed tristique in</td><td>401.47</td><td>China</td><td>shellfish</td></tr><tr><td>seafood</td><td>diam erat fermentum justo nec condimentum neque sapien placerat ante nulla justo</td><td>150.12</td><td>Peru</td><td>nuts</td></tr><tr><td>fruit</td><td>sit amet justo morbi ut odio cras mi pede malesuada in imperdiet et commodo</td><td>689.03</td><td>France</td><td>dairy</td></tr><tr><td>grain</td><td>in leo maecenas pulvinar lobortis est phasellus sit amet erat</td><td>13.74</td><td>Indonesia</td><td>shellfish</td></tr><tr><td>fruit</td><td>cras pellentesque volutpat dui maecenas tristique est et tempus semper</td><td>862.18</td><td>Armenia</td><td>soy</td></tr></tbody></table></div>"
      ]
     },
     "metadata": {
      "application/vnd.databricks.v1+output": {
       "addedWidgets": {},
       "aggData": [],
       "aggError": "",
       "aggOverflow": false,
       "aggSchema": [],
       "aggSeriesLimitReached": false,
       "aggType": "",
       "arguments": {},
       "columnCustomDisplayInfos": {},
       "data": [
        [
         "condiment",
         "mauris vulputate elementum nullam varius nulla facilisi cras non velit nec nisi vulputate nonummy maecenas tincidunt lacus at velit",
         "152.63",
         "Poland",
         "gluten"
        ],
        [
         "condiment",
         "justo nec condimentum neque sapien placerat ante nulla justo aliquam quis turpis eget elit sodales scelerisque mauris sit amet eros",
         "236.60",
         "Japan",
         "dairy"
        ],
        [
         "snack",
         "praesent blandit lacinia erat vestibulum sed magna at nunc commodo placerat praesent blandit nam nulla integer pede justo lacinia",
         "160.25",
         "China",
         "soy"
        ],
        [
         "condiment",
         "ut erat id mauris vulputate elementum nullam varius nulla facilisi cras non velit nec nisi vulputate nonummy",
         "630.61",
         "Czech Republic",
         "nuts"
        ],
        [
         "condiment",
         "volutpat sapien arcu sed augue aliquam erat volutpat in congue etiam justo etiam pretium iaculis justo in hac",
         "690.09",
         "Philippines",
         "gluten"
        ],
        [
         "snack",
         "odio in hac habitasse platea dictumst maecenas ut massa quis augue luctus tincidunt nulla mollis molestie lorem quisque",
         "553.67",
         "Indonesia",
         "soy"
        ],
        [
         "snack",
         "etiam pretium iaculis justo in hac habitasse platea dictumst etiam faucibus cursus urna ut tellus nulla ut erat",
         "154.72",
         "Brazil",
         "soy"
        ],
        [
         "grain",
         "nulla dapibus dolor vel est donec odio justo sollicitudin ut suscipit a feugiat et eros vestibulum ac est",
         "307.11",
         "China",
         "dairy"
        ],
        [
         "snack",
         "orci luctus et ultrices posuere cubilia curae duis faucibus accumsan odio curabitur convallis duis consequat",
         "370.86",
         "China",
         "soy"
        ],
        [
         "vegetable",
         "blandit nam nulla integer pede justo lacinia eget tincidunt eget tempus vel pede morbi",
         "221.74",
         "Philippines",
         "gluten"
        ],
        [
         "vegetable",
         "venenatis tristique fusce congue diam id ornare imperdiet sapien urna pretium nisl",
         "966.59",
         "Russia",
         "shellfish"
        ],
        [
         "condiment",
         "pede ac diam cras pellentesque volutpat dui maecenas tristique est et tempus semper",
         "868.14",
         "Nigeria",
         "soy"
        ],
        [
         "condiment",
         "molestie sed justo pellentesque viverra pede ac diam cras pellentesque volutpat dui",
         "162.68",
         "China",
         "dairy"
        ],
        [
         "grain",
         "est lacinia nisi venenatis tristique fusce congue diam id ornare imperdiet",
         "413.58",
         "Czech Republic",
         "dairy"
        ],
        [
         "dairy",
         "magnis dis parturient montes nascetur ridiculus mus etiam vel augue vestibulum rutrum",
         "591.95",
         "Morocco",
         "soy"
        ],
        [
         "grain",
         "ligula suspendisse ornare consequat lectus in est risus auctor sed tristique in",
         "401.47",
         "China",
         "shellfish"
        ],
        [
         "seafood",
         "diam erat fermentum justo nec condimentum neque sapien placerat ante nulla justo",
         "150.12",
         "Peru",
         "nuts"
        ],
        [
         "fruit",
         "sit amet justo morbi ut odio cras mi pede malesuada in imperdiet et commodo",
         "689.03",
         "France",
         "dairy"
        ],
        [
         "grain",
         "in leo maecenas pulvinar lobortis est phasellus sit amet erat",
         "13.74",
         "Indonesia",
         "shellfish"
        ],
        [
         "fruit",
         "cras pellentesque volutpat dui maecenas tristique est et tempus semper",
         "862.18",
         "Armenia",
         "soy"
        ]
       ],
       "datasetInfos": [],
       "dbfsResultPath": null,
       "isJsonSchema": true,
       "metadata": {
        "isDbfsCommandResult": false
       },
       "overflow": false,
       "plotOptions": {
        "customPlotOptions": {},
        "displayType": "table",
        "pivotAggregation": null,
        "pivotColumns": null,
        "xColumns": null,
        "yColumns": null
       },
       "removedWidgets": [],
       "schema": [
        {
         "metadata": "{\"__CHAR_VARCHAR_TYPE_STRING\":\"varchar(9)\"}",
         "name": "food_type",
         "type": "\"string\""
        },
        {
         "metadata": "{\"__CHAR_VARCHAR_TYPE_STRING\":\"varchar(256)\"}",
         "name": "food_name",
         "type": "\"string\""
        },
        {
         "metadata": "{}",
         "name": "calories",
         "type": "\"decimal(6,2)\""
        },
        {
         "metadata": "{\"__CHAR_VARCHAR_TYPE_STRING\":\"varchar(50)\"}",
         "name": "country_of_origin",
         "type": "\"string\""
        },
        {
         "metadata": "{\"__CHAR_VARCHAR_TYPE_STRING\":\"varchar(9)\"}",
         "name": "allergens",
         "type": "\"string\""
        }
       ],
       "type": "table"
      }
     },
     "output_type": "display_data"
    }
   ],
   "source": [
    "%sql\n",
    "select * from foods ;"
   ]
  },
  {
   "cell_type": "code",
   "execution_count": 0,
   "metadata": {
    "application/vnd.databricks.v1+cell": {
     "cellMetadata": {
      "byteLimit": 2048000,
      "rowLimit": 10000
     },
     "inputWidgets": {},
     "nuid": "9f054c2a-460e-4c2c-a7ca-cf7e5761586c",
     "showTitle": false,
     "title": ""
    }
   },
   "outputs": [
    {
     "output_type": "display_data",
     "data": {
      "text/html": [
       "<style scoped>\n",
       "  .table-result-container {\n",
       "    max-height: 300px;\n",
       "    overflow: auto;\n",
       "  }\n",
       "  table, th, td {\n",
       "    border: 1px solid black;\n",
       "    border-collapse: collapse;\n",
       "  }\n",
       "  th, td {\n",
       "    padding: 5px;\n",
       "  }\n",
       "  th {\n",
       "    text-align: left;\n",
       "  }\n",
       "</style><div class='table-result-container'><table class='table-result'><thead style='background-color: white'><tr><th>food_type</th><th>food_name</th><th>calories</th><th>country_of_origin</th><th>allergens</th></tr></thead><tbody><tr><td>condiment</td><td>justo nec condimentum neque sapien placerat ante nulla justo aliquam quis turpis eget elit sodales scelerisque mauris sit amet eros</td><td>236.60</td><td>Japan</td><td>dairy</td></tr><tr><td>grain</td><td>nulla dapibus dolor vel est donec odio justo sollicitudin ut suscipit a feugiat et eros vestibulum ac est</td><td>307.11</td><td>China</td><td>dairy</td></tr><tr><td>condiment</td><td>molestie sed justo pellentesque viverra pede ac diam cras pellentesque volutpat dui</td><td>162.68</td><td>China</td><td>dairy</td></tr><tr><td>grain</td><td>est lacinia nisi venenatis tristique fusce congue diam id ornare imperdiet</td><td>413.58</td><td>Czech Republic</td><td>dairy</td></tr><tr><td>fruit</td><td>sit amet justo morbi ut odio cras mi pede malesuada in imperdiet et commodo</td><td>689.03</td><td>France</td><td>dairy</td></tr></tbody></table></div>"
      ]
     },
     "metadata": {
      "application/vnd.databricks.v1+output": {
       "addedWidgets": {},
       "aggData": [],
       "aggError": "",
       "aggOverflow": false,
       "aggSchema": [],
       "aggSeriesLimitReached": false,
       "aggType": "",
       "arguments": {},
       "columnCustomDisplayInfos": {},
       "data": [
        [
         "condiment",
         "justo nec condimentum neque sapien placerat ante nulla justo aliquam quis turpis eget elit sodales scelerisque mauris sit amet eros",
         "236.60",
         "Japan",
         "dairy"
        ],
        [
         "grain",
         "nulla dapibus dolor vel est donec odio justo sollicitudin ut suscipit a feugiat et eros vestibulum ac est",
         "307.11",
         "China",
         "dairy"
        ],
        [
         "condiment",
         "molestie sed justo pellentesque viverra pede ac diam cras pellentesque volutpat dui",
         "162.68",
         "China",
         "dairy"
        ],
        [
         "grain",
         "est lacinia nisi venenatis tristique fusce congue diam id ornare imperdiet",
         "413.58",
         "Czech Republic",
         "dairy"
        ],
        [
         "fruit",
         "sit amet justo morbi ut odio cras mi pede malesuada in imperdiet et commodo",
         "689.03",
         "France",
         "dairy"
        ]
       ],
       "datasetInfos": [],
       "dbfsResultPath": null,
       "isJsonSchema": true,
       "metadata": {
        "isDbfsCommandResult": false
       },
       "overflow": false,
       "plotOptions": {
        "customPlotOptions": {},
        "displayType": "table",
        "pivotAggregation": null,
        "pivotColumns": null,
        "xColumns": null,
        "yColumns": null
       },
       "removedWidgets": [],
       "schema": [
        {
         "metadata": "{\"__CHAR_VARCHAR_TYPE_STRING\":\"varchar(9)\"}",
         "name": "food_type",
         "type": "\"string\""
        },
        {
         "metadata": "{\"__CHAR_VARCHAR_TYPE_STRING\":\"varchar(256)\"}",
         "name": "food_name",
         "type": "\"string\""
        },
        {
         "metadata": "{}",
         "name": "calories",
         "type": "\"decimal(6,2)\""
        },
        {
         "metadata": "{\"__CHAR_VARCHAR_TYPE_STRING\":\"varchar(50)\"}",
         "name": "country_of_origin",
         "type": "\"string\""
        },
        {
         "metadata": "{\"__CHAR_VARCHAR_TYPE_STRING\":\"varchar(9)\"}",
         "name": "allergens",
         "type": "\"string\""
        }
       ],
       "type": "table"
      }
     },
     "output_type": "display_data"
    }
   ],
   "source": [
    "%sql\n",
    "select * from foods where allergens = 'dairy';"
   ]
  },
  {
   "cell_type": "markdown",
   "metadata": {
    "application/vnd.databricks.v1+cell": {
     "cellMetadata": {},
     "inputWidgets": {},
     "nuid": "bbf12bc0-f8b0-4ffd-8679-208b41cb8655",
     "showTitle": false,
     "title": ""
    }
   },
   "source": [
    "CTAS table creation"
   ]
  },
  {
   "cell_type": "code",
   "execution_count": 0,
   "metadata": {
    "application/vnd.databricks.v1+cell": {
     "cellMetadata": {
      "byteLimit": 2048000,
      "rowLimit": 10000
     },
     "inputWidgets": {},
     "nuid": "72fe52a9-966e-4468-9f9f-8ce5da61070d",
     "showTitle": false,
     "title": ""
    }
   },
   "outputs": [
    {
     "output_type": "display_data",
     "data": {
      "text/html": [
       "<style scoped>\n",
       "  .table-result-container {\n",
       "    max-height: 300px;\n",
       "    overflow: auto;\n",
       "  }\n",
       "  table, th, td {\n",
       "    border: 1px solid black;\n",
       "    border-collapse: collapse;\n",
       "  }\n",
       "  th, td {\n",
       "    padding: 5px;\n",
       "  }\n",
       "  th {\n",
       "    text-align: left;\n",
       "  }\n",
       "</style><div class='table-result-container'><table class='table-result'><thead style='background-color: white'><tr><th>num_affected_rows</th><th>num_inserted_rows</th></tr></thead><tbody></tbody></table></div>"
      ]
     },
     "metadata": {
      "application/vnd.databricks.v1+output": {
       "addedWidgets": {},
       "aggData": [],
       "aggError": "",
       "aggOverflow": false,
       "aggSchema": [],
       "aggSeriesLimitReached": false,
       "aggType": "",
       "arguments": {},
       "columnCustomDisplayInfos": {},
       "data": [],
       "datasetInfos": [],
       "dbfsResultPath": null,
       "isJsonSchema": true,
       "metadata": {
        "isDbfsCommandResult": false
       },
       "overflow": false,
       "plotOptions": {
        "customPlotOptions": {},
        "displayType": "table",
        "pivotAggregation": null,
        "pivotColumns": null,
        "xColumns": null,
        "yColumns": null
       },
       "removedWidgets": [],
       "schema": [
        {
         "metadata": "{}",
         "name": "num_affected_rows",
         "type": "\"long\""
        },
        {
         "metadata": "{}",
         "name": "num_inserted_rows",
         "type": "\"long\""
        }
       ],
       "type": "table"
      }
     },
     "output_type": "display_data"
    }
   ],
   "source": [
    "%sql\n",
    "create table dairy_foods \n",
    "as select * from foods where allergens = 'dairy';"
   ]
  },
  {
   "cell_type": "code",
   "execution_count": 0,
   "metadata": {
    "application/vnd.databricks.v1+cell": {
     "cellMetadata": {
      "byteLimit": 2048000,
      "rowLimit": 10000
     },
     "inputWidgets": {},
     "nuid": "c3876e2c-34b3-4507-8b64-631bcd305a15",
     "showTitle": false,
     "title": ""
    }
   },
   "outputs": [
    {
     "output_type": "display_data",
     "data": {
      "text/html": [
       "<style scoped>\n",
       "  .table-result-container {\n",
       "    max-height: 300px;\n",
       "    overflow: auto;\n",
       "  }\n",
       "  table, th, td {\n",
       "    border: 1px solid black;\n",
       "    border-collapse: collapse;\n",
       "  }\n",
       "  th, td {\n",
       "    padding: 5px;\n",
       "  }\n",
       "  th {\n",
       "    text-align: left;\n",
       "  }\n",
       "</style><div class='table-result-container'><table class='table-result'><thead style='background-color: white'><tr><th>database</th><th>tableName</th><th>isTemporary</th></tr></thead><tbody><tr><td>testdb</td><td>dairy_foods</td><td>false</td></tr><tr><td>testdb</td><td>employee</td><td>false</td></tr><tr><td>testdb</td><td>foods</td><td>false</td></tr></tbody></table></div>"
      ]
     },
     "metadata": {
      "application/vnd.databricks.v1+output": {
       "addedWidgets": {},
       "aggData": [],
       "aggError": "",
       "aggOverflow": false,
       "aggSchema": [],
       "aggSeriesLimitReached": false,
       "aggType": "",
       "arguments": {},
       "columnCustomDisplayInfos": {},
       "data": [
        [
         "testdb",
         "dairy_foods",
         false
        ],
        [
         "testdb",
         "employee",
         false
        ],
        [
         "testdb",
         "foods",
         false
        ]
       ],
       "datasetInfos": [],
       "dbfsResultPath": null,
       "isJsonSchema": true,
       "metadata": {
        "isDbfsCommandResult": false
       },
       "overflow": false,
       "plotOptions": {
        "customPlotOptions": {},
        "displayType": "table",
        "pivotAggregation": null,
        "pivotColumns": null,
        "xColumns": null,
        "yColumns": null
       },
       "removedWidgets": [],
       "schema": [
        {
         "metadata": "{}",
         "name": "database",
         "type": "\"string\""
        },
        {
         "metadata": "{}",
         "name": "tableName",
         "type": "\"string\""
        },
        {
         "metadata": "{}",
         "name": "isTemporary",
         "type": "\"boolean\""
        }
       ],
       "type": "table"
      }
     },
     "output_type": "display_data"
    }
   ],
   "source": [
    "%sql\n",
    "show tables;"
   ]
  },
  {
   "cell_type": "code",
   "execution_count": 0,
   "metadata": {
    "application/vnd.databricks.v1+cell": {
     "cellMetadata": {
      "byteLimit": 2048000,
      "rowLimit": 10000
     },
     "inputWidgets": {},
     "nuid": "cdd42589-46c9-4787-a129-0520cfb4e355",
     "showTitle": false,
     "title": ""
    }
   },
   "outputs": [
    {
     "output_type": "display_data",
     "data": {
      "text/html": [
       "<style scoped>\n",
       "  .table-result-container {\n",
       "    max-height: 300px;\n",
       "    overflow: auto;\n",
       "  }\n",
       "  table, th, td {\n",
       "    border: 1px solid black;\n",
       "    border-collapse: collapse;\n",
       "  }\n",
       "  th, td {\n",
       "    padding: 5px;\n",
       "  }\n",
       "  th {\n",
       "    text-align: left;\n",
       "  }\n",
       "</style><div class='table-result-container'><table class='table-result'><thead style='background-color: white'><tr><th>food_type</th><th>food_name</th><th>calories</th><th>country_of_origin</th><th>allergens</th></tr></thead><tbody><tr><td>condiment</td><td>justo nec condimentum neque sapien placerat ante nulla justo aliquam quis turpis eget elit sodales scelerisque mauris sit amet eros</td><td>236.60</td><td>Japan</td><td>dairy</td></tr><tr><td>grain</td><td>nulla dapibus dolor vel est donec odio justo sollicitudin ut suscipit a feugiat et eros vestibulum ac est</td><td>307.11</td><td>China</td><td>dairy</td></tr><tr><td>condiment</td><td>molestie sed justo pellentesque viverra pede ac diam cras pellentesque volutpat dui</td><td>162.68</td><td>China</td><td>dairy</td></tr><tr><td>grain</td><td>est lacinia nisi venenatis tristique fusce congue diam id ornare imperdiet</td><td>413.58</td><td>Czech Republic</td><td>dairy</td></tr><tr><td>fruit</td><td>sit amet justo morbi ut odio cras mi pede malesuada in imperdiet et commodo</td><td>689.03</td><td>France</td><td>dairy</td></tr></tbody></table></div>"
      ]
     },
     "metadata": {
      "application/vnd.databricks.v1+output": {
       "addedWidgets": {},
       "aggData": [],
       "aggError": "",
       "aggOverflow": false,
       "aggSchema": [],
       "aggSeriesLimitReached": false,
       "aggType": "",
       "arguments": {},
       "columnCustomDisplayInfos": {},
       "data": [
        [
         "condiment",
         "justo nec condimentum neque sapien placerat ante nulla justo aliquam quis turpis eget elit sodales scelerisque mauris sit amet eros",
         "236.60",
         "Japan",
         "dairy"
        ],
        [
         "grain",
         "nulla dapibus dolor vel est donec odio justo sollicitudin ut suscipit a feugiat et eros vestibulum ac est",
         "307.11",
         "China",
         "dairy"
        ],
        [
         "condiment",
         "molestie sed justo pellentesque viverra pede ac diam cras pellentesque volutpat dui",
         "162.68",
         "China",
         "dairy"
        ],
        [
         "grain",
         "est lacinia nisi venenatis tristique fusce congue diam id ornare imperdiet",
         "413.58",
         "Czech Republic",
         "dairy"
        ],
        [
         "fruit",
         "sit amet justo morbi ut odio cras mi pede malesuada in imperdiet et commodo",
         "689.03",
         "France",
         "dairy"
        ]
       ],
       "datasetInfos": [],
       "dbfsResultPath": null,
       "isJsonSchema": true,
       "metadata": {
        "isDbfsCommandResult": false
       },
       "overflow": false,
       "plotOptions": {
        "customPlotOptions": {},
        "displayType": "table",
        "pivotAggregation": null,
        "pivotColumns": null,
        "xColumns": null,
        "yColumns": null
       },
       "removedWidgets": [],
       "schema": [
        {
         "metadata": "{\"__CHAR_VARCHAR_TYPE_STRING\":\"varchar(9)\"}",
         "name": "food_type",
         "type": "\"string\""
        },
        {
         "metadata": "{\"__CHAR_VARCHAR_TYPE_STRING\":\"varchar(256)\"}",
         "name": "food_name",
         "type": "\"string\""
        },
        {
         "metadata": "{}",
         "name": "calories",
         "type": "\"decimal(6,2)\""
        },
        {
         "metadata": "{\"__CHAR_VARCHAR_TYPE_STRING\":\"varchar(50)\"}",
         "name": "country_of_origin",
         "type": "\"string\""
        },
        {
         "metadata": "{\"__CHAR_VARCHAR_TYPE_STRING\":\"varchar(9)\"}",
         "name": "allergens",
         "type": "\"string\""
        }
       ],
       "type": "table"
      }
     },
     "output_type": "display_data"
    }
   ],
   "source": [
    "%sql\n",
    "select * from dairy_foods;"
   ]
  },
  {
   "cell_type": "code",
   "execution_count": 0,
   "metadata": {
    "application/vnd.databricks.v1+cell": {
     "cellMetadata": {
      "byteLimit": 2048000,
      "rowLimit": 10000
     },
     "inputWidgets": {},
     "nuid": "fb9c3407-7352-4122-a278-04087be1bc56",
     "showTitle": false,
     "title": ""
    }
   },
   "outputs": [
    {
     "output_type": "display_data",
     "data": {
      "text/html": [
       "<style scoped>\n",
       "  .table-result-container {\n",
       "    max-height: 300px;\n",
       "    overflow: auto;\n",
       "  }\n",
       "  table, th, td {\n",
       "    border: 1px solid black;\n",
       "    border-collapse: collapse;\n",
       "  }\n",
       "  th, td {\n",
       "    padding: 5px;\n",
       "  }\n",
       "  th {\n",
       "    text-align: left;\n",
       "  }\n",
       "</style><div class='table-result-container'><table class='table-result'><thead style='background-color: white'><tr><th>col_name</th><th>data_type</th><th>comment</th></tr></thead><tbody><tr><td>food_type</td><td>varchar(9)</td><td>null</td></tr><tr><td>food_name</td><td>varchar(256)</td><td>null</td></tr><tr><td>calories</td><td>decimal(6,2)</td><td>null</td></tr><tr><td>country_of_origin</td><td>varchar(50)</td><td>null</td></tr><tr><td>allergens</td><td>varchar(9)</td><td>null</td></tr><tr><td></td><td></td><td></td></tr><tr><td># Delta Statistics Columns</td><td></td><td></td></tr><tr><td>Column Names</td><td>allergens, calories, country_of_origin, food_name, food_type</td><td></td></tr><tr><td>Column Selection Method</td><td>first-32</td><td></td></tr><tr><td></td><td></td><td></td></tr><tr><td># Detailed Table Information</td><td></td><td></td></tr><tr><td>Catalog</td><td>spark_catalog</td><td></td></tr><tr><td>Database</td><td>testdb</td><td></td></tr><tr><td>Table</td><td>dairy_foods</td><td></td></tr><tr><td>Created Time</td><td>Wed Feb 14 17:34:10 UTC 2024</td><td></td></tr><tr><td>Last Access</td><td>UNKNOWN</td><td></td></tr><tr><td>Created By</td><td>Spark 3.5.0</td><td></td></tr><tr><td>Statistics</td><td>12081 bytes</td><td></td></tr><tr><td>Type</td><td>MANAGED</td><td></td></tr><tr><td>Location</td><td>dbfs:/user/hive/warehouse/testdb.db/dairy_foods</td><td></td></tr><tr><td>Provider</td><td>delta</td><td></td></tr><tr><td>Owner</td><td>root</td><td></td></tr><tr><td>Is_managed_location</td><td>true</td><td></td></tr><tr><td>Table Properties</td><td>[delta.minReaderVersion=1,delta.minWriterVersion=2]</td><td></td></tr></tbody></table></div>"
      ]
     },
     "metadata": {
      "application/vnd.databricks.v1+output": {
       "addedWidgets": {},
       "aggData": [],
       "aggError": "",
       "aggOverflow": false,
       "aggSchema": [],
       "aggSeriesLimitReached": false,
       "aggType": "",
       "arguments": {},
       "columnCustomDisplayInfos": {},
       "data": [
        [
         "food_type",
         "varchar(9)",
         null
        ],
        [
         "food_name",
         "varchar(256)",
         null
        ],
        [
         "calories",
         "decimal(6,2)",
         null
        ],
        [
         "country_of_origin",
         "varchar(50)",
         null
        ],
        [
         "allergens",
         "varchar(9)",
         null
        ],
        [
         "",
         "",
         ""
        ],
        [
         "# Delta Statistics Columns",
         "",
         ""
        ],
        [
         "Column Names",
         "allergens, calories, country_of_origin, food_name, food_type",
         ""
        ],
        [
         "Column Selection Method",
         "first-32",
         ""
        ],
        [
         "",
         "",
         ""
        ],
        [
         "# Detailed Table Information",
         "",
         ""
        ],
        [
         "Catalog",
         "spark_catalog",
         ""
        ],
        [
         "Database",
         "testdb",
         ""
        ],
        [
         "Table",
         "dairy_foods",
         ""
        ],
        [
         "Created Time",
         "Wed Feb 14 17:34:10 UTC 2024",
         ""
        ],
        [
         "Last Access",
         "UNKNOWN",
         ""
        ],
        [
         "Created By",
         "Spark 3.5.0",
         ""
        ],
        [
         "Statistics",
         "12081 bytes",
         ""
        ],
        [
         "Type",
         "MANAGED",
         ""
        ],
        [
         "Location",
         "dbfs:/user/hive/warehouse/testdb.db/dairy_foods",
         ""
        ],
        [
         "Provider",
         "delta",
         ""
        ],
        [
         "Owner",
         "root",
         ""
        ],
        [
         "Is_managed_location",
         "true",
         ""
        ],
        [
         "Table Properties",
         "[delta.minReaderVersion=1,delta.minWriterVersion=2]",
         ""
        ]
       ],
       "datasetInfos": [],
       "dbfsResultPath": null,
       "isJsonSchema": true,
       "metadata": {
        "isDbfsCommandResult": false
       },
       "overflow": false,
       "plotOptions": {
        "customPlotOptions": {},
        "displayType": "table",
        "pivotAggregation": null,
        "pivotColumns": null,
        "xColumns": null,
        "yColumns": null
       },
       "removedWidgets": [],
       "schema": [
        {
         "metadata": "{\"comment\":\"name of the column\"}",
         "name": "col_name",
         "type": "\"string\""
        },
        {
         "metadata": "{\"comment\":\"data type of the column\"}",
         "name": "data_type",
         "type": "\"string\""
        },
        {
         "metadata": "{\"comment\":\"comment of the column\"}",
         "name": "comment",
         "type": "\"string\""
        }
       ],
       "type": "table"
      }
     },
     "output_type": "display_data"
    }
   ],
   "source": [
    "%sql\n",
    "describe extended dairy_foods;"
   ]
  },
  {
   "cell_type": "markdown",
   "metadata": {
    "application/vnd.databricks.v1+cell": {
     "cellMetadata": {},
     "inputWidgets": {},
     "nuid": "c991353e-7c4a-439c-ad0f-6b4962ba34ca",
     "showTitle": false,
     "title": ""
    }
   },
   "source": [
    "CTAS external table"
   ]
  },
  {
   "cell_type": "code",
   "execution_count": 0,
   "metadata": {
    "application/vnd.databricks.v1+cell": {
     "cellMetadata": {
      "byteLimit": 2048000,
      "rowLimit": 10000
     },
     "inputWidgets": {},
     "nuid": "824239f5-2ec0-48fd-bc93-6114d3698153",
     "showTitle": false,
     "title": ""
    }
   },
   "outputs": [
    {
     "output_type": "display_data",
     "data": {
      "text/html": [
       "<style scoped>\n",
       "  .table-result-container {\n",
       "    max-height: 300px;\n",
       "    overflow: auto;\n",
       "  }\n",
       "  table, th, td {\n",
       "    border: 1px solid black;\n",
       "    border-collapse: collapse;\n",
       "  }\n",
       "  th, td {\n",
       "    padding: 5px;\n",
       "  }\n",
       "  th {\n",
       "    text-align: left;\n",
       "  }\n",
       "</style><div class='table-result-container'><table class='table-result'><thead style='background-color: white'><tr><th>num_affected_rows</th><th>num_inserted_rows</th></tr></thead><tbody></tbody></table></div>"
      ]
     },
     "metadata": {
      "application/vnd.databricks.v1+output": {
       "addedWidgets": {},
       "aggData": [],
       "aggError": "",
       "aggOverflow": false,
       "aggSchema": [],
       "aggSeriesLimitReached": false,
       "aggType": "",
       "arguments": {},
       "columnCustomDisplayInfos": {},
       "data": [],
       "datasetInfos": [],
       "dbfsResultPath": null,
       "isJsonSchema": true,
       "metadata": {
        "isDbfsCommandResult": false
       },
       "overflow": false,
       "plotOptions": {
        "customPlotOptions": {},
        "displayType": "table",
        "pivotAggregation": null,
        "pivotColumns": null,
        "xColumns": null,
        "yColumns": null
       },
       "removedWidgets": [],
       "schema": [
        {
         "metadata": "{}",
         "name": "num_affected_rows",
         "type": "\"long\""
        },
        {
         "metadata": "{}",
         "name": "num_inserted_rows",
         "type": "\"long\""
        }
       ],
       "type": "table"
      }
     },
     "output_type": "display_data"
    }
   ],
   "source": [
    "%sql\n",
    "create table soy_foods\n",
    "location \"dbfs:/user/ctas/soy_foods\"\n",
    "as select * from foods where allergens = 'soy';"
   ]
  },
  {
   "cell_type": "code",
   "execution_count": 0,
   "metadata": {
    "application/vnd.databricks.v1+cell": {
     "cellMetadata": {
      "byteLimit": 2048000,
      "rowLimit": 10000
     },
     "inputWidgets": {},
     "nuid": "d69c9a1b-afc6-4364-a43c-3671e5f2d9ba",
     "showTitle": false,
     "title": ""
    }
   },
   "outputs": [
    {
     "output_type": "display_data",
     "data": {
      "text/html": [
       "<style scoped>\n",
       "  .table-result-container {\n",
       "    max-height: 300px;\n",
       "    overflow: auto;\n",
       "  }\n",
       "  table, th, td {\n",
       "    border: 1px solid black;\n",
       "    border-collapse: collapse;\n",
       "  }\n",
       "  th, td {\n",
       "    padding: 5px;\n",
       "  }\n",
       "  th {\n",
       "    text-align: left;\n",
       "  }\n",
       "</style><div class='table-result-container'><table class='table-result'><thead style='background-color: white'><tr><th>database</th><th>tableName</th><th>isTemporary</th></tr></thead><tbody><tr><td>testdb</td><td>dairy_foods</td><td>false</td></tr><tr><td>testdb</td><td>employee</td><td>false</td></tr><tr><td>testdb</td><td>foods</td><td>false</td></tr><tr><td>testdb</td><td>soy_foods</td><td>false</td></tr></tbody></table></div>"
      ]
     },
     "metadata": {
      "application/vnd.databricks.v1+output": {
       "addedWidgets": {},
       "aggData": [],
       "aggError": "",
       "aggOverflow": false,
       "aggSchema": [],
       "aggSeriesLimitReached": false,
       "aggType": "",
       "arguments": {},
       "columnCustomDisplayInfos": {},
       "data": [
        [
         "testdb",
         "dairy_foods",
         false
        ],
        [
         "testdb",
         "employee",
         false
        ],
        [
         "testdb",
         "foods",
         false
        ],
        [
         "testdb",
         "soy_foods",
         false
        ]
       ],
       "datasetInfos": [],
       "dbfsResultPath": null,
       "isJsonSchema": true,
       "metadata": {
        "isDbfsCommandResult": false
       },
       "overflow": false,
       "plotOptions": {
        "customPlotOptions": {},
        "displayType": "table",
        "pivotAggregation": null,
        "pivotColumns": null,
        "xColumns": null,
        "yColumns": null
       },
       "removedWidgets": [],
       "schema": [
        {
         "metadata": "{}",
         "name": "database",
         "type": "\"string\""
        },
        {
         "metadata": "{}",
         "name": "tableName",
         "type": "\"string\""
        },
        {
         "metadata": "{}",
         "name": "isTemporary",
         "type": "\"boolean\""
        }
       ],
       "type": "table"
      }
     },
     "output_type": "display_data"
    }
   ],
   "source": [
    "%sql\n",
    "show tables;"
   ]
  },
  {
   "cell_type": "code",
   "execution_count": 0,
   "metadata": {
    "application/vnd.databricks.v1+cell": {
     "cellMetadata": {
      "byteLimit": 2048000,
      "rowLimit": 10000
     },
     "inputWidgets": {},
     "nuid": "d009706d-b043-47a2-8053-27c1466fdbe9",
     "showTitle": false,
     "title": ""
    }
   },
   "outputs": [
    {
     "output_type": "display_data",
     "data": {
      "text/html": [
       "<style scoped>\n",
       "  .table-result-container {\n",
       "    max-height: 300px;\n",
       "    overflow: auto;\n",
       "  }\n",
       "  table, th, td {\n",
       "    border: 1px solid black;\n",
       "    border-collapse: collapse;\n",
       "  }\n",
       "  th, td {\n",
       "    padding: 5px;\n",
       "  }\n",
       "  th {\n",
       "    text-align: left;\n",
       "  }\n",
       "</style><div class='table-result-container'><table class='table-result'><thead style='background-color: white'><tr><th>food_type</th><th>food_name</th><th>calories</th><th>country_of_origin</th><th>allergens</th></tr></thead><tbody><tr><td>snack</td><td>praesent blandit lacinia erat vestibulum sed magna at nunc commodo placerat praesent blandit nam nulla integer pede justo lacinia</td><td>160.25</td><td>China</td><td>soy</td></tr><tr><td>snack</td><td>odio in hac habitasse platea dictumst maecenas ut massa quis augue luctus tincidunt nulla mollis molestie lorem quisque</td><td>553.67</td><td>Indonesia</td><td>soy</td></tr><tr><td>snack</td><td>etiam pretium iaculis justo in hac habitasse platea dictumst etiam faucibus cursus urna ut tellus nulla ut erat</td><td>154.72</td><td>Brazil</td><td>soy</td></tr><tr><td>snack</td><td>orci luctus et ultrices posuere cubilia curae duis faucibus accumsan odio curabitur convallis duis consequat</td><td>370.86</td><td>China</td><td>soy</td></tr><tr><td>condiment</td><td>pede ac diam cras pellentesque volutpat dui maecenas tristique est et tempus semper</td><td>868.14</td><td>Nigeria</td><td>soy</td></tr><tr><td>dairy</td><td>magnis dis parturient montes nascetur ridiculus mus etiam vel augue vestibulum rutrum</td><td>591.95</td><td>Morocco</td><td>soy</td></tr><tr><td>fruit</td><td>cras pellentesque volutpat dui maecenas tristique est et tempus semper</td><td>862.18</td><td>Armenia</td><td>soy</td></tr></tbody></table></div>"
      ]
     },
     "metadata": {
      "application/vnd.databricks.v1+output": {
       "addedWidgets": {},
       "aggData": [],
       "aggError": "",
       "aggOverflow": false,
       "aggSchema": [],
       "aggSeriesLimitReached": false,
       "aggType": "",
       "arguments": {},
       "columnCustomDisplayInfos": {},
       "data": [
        [
         "snack",
         "praesent blandit lacinia erat vestibulum sed magna at nunc commodo placerat praesent blandit nam nulla integer pede justo lacinia",
         "160.25",
         "China",
         "soy"
        ],
        [
         "snack",
         "odio in hac habitasse platea dictumst maecenas ut massa quis augue luctus tincidunt nulla mollis molestie lorem quisque",
         "553.67",
         "Indonesia",
         "soy"
        ],
        [
         "snack",
         "etiam pretium iaculis justo in hac habitasse platea dictumst etiam faucibus cursus urna ut tellus nulla ut erat",
         "154.72",
         "Brazil",
         "soy"
        ],
        [
         "snack",
         "orci luctus et ultrices posuere cubilia curae duis faucibus accumsan odio curabitur convallis duis consequat",
         "370.86",
         "China",
         "soy"
        ],
        [
         "condiment",
         "pede ac diam cras pellentesque volutpat dui maecenas tristique est et tempus semper",
         "868.14",
         "Nigeria",
         "soy"
        ],
        [
         "dairy",
         "magnis dis parturient montes nascetur ridiculus mus etiam vel augue vestibulum rutrum",
         "591.95",
         "Morocco",
         "soy"
        ],
        [
         "fruit",
         "cras pellentesque volutpat dui maecenas tristique est et tempus semper",
         "862.18",
         "Armenia",
         "soy"
        ]
       ],
       "datasetInfos": [],
       "dbfsResultPath": null,
       "isJsonSchema": true,
       "metadata": {
        "isDbfsCommandResult": false
       },
       "overflow": false,
       "plotOptions": {
        "customPlotOptions": {},
        "displayType": "table",
        "pivotAggregation": null,
        "pivotColumns": null,
        "xColumns": null,
        "yColumns": null
       },
       "removedWidgets": [],
       "schema": [
        {
         "metadata": "{\"__CHAR_VARCHAR_TYPE_STRING\":\"varchar(9)\"}",
         "name": "food_type",
         "type": "\"string\""
        },
        {
         "metadata": "{\"__CHAR_VARCHAR_TYPE_STRING\":\"varchar(256)\"}",
         "name": "food_name",
         "type": "\"string\""
        },
        {
         "metadata": "{}",
         "name": "calories",
         "type": "\"decimal(6,2)\""
        },
        {
         "metadata": "{\"__CHAR_VARCHAR_TYPE_STRING\":\"varchar(50)\"}",
         "name": "country_of_origin",
         "type": "\"string\""
        },
        {
         "metadata": "{\"__CHAR_VARCHAR_TYPE_STRING\":\"varchar(9)\"}",
         "name": "allergens",
         "type": "\"string\""
        }
       ],
       "type": "table"
      }
     },
     "output_type": "display_data"
    }
   ],
   "source": [
    "%sql\n",
    "select * from soy_foods;"
   ]
  },
  {
   "cell_type": "code",
   "execution_count": 0,
   "metadata": {
    "application/vnd.databricks.v1+cell": {
     "cellMetadata": {
      "byteLimit": 2048000,
      "rowLimit": 10000
     },
     "inputWidgets": {},
     "nuid": "8c7b7d20-4773-439e-99b2-80ecedcf1832",
     "showTitle": false,
     "title": ""
    }
   },
   "outputs": [
    {
     "output_type": "display_data",
     "data": {
      "text/html": [
       "<style scoped>\n",
       "  .table-result-container {\n",
       "    max-height: 300px;\n",
       "    overflow: auto;\n",
       "  }\n",
       "  table, th, td {\n",
       "    border: 1px solid black;\n",
       "    border-collapse: collapse;\n",
       "  }\n",
       "  th, td {\n",
       "    padding: 5px;\n",
       "  }\n",
       "  th {\n",
       "    text-align: left;\n",
       "  }\n",
       "</style><div class='table-result-container'><table class='table-result'><thead style='background-color: white'><tr><th>col_name</th><th>data_type</th><th>comment</th></tr></thead><tbody><tr><td>food_type</td><td>varchar(9)</td><td>null</td></tr><tr><td>food_name</td><td>varchar(256)</td><td>null</td></tr><tr><td>calories</td><td>decimal(6,2)</td><td>null</td></tr><tr><td>country_of_origin</td><td>varchar(50)</td><td>null</td></tr><tr><td>allergens</td><td>varchar(9)</td><td>null</td></tr><tr><td></td><td></td><td></td></tr><tr><td># Delta Statistics Columns</td><td></td><td></td></tr><tr><td>Column Names</td><td>allergens, calories, country_of_origin, food_name, food_type</td><td></td></tr><tr><td>Column Selection Method</td><td>first-32</td><td></td></tr><tr><td></td><td></td><td></td></tr><tr><td># Detailed Table Information</td><td></td><td></td></tr><tr><td>Catalog</td><td>spark_catalog</td><td></td></tr><tr><td>Database</td><td>testdb</td><td></td></tr><tr><td>Table</td><td>soy_foods</td><td></td></tr><tr><td>Created Time</td><td>Wed Feb 14 17:39:29 UTC 2024</td><td></td></tr><tr><td>Last Access</td><td>UNKNOWN</td><td></td></tr><tr><td>Created By</td><td>Spark 3.5.0</td><td></td></tr><tr><td>Type</td><td>EXTERNAL</td><td></td></tr><tr><td>Location</td><td>dbfs:/user/ctas/soy_foods</td><td></td></tr><tr><td>Provider</td><td>delta</td><td></td></tr><tr><td>Owner</td><td>root</td><td></td></tr><tr><td>Table Properties</td><td>[delta.minReaderVersion=1,delta.minWriterVersion=2]</td><td></td></tr></tbody></table></div>"
      ]
     },
     "metadata": {
      "application/vnd.databricks.v1+output": {
       "addedWidgets": {},
       "aggData": [],
       "aggError": "",
       "aggOverflow": false,
       "aggSchema": [],
       "aggSeriesLimitReached": false,
       "aggType": "",
       "arguments": {},
       "columnCustomDisplayInfos": {},
       "data": [
        [
         "food_type",
         "varchar(9)",
         null
        ],
        [
         "food_name",
         "varchar(256)",
         null
        ],
        [
         "calories",
         "decimal(6,2)",
         null
        ],
        [
         "country_of_origin",
         "varchar(50)",
         null
        ],
        [
         "allergens",
         "varchar(9)",
         null
        ],
        [
         "",
         "",
         ""
        ],
        [
         "# Delta Statistics Columns",
         "",
         ""
        ],
        [
         "Column Names",
         "allergens, calories, country_of_origin, food_name, food_type",
         ""
        ],
        [
         "Column Selection Method",
         "first-32",
         ""
        ],
        [
         "",
         "",
         ""
        ],
        [
         "# Detailed Table Information",
         "",
         ""
        ],
        [
         "Catalog",
         "spark_catalog",
         ""
        ],
        [
         "Database",
         "testdb",
         ""
        ],
        [
         "Table",
         "soy_foods",
         ""
        ],
        [
         "Created Time",
         "Wed Feb 14 17:39:29 UTC 2024",
         ""
        ],
        [
         "Last Access",
         "UNKNOWN",
         ""
        ],
        [
         "Created By",
         "Spark 3.5.0",
         ""
        ],
        [
         "Type",
         "EXTERNAL",
         ""
        ],
        [
         "Location",
         "dbfs:/user/ctas/soy_foods",
         ""
        ],
        [
         "Provider",
         "delta",
         ""
        ],
        [
         "Owner",
         "root",
         ""
        ],
        [
         "Table Properties",
         "[delta.minReaderVersion=1,delta.minWriterVersion=2]",
         ""
        ]
       ],
       "datasetInfos": [],
       "dbfsResultPath": null,
       "isJsonSchema": true,
       "metadata": {
        "isDbfsCommandResult": false
       },
       "overflow": false,
       "plotOptions": {
        "customPlotOptions": {},
        "displayType": "table",
        "pivotAggregation": null,
        "pivotColumns": null,
        "xColumns": null,
        "yColumns": null
       },
       "removedWidgets": [],
       "schema": [
        {
         "metadata": "{\"comment\":\"name of the column\"}",
         "name": "col_name",
         "type": "\"string\""
        },
        {
         "metadata": "{\"comment\":\"data type of the column\"}",
         "name": "data_type",
         "type": "\"string\""
        },
        {
         "metadata": "{\"comment\":\"comment of the column\"}",
         "name": "comment",
         "type": "\"string\""
        }
       ],
       "type": "table"
      }
     },
     "output_type": "display_data"
    }
   ],
   "source": [
    "%sql\n",
    "describe extended soy_foods;"
   ]
  },
  {
   "cell_type": "code",
   "execution_count": 0,
   "metadata": {
    "application/vnd.databricks.v1+cell": {
     "cellMetadata": {
      "byteLimit": 2048000,
      "rowLimit": 10000
     },
     "inputWidgets": {},
     "nuid": "5b574eb9-c9fb-4d1b-abb4-8ab803d1b089",
     "showTitle": false,
     "title": ""
    }
   },
   "outputs": [
    {
     "output_type": "display_data",
     "data": {
      "text/html": [
       "<style scoped>\n",
       "  .table-result-container {\n",
       "    max-height: 300px;\n",
       "    overflow: auto;\n",
       "  }\n",
       "  table, th, td {\n",
       "    border: 1px solid black;\n",
       "    border-collapse: collapse;\n",
       "  }\n",
       "  th, td {\n",
       "    padding: 5px;\n",
       "  }\n",
       "  th {\n",
       "    text-align: left;\n",
       "  }\n",
       "</style><div class='table-result-container'><table class='table-result'><thead style='background-color: white'><tr><th>path</th><th>name</th><th>size</th><th>modificationTime</th></tr></thead><tbody><tr><td>dbfs:/user/ctas/soy_foods/_delta_log/</td><td>_delta_log/</td><td>0</td><td>0</td></tr><tr><td>dbfs:/user/ctas/soy_foods/part-00000-ffd816c2-e852-451c-a571-0c2b241dc654-c000.snappy.parquet</td><td>part-00000-ffd816c2-e852-451c-a571-0c2b241dc654-c000.snappy.parquet</td><td>2547</td><td>1707932365000</td></tr><tr><td>dbfs:/user/ctas/soy_foods/part-00001-f83613fd-40b8-428e-9fbe-20d8c2eb3c58-c000.snappy.parquet</td><td>part-00001-f83613fd-40b8-428e-9fbe-20d8c2eb3c58-c000.snappy.parquet</td><td>2274</td><td>1707932365000</td></tr><tr><td>dbfs:/user/ctas/soy_foods/part-00002-c20e3d00-5537-44a0-b954-2d38f6b7bf11-c000.snappy.parquet</td><td>part-00002-c20e3d00-5537-44a0-b954-2d38f6b7bf11-c000.snappy.parquet</td><td>2367</td><td>1707932365000</td></tr><tr><td>dbfs:/user/ctas/soy_foods/part-00003-1cb464f3-d664-4afe-9d7f-80d617c47067-c000.snappy.parquet</td><td>part-00003-1cb464f3-d664-4afe-9d7f-80d617c47067-c000.snappy.parquet</td><td>2349</td><td>1707932365000</td></tr><tr><td>dbfs:/user/ctas/soy_foods/part-00004-158b36d3-9356-49cd-a30f-bd4fff00f8c2-c000.snappy.parquet</td><td>part-00004-158b36d3-9356-49cd-a30f-bd4fff00f8c2-c000.snappy.parquet</td><td>2469</td><td>1707932365000</td></tr><tr><td>dbfs:/user/ctas/soy_foods/part-00005-889530f9-93b1-4f15-8c18-bd52cb178e19-c000.snappy.parquet</td><td>part-00005-889530f9-93b1-4f15-8c18-bd52cb178e19-c000.snappy.parquet</td><td>2534</td><td>1707932365000</td></tr><tr><td>dbfs:/user/ctas/soy_foods/part-00006-cad1e09b-706e-49f6-b215-7f2061733dd0-c000.snappy.parquet</td><td>part-00006-cad1e09b-706e-49f6-b215-7f2061733dd0-c000.snappy.parquet</td><td>2448</td><td>1707932365000</td></tr></tbody></table></div>"
      ]
     },
     "metadata": {
      "application/vnd.databricks.v1+output": {
       "addedWidgets": {},
       "aggData": [],
       "aggError": "",
       "aggOverflow": false,
       "aggSchema": [],
       "aggSeriesLimitReached": false,
       "aggType": "",
       "arguments": {},
       "columnCustomDisplayInfos": {},
       "data": [
        [
         "dbfs:/user/ctas/soy_foods/_delta_log/",
         "_delta_log/",
         0,
         0
        ],
        [
         "dbfs:/user/ctas/soy_foods/part-00000-ffd816c2-e852-451c-a571-0c2b241dc654-c000.snappy.parquet",
         "part-00000-ffd816c2-e852-451c-a571-0c2b241dc654-c000.snappy.parquet",
         2547,
         1707932365000
        ],
        [
         "dbfs:/user/ctas/soy_foods/part-00001-f83613fd-40b8-428e-9fbe-20d8c2eb3c58-c000.snappy.parquet",
         "part-00001-f83613fd-40b8-428e-9fbe-20d8c2eb3c58-c000.snappy.parquet",
         2274,
         1707932365000
        ],
        [
         "dbfs:/user/ctas/soy_foods/part-00002-c20e3d00-5537-44a0-b954-2d38f6b7bf11-c000.snappy.parquet",
         "part-00002-c20e3d00-5537-44a0-b954-2d38f6b7bf11-c000.snappy.parquet",
         2367,
         1707932365000
        ],
        [
         "dbfs:/user/ctas/soy_foods/part-00003-1cb464f3-d664-4afe-9d7f-80d617c47067-c000.snappy.parquet",
         "part-00003-1cb464f3-d664-4afe-9d7f-80d617c47067-c000.snappy.parquet",
         2349,
         1707932365000
        ],
        [
         "dbfs:/user/ctas/soy_foods/part-00004-158b36d3-9356-49cd-a30f-bd4fff00f8c2-c000.snappy.parquet",
         "part-00004-158b36d3-9356-49cd-a30f-bd4fff00f8c2-c000.snappy.parquet",
         2469,
         1707932365000
        ],
        [
         "dbfs:/user/ctas/soy_foods/part-00005-889530f9-93b1-4f15-8c18-bd52cb178e19-c000.snappy.parquet",
         "part-00005-889530f9-93b1-4f15-8c18-bd52cb178e19-c000.snappy.parquet",
         2534,
         1707932365000
        ],
        [
         "dbfs:/user/ctas/soy_foods/part-00006-cad1e09b-706e-49f6-b215-7f2061733dd0-c000.snappy.parquet",
         "part-00006-cad1e09b-706e-49f6-b215-7f2061733dd0-c000.snappy.parquet",
         2448,
         1707932365000
        ]
       ],
       "datasetInfos": [],
       "dbfsResultPath": null,
       "isJsonSchema": true,
       "metadata": {
        "isDbfsCommandResult": false
       },
       "overflow": false,
       "plotOptions": {
        "customPlotOptions": {},
        "displayType": "table",
        "pivotAggregation": null,
        "pivotColumns": null,
        "xColumns": null,
        "yColumns": null
       },
       "removedWidgets": [],
       "schema": [
        {
         "metadata": "{}",
         "name": "path",
         "type": "\"string\""
        },
        {
         "metadata": "{}",
         "name": "name",
         "type": "\"string\""
        },
        {
         "metadata": "{}",
         "name": "size",
         "type": "\"long\""
        },
        {
         "metadata": "{}",
         "name": "modificationTime",
         "type": "\"long\""
        }
       ],
       "type": "table"
      }
     },
     "output_type": "display_data"
    }
   ],
   "source": [
    "%fs ls \"dbfs:/user/ctas/soy_foods\""
   ]
  },
  {
   "cell_type": "code",
   "execution_count": 0,
   "metadata": {
    "application/vnd.databricks.v1+cell": {
     "cellMetadata": {
      "byteLimit": 2048000,
      "rowLimit": 10000
     },
     "inputWidgets": {},
     "nuid": "432f5678-bea3-406a-a7ee-0da26ae37134",
     "showTitle": false,
     "title": ""
    }
   },
   "outputs": [
    {
     "output_type": "display_data",
     "data": {
      "text/html": [
       "<style scoped>\n",
       "  .table-result-container {\n",
       "    max-height: 300px;\n",
       "    overflow: auto;\n",
       "  }\n",
       "  table, th, td {\n",
       "    border: 1px solid black;\n",
       "    border-collapse: collapse;\n",
       "  }\n",
       "  th, td {\n",
       "    padding: 5px;\n",
       "  }\n",
       "  th {\n",
       "    text-align: left;\n",
       "  }\n",
       "</style><div class='table-result-container'><table class='table-result'><thead style='background-color: white'><tr><th>food_type</th><th>food_name</th><th>calories</th><th>country_of_origin</th><th>allergens</th></tr></thead><tbody><tr><td>condiment</td><td>mauris vulputate elementum nullam varius nulla facilisi cras non velit nec nisi vulputate nonummy maecenas tincidunt lacus at velit</td><td>152.63</td><td>Poland</td><td>gluten</td></tr><tr><td>condiment</td><td>justo nec condimentum neque sapien placerat ante nulla justo aliquam quis turpis eget elit sodales scelerisque mauris sit amet eros</td><td>236.60</td><td>Japan</td><td>dairy</td></tr><tr><td>snack</td><td>praesent blandit lacinia erat vestibulum sed magna at nunc commodo placerat praesent blandit nam nulla integer pede justo lacinia</td><td>160.25</td><td>China</td><td>soy</td></tr><tr><td>condiment</td><td>ut erat id mauris vulputate elementum nullam varius nulla facilisi cras non velit nec nisi vulputate nonummy</td><td>630.61</td><td>Czech Republic</td><td>nuts</td></tr><tr><td>condiment</td><td>volutpat sapien arcu sed augue aliquam erat volutpat in congue etiam justo etiam pretium iaculis justo in hac</td><td>690.09</td><td>Philippines</td><td>gluten</td></tr><tr><td>snack</td><td>odio in hac habitasse platea dictumst maecenas ut massa quis augue luctus tincidunt nulla mollis molestie lorem quisque</td><td>553.67</td><td>Indonesia</td><td>soy</td></tr><tr><td>snack</td><td>etiam pretium iaculis justo in hac habitasse platea dictumst etiam faucibus cursus urna ut tellus nulla ut erat</td><td>154.72</td><td>Brazil</td><td>soy</td></tr><tr><td>grain</td><td>nulla dapibus dolor vel est donec odio justo sollicitudin ut suscipit a feugiat et eros vestibulum ac est</td><td>307.11</td><td>China</td><td>dairy</td></tr><tr><td>snack</td><td>orci luctus et ultrices posuere cubilia curae duis faucibus accumsan odio curabitur convallis duis consequat</td><td>370.86</td><td>China</td><td>soy</td></tr><tr><td>vegetable</td><td>blandit nam nulla integer pede justo lacinia eget tincidunt eget tempus vel pede morbi</td><td>221.74</td><td>Philippines</td><td>gluten</td></tr><tr><td>vegetable</td><td>venenatis tristique fusce congue diam id ornare imperdiet sapien urna pretium nisl</td><td>966.59</td><td>Russia</td><td>shellfish</td></tr><tr><td>condiment</td><td>pede ac diam cras pellentesque volutpat dui maecenas tristique est et tempus semper</td><td>868.14</td><td>Nigeria</td><td>soy</td></tr><tr><td>condiment</td><td>molestie sed justo pellentesque viverra pede ac diam cras pellentesque volutpat dui</td><td>162.68</td><td>China</td><td>dairy</td></tr><tr><td>grain</td><td>est lacinia nisi venenatis tristique fusce congue diam id ornare imperdiet</td><td>413.58</td><td>Czech Republic</td><td>dairy</td></tr><tr><td>dairy</td><td>magnis dis parturient montes nascetur ridiculus mus etiam vel augue vestibulum rutrum</td><td>591.95</td><td>Morocco</td><td>soy</td></tr><tr><td>grain</td><td>ligula suspendisse ornare consequat lectus in est risus auctor sed tristique in</td><td>401.47</td><td>China</td><td>shellfish</td></tr><tr><td>seafood</td><td>diam erat fermentum justo nec condimentum neque sapien placerat ante nulla justo</td><td>150.12</td><td>Peru</td><td>nuts</td></tr><tr><td>fruit</td><td>sit amet justo morbi ut odio cras mi pede malesuada in imperdiet et commodo</td><td>689.03</td><td>France</td><td>dairy</td></tr><tr><td>grain</td><td>in leo maecenas pulvinar lobortis est phasellus sit amet erat</td><td>13.74</td><td>Indonesia</td><td>shellfish</td></tr><tr><td>fruit</td><td>cras pellentesque volutpat dui maecenas tristique est et tempus semper</td><td>862.18</td><td>Armenia</td><td>soy</td></tr></tbody></table></div>"
      ]
     },
     "metadata": {
      "application/vnd.databricks.v1+output": {
       "addedWidgets": {},
       "aggData": [],
       "aggError": "",
       "aggOverflow": false,
       "aggSchema": [],
       "aggSeriesLimitReached": false,
       "aggType": "",
       "arguments": {},
       "columnCustomDisplayInfos": {},
       "data": [
        [
         "condiment",
         "mauris vulputate elementum nullam varius nulla facilisi cras non velit nec nisi vulputate nonummy maecenas tincidunt lacus at velit",
         "152.63",
         "Poland",
         "gluten"
        ],
        [
         "condiment",
         "justo nec condimentum neque sapien placerat ante nulla justo aliquam quis turpis eget elit sodales scelerisque mauris sit amet eros",
         "236.60",
         "Japan",
         "dairy"
        ],
        [
         "snack",
         "praesent blandit lacinia erat vestibulum sed magna at nunc commodo placerat praesent blandit nam nulla integer pede justo lacinia",
         "160.25",
         "China",
         "soy"
        ],
        [
         "condiment",
         "ut erat id mauris vulputate elementum nullam varius nulla facilisi cras non velit nec nisi vulputate nonummy",
         "630.61",
         "Czech Republic",
         "nuts"
        ],
        [
         "condiment",
         "volutpat sapien arcu sed augue aliquam erat volutpat in congue etiam justo etiam pretium iaculis justo in hac",
         "690.09",
         "Philippines",
         "gluten"
        ],
        [
         "snack",
         "odio in hac habitasse platea dictumst maecenas ut massa quis augue luctus tincidunt nulla mollis molestie lorem quisque",
         "553.67",
         "Indonesia",
         "soy"
        ],
        [
         "snack",
         "etiam pretium iaculis justo in hac habitasse platea dictumst etiam faucibus cursus urna ut tellus nulla ut erat",
         "154.72",
         "Brazil",
         "soy"
        ],
        [
         "grain",
         "nulla dapibus dolor vel est donec odio justo sollicitudin ut suscipit a feugiat et eros vestibulum ac est",
         "307.11",
         "China",
         "dairy"
        ],
        [
         "snack",
         "orci luctus et ultrices posuere cubilia curae duis faucibus accumsan odio curabitur convallis duis consequat",
         "370.86",
         "China",
         "soy"
        ],
        [
         "vegetable",
         "blandit nam nulla integer pede justo lacinia eget tincidunt eget tempus vel pede morbi",
         "221.74",
         "Philippines",
         "gluten"
        ],
        [
         "vegetable",
         "venenatis tristique fusce congue diam id ornare imperdiet sapien urna pretium nisl",
         "966.59",
         "Russia",
         "shellfish"
        ],
        [
         "condiment",
         "pede ac diam cras pellentesque volutpat dui maecenas tristique est et tempus semper",
         "868.14",
         "Nigeria",
         "soy"
        ],
        [
         "condiment",
         "molestie sed justo pellentesque viverra pede ac diam cras pellentesque volutpat dui",
         "162.68",
         "China",
         "dairy"
        ],
        [
         "grain",
         "est lacinia nisi venenatis tristique fusce congue diam id ornare imperdiet",
         "413.58",
         "Czech Republic",
         "dairy"
        ],
        [
         "dairy",
         "magnis dis parturient montes nascetur ridiculus mus etiam vel augue vestibulum rutrum",
         "591.95",
         "Morocco",
         "soy"
        ],
        [
         "grain",
         "ligula suspendisse ornare consequat lectus in est risus auctor sed tristique in",
         "401.47",
         "China",
         "shellfish"
        ],
        [
         "seafood",
         "diam erat fermentum justo nec condimentum neque sapien placerat ante nulla justo",
         "150.12",
         "Peru",
         "nuts"
        ],
        [
         "fruit",
         "sit amet justo morbi ut odio cras mi pede malesuada in imperdiet et commodo",
         "689.03",
         "France",
         "dairy"
        ],
        [
         "grain",
         "in leo maecenas pulvinar lobortis est phasellus sit amet erat",
         "13.74",
         "Indonesia",
         "shellfish"
        ],
        [
         "fruit",
         "cras pellentesque volutpat dui maecenas tristique est et tempus semper",
         "862.18",
         "Armenia",
         "soy"
        ]
       ],
       "datasetInfos": [],
       "dbfsResultPath": null,
       "isJsonSchema": true,
       "metadata": {
        "isDbfsCommandResult": false
       },
       "overflow": false,
       "plotOptions": {
        "customPlotOptions": {},
        "displayType": "table",
        "pivotAggregation": null,
        "pivotColumns": null,
        "xColumns": null,
        "yColumns": null
       },
       "removedWidgets": [],
       "schema": [
        {
         "metadata": "{\"__CHAR_VARCHAR_TYPE_STRING\":\"varchar(9)\"}",
         "name": "food_type",
         "type": "\"string\""
        },
        {
         "metadata": "{\"__CHAR_VARCHAR_TYPE_STRING\":\"varchar(256)\"}",
         "name": "food_name",
         "type": "\"string\""
        },
        {
         "metadata": "{}",
         "name": "calories",
         "type": "\"decimal(6,2)\""
        },
        {
         "metadata": "{\"__CHAR_VARCHAR_TYPE_STRING\":\"varchar(50)\"}",
         "name": "country_of_origin",
         "type": "\"string\""
        },
        {
         "metadata": "{\"__CHAR_VARCHAR_TYPE_STRING\":\"varchar(9)\"}",
         "name": "allergens",
         "type": "\"string\""
        }
       ],
       "type": "table"
      }
     },
     "output_type": "display_data"
    }
   ],
   "source": [
    "%sql\n",
    "select * from foods;"
   ]
  },
  {
   "cell_type": "code",
   "execution_count": 0,
   "metadata": {
    "application/vnd.databricks.v1+cell": {
     "cellMetadata": {
      "byteLimit": 2048000,
      "rowLimit": 10000
     },
     "inputWidgets": {},
     "nuid": "2e1ef099-95c7-4184-a9af-e5284c430a80",
     "showTitle": false,
     "title": ""
    }
   },
   "outputs": [
    {
     "output_type": "display_data",
     "data": {
      "text/html": [
       "<style scoped>\n",
       "  .table-result-container {\n",
       "    max-height: 300px;\n",
       "    overflow: auto;\n",
       "  }\n",
       "  table, th, td {\n",
       "    border: 1px solid black;\n",
       "    border-collapse: collapse;\n",
       "  }\n",
       "  th, td {\n",
       "    padding: 5px;\n",
       "  }\n",
       "  th {\n",
       "    text-align: left;\n",
       "  }\n",
       "</style><div class='table-result-container'><table class='table-result'><thead style='background-color: white'><tr><th>num_affected_rows</th><th>num_inserted_rows</th></tr></thead><tbody></tbody></table></div>"
      ]
     },
     "metadata": {
      "application/vnd.databricks.v1+output": {
       "addedWidgets": {},
       "aggData": [],
       "aggError": "",
       "aggOverflow": false,
       "aggSchema": [],
       "aggSeriesLimitReached": false,
       "aggType": "",
       "arguments": {},
       "columnCustomDisplayInfos": {},
       "data": [],
       "datasetInfos": [],
       "dbfsResultPath": null,
       "isJsonSchema": true,
       "metadata": {
        "isDbfsCommandResult": false
       },
       "overflow": false,
       "plotOptions": {
        "customPlotOptions": {},
        "displayType": "table",
        "pivotAggregation": null,
        "pivotColumns": null,
        "xColumns": null,
        "yColumns": null
       },
       "removedWidgets": [],
       "schema": [
        {
         "metadata": "{}",
         "name": "num_affected_rows",
         "type": "\"long\""
        },
        {
         "metadata": "{}",
         "name": "num_inserted_rows",
         "type": "\"long\""
        }
       ],
       "type": "table"
      }
     },
     "output_type": "display_data"
    }
   ],
   "source": [
    "%sql\n",
    "create table foods_parti\n",
    "location \"dbfs:/user/ctas/foods_partition\"\n",
    "PARTITIONED by (food_type)\n",
    "as select * from foods;"
   ]
  },
  {
   "cell_type": "code",
   "execution_count": 0,
   "metadata": {
    "application/vnd.databricks.v1+cell": {
     "cellMetadata": {
      "byteLimit": 2048000,
      "rowLimit": 10000
     },
     "inputWidgets": {},
     "nuid": "0aa6a849-b58d-46c3-9f8f-5cce437c42ee",
     "showTitle": false,
     "title": ""
    }
   },
   "outputs": [
    {
     "output_type": "display_data",
     "data": {
      "text/html": [
       "<style scoped>\n",
       "  .table-result-container {\n",
       "    max-height: 300px;\n",
       "    overflow: auto;\n",
       "  }\n",
       "  table, th, td {\n",
       "    border: 1px solid black;\n",
       "    border-collapse: collapse;\n",
       "  }\n",
       "  th, td {\n",
       "    padding: 5px;\n",
       "  }\n",
       "  th {\n",
       "    text-align: left;\n",
       "  }\n",
       "</style><div class='table-result-container'><table class='table-result'><thead style='background-color: white'><tr><th>database</th><th>tableName</th><th>isTemporary</th></tr></thead><tbody><tr><td>testdb</td><td>dairy_foods</td><td>false</td></tr><tr><td>testdb</td><td>employee</td><td>false</td></tr><tr><td>testdb</td><td>foods</td><td>false</td></tr><tr><td>testdb</td><td>foods_parti</td><td>false</td></tr><tr><td>testdb</td><td>soy_foods</td><td>false</td></tr></tbody></table></div>"
      ]
     },
     "metadata": {
      "application/vnd.databricks.v1+output": {
       "addedWidgets": {},
       "aggData": [],
       "aggError": "",
       "aggOverflow": false,
       "aggSchema": [],
       "aggSeriesLimitReached": false,
       "aggType": "",
       "arguments": {},
       "columnCustomDisplayInfos": {},
       "data": [
        [
         "testdb",
         "dairy_foods",
         false
        ],
        [
         "testdb",
         "employee",
         false
        ],
        [
         "testdb",
         "foods",
         false
        ],
        [
         "testdb",
         "foods_parti",
         false
        ],
        [
         "testdb",
         "soy_foods",
         false
        ]
       ],
       "datasetInfos": [],
       "dbfsResultPath": null,
       "isJsonSchema": true,
       "metadata": {
        "isDbfsCommandResult": false
       },
       "overflow": false,
       "plotOptions": {
        "customPlotOptions": {},
        "displayType": "table",
        "pivotAggregation": null,
        "pivotColumns": null,
        "xColumns": null,
        "yColumns": null
       },
       "removedWidgets": [],
       "schema": [
        {
         "metadata": "{}",
         "name": "database",
         "type": "\"string\""
        },
        {
         "metadata": "{}",
         "name": "tableName",
         "type": "\"string\""
        },
        {
         "metadata": "{}",
         "name": "isTemporary",
         "type": "\"boolean\""
        }
       ],
       "type": "table"
      }
     },
     "output_type": "display_data"
    }
   ],
   "source": [
    "%sql\n",
    "show tables;"
   ]
  },
  {
   "cell_type": "code",
   "execution_count": 0,
   "metadata": {
    "application/vnd.databricks.v1+cell": {
     "cellMetadata": {
      "byteLimit": 2048000,
      "rowLimit": 10000
     },
     "inputWidgets": {},
     "nuid": "d8430814-b37d-4d56-b148-1e01351f13b9",
     "showTitle": false,
     "title": ""
    }
   },
   "outputs": [
    {
     "output_type": "display_data",
     "data": {
      "text/html": [
       "<style scoped>\n",
       "  .table-result-container {\n",
       "    max-height: 300px;\n",
       "    overflow: auto;\n",
       "  }\n",
       "  table, th, td {\n",
       "    border: 1px solid black;\n",
       "    border-collapse: collapse;\n",
       "  }\n",
       "  th, td {\n",
       "    padding: 5px;\n",
       "  }\n",
       "  th {\n",
       "    text-align: left;\n",
       "  }\n",
       "</style><div class='table-result-container'><table class='table-result'><thead style='background-color: white'><tr><th>col_name</th><th>data_type</th><th>comment</th></tr></thead><tbody><tr><td>food_type</td><td>varchar(9)</td><td>null</td></tr><tr><td>food_name</td><td>varchar(256)</td><td>null</td></tr><tr><td>calories</td><td>decimal(6,2)</td><td>null</td></tr><tr><td>country_of_origin</td><td>varchar(50)</td><td>null</td></tr><tr><td>allergens</td><td>varchar(9)</td><td>null</td></tr><tr><td># Partition Information</td><td></td><td></td></tr><tr><td># col_name</td><td>data_type</td><td>comment</td></tr><tr><td>food_type</td><td>string</td><td>null</td></tr><tr><td></td><td></td><td></td></tr><tr><td># Delta Statistics Columns</td><td></td><td></td></tr><tr><td>Column Names</td><td>food_name, calories, country_of_origin, allergens</td><td></td></tr><tr><td>Column Selection Method</td><td>first-32</td><td></td></tr><tr><td></td><td></td><td></td></tr><tr><td># Detailed Table Information</td><td></td><td></td></tr><tr><td>Catalog</td><td>spark_catalog</td><td></td></tr><tr><td>Database</td><td>testdb</td><td></td></tr><tr><td>Table</td><td>foods_parti</td><td></td></tr><tr><td>Created Time</td><td>Wed Feb 14 17:43:56 UTC 2024</td><td></td></tr><tr><td>Last Access</td><td>UNKNOWN</td><td></td></tr><tr><td>Created By</td><td>Spark 3.5.0</td><td></td></tr><tr><td>Type</td><td>EXTERNAL</td><td></td></tr><tr><td>Location</td><td>dbfs:/user/ctas/foods_partition</td><td></td></tr><tr><td>Provider</td><td>delta</td><td></td></tr><tr><td>Owner</td><td>root</td><td></td></tr><tr><td>Table Properties</td><td>[delta.minReaderVersion=1,delta.minWriterVersion=2]</td><td></td></tr></tbody></table></div>"
      ]
     },
     "metadata": {
      "application/vnd.databricks.v1+output": {
       "addedWidgets": {},
       "aggData": [],
       "aggError": "",
       "aggOverflow": false,
       "aggSchema": [],
       "aggSeriesLimitReached": false,
       "aggType": "",
       "arguments": {},
       "columnCustomDisplayInfos": {},
       "data": [
        [
         "food_type",
         "varchar(9)",
         null
        ],
        [
         "food_name",
         "varchar(256)",
         null
        ],
        [
         "calories",
         "decimal(6,2)",
         null
        ],
        [
         "country_of_origin",
         "varchar(50)",
         null
        ],
        [
         "allergens",
         "varchar(9)",
         null
        ],
        [
         "# Partition Information",
         "",
         ""
        ],
        [
         "# col_name",
         "data_type",
         "comment"
        ],
        [
         "food_type",
         "string",
         null
        ],
        [
         "",
         "",
         ""
        ],
        [
         "# Delta Statistics Columns",
         "",
         ""
        ],
        [
         "Column Names",
         "food_name, calories, country_of_origin, allergens",
         ""
        ],
        [
         "Column Selection Method",
         "first-32",
         ""
        ],
        [
         "",
         "",
         ""
        ],
        [
         "# Detailed Table Information",
         "",
         ""
        ],
        [
         "Catalog",
         "spark_catalog",
         ""
        ],
        [
         "Database",
         "testdb",
         ""
        ],
        [
         "Table",
         "foods_parti",
         ""
        ],
        [
         "Created Time",
         "Wed Feb 14 17:43:56 UTC 2024",
         ""
        ],
        [
         "Last Access",
         "UNKNOWN",
         ""
        ],
        [
         "Created By",
         "Spark 3.5.0",
         ""
        ],
        [
         "Type",
         "EXTERNAL",
         ""
        ],
        [
         "Location",
         "dbfs:/user/ctas/foods_partition",
         ""
        ],
        [
         "Provider",
         "delta",
         ""
        ],
        [
         "Owner",
         "root",
         ""
        ],
        [
         "Table Properties",
         "[delta.minReaderVersion=1,delta.minWriterVersion=2]",
         ""
        ]
       ],
       "datasetInfos": [],
       "dbfsResultPath": null,
       "isJsonSchema": true,
       "metadata": {
        "isDbfsCommandResult": false
       },
       "overflow": false,
       "plotOptions": {
        "customPlotOptions": {},
        "displayType": "table",
        "pivotAggregation": null,
        "pivotColumns": null,
        "xColumns": null,
        "yColumns": null
       },
       "removedWidgets": [],
       "schema": [
        {
         "metadata": "{\"comment\":\"name of the column\"}",
         "name": "col_name",
         "type": "\"string\""
        },
        {
         "metadata": "{\"comment\":\"data type of the column\"}",
         "name": "data_type",
         "type": "\"string\""
        },
        {
         "metadata": "{\"comment\":\"comment of the column\"}",
         "name": "comment",
         "type": "\"string\""
        }
       ],
       "type": "table"
      }
     },
     "output_type": "display_data"
    }
   ],
   "source": [
    "%sql\n",
    "describe extended foods_parti;"
   ]
  },
  {
   "cell_type": "code",
   "execution_count": 0,
   "metadata": {
    "application/vnd.databricks.v1+cell": {
     "cellMetadata": {
      "byteLimit": 2048000,
      "rowLimit": 10000
     },
     "inputWidgets": {},
     "nuid": "92f54917-043a-4f69-b8df-3d74d6c2afa0",
     "showTitle": false,
     "title": ""
    }
   },
   "outputs": [
    {
     "output_type": "display_data",
     "data": {
      "text/html": [
       "<style scoped>\n",
       "  .table-result-container {\n",
       "    max-height: 300px;\n",
       "    overflow: auto;\n",
       "  }\n",
       "  table, th, td {\n",
       "    border: 1px solid black;\n",
       "    border-collapse: collapse;\n",
       "  }\n",
       "  th, td {\n",
       "    padding: 5px;\n",
       "  }\n",
       "  th {\n",
       "    text-align: left;\n",
       "  }\n",
       "</style><div class='table-result-container'><table class='table-result'><thead style='background-color: white'><tr><th>food_type</th><th>food_name</th><th>calories</th><th>country_of_origin</th><th>allergens</th></tr></thead><tbody><tr><td>snack</td><td>praesent blandit lacinia erat vestibulum sed magna at nunc commodo placerat praesent blandit nam nulla integer pede justo lacinia</td><td>160.25</td><td>China</td><td>soy</td></tr><tr><td>snack</td><td>odio in hac habitasse platea dictumst maecenas ut massa quis augue luctus tincidunt nulla mollis molestie lorem quisque</td><td>553.67</td><td>Indonesia</td><td>soy</td></tr><tr><td>grain</td><td>nulla dapibus dolor vel est donec odio justo sollicitudin ut suscipit a feugiat et eros vestibulum ac est</td><td>307.11</td><td>China</td><td>dairy</td></tr><tr><td>condiment</td><td>mauris vulputate elementum nullam varius nulla facilisi cras non velit nec nisi vulputate nonummy maecenas tincidunt lacus at velit</td><td>152.63</td><td>Poland</td><td>gluten</td></tr><tr><td>condiment</td><td>justo nec condimentum neque sapien placerat ante nulla justo aliquam quis turpis eget elit sodales scelerisque mauris sit amet eros</td><td>236.60</td><td>Japan</td><td>dairy</td></tr><tr><td>condiment</td><td>ut erat id mauris vulputate elementum nullam varius nulla facilisi cras non velit nec nisi vulputate nonummy</td><td>630.61</td><td>Czech Republic</td><td>nuts</td></tr><tr><td>condiment</td><td>volutpat sapien arcu sed augue aliquam erat volutpat in congue etiam justo etiam pretium iaculis justo in hac</td><td>690.09</td><td>Philippines</td><td>gluten</td></tr><tr><td>snack</td><td>etiam pretium iaculis justo in hac habitasse platea dictumst etiam faucibus cursus urna ut tellus nulla ut erat</td><td>154.72</td><td>Brazil</td><td>soy</td></tr><tr><td>snack</td><td>orci luctus et ultrices posuere cubilia curae duis faucibus accumsan odio curabitur convallis duis consequat</td><td>370.86</td><td>China</td><td>soy</td></tr><tr><td>grain</td><td>est lacinia nisi venenatis tristique fusce congue diam id ornare imperdiet</td><td>413.58</td><td>Czech Republic</td><td>dairy</td></tr><tr><td>dairy</td><td>magnis dis parturient montes nascetur ridiculus mus etiam vel augue vestibulum rutrum</td><td>591.95</td><td>Morocco</td><td>soy</td></tr><tr><td>grain</td><td>ligula suspendisse ornare consequat lectus in est risus auctor sed tristique in</td><td>401.47</td><td>China</td><td>shellfish</td></tr><tr><td>condiment</td><td>pede ac diam cras pellentesque volutpat dui maecenas tristique est et tempus semper</td><td>868.14</td><td>Nigeria</td><td>soy</td></tr><tr><td>condiment</td><td>molestie sed justo pellentesque viverra pede ac diam cras pellentesque volutpat dui</td><td>162.68</td><td>China</td><td>dairy</td></tr><tr><td>fruit</td><td>sit amet justo morbi ut odio cras mi pede malesuada in imperdiet et commodo</td><td>689.03</td><td>France</td><td>dairy</td></tr><tr><td>seafood</td><td>diam erat fermentum justo nec condimentum neque sapien placerat ante nulla justo</td><td>150.12</td><td>Peru</td><td>nuts</td></tr><tr><td>grain</td><td>in leo maecenas pulvinar lobortis est phasellus sit amet erat</td><td>13.74</td><td>Indonesia</td><td>shellfish</td></tr><tr><td>vegetable</td><td>blandit nam nulla integer pede justo lacinia eget tincidunt eget tempus vel pede morbi</td><td>221.74</td><td>Philippines</td><td>gluten</td></tr><tr><td>vegetable</td><td>venenatis tristique fusce congue diam id ornare imperdiet sapien urna pretium nisl</td><td>966.59</td><td>Russia</td><td>shellfish</td></tr><tr><td>fruit</td><td>cras pellentesque volutpat dui maecenas tristique est et tempus semper</td><td>862.18</td><td>Armenia</td><td>soy</td></tr></tbody></table></div>"
      ]
     },
     "metadata": {
      "application/vnd.databricks.v1+output": {
       "addedWidgets": {},
       "aggData": [],
       "aggError": "",
       "aggOverflow": false,
       "aggSchema": [],
       "aggSeriesLimitReached": false,
       "aggType": "",
       "arguments": {},
       "columnCustomDisplayInfos": {},
       "data": [
        [
         "snack",
         "praesent blandit lacinia erat vestibulum sed magna at nunc commodo placerat praesent blandit nam nulla integer pede justo lacinia",
         "160.25",
         "China",
         "soy"
        ],
        [
         "snack",
         "odio in hac habitasse platea dictumst maecenas ut massa quis augue luctus tincidunt nulla mollis molestie lorem quisque",
         "553.67",
         "Indonesia",
         "soy"
        ],
        [
         "grain",
         "nulla dapibus dolor vel est donec odio justo sollicitudin ut suscipit a feugiat et eros vestibulum ac est",
         "307.11",
         "China",
         "dairy"
        ],
        [
         "condiment",
         "mauris vulputate elementum nullam varius nulla facilisi cras non velit nec nisi vulputate nonummy maecenas tincidunt lacus at velit",
         "152.63",
         "Poland",
         "gluten"
        ],
        [
         "condiment",
         "justo nec condimentum neque sapien placerat ante nulla justo aliquam quis turpis eget elit sodales scelerisque mauris sit amet eros",
         "236.60",
         "Japan",
         "dairy"
        ],
        [
         "condiment",
         "ut erat id mauris vulputate elementum nullam varius nulla facilisi cras non velit nec nisi vulputate nonummy",
         "630.61",
         "Czech Republic",
         "nuts"
        ],
        [
         "condiment",
         "volutpat sapien arcu sed augue aliquam erat volutpat in congue etiam justo etiam pretium iaculis justo in hac",
         "690.09",
         "Philippines",
         "gluten"
        ],
        [
         "snack",
         "etiam pretium iaculis justo in hac habitasse platea dictumst etiam faucibus cursus urna ut tellus nulla ut erat",
         "154.72",
         "Brazil",
         "soy"
        ],
        [
         "snack",
         "orci luctus et ultrices posuere cubilia curae duis faucibus accumsan odio curabitur convallis duis consequat",
         "370.86",
         "China",
         "soy"
        ],
        [
         "grain",
         "est lacinia nisi venenatis tristique fusce congue diam id ornare imperdiet",
         "413.58",
         "Czech Republic",
         "dairy"
        ],
        [
         "dairy",
         "magnis dis parturient montes nascetur ridiculus mus etiam vel augue vestibulum rutrum",
         "591.95",
         "Morocco",
         "soy"
        ],
        [
         "grain",
         "ligula suspendisse ornare consequat lectus in est risus auctor sed tristique in",
         "401.47",
         "China",
         "shellfish"
        ],
        [
         "condiment",
         "pede ac diam cras pellentesque volutpat dui maecenas tristique est et tempus semper",
         "868.14",
         "Nigeria",
         "soy"
        ],
        [
         "condiment",
         "molestie sed justo pellentesque viverra pede ac diam cras pellentesque volutpat dui",
         "162.68",
         "China",
         "dairy"
        ],
        [
         "fruit",
         "sit amet justo morbi ut odio cras mi pede malesuada in imperdiet et commodo",
         "689.03",
         "France",
         "dairy"
        ],
        [
         "seafood",
         "diam erat fermentum justo nec condimentum neque sapien placerat ante nulla justo",
         "150.12",
         "Peru",
         "nuts"
        ],
        [
         "grain",
         "in leo maecenas pulvinar lobortis est phasellus sit amet erat",
         "13.74",
         "Indonesia",
         "shellfish"
        ],
        [
         "vegetable",
         "blandit nam nulla integer pede justo lacinia eget tincidunt eget tempus vel pede morbi",
         "221.74",
         "Philippines",
         "gluten"
        ],
        [
         "vegetable",
         "venenatis tristique fusce congue diam id ornare imperdiet sapien urna pretium nisl",
         "966.59",
         "Russia",
         "shellfish"
        ],
        [
         "fruit",
         "cras pellentesque volutpat dui maecenas tristique est et tempus semper",
         "862.18",
         "Armenia",
         "soy"
        ]
       ],
       "datasetInfos": [],
       "dbfsResultPath": null,
       "isJsonSchema": true,
       "metadata": {
        "isDbfsCommandResult": false
       },
       "overflow": false,
       "plotOptions": {
        "customPlotOptions": {},
        "displayType": "table",
        "pivotAggregation": null,
        "pivotColumns": null,
        "xColumns": null,
        "yColumns": null
       },
       "removedWidgets": [],
       "schema": [
        {
         "metadata": "{\"__CHAR_VARCHAR_TYPE_STRING\":\"varchar(9)\"}",
         "name": "food_type",
         "type": "\"string\""
        },
        {
         "metadata": "{\"__CHAR_VARCHAR_TYPE_STRING\":\"varchar(256)\"}",
         "name": "food_name",
         "type": "\"string\""
        },
        {
         "metadata": "{}",
         "name": "calories",
         "type": "\"decimal(6,2)\""
        },
        {
         "metadata": "{\"__CHAR_VARCHAR_TYPE_STRING\":\"varchar(50)\"}",
         "name": "country_of_origin",
         "type": "\"string\""
        },
        {
         "metadata": "{\"__CHAR_VARCHAR_TYPE_STRING\":\"varchar(9)\"}",
         "name": "allergens",
         "type": "\"string\""
        }
       ],
       "type": "table"
      }
     },
     "output_type": "display_data"
    }
   ],
   "source": [
    "%sql\n",
    "select * from foods_parti;"
   ]
  },
  {
   "cell_type": "code",
   "execution_count": 0,
   "metadata": {
    "application/vnd.databricks.v1+cell": {
     "cellMetadata": {
      "byteLimit": 2048000,
      "rowLimit": 10000
     },
     "inputWidgets": {},
     "nuid": "019b6d37-21e7-4865-958f-9fcab10951e7",
     "showTitle": false,
     "title": ""
    }
   },
   "outputs": [
    {
     "output_type": "display_data",
     "data": {
      "text/html": [
       "<style scoped>\n",
       "  .table-result-container {\n",
       "    max-height: 300px;\n",
       "    overflow: auto;\n",
       "  }\n",
       "  table, th, td {\n",
       "    border: 1px solid black;\n",
       "    border-collapse: collapse;\n",
       "  }\n",
       "  th, td {\n",
       "    padding: 5px;\n",
       "  }\n",
       "  th {\n",
       "    text-align: left;\n",
       "  }\n",
       "</style><div class='table-result-container'><table class='table-result'><thead style='background-color: white'><tr><th>path</th><th>name</th><th>size</th><th>modificationTime</th></tr></thead><tbody><tr><td>dbfs:/user/ctas/foods_partition/_delta_log/</td><td>_delta_log/</td><td>0</td><td>0</td></tr><tr><td>dbfs:/user/ctas/foods_partition/food_type=condiment/</td><td>food_type=condiment/</td><td>0</td><td>0</td></tr><tr><td>dbfs:/user/ctas/foods_partition/food_type=dairy/</td><td>food_type=dairy/</td><td>0</td><td>0</td></tr><tr><td>dbfs:/user/ctas/foods_partition/food_type=fruit/</td><td>food_type=fruit/</td><td>0</td><td>0</td></tr><tr><td>dbfs:/user/ctas/foods_partition/food_type=grain/</td><td>food_type=grain/</td><td>0</td><td>0</td></tr><tr><td>dbfs:/user/ctas/foods_partition/food_type=seafood/</td><td>food_type=seafood/</td><td>0</td><td>0</td></tr><tr><td>dbfs:/user/ctas/foods_partition/food_type=snack/</td><td>food_type=snack/</td><td>0</td><td>0</td></tr><tr><td>dbfs:/user/ctas/foods_partition/food_type=vegetable/</td><td>food_type=vegetable/</td><td>0</td><td>0</td></tr></tbody></table></div>"
      ]
     },
     "metadata": {
      "application/vnd.databricks.v1+output": {
       "addedWidgets": {},
       "aggData": [],
       "aggError": "",
       "aggOverflow": false,
       "aggSchema": [],
       "aggSeriesLimitReached": false,
       "aggType": "",
       "arguments": {},
       "columnCustomDisplayInfos": {},
       "data": [
        [
         "dbfs:/user/ctas/foods_partition/_delta_log/",
         "_delta_log/",
         0,
         0
        ],
        [
         "dbfs:/user/ctas/foods_partition/food_type=condiment/",
         "food_type=condiment/",
         0,
         0
        ],
        [
         "dbfs:/user/ctas/foods_partition/food_type=dairy/",
         "food_type=dairy/",
         0,
         0
        ],
        [
         "dbfs:/user/ctas/foods_partition/food_type=fruit/",
         "food_type=fruit/",
         0,
         0
        ],
        [
         "dbfs:/user/ctas/foods_partition/food_type=grain/",
         "food_type=grain/",
         0,
         0
        ],
        [
         "dbfs:/user/ctas/foods_partition/food_type=seafood/",
         "food_type=seafood/",
         0,
         0
        ],
        [
         "dbfs:/user/ctas/foods_partition/food_type=snack/",
         "food_type=snack/",
         0,
         0
        ],
        [
         "dbfs:/user/ctas/foods_partition/food_type=vegetable/",
         "food_type=vegetable/",
         0,
         0
        ]
       ],
       "datasetInfos": [],
       "dbfsResultPath": null,
       "isJsonSchema": true,
       "metadata": {
        "isDbfsCommandResult": false
       },
       "overflow": false,
       "plotOptions": {
        "customPlotOptions": {},
        "displayType": "table",
        "pivotAggregation": null,
        "pivotColumns": null,
        "xColumns": null,
        "yColumns": null
       },
       "removedWidgets": [],
       "schema": [
        {
         "metadata": "{}",
         "name": "path",
         "type": "\"string\""
        },
        {
         "metadata": "{}",
         "name": "name",
         "type": "\"string\""
        },
        {
         "metadata": "{}",
         "name": "size",
         "type": "\"long\""
        },
        {
         "metadata": "{}",
         "name": "modificationTime",
         "type": "\"long\""
        }
       ],
       "type": "table"
      }
     },
     "output_type": "display_data"
    }
   ],
   "source": [
    "%fs ls \"dbfs:/user/ctas/foods_partition\""
   ]
  },
  {
   "cell_type": "code",
   "execution_count": 0,
   "metadata": {
    "application/vnd.databricks.v1+cell": {
     "cellMetadata": {
      "byteLimit": 2048000,
      "rowLimit": 10000
     },
     "inputWidgets": {},
     "nuid": "719a8a19-6225-4051-897c-5c3748177e7b",
     "showTitle": false,
     "title": ""
    }
   },
   "outputs": [
    {
     "output_type": "display_data",
     "data": {
      "text/html": [
       "<style scoped>\n",
       "  .table-result-container {\n",
       "    max-height: 300px;\n",
       "    overflow: auto;\n",
       "  }\n",
       "  table, th, td {\n",
       "    border: 1px solid black;\n",
       "    border-collapse: collapse;\n",
       "  }\n",
       "  th, td {\n",
       "    padding: 5px;\n",
       "  }\n",
       "  th {\n",
       "    text-align: left;\n",
       "  }\n",
       "</style><div class='table-result-container'><table class='table-result'><thead style='background-color: white'><tr><th>path</th><th>name</th><th>size</th><th>modificationTime</th></tr></thead><tbody><tr><td>dbfs:/user/ctas/foods_partition/food_type=fruit/part-00005-20edf634-3ecf-4f7e-9713-f8d20ba606bd.c000.snappy.parquet</td><td>part-00005-20edf634-3ecf-4f7e-9713-f8d20ba606bd.c000.snappy.parquet</td><td>2013</td><td>1707932631000</td></tr><tr><td>dbfs:/user/ctas/foods_partition/food_type=fruit/part-00006-9bb9fda3-66c1-4892-a5f2-df77f7699e28.c000.snappy.parquet</td><td>part-00006-9bb9fda3-66c1-4892-a5f2-df77f7699e28.c000.snappy.parquet</td><td>1981</td><td>1707932631000</td></tr></tbody></table></div>"
      ]
     },
     "metadata": {
      "application/vnd.databricks.v1+output": {
       "addedWidgets": {},
       "aggData": [],
       "aggError": "",
       "aggOverflow": false,
       "aggSchema": [],
       "aggSeriesLimitReached": false,
       "aggType": "",
       "arguments": {},
       "columnCustomDisplayInfos": {},
       "data": [
        [
         "dbfs:/user/ctas/foods_partition/food_type=fruit/part-00005-20edf634-3ecf-4f7e-9713-f8d20ba606bd.c000.snappy.parquet",
         "part-00005-20edf634-3ecf-4f7e-9713-f8d20ba606bd.c000.snappy.parquet",
         2013,
         1707932631000
        ],
        [
         "dbfs:/user/ctas/foods_partition/food_type=fruit/part-00006-9bb9fda3-66c1-4892-a5f2-df77f7699e28.c000.snappy.parquet",
         "part-00006-9bb9fda3-66c1-4892-a5f2-df77f7699e28.c000.snappy.parquet",
         1981,
         1707932631000
        ]
       ],
       "datasetInfos": [],
       "dbfsResultPath": null,
       "isJsonSchema": true,
       "metadata": {
        "isDbfsCommandResult": false
       },
       "overflow": false,
       "plotOptions": {
        "customPlotOptions": {},
        "displayType": "table",
        "pivotAggregation": null,
        "pivotColumns": null,
        "xColumns": null,
        "yColumns": null
       },
       "removedWidgets": [],
       "schema": [
        {
         "metadata": "{}",
         "name": "path",
         "type": "\"string\""
        },
        {
         "metadata": "{}",
         "name": "name",
         "type": "\"string\""
        },
        {
         "metadata": "{}",
         "name": "size",
         "type": "\"long\""
        },
        {
         "metadata": "{}",
         "name": "modificationTime",
         "type": "\"long\""
        }
       ],
       "type": "table"
      }
     },
     "output_type": "display_data"
    }
   ],
   "source": [
    "%fs ls \"dbfs:/user/ctas/foods_partition/food_type=fruit/\""
   ]
  },
  {
   "cell_type": "code",
   "execution_count": 0,
   "metadata": {
    "application/vnd.databricks.v1+cell": {
     "cellMetadata": {
      "byteLimit": 2048000,
      "rowLimit": 10000
     },
     "inputWidgets": {},
     "nuid": "7fc9c970-fc57-4c0d-8994-32c25e34c3bd",
     "showTitle": false,
     "title": ""
    }
   },
   "outputs": [
    {
     "output_type": "display_data",
     "data": {
      "text/html": [
       "<style scoped>\n",
       "  .table-result-container {\n",
       "    max-height: 300px;\n",
       "    overflow: auto;\n",
       "  }\n",
       "  table, th, td {\n",
       "    border: 1px solid black;\n",
       "    border-collapse: collapse;\n",
       "  }\n",
       "  th, td {\n",
       "    padding: 5px;\n",
       "  }\n",
       "  th {\n",
       "    text-align: left;\n",
       "  }\n",
       "</style><div class='table-result-container'><table class='table-result'><thead style='background-color: white'><tr><th>path</th><th>name</th><th>size</th><th>modificationTime</th></tr></thead><tbody><tr><td>dbfs:/user/ctas/foods_partition/food_type=seafood/part-00005-b679768f-5929-4af9-98d0-f45b3a6ae1c6.c000.snappy.parquet</td><td>part-00005-b679768f-5929-4af9-98d0-f45b3a6ae1c6.c000.snappy.parquet</td><td>2010</td><td>1707932632000</td></tr></tbody></table></div>"
      ]
     },
     "metadata": {
      "application/vnd.databricks.v1+output": {
       "addedWidgets": {},
       "aggData": [],
       "aggError": "",
       "aggOverflow": false,
       "aggSchema": [],
       "aggSeriesLimitReached": false,
       "aggType": "",
       "arguments": {},
       "columnCustomDisplayInfos": {},
       "data": [
        [
         "dbfs:/user/ctas/foods_partition/food_type=seafood/part-00005-b679768f-5929-4af9-98d0-f45b3a6ae1c6.c000.snappy.parquet",
         "part-00005-b679768f-5929-4af9-98d0-f45b3a6ae1c6.c000.snappy.parquet",
         2010,
         1707932632000
        ]
       ],
       "datasetInfos": [],
       "dbfsResultPath": null,
       "isJsonSchema": true,
       "metadata": {
        "isDbfsCommandResult": false
       },
       "overflow": false,
       "plotOptions": {
        "customPlotOptions": {},
        "displayType": "table",
        "pivotAggregation": null,
        "pivotColumns": null,
        "xColumns": null,
        "yColumns": null
       },
       "removedWidgets": [],
       "schema": [
        {
         "metadata": "{}",
         "name": "path",
         "type": "\"string\""
        },
        {
         "metadata": "{}",
         "name": "name",
         "type": "\"string\""
        },
        {
         "metadata": "{}",
         "name": "size",
         "type": "\"long\""
        },
        {
         "metadata": "{}",
         "name": "modificationTime",
         "type": "\"long\""
        }
       ],
       "type": "table"
      }
     },
     "output_type": "display_data"
    }
   ],
   "source": [
    "%fs ls \"dbfs:/user/ctas/foods_partition/food_type=seafood/\""
   ]
  },
  {
   "cell_type": "markdown",
   "metadata": {
    "application/vnd.databricks.v1+cell": {
     "cellMetadata": {},
     "inputWidgets": {},
     "nuid": "316eff8a-abba-4945-93c7-b8826cb44a13",
     "showTitle": false,
     "title": ""
    }
   },
   "source": [
    "Views Demo"
   ]
  },
  {
   "cell_type": "code",
   "execution_count": 0,
   "metadata": {
    "application/vnd.databricks.v1+cell": {
     "cellMetadata": {
      "byteLimit": 2048000,
      "rowLimit": 10000
     },
     "inputWidgets": {},
     "nuid": "995e8ce1-e2a1-4c8e-ae54-91b17e1b8253",
     "showTitle": false,
     "title": ""
    }
   },
   "outputs": [
    {
     "output_type": "display_data",
     "data": {
      "text/html": [
       "<style scoped>\n",
       "  .table-result-container {\n",
       "    max-height: 300px;\n",
       "    overflow: auto;\n",
       "  }\n",
       "  table, th, td {\n",
       "    border: 1px solid black;\n",
       "    border-collapse: collapse;\n",
       "  }\n",
       "  th, td {\n",
       "    padding: 5px;\n",
       "  }\n",
       "  th {\n",
       "    text-align: left;\n",
       "  }\n",
       "</style><div class='table-result-container'><table class='table-result'><thead style='background-color: white'><tr></tr></thead><tbody></tbody></table></div>"
      ]
     },
     "metadata": {
      "application/vnd.databricks.v1+output": {
       "addedWidgets": {},
       "aggData": [],
       "aggError": "",
       "aggOverflow": false,
       "aggSchema": [],
       "aggSeriesLimitReached": false,
       "aggType": "",
       "arguments": {},
       "columnCustomDisplayInfos": {},
       "data": [],
       "datasetInfos": [],
       "dbfsResultPath": null,
       "isJsonSchema": true,
       "metadata": {
        "isDbfsCommandResult": false
       },
       "overflow": false,
       "plotOptions": {
        "customPlotOptions": {},
        "displayType": "table",
        "pivotAggregation": null,
        "pivotColumns": null,
        "xColumns": null,
        "yColumns": null
       },
       "removedWidgets": [],
       "schema": [],
       "type": "table"
      }
     },
     "output_type": "display_data"
    }
   ],
   "source": [
    "%sql\n",
    "create view view_foods\n",
    "as select * from foods;"
   ]
  },
  {
   "cell_type": "code",
   "execution_count": 0,
   "metadata": {
    "application/vnd.databricks.v1+cell": {
     "cellMetadata": {
      "byteLimit": 2048000,
      "rowLimit": 10000
     },
     "inputWidgets": {},
     "nuid": "660f6efe-aabb-4705-9237-4b64cb897dc6",
     "showTitle": false,
     "title": ""
    }
   },
   "outputs": [
    {
     "output_type": "display_data",
     "data": {
      "text/html": [
       "<style scoped>\n",
       "  .table-result-container {\n",
       "    max-height: 300px;\n",
       "    overflow: auto;\n",
       "  }\n",
       "  table, th, td {\n",
       "    border: 1px solid black;\n",
       "    border-collapse: collapse;\n",
       "  }\n",
       "  th, td {\n",
       "    padding: 5px;\n",
       "  }\n",
       "  th {\n",
       "    text-align: left;\n",
       "  }\n",
       "</style><div class='table-result-container'><table class='table-result'><thead style='background-color: white'><tr><th>database</th><th>tableName</th><th>isTemporary</th></tr></thead><tbody><tr><td>testdb</td><td>dairy_foods</td><td>false</td></tr><tr><td>testdb</td><td>employee</td><td>false</td></tr><tr><td>testdb</td><td>foods</td><td>false</td></tr><tr><td>testdb</td><td>foods_parti</td><td>false</td></tr><tr><td>testdb</td><td>soy_foods</td><td>false</td></tr><tr><td>testdb</td><td>view_foods</td><td>false</td></tr></tbody></table></div>"
      ]
     },
     "metadata": {
      "application/vnd.databricks.v1+output": {
       "addedWidgets": {},
       "aggData": [],
       "aggError": "",
       "aggOverflow": false,
       "aggSchema": [],
       "aggSeriesLimitReached": false,
       "aggType": "",
       "arguments": {},
       "columnCustomDisplayInfos": {},
       "data": [
        [
         "testdb",
         "dairy_foods",
         false
        ],
        [
         "testdb",
         "employee",
         false
        ],
        [
         "testdb",
         "foods",
         false
        ],
        [
         "testdb",
         "foods_parti",
         false
        ],
        [
         "testdb",
         "soy_foods",
         false
        ],
        [
         "testdb",
         "view_foods",
         false
        ]
       ],
       "datasetInfos": [],
       "dbfsResultPath": null,
       "isJsonSchema": true,
       "metadata": {
        "isDbfsCommandResult": false
       },
       "overflow": false,
       "plotOptions": {
        "customPlotOptions": {},
        "displayType": "table",
        "pivotAggregation": null,
        "pivotColumns": null,
        "xColumns": null,
        "yColumns": null
       },
       "removedWidgets": [],
       "schema": [
        {
         "metadata": "{}",
         "name": "database",
         "type": "\"string\""
        },
        {
         "metadata": "{}",
         "name": "tableName",
         "type": "\"string\""
        },
        {
         "metadata": "{}",
         "name": "isTemporary",
         "type": "\"boolean\""
        }
       ],
       "type": "table"
      }
     },
     "output_type": "display_data"
    }
   ],
   "source": [
    "%sql\n",
    "show tables;"
   ]
  },
  {
   "cell_type": "code",
   "execution_count": 0,
   "metadata": {
    "application/vnd.databricks.v1+cell": {
     "cellMetadata": {
      "byteLimit": 2048000,
      "rowLimit": 10000
     },
     "inputWidgets": {},
     "nuid": "1d7c11e4-92e0-4aaa-8499-12507c5821bd",
     "showTitle": false,
     "title": ""
    }
   },
   "outputs": [
    {
     "output_type": "display_data",
     "data": {
      "text/html": [
       "<style scoped>\n",
       "  .table-result-container {\n",
       "    max-height: 300px;\n",
       "    overflow: auto;\n",
       "  }\n",
       "  table, th, td {\n",
       "    border: 1px solid black;\n",
       "    border-collapse: collapse;\n",
       "  }\n",
       "  th, td {\n",
       "    padding: 5px;\n",
       "  }\n",
       "  th {\n",
       "    text-align: left;\n",
       "  }\n",
       "</style><div class='table-result-container'><table class='table-result'><thead style='background-color: white'><tr><th>namespace</th><th>viewName</th><th>isTemporary</th><th>isMaterialized</th></tr></thead><tbody><tr><td>testdb</td><td>view_foods</td><td>false</td><td>false</td></tr></tbody></table></div>"
      ]
     },
     "metadata": {
      "application/vnd.databricks.v1+output": {
       "addedWidgets": {},
       "aggData": [],
       "aggError": "",
       "aggOverflow": false,
       "aggSchema": [],
       "aggSeriesLimitReached": false,
       "aggType": "",
       "arguments": {},
       "columnCustomDisplayInfos": {},
       "data": [
        [
         "testdb",
         "view_foods",
         false,
         false
        ]
       ],
       "datasetInfos": [],
       "dbfsResultPath": null,
       "isJsonSchema": true,
       "metadata": {
        "isDbfsCommandResult": false
       },
       "overflow": false,
       "plotOptions": {
        "customPlotOptions": {},
        "displayType": "table",
        "pivotAggregation": null,
        "pivotColumns": null,
        "xColumns": null,
        "yColumns": null
       },
       "removedWidgets": [],
       "schema": [
        {
         "metadata": "{}",
         "name": "namespace",
         "type": "\"string\""
        },
        {
         "metadata": "{}",
         "name": "viewName",
         "type": "\"string\""
        },
        {
         "metadata": "{}",
         "name": "isTemporary",
         "type": "\"boolean\""
        },
        {
         "metadata": "{}",
         "name": "isMaterialized",
         "type": "\"boolean\""
        }
       ],
       "type": "table"
      }
     },
     "output_type": "display_data"
    }
   ],
   "source": [
    "%sql\n",
    "show views"
   ]
  },
  {
   "cell_type": "code",
   "execution_count": 0,
   "metadata": {
    "application/vnd.databricks.v1+cell": {
     "cellMetadata": {
      "byteLimit": 2048000,
      "rowLimit": 10000
     },
     "inputWidgets": {},
     "nuid": "066965af-9b42-4499-8ad1-9e8c9265b9fa",
     "showTitle": false,
     "title": ""
    }
   },
   "outputs": [
    {
     "output_type": "display_data",
     "data": {
      "text/html": [
       "<style scoped>\n",
       "  .table-result-container {\n",
       "    max-height: 300px;\n",
       "    overflow: auto;\n",
       "  }\n",
       "  table, th, td {\n",
       "    border: 1px solid black;\n",
       "    border-collapse: collapse;\n",
       "  }\n",
       "  th, td {\n",
       "    padding: 5px;\n",
       "  }\n",
       "  th {\n",
       "    text-align: left;\n",
       "  }\n",
       "</style><div class='table-result-container'><table class='table-result'><thead style='background-color: white'><tr><th>food_type</th><th>food_name</th><th>calories</th><th>country_of_origin</th><th>allergens</th></tr></thead><tbody><tr><td>condiment</td><td>mauris vulputate elementum nullam varius nulla facilisi cras non velit nec nisi vulputate nonummy maecenas tincidunt lacus at velit</td><td>152.63</td><td>Poland</td><td>gluten</td></tr><tr><td>condiment</td><td>justo nec condimentum neque sapien placerat ante nulla justo aliquam quis turpis eget elit sodales scelerisque mauris sit amet eros</td><td>236.60</td><td>Japan</td><td>dairy</td></tr><tr><td>snack</td><td>praesent blandit lacinia erat vestibulum sed magna at nunc commodo placerat praesent blandit nam nulla integer pede justo lacinia</td><td>160.25</td><td>China</td><td>soy</td></tr><tr><td>condiment</td><td>ut erat id mauris vulputate elementum nullam varius nulla facilisi cras non velit nec nisi vulputate nonummy</td><td>630.61</td><td>Czech Republic</td><td>nuts</td></tr><tr><td>condiment</td><td>volutpat sapien arcu sed augue aliquam erat volutpat in congue etiam justo etiam pretium iaculis justo in hac</td><td>690.09</td><td>Philippines</td><td>gluten</td></tr><tr><td>snack</td><td>odio in hac habitasse platea dictumst maecenas ut massa quis augue luctus tincidunt nulla mollis molestie lorem quisque</td><td>553.67</td><td>Indonesia</td><td>soy</td></tr><tr><td>snack</td><td>etiam pretium iaculis justo in hac habitasse platea dictumst etiam faucibus cursus urna ut tellus nulla ut erat</td><td>154.72</td><td>Brazil</td><td>soy</td></tr><tr><td>grain</td><td>nulla dapibus dolor vel est donec odio justo sollicitudin ut suscipit a feugiat et eros vestibulum ac est</td><td>307.11</td><td>China</td><td>dairy</td></tr><tr><td>snack</td><td>orci luctus et ultrices posuere cubilia curae duis faucibus accumsan odio curabitur convallis duis consequat</td><td>370.86</td><td>China</td><td>soy</td></tr><tr><td>vegetable</td><td>blandit nam nulla integer pede justo lacinia eget tincidunt eget tempus vel pede morbi</td><td>221.74</td><td>Philippines</td><td>gluten</td></tr><tr><td>vegetable</td><td>venenatis tristique fusce congue diam id ornare imperdiet sapien urna pretium nisl</td><td>966.59</td><td>Russia</td><td>shellfish</td></tr><tr><td>condiment</td><td>pede ac diam cras pellentesque volutpat dui maecenas tristique est et tempus semper</td><td>868.14</td><td>Nigeria</td><td>soy</td></tr><tr><td>condiment</td><td>molestie sed justo pellentesque viverra pede ac diam cras pellentesque volutpat dui</td><td>162.68</td><td>China</td><td>dairy</td></tr><tr><td>grain</td><td>est lacinia nisi venenatis tristique fusce congue diam id ornare imperdiet</td><td>413.58</td><td>Czech Republic</td><td>dairy</td></tr><tr><td>dairy</td><td>magnis dis parturient montes nascetur ridiculus mus etiam vel augue vestibulum rutrum</td><td>591.95</td><td>Morocco</td><td>soy</td></tr><tr><td>grain</td><td>ligula suspendisse ornare consequat lectus in est risus auctor sed tristique in</td><td>401.47</td><td>China</td><td>shellfish</td></tr><tr><td>seafood</td><td>diam erat fermentum justo nec condimentum neque sapien placerat ante nulla justo</td><td>150.12</td><td>Peru</td><td>nuts</td></tr><tr><td>fruit</td><td>sit amet justo morbi ut odio cras mi pede malesuada in imperdiet et commodo</td><td>689.03</td><td>France</td><td>dairy</td></tr><tr><td>grain</td><td>in leo maecenas pulvinar lobortis est phasellus sit amet erat</td><td>13.74</td><td>Indonesia</td><td>shellfish</td></tr><tr><td>fruit</td><td>cras pellentesque volutpat dui maecenas tristique est et tempus semper</td><td>862.18</td><td>Armenia</td><td>soy</td></tr></tbody></table></div>"
      ]
     },
     "metadata": {
      "application/vnd.databricks.v1+output": {
       "addedWidgets": {},
       "aggData": [],
       "aggError": "",
       "aggOverflow": false,
       "aggSchema": [],
       "aggSeriesLimitReached": false,
       "aggType": "",
       "arguments": {},
       "columnCustomDisplayInfos": {},
       "data": [
        [
         "condiment",
         "mauris vulputate elementum nullam varius nulla facilisi cras non velit nec nisi vulputate nonummy maecenas tincidunt lacus at velit",
         "152.63",
         "Poland",
         "gluten"
        ],
        [
         "condiment",
         "justo nec condimentum neque sapien placerat ante nulla justo aliquam quis turpis eget elit sodales scelerisque mauris sit amet eros",
         "236.60",
         "Japan",
         "dairy"
        ],
        [
         "snack",
         "praesent blandit lacinia erat vestibulum sed magna at nunc commodo placerat praesent blandit nam nulla integer pede justo lacinia",
         "160.25",
         "China",
         "soy"
        ],
        [
         "condiment",
         "ut erat id mauris vulputate elementum nullam varius nulla facilisi cras non velit nec nisi vulputate nonummy",
         "630.61",
         "Czech Republic",
         "nuts"
        ],
        [
         "condiment",
         "volutpat sapien arcu sed augue aliquam erat volutpat in congue etiam justo etiam pretium iaculis justo in hac",
         "690.09",
         "Philippines",
         "gluten"
        ],
        [
         "snack",
         "odio in hac habitasse platea dictumst maecenas ut massa quis augue luctus tincidunt nulla mollis molestie lorem quisque",
         "553.67",
         "Indonesia",
         "soy"
        ],
        [
         "snack",
         "etiam pretium iaculis justo in hac habitasse platea dictumst etiam faucibus cursus urna ut tellus nulla ut erat",
         "154.72",
         "Brazil",
         "soy"
        ],
        [
         "grain",
         "nulla dapibus dolor vel est donec odio justo sollicitudin ut suscipit a feugiat et eros vestibulum ac est",
         "307.11",
         "China",
         "dairy"
        ],
        [
         "snack",
         "orci luctus et ultrices posuere cubilia curae duis faucibus accumsan odio curabitur convallis duis consequat",
         "370.86",
         "China",
         "soy"
        ],
        [
         "vegetable",
         "blandit nam nulla integer pede justo lacinia eget tincidunt eget tempus vel pede morbi",
         "221.74",
         "Philippines",
         "gluten"
        ],
        [
         "vegetable",
         "venenatis tristique fusce congue diam id ornare imperdiet sapien urna pretium nisl",
         "966.59",
         "Russia",
         "shellfish"
        ],
        [
         "condiment",
         "pede ac diam cras pellentesque volutpat dui maecenas tristique est et tempus semper",
         "868.14",
         "Nigeria",
         "soy"
        ],
        [
         "condiment",
         "molestie sed justo pellentesque viverra pede ac diam cras pellentesque volutpat dui",
         "162.68",
         "China",
         "dairy"
        ],
        [
         "grain",
         "est lacinia nisi venenatis tristique fusce congue diam id ornare imperdiet",
         "413.58",
         "Czech Republic",
         "dairy"
        ],
        [
         "dairy",
         "magnis dis parturient montes nascetur ridiculus mus etiam vel augue vestibulum rutrum",
         "591.95",
         "Morocco",
         "soy"
        ],
        [
         "grain",
         "ligula suspendisse ornare consequat lectus in est risus auctor sed tristique in",
         "401.47",
         "China",
         "shellfish"
        ],
        [
         "seafood",
         "diam erat fermentum justo nec condimentum neque sapien placerat ante nulla justo",
         "150.12",
         "Peru",
         "nuts"
        ],
        [
         "fruit",
         "sit amet justo morbi ut odio cras mi pede malesuada in imperdiet et commodo",
         "689.03",
         "France",
         "dairy"
        ],
        [
         "grain",
         "in leo maecenas pulvinar lobortis est phasellus sit amet erat",
         "13.74",
         "Indonesia",
         "shellfish"
        ],
        [
         "fruit",
         "cras pellentesque volutpat dui maecenas tristique est et tempus semper",
         "862.18",
         "Armenia",
         "soy"
        ]
       ],
       "datasetInfos": [],
       "dbfsResultPath": null,
       "isJsonSchema": true,
       "metadata": {
        "isDbfsCommandResult": false
       },
       "overflow": false,
       "plotOptions": {
        "customPlotOptions": {},
        "displayType": "table",
        "pivotAggregation": null,
        "pivotColumns": null,
        "xColumns": null,
        "yColumns": null
       },
       "removedWidgets": [],
       "schema": [
        {
         "metadata": "{\"__CHAR_VARCHAR_TYPE_STRING\":\"varchar(9)\"}",
         "name": "food_type",
         "type": "\"string\""
        },
        {
         "metadata": "{\"__CHAR_VARCHAR_TYPE_STRING\":\"varchar(256)\"}",
         "name": "food_name",
         "type": "\"string\""
        },
        {
         "metadata": "{}",
         "name": "calories",
         "type": "\"decimal(6,2)\""
        },
        {
         "metadata": "{\"__CHAR_VARCHAR_TYPE_STRING\":\"varchar(50)\"}",
         "name": "country_of_origin",
         "type": "\"string\""
        },
        {
         "metadata": "{\"__CHAR_VARCHAR_TYPE_STRING\":\"varchar(9)\"}",
         "name": "allergens",
         "type": "\"string\""
        }
       ],
       "type": "table"
      }
     },
     "output_type": "display_data"
    }
   ],
   "source": [
    "%sql\n",
    "select * from view_foods;"
   ]
  },
  {
   "cell_type": "code",
   "execution_count": 0,
   "metadata": {
    "application/vnd.databricks.v1+cell": {
     "cellMetadata": {
      "byteLimit": 2048000,
      "rowLimit": 10000
     },
     "inputWidgets": {},
     "nuid": "7d2b25a8-653f-488c-8418-a90d0ec4893d",
     "showTitle": false,
     "title": ""
    }
   },
   "outputs": [
    {
     "output_type": "display_data",
     "data": {
      "text/html": [
       "<style scoped>\n",
       "  .table-result-container {\n",
       "    max-height: 300px;\n",
       "    overflow: auto;\n",
       "  }\n",
       "  table, th, td {\n",
       "    border: 1px solid black;\n",
       "    border-collapse: collapse;\n",
       "  }\n",
       "  th, td {\n",
       "    padding: 5px;\n",
       "  }\n",
       "  th {\n",
       "    text-align: left;\n",
       "  }\n",
       "</style><div class='table-result-container'><table class='table-result'><thead style='background-color: white'><tr></tr></thead><tbody></tbody></table></div>"
      ]
     },
     "metadata": {
      "application/vnd.databricks.v1+output": {
       "addedWidgets": {},
       "aggData": [],
       "aggError": "",
       "aggOverflow": false,
       "aggSchema": [],
       "aggSeriesLimitReached": false,
       "aggType": "",
       "arguments": {},
       "columnCustomDisplayInfos": {},
       "data": [],
       "datasetInfos": [],
       "dbfsResultPath": null,
       "isJsonSchema": true,
       "metadata": {
        "isDbfsCommandResult": false
       },
       "overflow": false,
       "plotOptions": {
        "customPlotOptions": {},
        "displayType": "table",
        "pivotAggregation": null,
        "pivotColumns": null,
        "xColumns": null,
        "yColumns": null
       },
       "removedWidgets": [],
       "schema": [],
       "type": "table"
      }
     },
     "output_type": "display_data"
    }
   ],
   "source": [
    "%sql\n",
    "create temp view temp_view_foods\n",
    "as select * from foods where country_of_origin = 'China';"
   ]
  },
  {
   "cell_type": "code",
   "execution_count": 0,
   "metadata": {
    "application/vnd.databricks.v1+cell": {
     "cellMetadata": {
      "byteLimit": 2048000,
      "rowLimit": 10000
     },
     "inputWidgets": {},
     "nuid": "ac83f426-689e-4371-93d0-04ec5ae2a994",
     "showTitle": false,
     "title": ""
    }
   },
   "outputs": [
    {
     "output_type": "display_data",
     "data": {
      "text/html": [
       "<style scoped>\n",
       "  .table-result-container {\n",
       "    max-height: 300px;\n",
       "    overflow: auto;\n",
       "  }\n",
       "  table, th, td {\n",
       "    border: 1px solid black;\n",
       "    border-collapse: collapse;\n",
       "  }\n",
       "  th, td {\n",
       "    padding: 5px;\n",
       "  }\n",
       "  th {\n",
       "    text-align: left;\n",
       "  }\n",
       "</style><div class='table-result-container'><table class='table-result'><thead style='background-color: white'><tr><th>namespace</th><th>viewName</th><th>isTemporary</th><th>isMaterialized</th></tr></thead><tbody><tr><td>testdb</td><td>view_foods</td><td>false</td><td>false</td></tr><tr><td></td><td>temp_view_foods</td><td>true</td><td>false</td></tr></tbody></table></div>"
      ]
     },
     "metadata": {
      "application/vnd.databricks.v1+output": {
       "addedWidgets": {},
       "aggData": [],
       "aggError": "",
       "aggOverflow": false,
       "aggSchema": [],
       "aggSeriesLimitReached": false,
       "aggType": "",
       "arguments": {},
       "columnCustomDisplayInfos": {},
       "data": [
        [
         "testdb",
         "view_foods",
         false,
         false
        ],
        [
         "",
         "temp_view_foods",
         true,
         false
        ]
       ],
       "datasetInfos": [],
       "dbfsResultPath": null,
       "isJsonSchema": true,
       "metadata": {
        "isDbfsCommandResult": false
       },
       "overflow": false,
       "plotOptions": {
        "customPlotOptions": {},
        "displayType": "table",
        "pivotAggregation": null,
        "pivotColumns": null,
        "xColumns": null,
        "yColumns": null
       },
       "removedWidgets": [],
       "schema": [
        {
         "metadata": "{}",
         "name": "namespace",
         "type": "\"string\""
        },
        {
         "metadata": "{}",
         "name": "viewName",
         "type": "\"string\""
        },
        {
         "metadata": "{}",
         "name": "isTemporary",
         "type": "\"boolean\""
        },
        {
         "metadata": "{}",
         "name": "isMaterialized",
         "type": "\"boolean\""
        }
       ],
       "type": "table"
      }
     },
     "output_type": "display_data"
    }
   ],
   "source": [
    "%sql\n",
    "show views;"
   ]
  },
  {
   "cell_type": "code",
   "execution_count": 0,
   "metadata": {
    "application/vnd.databricks.v1+cell": {
     "cellMetadata": {
      "byteLimit": 2048000,
      "rowLimit": 10000
     },
     "inputWidgets": {},
     "nuid": "f53b51d3-c069-46bf-b541-54a5f73595ac",
     "showTitle": false,
     "title": ""
    }
   },
   "outputs": [
    {
     "output_type": "display_data",
     "data": {
      "text/html": [
       "<style scoped>\n",
       "  .table-result-container {\n",
       "    max-height: 300px;\n",
       "    overflow: auto;\n",
       "  }\n",
       "  table, th, td {\n",
       "    border: 1px solid black;\n",
       "    border-collapse: collapse;\n",
       "  }\n",
       "  th, td {\n",
       "    padding: 5px;\n",
       "  }\n",
       "  th {\n",
       "    text-align: left;\n",
       "  }\n",
       "</style><div class='table-result-container'><table class='table-result'><thead style='background-color: white'><tr><th>food_type</th><th>food_name</th><th>calories</th><th>country_of_origin</th><th>allergens</th></tr></thead><tbody><tr><td>snack</td><td>praesent blandit lacinia erat vestibulum sed magna at nunc commodo placerat praesent blandit nam nulla integer pede justo lacinia</td><td>160.25</td><td>China</td><td>soy</td></tr><tr><td>grain</td><td>nulla dapibus dolor vel est donec odio justo sollicitudin ut suscipit a feugiat et eros vestibulum ac est</td><td>307.11</td><td>China</td><td>dairy</td></tr><tr><td>snack</td><td>orci luctus et ultrices posuere cubilia curae duis faucibus accumsan odio curabitur convallis duis consequat</td><td>370.86</td><td>China</td><td>soy</td></tr><tr><td>condiment</td><td>molestie sed justo pellentesque viverra pede ac diam cras pellentesque volutpat dui</td><td>162.68</td><td>China</td><td>dairy</td></tr><tr><td>grain</td><td>ligula suspendisse ornare consequat lectus in est risus auctor sed tristique in</td><td>401.47</td><td>China</td><td>shellfish</td></tr></tbody></table></div>"
      ]
     },
     "metadata": {
      "application/vnd.databricks.v1+output": {
       "addedWidgets": {},
       "aggData": [],
       "aggError": "",
       "aggOverflow": false,
       "aggSchema": [],
       "aggSeriesLimitReached": false,
       "aggType": "",
       "arguments": {},
       "columnCustomDisplayInfos": {},
       "data": [
        [
         "snack",
         "praesent blandit lacinia erat vestibulum sed magna at nunc commodo placerat praesent blandit nam nulla integer pede justo lacinia",
         "160.25",
         "China",
         "soy"
        ],
        [
         "grain",
         "nulla dapibus dolor vel est donec odio justo sollicitudin ut suscipit a feugiat et eros vestibulum ac est",
         "307.11",
         "China",
         "dairy"
        ],
        [
         "snack",
         "orci luctus et ultrices posuere cubilia curae duis faucibus accumsan odio curabitur convallis duis consequat",
         "370.86",
         "China",
         "soy"
        ],
        [
         "condiment",
         "molestie sed justo pellentesque viverra pede ac diam cras pellentesque volutpat dui",
         "162.68",
         "China",
         "dairy"
        ],
        [
         "grain",
         "ligula suspendisse ornare consequat lectus in est risus auctor sed tristique in",
         "401.47",
         "China",
         "shellfish"
        ]
       ],
       "datasetInfos": [],
       "dbfsResultPath": null,
       "isJsonSchema": true,
       "metadata": {
        "isDbfsCommandResult": false
       },
       "overflow": false,
       "plotOptions": {
        "customPlotOptions": {},
        "displayType": "table",
        "pivotAggregation": null,
        "pivotColumns": null,
        "xColumns": null,
        "yColumns": null
       },
       "removedWidgets": [],
       "schema": [
        {
         "metadata": "{\"__CHAR_VARCHAR_TYPE_STRING\":\"varchar(9)\"}",
         "name": "food_type",
         "type": "\"string\""
        },
        {
         "metadata": "{\"__CHAR_VARCHAR_TYPE_STRING\":\"varchar(256)\"}",
         "name": "food_name",
         "type": "\"string\""
        },
        {
         "metadata": "{}",
         "name": "calories",
         "type": "\"decimal(6,2)\""
        },
        {
         "metadata": "{\"__CHAR_VARCHAR_TYPE_STRING\":\"varchar(50)\"}",
         "name": "country_of_origin",
         "type": "\"string\""
        },
        {
         "metadata": "{\"__CHAR_VARCHAR_TYPE_STRING\":\"varchar(9)\"}",
         "name": "allergens",
         "type": "\"string\""
        }
       ],
       "type": "table"
      }
     },
     "output_type": "display_data"
    }
   ],
   "source": [
    "%sql\n",
    "select * from temp_view_foods;"
   ]
  },
  {
   "cell_type": "code",
   "execution_count": 0,
   "metadata": {
    "application/vnd.databricks.v1+cell": {
     "cellMetadata": {
      "byteLimit": 2048000,
      "rowLimit": 10000
     },
     "inputWidgets": {},
     "nuid": "c6df5758-d7c1-4ee4-9ab2-44bd5dce8c0f",
     "showTitle": false,
     "title": ""
    }
   },
   "outputs": [
    {
     "output_type": "display_data",
     "data": {
      "text/html": [
       "<style scoped>\n",
       "  .ansiout {\n",
       "    display: block;\n",
       "    unicode-bidi: embed;\n",
       "    white-space: pre-wrap;\n",
       "    word-wrap: break-word;\n",
       "    word-break: break-all;\n",
       "    font-family: \"Menlo\", \"Monaco\", \"Consolas\", \"Ubuntu Mono\", \"Source Code Pro\", monospace;\n",
       "    font-size: 13px;\n",
       "    color: #555;\n",
       "    margin-left: 4px;\n",
       "    line-height: 19px;\n",
       "  }\n",
       "</style>\n",
       "com.databricks.backend.common.rpc.SparkDriverExceptions$SQLExecutionException: org.apache.spark.sql.catalyst.analysis.TempTableAlreadyExistsException: [TEMP_TABLE_OR_VIEW_ALREADY_EXISTS] Cannot create the temporary view `g_temp_view_foods` because it already exists.\n",
       "Choose a different name, drop or replace the existing view,  or add the IF NOT EXISTS clause to tolerate pre-existing views. SQLSTATE: 42P07\n",
       "\tat org.apache.spark.sql.catalyst.catalog.GlobalTempViewManager.create(GlobalTempViewManager.scala:60)\n",
       "\tat org.apache.spark.sql.catalyst.catalog.SessionCatalogImpl.createGlobalTempView(SessionCatalog.scala:1229)\n",
       "\tat org.apache.spark.sql.catalyst.catalog.DelegatingSessionCatalog.createGlobalTempView(DelegatingSessionCatalog.scala:230)\n",
       "\tat org.apache.spark.sql.catalyst.catalog.DelegatingSessionCatalog.createGlobalTempView$(DelegatingSessionCatalog.scala:226)\n",
       "\tat com.databricks.sql.managedcatalog.ManagedCatalogSessionCatalog.createGlobalTempView(ManagedCatalogSessionCatalog.scala:79)\n",
       "\tat org.apache.spark.sql.execution.command.CreateViewCommand.run(views.scala:222)\n",
       "\tat org.apache.spark.sql.execution.command.ExecutedCommandExec.$anonfun$sideEffectResult$2(commands.scala:83)\n",
       "\tat org.apache.spark.sql.execution.SparkPlan.runCommandWithAetherOff(SparkPlan.scala:171)\n",
       "\tat org.apache.spark.sql.execution.command.ExecutedCommandExec.$anonfun$sideEffectResult$1(commands.scala:83)\n",
       "\tat com.databricks.spark.util.FrameProfiler$.record(FrameProfiler.scala:94)\n",
       "\tat org.apache.spark.sql.execution.command.ExecutedCommandExec.sideEffectResult$lzycompute(commands.scala:80)\n",
       "\tat org.apache.spark.sql.execution.command.ExecutedCommandExec.sideEffectResult(commands.scala:79)\n",
       "\tat org.apache.spark.sql.execution.command.ExecutedCommandExec.executeCollect(commands.scala:93)\n",
       "\tat org.apache.spark.sql.execution.QueryExecution$$anonfun$$nestedInanonfun$eagerlyExecuteCommands$1$1.$anonfun$applyOrElse$3(QueryExecution.scala:299)\n",
       "\tat org.apache.spark.sql.catalyst.QueryPlanningTracker$.withTracker(QueryPlanningTracker.scala:166)\n",
       "\tat org.apache.spark.sql.execution.QueryExecution$$anonfun$$nestedInanonfun$eagerlyExecuteCommands$1$1.$anonfun$applyOrElse$2(QueryExecution.scala:299)\n",
       "\tat org.apache.spark.sql.execution.SQLExecution$.$anonfun$withNewExecutionId0$8(SQLExecution.scala:339)\n",
       "\tat org.apache.spark.sql.execution.SQLExecution$.withSQLConfPropagated(SQLExecution.scala:610)\n",
       "\tat org.apache.spark.sql.execution.SQLExecution$.$anonfun$withNewExecutionId0$1(SQLExecution.scala:233)\n",
       "\tat org.apache.spark.sql.SparkSession.withActive(SparkSession.scala:1165)\n",
       "\tat org.apache.spark.sql.execution.SQLExecution$.withNewExecutionId0(SQLExecution.scala:157)\n",
       "\tat org.apache.spark.sql.execution.SQLExecution$.withNewExecutionId(SQLExecution.scala:552)\n",
       "\tat org.apache.spark.sql.execution.QueryExecution$$anonfun$$nestedInanonfun$eagerlyExecuteCommands$1$1.$anonfun$applyOrElse$1(QueryExecution.scala:298)\n",
       "\tat org.apache.spark.sql.execution.QueryExecution.org$apache$spark$sql$execution$QueryExecution$$withMVTagsIfNecessary(QueryExecution.scala:272)\n",
       "\tat org.apache.spark.sql.execution.QueryExecution$$anonfun$$nestedInanonfun$eagerlyExecuteCommands$1$1.applyOrElse(QueryExecution.scala:293)\n",
       "\tat org.apache.spark.sql.execution.QueryExecution$$anonfun$$nestedInanonfun$eagerlyExecuteCommands$1$1.applyOrElse(QueryExecution.scala:278)\n",
       "\tat org.apache.spark.sql.catalyst.trees.TreeNode.$anonfun$transformDownWithPruning$1(TreeNode.scala:472)\n",
       "\tat org.apache.spark.sql.catalyst.trees.CurrentOrigin$.withOrigin(origin.scala:76)\n",
       "\tat org.apache.spark.sql.catalyst.trees.TreeNode.transformDownWithPruning(TreeNode.scala:472)\n",
       "\tat org.apache.spark.sql.catalyst.plans.logical.LogicalPlan.org$apache$spark$sql$catalyst$plans$logical$AnalysisHelper$$super$transformDownWithPruning(LogicalPlan.scala:39)\n",
       "\tat org.apache.spark.sql.catalyst.plans.logical.AnalysisHelper.transformDownWithPruning(AnalysisHelper.scala:320)\n",
       "\tat org.apache.spark.sql.catalyst.plans.logical.AnalysisHelper.transformDownWithPruning$(AnalysisHelper.scala:316)\n",
       "\tat org.apache.spark.sql.catalyst.plans.logical.LogicalPlan.transformDownWithPruning(LogicalPlan.scala:39)\n",
       "\tat org.apache.spark.sql.catalyst.plans.logical.LogicalPlan.transformDownWithPruning(LogicalPlan.scala:39)\n",
       "\tat org.apache.spark.sql.catalyst.trees.TreeNode.transformDown(TreeNode.scala:448)\n",
       "\tat org.apache.spark.sql.execution.QueryExecution.$anonfun$eagerlyExecuteCommands$1(QueryExecution.scala:278)\n",
       "\tat org.apache.spark.sql.catalyst.plans.logical.AnalysisHelper$.allowInvokingTransformsInAnalyzer(AnalysisHelper.scala:377)\n",
       "\tat org.apache.spark.sql.execution.QueryExecution.eagerlyExecuteCommands(QueryExecution.scala:278)\n",
       "\tat org.apache.spark.sql.execution.QueryExecution.commandExecuted$lzycompute(QueryExecution.scala:231)\n",
       "\tat org.apache.spark.sql.execution.QueryExecution.commandExecuted(QueryExecution.scala:228)\n",
       "\tat org.apache.spark.sql.Dataset.<init>(Dataset.scala:262)\n",
       "\tat org.apache.spark.sql.Dataset$.$anonfun$ofRows$2(Dataset.scala:123)\n",
       "\tat org.apache.spark.sql.SparkSession.withActive(SparkSession.scala:1165)\n",
       "\tat org.apache.spark.sql.SparkSession.$anonfun$withActiveAndFrameProfiler$1(SparkSession.scala:1173)\n",
       "\tat com.databricks.spark.util.FrameProfiler$.record(FrameProfiler.scala:94)\n",
       "\tat org.apache.spark.sql.SparkSession.withActiveAndFrameProfiler(SparkSession.scala:1173)\n",
       "\tat org.apache.spark.sql.Dataset$.ofRows(Dataset.scala:113)\n",
       "\tat org.apache.spark.sql.SparkSession.$anonfun$sql$5(SparkSession.scala:943)\n",
       "\tat org.apache.spark.sql.SparkSession.withActive(SparkSession.scala:1165)\n",
       "\tat org.apache.spark.sql.SparkSession.sql(SparkSession.scala:932)\n",
       "\tat org.apache.spark.sql.SparkSession.sql(SparkSession.scala:966)\n",
       "\tat org.apache.spark.sql.SparkSession.sql(SparkSession.scala:999)\n",
       "\tat org.apache.spark.sql.SQLContext.sql(SQLContext.scala:695)\n",
       "\tat com.databricks.backend.daemon.driver.DriverLocal$DbClassicStrategy.executeSQLQuery(DriverLocal.scala:254)\n",
       "\tat com.databricks.backend.daemon.driver.DriverLocal.executeSQLSubCommand(DriverLocal.scala:338)\n",
       "\tat com.databricks.backend.daemon.driver.DriverLocal.$anonfun$executeSql$1(DriverLocal.scala:360)\n",
       "\tat scala.collection.immutable.List.map(List.scala:293)\n",
       "\tat com.databricks.backend.daemon.driver.DriverLocal.executeSql(DriverLocal.scala:354)\n",
       "\tat com.databricks.backend.daemon.driver.SQLDriverLocal.repl(SQLDriverLocal.scala:39)\n",
       "\tat com.databricks.backend.daemon.driver.DriverLocal.$anonfun$execute$34(DriverLocal.scala:1083)\n",
       "\tat com.databricks.unity.EmptyHandle$.runWith(UCSHandle.scala:124)\n",
       "\tat com.databricks.backend.daemon.driver.DriverLocal.$anonfun$execute$22(DriverLocal.scala:1066)\n",
       "\tat com.databricks.logging.UsageLogging.$anonfun$withAttributionContext$1(UsageLogging.scala:426)\n",
       "\tat scala.util.DynamicVariable.withValue(DynamicVariable.scala:62)\n",
       "\tat com.databricks.logging.AttributionContext$.withValue(AttributionContext.scala:216)\n",
       "\tat com.databricks.logging.UsageLogging.withAttributionContext(UsageLogging.scala:424)\n",
       "\tat com.databricks.logging.UsageLogging.withAttributionContext$(UsageLogging.scala:418)\n",
       "\tat com.databricks.backend.daemon.driver.DriverLocal.withAttributionContext(DriverLocal.scala:85)\n",
       "\tat com.databricks.logging.UsageLogging.withAttributionTags(UsageLogging.scala:472)\n",
       "\tat com.databricks.logging.UsageLogging.withAttributionTags$(UsageLogging.scala:455)\n",
       "\tat com.databricks.backend.daemon.driver.DriverLocal.withAttributionTags(DriverLocal.scala:85)\n",
       "\tat com.databricks.backend.daemon.driver.DriverLocal.execute(DriverLocal.scala:1003)\n",
       "\tat com.databricks.backend.daemon.driver.DriverWrapper.$anonfun$tryExecutingCommand$1(DriverWrapper.scala:739)\n",
       "\tat scala.util.Try$.apply(Try.scala:213)\n",
       "\tat com.databricks.backend.daemon.driver.DriverWrapper.tryExecutingCommand(DriverWrapper.scala:731)\n",
       "\tat com.databricks.backend.daemon.driver.DriverWrapper.executeCommandAndGetError(DriverWrapper.scala:640)\n",
       "\tat com.databricks.backend.daemon.driver.DriverWrapper.executeCommand(DriverWrapper.scala:685)\n",
       "\tat com.databricks.backend.daemon.driver.DriverWrapper.runInnerLoop(DriverWrapper.scala:517)\n",
       "\tat com.databricks.backend.daemon.driver.DriverWrapper.runInner(DriverWrapper.scala:433)\n",
       "\tat com.databricks.backend.daemon.driver.DriverWrapper.run(DriverWrapper.scala:275)\n",
       "\tat java.lang.Thread.run(Thread.java:750)\n",
       "\n",
       "\tat com.databricks.backend.daemon.driver.DriverLocal.executeSql(DriverLocal.scala:427)\n",
       "\tat com.databricks.backend.daemon.driver.SQLDriverLocal.repl(SQLDriverLocal.scala:39)\n",
       "\tat com.databricks.backend.daemon.driver.DriverLocal.$anonfun$execute$34(DriverLocal.scala:1083)\n",
       "\tat com.databricks.unity.EmptyHandle$.runWith(UCSHandle.scala:124)\n",
       "\tat com.databricks.backend.daemon.driver.DriverLocal.$anonfun$execute$22(DriverLocal.scala:1066)\n",
       "\tat com.databricks.logging.UsageLogging.$anonfun$withAttributionContext$1(UsageLogging.scala:426)\n",
       "\tat scala.util.DynamicVariable.withValue(DynamicVariable.scala:62)\n",
       "\tat com.databricks.logging.AttributionContext$.withValue(AttributionContext.scala:216)\n",
       "\tat com.databricks.logging.UsageLogging.withAttributionContext(UsageLogging.scala:424)\n",
       "\tat com.databricks.logging.UsageLogging.withAttributionContext$(UsageLogging.scala:418)\n",
       "\tat com.databricks.backend.daemon.driver.DriverLocal.withAttributionContext(DriverLocal.scala:85)\n",
       "\tat com.databricks.logging.UsageLogging.withAttributionTags(UsageLogging.scala:472)\n",
       "\tat com.databricks.logging.UsageLogging.withAttributionTags$(UsageLogging.scala:455)\n",
       "\tat com.databricks.backend.daemon.driver.DriverLocal.withAttributionTags(DriverLocal.scala:85)\n",
       "\tat com.databricks.backend.daemon.driver.DriverLocal.execute(DriverLocal.scala:1003)\n",
       "\tat com.databricks.backend.daemon.driver.DriverWrapper.$anonfun$tryExecutingCommand$1(DriverWrapper.scala:739)\n",
       "\tat scala.util.Try$.apply(Try.scala:213)\n",
       "\tat com.databricks.backend.daemon.driver.DriverWrapper.tryExecutingCommand(DriverWrapper.scala:731)\n",
       "\tat com.databricks.backend.daemon.driver.DriverWrapper.executeCommandAndGetError(DriverWrapper.scala:640)\n",
       "\tat com.databricks.backend.daemon.driver.DriverWrapper.executeCommand(DriverWrapper.scala:685)\n",
       "\tat com.databricks.backend.daemon.driver.DriverWrapper.runInnerLoop(DriverWrapper.scala:517)\n",
       "\tat com.databricks.backend.daemon.driver.DriverWrapper.runInner(DriverWrapper.scala:433)\n",
       "\tat com.databricks.backend.daemon.driver.DriverWrapper.run(DriverWrapper.scala:275)\n",
       "\tat java.lang.Thread.run(Thread.java:750)"
      ]
     },
     "metadata": {
      "application/vnd.databricks.v1+output": {
       "arguments": {},
       "data": "com.databricks.backend.common.rpc.SparkDriverExceptions$SQLExecutionException: org.apache.spark.sql.catalyst.analysis.TempTableAlreadyExistsException: [TEMP_TABLE_OR_VIEW_ALREADY_EXISTS] Cannot create the temporary view `g_temp_view_foods` because it already exists.\nChoose a different name, drop or replace the existing view,  or add the IF NOT EXISTS clause to tolerate pre-existing views. SQLSTATE: 42P07\n\tat org.apache.spark.sql.catalyst.catalog.GlobalTempViewManager.create(GlobalTempViewManager.scala:60)\n\tat org.apache.spark.sql.catalyst.catalog.SessionCatalogImpl.createGlobalTempView(SessionCatalog.scala:1229)\n\tat org.apache.spark.sql.catalyst.catalog.DelegatingSessionCatalog.createGlobalTempView(DelegatingSessionCatalog.scala:230)\n\tat org.apache.spark.sql.catalyst.catalog.DelegatingSessionCatalog.createGlobalTempView$(DelegatingSessionCatalog.scala:226)\n\tat com.databricks.sql.managedcatalog.ManagedCatalogSessionCatalog.createGlobalTempView(ManagedCatalogSessionCatalog.scala:79)\n\tat org.apache.spark.sql.execution.command.CreateViewCommand.run(views.scala:222)\n\tat org.apache.spark.sql.execution.command.ExecutedCommandExec.$anonfun$sideEffectResult$2(commands.scala:83)\n\tat org.apache.spark.sql.execution.SparkPlan.runCommandWithAetherOff(SparkPlan.scala:171)\n\tat org.apache.spark.sql.execution.command.ExecutedCommandExec.$anonfun$sideEffectResult$1(commands.scala:83)\n\tat com.databricks.spark.util.FrameProfiler$.record(FrameProfiler.scala:94)\n\tat org.apache.spark.sql.execution.command.ExecutedCommandExec.sideEffectResult$lzycompute(commands.scala:80)\n\tat org.apache.spark.sql.execution.command.ExecutedCommandExec.sideEffectResult(commands.scala:79)\n\tat org.apache.spark.sql.execution.command.ExecutedCommandExec.executeCollect(commands.scala:93)\n\tat org.apache.spark.sql.execution.QueryExecution$$anonfun$$nestedInanonfun$eagerlyExecuteCommands$1$1.$anonfun$applyOrElse$3(QueryExecution.scala:299)\n\tat org.apache.spark.sql.catalyst.QueryPlanningTracker$.withTracker(QueryPlanningTracker.scala:166)\n\tat org.apache.spark.sql.execution.QueryExecution$$anonfun$$nestedInanonfun$eagerlyExecuteCommands$1$1.$anonfun$applyOrElse$2(QueryExecution.scala:299)\n\tat org.apache.spark.sql.execution.SQLExecution$.$anonfun$withNewExecutionId0$8(SQLExecution.scala:339)\n\tat org.apache.spark.sql.execution.SQLExecution$.withSQLConfPropagated(SQLExecution.scala:610)\n\tat org.apache.spark.sql.execution.SQLExecution$.$anonfun$withNewExecutionId0$1(SQLExecution.scala:233)\n\tat org.apache.spark.sql.SparkSession.withActive(SparkSession.scala:1165)\n\tat org.apache.spark.sql.execution.SQLExecution$.withNewExecutionId0(SQLExecution.scala:157)\n\tat org.apache.spark.sql.execution.SQLExecution$.withNewExecutionId(SQLExecution.scala:552)\n\tat org.apache.spark.sql.execution.QueryExecution$$anonfun$$nestedInanonfun$eagerlyExecuteCommands$1$1.$anonfun$applyOrElse$1(QueryExecution.scala:298)\n\tat org.apache.spark.sql.execution.QueryExecution.org$apache$spark$sql$execution$QueryExecution$$withMVTagsIfNecessary(QueryExecution.scala:272)\n\tat org.apache.spark.sql.execution.QueryExecution$$anonfun$$nestedInanonfun$eagerlyExecuteCommands$1$1.applyOrElse(QueryExecution.scala:293)\n\tat org.apache.spark.sql.execution.QueryExecution$$anonfun$$nestedInanonfun$eagerlyExecuteCommands$1$1.applyOrElse(QueryExecution.scala:278)\n\tat org.apache.spark.sql.catalyst.trees.TreeNode.$anonfun$transformDownWithPruning$1(TreeNode.scala:472)\n\tat org.apache.spark.sql.catalyst.trees.CurrentOrigin$.withOrigin(origin.scala:76)\n\tat org.apache.spark.sql.catalyst.trees.TreeNode.transformDownWithPruning(TreeNode.scala:472)\n\tat org.apache.spark.sql.catalyst.plans.logical.LogicalPlan.org$apache$spark$sql$catalyst$plans$logical$AnalysisHelper$$super$transformDownWithPruning(LogicalPlan.scala:39)\n\tat org.apache.spark.sql.catalyst.plans.logical.AnalysisHelper.transformDownWithPruning(AnalysisHelper.scala:320)\n\tat org.apache.spark.sql.catalyst.plans.logical.AnalysisHelper.transformDownWithPruning$(AnalysisHelper.scala:316)\n\tat org.apache.spark.sql.catalyst.plans.logical.LogicalPlan.transformDownWithPruning(LogicalPlan.scala:39)\n\tat org.apache.spark.sql.catalyst.plans.logical.LogicalPlan.transformDownWithPruning(LogicalPlan.scala:39)\n\tat org.apache.spark.sql.catalyst.trees.TreeNode.transformDown(TreeNode.scala:448)\n\tat org.apache.spark.sql.execution.QueryExecution.$anonfun$eagerlyExecuteCommands$1(QueryExecution.scala:278)\n\tat org.apache.spark.sql.catalyst.plans.logical.AnalysisHelper$.allowInvokingTransformsInAnalyzer(AnalysisHelper.scala:377)\n\tat org.apache.spark.sql.execution.QueryExecution.eagerlyExecuteCommands(QueryExecution.scala:278)\n\tat org.apache.spark.sql.execution.QueryExecution.commandExecuted$lzycompute(QueryExecution.scala:231)\n\tat org.apache.spark.sql.execution.QueryExecution.commandExecuted(QueryExecution.scala:228)\n\tat org.apache.spark.sql.Dataset.<init>(Dataset.scala:262)\n\tat org.apache.spark.sql.Dataset$.$anonfun$ofRows$2(Dataset.scala:123)\n\tat org.apache.spark.sql.SparkSession.withActive(SparkSession.scala:1165)\n\tat org.apache.spark.sql.SparkSession.$anonfun$withActiveAndFrameProfiler$1(SparkSession.scala:1173)\n\tat com.databricks.spark.util.FrameProfiler$.record(FrameProfiler.scala:94)\n\tat org.apache.spark.sql.SparkSession.withActiveAndFrameProfiler(SparkSession.scala:1173)\n\tat org.apache.spark.sql.Dataset$.ofRows(Dataset.scala:113)\n\tat org.apache.spark.sql.SparkSession.$anonfun$sql$5(SparkSession.scala:943)\n\tat org.apache.spark.sql.SparkSession.withActive(SparkSession.scala:1165)\n\tat org.apache.spark.sql.SparkSession.sql(SparkSession.scala:932)\n\tat org.apache.spark.sql.SparkSession.sql(SparkSession.scala:966)\n\tat org.apache.spark.sql.SparkSession.sql(SparkSession.scala:999)\n\tat org.apache.spark.sql.SQLContext.sql(SQLContext.scala:695)\n\tat com.databricks.backend.daemon.driver.DriverLocal$DbClassicStrategy.executeSQLQuery(DriverLocal.scala:254)\n\tat com.databricks.backend.daemon.driver.DriverLocal.executeSQLSubCommand(DriverLocal.scala:338)\n\tat com.databricks.backend.daemon.driver.DriverLocal.$anonfun$executeSql$1(DriverLocal.scala:360)\n\tat scala.collection.immutable.List.map(List.scala:293)\n\tat com.databricks.backend.daemon.driver.DriverLocal.executeSql(DriverLocal.scala:354)\n\tat com.databricks.backend.daemon.driver.SQLDriverLocal.repl(SQLDriverLocal.scala:39)\n\tat com.databricks.backend.daemon.driver.DriverLocal.$anonfun$execute$34(DriverLocal.scala:1083)\n\tat com.databricks.unity.EmptyHandle$.runWith(UCSHandle.scala:124)\n\tat com.databricks.backend.daemon.driver.DriverLocal.$anonfun$execute$22(DriverLocal.scala:1066)\n\tat com.databricks.logging.UsageLogging.$anonfun$withAttributionContext$1(UsageLogging.scala:426)\n\tat scala.util.DynamicVariable.withValue(DynamicVariable.scala:62)\n\tat com.databricks.logging.AttributionContext$.withValue(AttributionContext.scala:216)\n\tat com.databricks.logging.UsageLogging.withAttributionContext(UsageLogging.scala:424)\n\tat com.databricks.logging.UsageLogging.withAttributionContext$(UsageLogging.scala:418)\n\tat com.databricks.backend.daemon.driver.DriverLocal.withAttributionContext(DriverLocal.scala:85)\n\tat com.databricks.logging.UsageLogging.withAttributionTags(UsageLogging.scala:472)\n\tat com.databricks.logging.UsageLogging.withAttributionTags$(UsageLogging.scala:455)\n\tat com.databricks.backend.daemon.driver.DriverLocal.withAttributionTags(DriverLocal.scala:85)\n\tat com.databricks.backend.daemon.driver.DriverLocal.execute(DriverLocal.scala:1003)\n\tat com.databricks.backend.daemon.driver.DriverWrapper.$anonfun$tryExecutingCommand$1(DriverWrapper.scala:739)\n\tat scala.util.Try$.apply(Try.scala:213)\n\tat com.databricks.backend.daemon.driver.DriverWrapper.tryExecutingCommand(DriverWrapper.scala:731)\n\tat com.databricks.backend.daemon.driver.DriverWrapper.executeCommandAndGetError(DriverWrapper.scala:640)\n\tat com.databricks.backend.daemon.driver.DriverWrapper.executeCommand(DriverWrapper.scala:685)\n\tat com.databricks.backend.daemon.driver.DriverWrapper.runInnerLoop(DriverWrapper.scala:517)\n\tat com.databricks.backend.daemon.driver.DriverWrapper.runInner(DriverWrapper.scala:433)\n\tat com.databricks.backend.daemon.driver.DriverWrapper.run(DriverWrapper.scala:275)\n\tat java.lang.Thread.run(Thread.java:750)\n\n\tat com.databricks.backend.daemon.driver.DriverLocal.executeSql(DriverLocal.scala:427)\n\tat com.databricks.backend.daemon.driver.SQLDriverLocal.repl(SQLDriverLocal.scala:39)\n\tat com.databricks.backend.daemon.driver.DriverLocal.$anonfun$execute$34(DriverLocal.scala:1083)\n\tat com.databricks.unity.EmptyHandle$.runWith(UCSHandle.scala:124)\n\tat com.databricks.backend.daemon.driver.DriverLocal.$anonfun$execute$22(DriverLocal.scala:1066)\n\tat com.databricks.logging.UsageLogging.$anonfun$withAttributionContext$1(UsageLogging.scala:426)\n\tat scala.util.DynamicVariable.withValue(DynamicVariable.scala:62)\n\tat com.databricks.logging.AttributionContext$.withValue(AttributionContext.scala:216)\n\tat com.databricks.logging.UsageLogging.withAttributionContext(UsageLogging.scala:424)\n\tat com.databricks.logging.UsageLogging.withAttributionContext$(UsageLogging.scala:418)\n\tat com.databricks.backend.daemon.driver.DriverLocal.withAttributionContext(DriverLocal.scala:85)\n\tat com.databricks.logging.UsageLogging.withAttributionTags(UsageLogging.scala:472)\n\tat com.databricks.logging.UsageLogging.withAttributionTags$(UsageLogging.scala:455)\n\tat com.databricks.backend.daemon.driver.DriverLocal.withAttributionTags(DriverLocal.scala:85)\n\tat com.databricks.backend.daemon.driver.DriverLocal.execute(DriverLocal.scala:1003)\n\tat com.databricks.backend.daemon.driver.DriverWrapper.$anonfun$tryExecutingCommand$1(DriverWrapper.scala:739)\n\tat scala.util.Try$.apply(Try.scala:213)\n\tat com.databricks.backend.daemon.driver.DriverWrapper.tryExecutingCommand(DriverWrapper.scala:731)\n\tat com.databricks.backend.daemon.driver.DriverWrapper.executeCommandAndGetError(DriverWrapper.scala:640)\n\tat com.databricks.backend.daemon.driver.DriverWrapper.executeCommand(DriverWrapper.scala:685)\n\tat com.databricks.backend.daemon.driver.DriverWrapper.runInnerLoop(DriverWrapper.scala:517)\n\tat com.databricks.backend.daemon.driver.DriverWrapper.runInner(DriverWrapper.scala:433)\n\tat com.databricks.backend.daemon.driver.DriverWrapper.run(DriverWrapper.scala:275)\n\tat java.lang.Thread.run(Thread.java:750)\n",
       "errorSummary": "TempTableAlreadyExistsException: [TEMP_TABLE_OR_VIEW_ALREADY_EXISTS] Cannot create the temporary view `g_temp_view_foods` because it already exists.\nChoose a different name, drop or replace the existing view,  or add the IF NOT EXISTS clause to tolerate pre-existing views. SQLSTATE: 42P07",
       "errorTraceType": "html",
       "metadata": {},
       "type": "ipynbError"
      }
     },
     "output_type": "display_data"
    }
   ],
   "source": [
    "%sql\n",
    "create global temporary view g_temp_view_foods\n",
    "as  select * from foods where food_type = 'snack';"
   ]
  },
  {
   "cell_type": "code",
   "execution_count": 0,
   "metadata": {
    "application/vnd.databricks.v1+cell": {
     "cellMetadata": {
      "byteLimit": 2048000,
      "rowLimit": 10000
     },
     "inputWidgets": {},
     "nuid": "791ee4ce-bf43-4e25-8f6e-c4e0c5d924f7",
     "showTitle": false,
     "title": ""
    }
   },
   "outputs": [
    {
     "output_type": "display_data",
     "data": {
      "text/html": [
       "<style scoped>\n",
       "  .table-result-container {\n",
       "    max-height: 300px;\n",
       "    overflow: auto;\n",
       "  }\n",
       "  table, th, td {\n",
       "    border: 1px solid black;\n",
       "    border-collapse: collapse;\n",
       "  }\n",
       "  th, td {\n",
       "    padding: 5px;\n",
       "  }\n",
       "  th {\n",
       "    text-align: left;\n",
       "  }\n",
       "</style><div class='table-result-container'><table class='table-result'><thead style='background-color: white'><tr><th>namespace</th><th>viewName</th><th>isTemporary</th><th>isMaterialized</th></tr></thead><tbody><tr><td>testdb</td><td>view_foods</td><td>false</td><td>false</td></tr><tr><td></td><td>temp_view_foods</td><td>true</td><td>false</td></tr></tbody></table></div>"
      ]
     },
     "metadata": {
      "application/vnd.databricks.v1+output": {
       "addedWidgets": {},
       "aggData": [],
       "aggError": "",
       "aggOverflow": false,
       "aggSchema": [],
       "aggSeriesLimitReached": false,
       "aggType": "",
       "arguments": {},
       "columnCustomDisplayInfos": {},
       "data": [
        [
         "testdb",
         "view_foods",
         false,
         false
        ],
        [
         "",
         "temp_view_foods",
         true,
         false
        ]
       ],
       "datasetInfos": [],
       "dbfsResultPath": null,
       "isJsonSchema": true,
       "metadata": {
        "isDbfsCommandResult": false
       },
       "overflow": false,
       "plotOptions": {
        "customPlotOptions": {},
        "displayType": "table",
        "pivotAggregation": null,
        "pivotColumns": null,
        "xColumns": null,
        "yColumns": null
       },
       "removedWidgets": [],
       "schema": [
        {
         "metadata": "{}",
         "name": "namespace",
         "type": "\"string\""
        },
        {
         "metadata": "{}",
         "name": "viewName",
         "type": "\"string\""
        },
        {
         "metadata": "{}",
         "name": "isTemporary",
         "type": "\"boolean\""
        },
        {
         "metadata": "{}",
         "name": "isMaterialized",
         "type": "\"boolean\""
        }
       ],
       "type": "table"
      }
     },
     "output_type": "display_data"
    }
   ],
   "source": [
    "%sql\n",
    "show views;"
   ]
  },
  {
   "cell_type": "code",
   "execution_count": 0,
   "metadata": {
    "application/vnd.databricks.v1+cell": {
     "cellMetadata": {
      "byteLimit": 2048000,
      "rowLimit": 10000
     },
     "inputWidgets": {},
     "nuid": "438c6b86-994e-4c74-981d-eb560429025b",
     "showTitle": false,
     "title": ""
    }
   },
   "outputs": [
    {
     "output_type": "display_data",
     "data": {
      "text/html": [
       "<style scoped>\n",
       "  .table-result-container {\n",
       "    max-height: 300px;\n",
       "    overflow: auto;\n",
       "  }\n",
       "  table, th, td {\n",
       "    border: 1px solid black;\n",
       "    border-collapse: collapse;\n",
       "  }\n",
       "  th, td {\n",
       "    padding: 5px;\n",
       "  }\n",
       "  th {\n",
       "    text-align: left;\n",
       "  }\n",
       "</style><div class='table-result-container'><table class='table-result'><thead style='background-color: white'><tr><th>database</th><th>tableName</th><th>isTemporary</th></tr></thead><tbody><tr><td>testdb</td><td>dairy_foods</td><td>false</td></tr><tr><td>testdb</td><td>employee</td><td>false</td></tr><tr><td>testdb</td><td>foods</td><td>false</td></tr><tr><td>testdb</td><td>foods_parti</td><td>false</td></tr><tr><td>testdb</td><td>soy_foods</td><td>false</td></tr><tr><td>testdb</td><td>view_foods</td><td>false</td></tr><tr><td></td><td>temp_view_foods</td><td>true</td></tr></tbody></table></div>"
      ]
     },
     "metadata": {
      "application/vnd.databricks.v1+output": {
       "addedWidgets": {},
       "aggData": [],
       "aggError": "",
       "aggOverflow": false,
       "aggSchema": [],
       "aggSeriesLimitReached": false,
       "aggType": "",
       "arguments": {},
       "columnCustomDisplayInfos": {},
       "data": [
        [
         "testdb",
         "dairy_foods",
         false
        ],
        [
         "testdb",
         "employee",
         false
        ],
        [
         "testdb",
         "foods",
         false
        ],
        [
         "testdb",
         "foods_parti",
         false
        ],
        [
         "testdb",
         "soy_foods",
         false
        ],
        [
         "testdb",
         "view_foods",
         false
        ],
        [
         "",
         "temp_view_foods",
         true
        ]
       ],
       "datasetInfos": [],
       "dbfsResultPath": null,
       "isJsonSchema": true,
       "metadata": {
        "isDbfsCommandResult": false
       },
       "overflow": false,
       "plotOptions": {
        "customPlotOptions": {},
        "displayType": "table",
        "pivotAggregation": null,
        "pivotColumns": null,
        "xColumns": null,
        "yColumns": null
       },
       "removedWidgets": [],
       "schema": [
        {
         "metadata": "{}",
         "name": "database",
         "type": "\"string\""
        },
        {
         "metadata": "{}",
         "name": "tableName",
         "type": "\"string\""
        },
        {
         "metadata": "{}",
         "name": "isTemporary",
         "type": "\"boolean\""
        }
       ],
       "type": "table"
      }
     },
     "output_type": "display_data"
    }
   ],
   "source": [
    "%sql\n",
    "show tables;"
   ]
  },
  {
   "cell_type": "code",
   "execution_count": 0,
   "metadata": {
    "application/vnd.databricks.v1+cell": {
     "cellMetadata": {
      "byteLimit": 2048000,
      "rowLimit": 10000
     },
     "inputWidgets": {},
     "nuid": "8cf77acd-8681-4553-a7e8-716d1532fc7f",
     "showTitle": false,
     "title": ""
    }
   },
   "outputs": [
    {
     "output_type": "display_data",
     "data": {
      "text/html": [
       "<style scoped>\n",
       "  .table-result-container {\n",
       "    max-height: 300px;\n",
       "    overflow: auto;\n",
       "  }\n",
       "  table, th, td {\n",
       "    border: 1px solid black;\n",
       "    border-collapse: collapse;\n",
       "  }\n",
       "  th, td {\n",
       "    padding: 5px;\n",
       "  }\n",
       "  th {\n",
       "    text-align: left;\n",
       "  }\n",
       "</style><div class='table-result-container'><table class='table-result'><thead style='background-color: white'><tr><th>food_type</th><th>food_name</th><th>calories</th><th>country_of_origin</th><th>allergens</th></tr></thead><tbody><tr><td>snack</td><td>praesent blandit lacinia erat vestibulum sed magna at nunc commodo placerat praesent blandit nam nulla integer pede justo lacinia</td><td>160.25</td><td>China</td><td>soy</td></tr><tr><td>snack</td><td>odio in hac habitasse platea dictumst maecenas ut massa quis augue luctus tincidunt nulla mollis molestie lorem quisque</td><td>553.67</td><td>Indonesia</td><td>soy</td></tr><tr><td>snack</td><td>etiam pretium iaculis justo in hac habitasse platea dictumst etiam faucibus cursus urna ut tellus nulla ut erat</td><td>154.72</td><td>Brazil</td><td>soy</td></tr><tr><td>snack</td><td>orci luctus et ultrices posuere cubilia curae duis faucibus accumsan odio curabitur convallis duis consequat</td><td>370.86</td><td>China</td><td>soy</td></tr></tbody></table></div>"
      ]
     },
     "metadata": {
      "application/vnd.databricks.v1+output": {
       "addedWidgets": {},
       "aggData": [],
       "aggError": "",
       "aggOverflow": false,
       "aggSchema": [],
       "aggSeriesLimitReached": false,
       "aggType": "",
       "arguments": {},
       "columnCustomDisplayInfos": {},
       "data": [
        [
         "snack",
         "praesent blandit lacinia erat vestibulum sed magna at nunc commodo placerat praesent blandit nam nulla integer pede justo lacinia",
         "160.25",
         "China",
         "soy"
        ],
        [
         "snack",
         "odio in hac habitasse platea dictumst maecenas ut massa quis augue luctus tincidunt nulla mollis molestie lorem quisque",
         "553.67",
         "Indonesia",
         "soy"
        ],
        [
         "snack",
         "etiam pretium iaculis justo in hac habitasse platea dictumst etiam faucibus cursus urna ut tellus nulla ut erat",
         "154.72",
         "Brazil",
         "soy"
        ],
        [
         "snack",
         "orci luctus et ultrices posuere cubilia curae duis faucibus accumsan odio curabitur convallis duis consequat",
         "370.86",
         "China",
         "soy"
        ]
       ],
       "datasetInfos": [],
       "dbfsResultPath": null,
       "isJsonSchema": true,
       "metadata": {
        "isDbfsCommandResult": false
       },
       "overflow": false,
       "plotOptions": {
        "customPlotOptions": {},
        "displayType": "table",
        "pivotAggregation": null,
        "pivotColumns": null,
        "xColumns": null,
        "yColumns": null
       },
       "removedWidgets": [],
       "schema": [
        {
         "metadata": "{\"__CHAR_VARCHAR_TYPE_STRING\":\"varchar(9)\"}",
         "name": "food_type",
         "type": "\"string\""
        },
        {
         "metadata": "{\"__CHAR_VARCHAR_TYPE_STRING\":\"varchar(256)\"}",
         "name": "food_name",
         "type": "\"string\""
        },
        {
         "metadata": "{}",
         "name": "calories",
         "type": "\"decimal(6,2)\""
        },
        {
         "metadata": "{\"__CHAR_VARCHAR_TYPE_STRING\":\"varchar(50)\"}",
         "name": "country_of_origin",
         "type": "\"string\""
        },
        {
         "metadata": "{\"__CHAR_VARCHAR_TYPE_STRING\":\"varchar(9)\"}",
         "name": "allergens",
         "type": "\"string\""
        }
       ],
       "type": "table"
      }
     },
     "output_type": "display_data"
    }
   ],
   "source": [
    "%sql\n",
    "select * from global_temp.g_temp_view_foods;"
   ]
  },
  {
   "cell_type": "code",
   "execution_count": 0,
   "metadata": {
    "application/vnd.databricks.v1+cell": {
     "cellMetadata": {
      "byteLimit": 2048000,
      "rowLimit": 10000
     },
     "inputWidgets": {},
     "nuid": "b2291535-8ac5-44ba-b069-350458f61396",
     "showTitle": false,
     "title": ""
    }
   },
   "outputs": [
    {
     "output_type": "display_data",
     "data": {
      "text/html": [
       "<style scoped>\n",
       "  .table-result-container {\n",
       "    max-height: 300px;\n",
       "    overflow: auto;\n",
       "  }\n",
       "  table, th, td {\n",
       "    border: 1px solid black;\n",
       "    border-collapse: collapse;\n",
       "  }\n",
       "  th, td {\n",
       "    padding: 5px;\n",
       "  }\n",
       "  th {\n",
       "    text-align: left;\n",
       "  }\n",
       "</style><div class='table-result-container'><table class='table-result'><thead style='background-color: white'><tr><th>database</th><th>tableName</th><th>isTemporary</th></tr></thead><tbody><tr><td>global_temp</td><td>g_temp_view_foods</td><td>true</td></tr><tr><td></td><td>temp_view_foods</td><td>true</td></tr></tbody></table></div>"
      ]
     },
     "metadata": {
      "application/vnd.databricks.v1+output": {
       "addedWidgets": {},
       "aggData": [],
       "aggError": "",
       "aggOverflow": false,
       "aggSchema": [],
       "aggSeriesLimitReached": false,
       "aggType": "",
       "arguments": {},
       "columnCustomDisplayInfos": {},
       "data": [
        [
         "global_temp",
         "g_temp_view_foods",
         true
        ],
        [
         "",
         "temp_view_foods",
         true
        ]
       ],
       "datasetInfos": [],
       "dbfsResultPath": null,
       "isJsonSchema": true,
       "metadata": {
        "isDbfsCommandResult": false
       },
       "overflow": false,
       "plotOptions": {
        "customPlotOptions": {},
        "displayType": "table",
        "pivotAggregation": null,
        "pivotColumns": null,
        "xColumns": null,
        "yColumns": null
       },
       "removedWidgets": [],
       "schema": [
        {
         "metadata": "{}",
         "name": "database",
         "type": "\"string\""
        },
        {
         "metadata": "{}",
         "name": "tableName",
         "type": "\"string\""
        },
        {
         "metadata": "{}",
         "name": "isTemporary",
         "type": "\"boolean\""
        }
       ],
       "type": "table"
      }
     },
     "output_type": "display_data"
    }
   ],
   "source": [
    "%sql\n",
    "show tables in global_temp;"
   ]
  },
  {
   "cell_type": "code",
   "execution_count": 0,
   "metadata": {
    "application/vnd.databricks.v1+cell": {
     "cellMetadata": {
      "byteLimit": 2048000,
      "rowLimit": 10000
     },
     "inputWidgets": {},
     "nuid": "034b8f8d-94c5-471a-8563-a14fa699cf19",
     "showTitle": false,
     "title": ""
    }
   },
   "outputs": [
    {
     "output_type": "display_data",
     "data": {
      "text/html": [
       "<style scoped>\n",
       "  .table-result-container {\n",
       "    max-height: 300px;\n",
       "    overflow: auto;\n",
       "  }\n",
       "  table, th, td {\n",
       "    border: 1px solid black;\n",
       "    border-collapse: collapse;\n",
       "  }\n",
       "  th, td {\n",
       "    padding: 5px;\n",
       "  }\n",
       "  th {\n",
       "    text-align: left;\n",
       "  }\n",
       "</style><div class='table-result-container'><table class='table-result'><thead style='background-color: white'><tr><th>database</th><th>tableName</th><th>isTemporary</th></tr></thead><tbody><tr><td>testdb</td><td>dairy_foods</td><td>false</td></tr><tr><td>testdb</td><td>employee</td><td>false</td></tr><tr><td>testdb</td><td>foods</td><td>false</td></tr><tr><td>testdb</td><td>foods_parti</td><td>false</td></tr><tr><td>testdb</td><td>soy_foods</td><td>false</td></tr><tr><td>testdb</td><td>view_foods</td><td>false</td></tr><tr><td></td><td>temp_view_foods</td><td>true</td></tr></tbody></table></div>"
      ]
     },
     "metadata": {
      "application/vnd.databricks.v1+output": {
       "addedWidgets": {},
       "aggData": [],
       "aggError": "",
       "aggOverflow": false,
       "aggSchema": [],
       "aggSeriesLimitReached": false,
       "aggType": "",
       "arguments": {},
       "columnCustomDisplayInfos": {},
       "data": [
        [
         "testdb",
         "dairy_foods",
         false
        ],
        [
         "testdb",
         "employee",
         false
        ],
        [
         "testdb",
         "foods",
         false
        ],
        [
         "testdb",
         "foods_parti",
         false
        ],
        [
         "testdb",
         "soy_foods",
         false
        ],
        [
         "testdb",
         "view_foods",
         false
        ],
        [
         "",
         "temp_view_foods",
         true
        ]
       ],
       "datasetInfos": [],
       "dbfsResultPath": null,
       "isJsonSchema": true,
       "metadata": {
        "isDbfsCommandResult": false
       },
       "overflow": false,
       "plotOptions": {
        "customPlotOptions": {},
        "displayType": "table",
        "pivotAggregation": null,
        "pivotColumns": null,
        "xColumns": null,
        "yColumns": null
       },
       "removedWidgets": [],
       "schema": [
        {
         "metadata": "{}",
         "name": "database",
         "type": "\"string\""
        },
        {
         "metadata": "{}",
         "name": "tableName",
         "type": "\"string\""
        },
        {
         "metadata": "{}",
         "name": "isTemporary",
         "type": "\"boolean\""
        }
       ],
       "type": "table"
      }
     },
     "output_type": "display_data"
    }
   ],
   "source": [
    "%sql\n",
    "show tables;"
   ]
  },
  {
   "cell_type": "code",
   "execution_count": 0,
   "metadata": {
    "application/vnd.databricks.v1+cell": {
     "cellMetadata": {},
     "inputWidgets": {},
     "nuid": "652bbcee-1d45-45dd-9b09-8f495778edd5",
     "showTitle": false,
     "title": ""
    }
   },
   "outputs": [],
   "source": []
  }
 ],
 "metadata": {
  "application/vnd.databricks.v1+notebook": {
   "dashboards": [],
   "language": "python",
   "notebookMetadata": {
    "mostRecentlyExecutedCommandWithImplicitDF": {
     "commandId": 3302854253971329,
     "dataframes": [
      "_sqldf"
     ]
    },
    "pythonIndentUnit": 4
   },
   "notebookName": "CTAS-Demo",
   "widgets": {}
  }
 },
 "nbformat": 4,
 "nbformat_minor": 0
}
