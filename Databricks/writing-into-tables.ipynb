{
 "cells": [
  {
   "cell_type": "code",
   "execution_count": 0,
   "metadata": {
    "application/vnd.databricks.v1+cell": {
     "cellMetadata": {
      "byteLimit": 2048000,
      "rowLimit": 10000
     },
     "inputWidgets": {},
     "nuid": "7f5e7caa-5e98-4603-b1e9-8be867cbd540",
     "showTitle": false,
     "title": ""
    }
   },
   "outputs": [
    {
     "output_type": "display_data",
     "data": {
      "text/html": [
       "<style scoped>\n",
       "  .table-result-container {\n",
       "    max-height: 300px;\n",
       "    overflow: auto;\n",
       "  }\n",
       "  table, th, td {\n",
       "    border: 1px solid black;\n",
       "    border-collapse: collapse;\n",
       "  }\n",
       "  th, td {\n",
       "    padding: 5px;\n",
       "  }\n",
       "  th {\n",
       "    text-align: left;\n",
       "  }\n",
       "</style><div class='table-result-container'><table class='table-result'><thead style='background-color: white'><tr><th>path</th><th>name</th><th>size</th><th>modificationTime</th></tr></thead><tbody><tr><td>dbfs:/FileStore/tables/cars_data.csv</td><td>cars_data.csv</td><td>17592</td><td>1707944449000</td></tr><tr><td>dbfs:/FileStore/tables/covid_country_dataset.csv</td><td>covid_country_dataset.csv</td><td>14784</td><td>1708107294000</td></tr><tr><td>dbfs:/FileStore/tables/flightLogs/</td><td>flightLogs/</td><td>0</td><td>0</td></tr><tr><td>dbfs:/FileStore/tables/social_media.json</td><td>social_media.json</td><td>19261</td><td>1707937656000</td></tr><tr><td>dbfs:/FileStore/tables/tradeData/</td><td>tradeData/</td><td>0</td><td>0</td></tr></tbody></table></div>"
      ]
     },
     "metadata": {
      "application/vnd.databricks.v1+output": {
       "addedWidgets": {},
       "aggData": [],
       "aggError": "",
       "aggOverflow": false,
       "aggSchema": [],
       "aggSeriesLimitReached": false,
       "aggType": "",
       "arguments": {},
       "columnCustomDisplayInfos": {},
       "data": [
        [
         "dbfs:/FileStore/tables/cars_data.csv",
         "cars_data.csv",
         17592,
         1707944449000
        ],
        [
         "dbfs:/FileStore/tables/covid_country_dataset.csv",
         "covid_country_dataset.csv",
         14784,
         1708107294000
        ],
        [
         "dbfs:/FileStore/tables/flightLogs/",
         "flightLogs/",
         0,
         0
        ],
        [
         "dbfs:/FileStore/tables/social_media.json",
         "social_media.json",
         19261,
         1707937656000
        ],
        [
         "dbfs:/FileStore/tables/tradeData/",
         "tradeData/",
         0,
         0
        ]
       ],
       "datasetInfos": [],
       "dbfsResultPath": null,
       "isJsonSchema": true,
       "metadata": {
        "isDbfsCommandResult": false
       },
       "overflow": false,
       "plotOptions": {
        "customPlotOptions": {},
        "displayType": "table",
        "pivotAggregation": null,
        "pivotColumns": null,
        "xColumns": null,
        "yColumns": null
       },
       "removedWidgets": [],
       "schema": [
        {
         "metadata": "{}",
         "name": "path",
         "type": "\"string\""
        },
        {
         "metadata": "{}",
         "name": "name",
         "type": "\"string\""
        },
        {
         "metadata": "{}",
         "name": "size",
         "type": "\"long\""
        },
        {
         "metadata": "{}",
         "name": "modificationTime",
         "type": "\"long\""
        }
       ],
       "type": "table"
      }
     },
     "output_type": "display_data"
    }
   ],
   "source": [
    "%fs ls dbfs:/FileStore/tables"
   ]
  },
  {
   "cell_type": "code",
   "execution_count": 0,
   "metadata": {
    "application/vnd.databricks.v1+cell": {
     "cellMetadata": {
      "byteLimit": 2048000,
      "rowLimit": 10000
     },
     "inputWidgets": {},
     "nuid": "e4b17b31-f3ad-4721-89fe-e1fba9ecd935",
     "showTitle": false,
     "title": ""
    }
   },
   "outputs": [
    {
     "output_type": "display_data",
     "data": {
      "text/html": [
       "<style scoped>\n",
       "  .table-result-container {\n",
       "    max-height: 300px;\n",
       "    overflow: auto;\n",
       "  }\n",
       "  table, th, td {\n",
       "    border: 1px solid black;\n",
       "    border-collapse: collapse;\n",
       "  }\n",
       "  th, td {\n",
       "    padding: 5px;\n",
       "  }\n",
       "  th {\n",
       "    text-align: left;\n",
       "  }\n",
       "</style><div class='table-result-container'><table class='table-result'><thead style='background-color: white'><tr></tr></thead><tbody></tbody></table></div>"
      ]
     },
     "metadata": {
      "application/vnd.databricks.v1+output": {
       "addedWidgets": {},
       "aggData": [],
       "aggError": "",
       "aggOverflow": false,
       "aggSchema": [],
       "aggSeriesLimitReached": false,
       "aggType": "",
       "arguments": {},
       "columnCustomDisplayInfos": {},
       "data": [],
       "datasetInfos": [],
       "dbfsResultPath": null,
       "isJsonSchema": true,
       "metadata": {
        "isDbfsCommandResult": false
       },
       "overflow": false,
       "plotOptions": {
        "customPlotOptions": {},
        "displayType": "table",
        "pivotAggregation": null,
        "pivotColumns": null,
        "xColumns": null,
        "yColumns": null
       },
       "removedWidgets": [],
       "schema": [],
       "type": "table"
      }
     },
     "output_type": "display_data"
    }
   ],
   "source": [
    "%sql\n",
    "CREATE table covid_by_contry\n",
    "   (country STRING,confirmed INT,deaths INT,recovered INT,active INT,new_cases INT,new_deaths INT,new_recovered INT,deaths_per_100 DOUBLE,recovered_per_100 DOUBLE,deaths_per_100_recovered DOUBLE,confirmed_last_week INT,one_week_change INT,one_week_increase DOUBLE,who_region STRING)\n",
    "USING CSV\n",
    "OPTIONS (\n",
    "  path = \"dbfs:/FileStore/tables/covid_country_dataset.csv\",\n",
    "  header = \"true\",\n",
    "  delimiter = \",\"\n",
    ");"
   ]
  },
  {
   "cell_type": "code",
   "execution_count": 0,
   "metadata": {
    "application/vnd.databricks.v1+cell": {
     "cellMetadata": {
      "byteLimit": 2048000,
      "rowLimit": 10000
     },
     "inputWidgets": {},
     "nuid": "3f810986-e357-4415-904b-691aa4c3c00f",
     "showTitle": false,
     "title": ""
    }
   },
   "outputs": [
    {
     "output_type": "display_data",
     "data": {
      "text/html": [
       "<style scoped>\n",
       "  .table-result-container {\n",
       "    max-height: 300px;\n",
       "    overflow: auto;\n",
       "  }\n",
       "  table, th, td {\n",
       "    border: 1px solid black;\n",
       "    border-collapse: collapse;\n",
       "  }\n",
       "  th, td {\n",
       "    padding: 5px;\n",
       "  }\n",
       "  th {\n",
       "    text-align: left;\n",
       "  }\n",
       "</style><div class='table-result-container'><table class='table-result'><thead style='background-color: white'><tr><th>database</th><th>tableName</th><th>isTemporary</th></tr></thead><tbody><tr><td>default</td><td>covid_by_contry</td><td>false</td></tr></tbody></table></div>"
      ]
     },
     "metadata": {
      "application/vnd.databricks.v1+output": {
       "addedWidgets": {},
       "aggData": [],
       "aggError": "",
       "aggOverflow": false,
       "aggSchema": [],
       "aggSeriesLimitReached": false,
       "aggType": "",
       "arguments": {},
       "columnCustomDisplayInfos": {},
       "data": [
        [
         "default",
         "covid_by_contry",
         false
        ]
       ],
       "datasetInfos": [],
       "dbfsResultPath": null,
       "isJsonSchema": true,
       "metadata": {
        "isDbfsCommandResult": false
       },
       "overflow": false,
       "plotOptions": {
        "customPlotOptions": {},
        "displayType": "table",
        "pivotAggregation": null,
        "pivotColumns": null,
        "xColumns": null,
        "yColumns": null
       },
       "removedWidgets": [],
       "schema": [
        {
         "metadata": "{}",
         "name": "database",
         "type": "\"string\""
        },
        {
         "metadata": "{}",
         "name": "tableName",
         "type": "\"string\""
        },
        {
         "metadata": "{}",
         "name": "isTemporary",
         "type": "\"boolean\""
        }
       ],
       "type": "table"
      }
     },
     "output_type": "display_data"
    }
   ],
   "source": [
    "%sql\n",
    "show tables;"
   ]
  },
  {
   "cell_type": "code",
   "execution_count": 0,
   "metadata": {
    "application/vnd.databricks.v1+cell": {
     "cellMetadata": {
      "byteLimit": 2048000,
      "rowLimit": 10000
     },
     "inputWidgets": {},
     "nuid": "98f38640-ffd3-49b0-8b71-5eac129d4ba6",
     "showTitle": false,
     "title": ""
    }
   },
   "outputs": [
    {
     "output_type": "display_data",
     "data": {
      "text/html": [
       "<style scoped>\n",
       "  .table-result-container {\n",
       "    max-height: 300px;\n",
       "    overflow: auto;\n",
       "  }\n",
       "  table, th, td {\n",
       "    border: 1px solid black;\n",
       "    border-collapse: collapse;\n",
       "  }\n",
       "  th, td {\n",
       "    padding: 5px;\n",
       "  }\n",
       "  th {\n",
       "    text-align: left;\n",
       "  }\n",
       "</style><div class='table-result-container'><table class='table-result'><thead style='background-color: white'><tr><th>databaseName</th></tr></thead><tbody><tr><td>default</td></tr></tbody></table></div>"
      ]
     },
     "metadata": {
      "application/vnd.databricks.v1+output": {
       "addedWidgets": {},
       "aggData": [],
       "aggError": "",
       "aggOverflow": false,
       "aggSchema": [],
       "aggSeriesLimitReached": false,
       "aggType": "",
       "arguments": {},
       "columnCustomDisplayInfos": {},
       "data": [
        [
         "default"
        ]
       ],
       "datasetInfos": [],
       "dbfsResultPath": null,
       "isJsonSchema": true,
       "metadata": {
        "isDbfsCommandResult": false
       },
       "overflow": false,
       "plotOptions": {
        "customPlotOptions": {},
        "displayType": "table",
        "pivotAggregation": null,
        "pivotColumns": null,
        "xColumns": null,
        "yColumns": null
       },
       "removedWidgets": [],
       "schema": [
        {
         "metadata": "{}",
         "name": "databaseName",
         "type": "\"string\""
        }
       ],
       "type": "table"
      }
     },
     "output_type": "display_data"
    }
   ],
   "source": [
    "%sql\n",
    "show databases;"
   ]
  },
  {
   "cell_type": "code",
   "execution_count": 0,
   "metadata": {
    "application/vnd.databricks.v1+cell": {
     "cellMetadata": {
      "byteLimit": 2048000,
      "rowLimit": 10000
     },
     "inputWidgets": {},
     "nuid": "c77fe658-a2fd-4348-9901-139823995bf3",
     "showTitle": false,
     "title": ""
    }
   },
   "outputs": [
    {
     "output_type": "display_data",
     "data": {
      "text/html": [
       "<style scoped>\n",
       "  .table-result-container {\n",
       "    max-height: 300px;\n",
       "    overflow: auto;\n",
       "  }\n",
       "  table, th, td {\n",
       "    border: 1px solid black;\n",
       "    border-collapse: collapse;\n",
       "  }\n",
       "  th, td {\n",
       "    padding: 5px;\n",
       "  }\n",
       "  th {\n",
       "    text-align: left;\n",
       "  }\n",
       "</style><div class='table-result-container'><table class='table-result'><thead style='background-color: white'><tr></tr></thead><tbody></tbody></table></div>"
      ]
     },
     "metadata": {
      "application/vnd.databricks.v1+output": {
       "addedWidgets": {},
       "aggData": [],
       "aggError": "",
       "aggOverflow": false,
       "aggSchema": [],
       "aggSeriesLimitReached": false,
       "aggType": "",
       "arguments": {},
       "columnCustomDisplayInfos": {},
       "data": [],
       "datasetInfos": [],
       "dbfsResultPath": null,
       "isJsonSchema": true,
       "metadata": {
        "isDbfsCommandResult": false
       },
       "overflow": false,
       "plotOptions": {
        "customPlotOptions": {},
        "displayType": "table",
        "pivotAggregation": null,
        "pivotColumns": null,
        "xColumns": null,
        "yColumns": null
       },
       "removedWidgets": [],
       "schema": [],
       "type": "table"
      }
     },
     "output_type": "display_data"
    }
   ],
   "source": [
    "%sql\n",
    "create database testdb;"
   ]
  },
  {
   "cell_type": "code",
   "execution_count": 0,
   "metadata": {
    "application/vnd.databricks.v1+cell": {
     "cellMetadata": {
      "byteLimit": 2048000,
      "rowLimit": 10000
     },
     "inputWidgets": {},
     "nuid": "9b311c63-c595-450c-8a5a-3bfa8d8d98aa",
     "showTitle": false,
     "title": ""
    }
   },
   "outputs": [
    {
     "output_type": "display_data",
     "data": {
      "text/html": [
       "<style scoped>\n",
       "  .table-result-container {\n",
       "    max-height: 300px;\n",
       "    overflow: auto;\n",
       "  }\n",
       "  table, th, td {\n",
       "    border: 1px solid black;\n",
       "    border-collapse: collapse;\n",
       "  }\n",
       "  th, td {\n",
       "    padding: 5px;\n",
       "  }\n",
       "  th {\n",
       "    text-align: left;\n",
       "  }\n",
       "</style><div class='table-result-container'><table class='table-result'><thead style='background-color: white'><tr></tr></thead><tbody></tbody></table></div>"
      ]
     },
     "metadata": {
      "application/vnd.databricks.v1+output": {
       "addedWidgets": {},
       "aggData": [],
       "aggError": "",
       "aggOverflow": false,
       "aggSchema": [],
       "aggSeriesLimitReached": false,
       "aggType": "",
       "arguments": {},
       "columnCustomDisplayInfos": {},
       "data": [],
       "datasetInfos": [],
       "dbfsResultPath": null,
       "isJsonSchema": true,
       "metadata": {
        "isDbfsCommandResult": false
       },
       "overflow": false,
       "plotOptions": {
        "customPlotOptions": {},
        "displayType": "table",
        "pivotAggregation": null,
        "pivotColumns": null,
        "xColumns": null,
        "yColumns": null
       },
       "removedWidgets": [],
       "schema": [],
       "type": "table"
      }
     },
     "output_type": "display_data"
    }
   ],
   "source": [
    "%sql\n",
    "use testdb;"
   ]
  },
  {
   "cell_type": "code",
   "execution_count": 0,
   "metadata": {
    "application/vnd.databricks.v1+cell": {
     "cellMetadata": {
      "byteLimit": 2048000,
      "rowLimit": 10000
     },
     "inputWidgets": {},
     "nuid": "07dfcd25-40f8-42b4-9d34-516c37d4a91b",
     "showTitle": false,
     "title": ""
    }
   },
   "outputs": [
    {
     "output_type": "display_data",
     "data": {
      "text/html": [
       "<style scoped>\n",
       "  .table-result-container {\n",
       "    max-height: 300px;\n",
       "    overflow: auto;\n",
       "  }\n",
       "  table, th, td {\n",
       "    border: 1px solid black;\n",
       "    border-collapse: collapse;\n",
       "  }\n",
       "  th, td {\n",
       "    padding: 5px;\n",
       "  }\n",
       "  th {\n",
       "    text-align: left;\n",
       "  }\n",
       "</style><div class='table-result-container'><table class='table-result'><thead style='background-color: white'><tr><th>database</th><th>tableName</th><th>isTemporary</th></tr></thead><tbody><tr><td>testdb</td><td>covid_by_contry</td><td>false</td></tr></tbody></table></div>"
      ]
     },
     "metadata": {
      "application/vnd.databricks.v1+output": {
       "addedWidgets": {},
       "aggData": [],
       "aggError": "",
       "aggOverflow": false,
       "aggSchema": [],
       "aggSeriesLimitReached": false,
       "aggType": "",
       "arguments": {},
       "columnCustomDisplayInfos": {},
       "data": [
        [
         "testdb",
         "covid_by_contry",
         false
        ]
       ],
       "datasetInfos": [],
       "dbfsResultPath": null,
       "isJsonSchema": true,
       "metadata": {
        "isDbfsCommandResult": false
       },
       "overflow": false,
       "plotOptions": {
        "customPlotOptions": {},
        "displayType": "table",
        "pivotAggregation": null,
        "pivotColumns": null,
        "xColumns": null,
        "yColumns": null
       },
       "removedWidgets": [],
       "schema": [
        {
         "metadata": "{}",
         "name": "database",
         "type": "\"string\""
        },
        {
         "metadata": "{}",
         "name": "tableName",
         "type": "\"string\""
        },
        {
         "metadata": "{}",
         "name": "isTemporary",
         "type": "\"boolean\""
        }
       ],
       "type": "table"
      }
     },
     "output_type": "display_data"
    }
   ],
   "source": [
    "%sql\n",
    "show tables;"
   ]
  },
  {
   "cell_type": "code",
   "execution_count": 0,
   "metadata": {
    "application/vnd.databricks.v1+cell": {
     "cellMetadata": {
      "byteLimit": 2048000,
      "rowLimit": 10000
     },
     "inputWidgets": {},
     "nuid": "014ad485-df7f-473d-ae55-948a0dbf3907",
     "showTitle": false,
     "title": ""
    }
   },
   "outputs": [
    {
     "output_type": "display_data",
     "data": {
      "text/html": [
       "<style scoped>\n",
       "  .table-result-container {\n",
       "    max-height: 300px;\n",
       "    overflow: auto;\n",
       "  }\n",
       "  table, th, td {\n",
       "    border: 1px solid black;\n",
       "    border-collapse: collapse;\n",
       "  }\n",
       "  th, td {\n",
       "    padding: 5px;\n",
       "  }\n",
       "  th {\n",
       "    text-align: left;\n",
       "  }\n",
       "</style><div class='table-result-container'><table class='table-result'><thead style='background-color: white'><tr><th>count(1)</th></tr></thead><tbody><tr><td>187</td></tr></tbody></table></div>"
      ]
     },
     "metadata": {
      "application/vnd.databricks.v1+output": {
       "addedWidgets": {},
       "aggData": [],
       "aggError": "",
       "aggOverflow": false,
       "aggSchema": [],
       "aggSeriesLimitReached": false,
       "aggType": "",
       "arguments": {},
       "columnCustomDisplayInfos": {},
       "data": [
        [
         187
        ]
       ],
       "datasetInfos": [],
       "dbfsResultPath": null,
       "isJsonSchema": true,
       "metadata": {
        "isDbfsCommandResult": false
       },
       "overflow": false,
       "plotOptions": {
        "customPlotOptions": {},
        "displayType": "table",
        "pivotAggregation": null,
        "pivotColumns": null,
        "xColumns": null,
        "yColumns": null
       },
       "removedWidgets": [],
       "schema": [
        {
         "metadata": "{\"__autoGeneratedAlias\":\"true\"}",
         "name": "count(1)",
         "type": "\"long\""
        }
       ],
       "type": "table"
      }
     },
     "output_type": "display_data"
    }
   ],
   "source": [
    "%sql\n",
    "select count(*) from covid_by_contry;"
   ]
  },
  {
   "cell_type": "code",
   "execution_count": 0,
   "metadata": {
    "application/vnd.databricks.v1+cell": {
     "cellMetadata": {
      "byteLimit": 2048000,
      "rowLimit": 10000
     },
     "inputWidgets": {},
     "nuid": "bb5ef491-4eb8-41fb-869f-fb33b5311b77",
     "showTitle": false,
     "title": ""
    }
   },
   "outputs": [
    {
     "output_type": "display_data",
     "data": {
      "text/html": [
       "<style scoped>\n",
       "  .table-result-container {\n",
       "    max-height: 300px;\n",
       "    overflow: auto;\n",
       "  }\n",
       "  table, th, td {\n",
       "    border: 1px solid black;\n",
       "    border-collapse: collapse;\n",
       "  }\n",
       "  th, td {\n",
       "    padding: 5px;\n",
       "  }\n",
       "  th {\n",
       "    text-align: left;\n",
       "  }\n",
       "</style><div class='table-result-container'><table class='table-result'><thead style='background-color: white'><tr><th>country</th><th>confirmed</th><th>deaths</th><th>recovered</th><th>active</th><th>new_cases</th><th>new_deaths</th><th>new_recovered</th><th>deaths_per_100</th><th>recovered_per_100</th><th>deaths_per_100_recovered</th><th>confirmed_last_week</th><th>one_week_change</th><th>one_week_increase</th><th>who_region</th></tr></thead><tbody><tr><td>Afghanistan</td><td>36263</td><td>1269</td><td>25198</td><td>9796</td><td>106</td><td>10</td><td>18</td><td>3.5</td><td>69.49</td><td>5.04</td><td>35526</td><td>737</td><td>2.07</td><td>Eastern Mediterranean</td></tr><tr><td>Albania</td><td>4880</td><td>144</td><td>2745</td><td>1991</td><td>117</td><td>6</td><td>63</td><td>2.95</td><td>56.25</td><td>5.25</td><td>4171</td><td>709</td><td>17.0</td><td>Europe</td></tr><tr><td>Algeria</td><td>27973</td><td>1163</td><td>18837</td><td>7973</td><td>616</td><td>8</td><td>749</td><td>4.16</td><td>67.34</td><td>6.17</td><td>23691</td><td>4282</td><td>18.07</td><td>Africa</td></tr><tr><td>Andorra</td><td>907</td><td>52</td><td>803</td><td>52</td><td>10</td><td>0</td><td>0</td><td>5.73</td><td>88.53</td><td>6.48</td><td>884</td><td>23</td><td>2.6</td><td>Europe</td></tr><tr><td>Angola</td><td>950</td><td>41</td><td>242</td><td>667</td><td>18</td><td>1</td><td>0</td><td>4.32</td><td>25.47</td><td>16.94</td><td>749</td><td>201</td><td>26.84</td><td>Africa</td></tr><tr><td>Antigua and Barbuda</td><td>86</td><td>3</td><td>65</td><td>18</td><td>4</td><td>0</td><td>5</td><td>3.49</td><td>75.58</td><td>4.62</td><td>76</td><td>10</td><td>13.16</td><td>Americas</td></tr><tr><td>Argentina</td><td>167416</td><td>3059</td><td>72575</td><td>91782</td><td>4890</td><td>120</td><td>2057</td><td>1.83</td><td>43.35</td><td>4.21</td><td>130774</td><td>36642</td><td>28.02</td><td>Americas</td></tr><tr><td>Armenia</td><td>37390</td><td>711</td><td>26665</td><td>10014</td><td>73</td><td>6</td><td>187</td><td>1.9</td><td>71.32</td><td>2.67</td><td>34981</td><td>2409</td><td>6.89</td><td>Europe</td></tr><tr><td>Australia</td><td>15303</td><td>167</td><td>9311</td><td>5825</td><td>368</td><td>6</td><td>137</td><td>1.09</td><td>60.84</td><td>1.79</td><td>12428</td><td>2875</td><td>23.13</td><td>Western Pacific</td></tr><tr><td>Austria</td><td>20558</td><td>713</td><td>18246</td><td>1599</td><td>86</td><td>1</td><td>37</td><td>3.47</td><td>88.75</td><td>3.91</td><td>19743</td><td>815</td><td>4.13</td><td>Europe</td></tr></tbody></table></div>"
      ]
     },
     "metadata": {
      "application/vnd.databricks.v1+output": {
       "addedWidgets": {},
       "aggData": [],
       "aggError": "",
       "aggOverflow": false,
       "aggSchema": [],
       "aggSeriesLimitReached": false,
       "aggType": "",
       "arguments": {},
       "columnCustomDisplayInfos": {},
       "data": [
        [
         "Afghanistan",
         36263,
         1269,
         25198,
         9796,
         106,
         10,
         18,
         3.5,
         69.49,
         5.04,
         35526,
         737,
         2.07,
         "Eastern Mediterranean"
        ],
        [
         "Albania",
         4880,
         144,
         2745,
         1991,
         117,
         6,
         63,
         2.95,
         56.25,
         5.25,
         4171,
         709,
         17.0,
         "Europe"
        ],
        [
         "Algeria",
         27973,
         1163,
         18837,
         7973,
         616,
         8,
         749,
         4.16,
         67.34,
         6.17,
         23691,
         4282,
         18.07,
         "Africa"
        ],
        [
         "Andorra",
         907,
         52,
         803,
         52,
         10,
         0,
         0,
         5.73,
         88.53,
         6.48,
         884,
         23,
         2.6,
         "Europe"
        ],
        [
         "Angola",
         950,
         41,
         242,
         667,
         18,
         1,
         0,
         4.32,
         25.47,
         16.94,
         749,
         201,
         26.84,
         "Africa"
        ],
        [
         "Antigua and Barbuda",
         86,
         3,
         65,
         18,
         4,
         0,
         5,
         3.49,
         75.58,
         4.62,
         76,
         10,
         13.16,
         "Americas"
        ],
        [
         "Argentina",
         167416,
         3059,
         72575,
         91782,
         4890,
         120,
         2057,
         1.83,
         43.35,
         4.21,
         130774,
         36642,
         28.02,
         "Americas"
        ],
        [
         "Armenia",
         37390,
         711,
         26665,
         10014,
         73,
         6,
         187,
         1.9,
         71.32,
         2.67,
         34981,
         2409,
         6.89,
         "Europe"
        ],
        [
         "Australia",
         15303,
         167,
         9311,
         5825,
         368,
         6,
         137,
         1.09,
         60.84,
         1.79,
         12428,
         2875,
         23.13,
         "Western Pacific"
        ],
        [
         "Austria",
         20558,
         713,
         18246,
         1599,
         86,
         1,
         37,
         3.47,
         88.75,
         3.91,
         19743,
         815,
         4.13,
         "Europe"
        ]
       ],
       "datasetInfos": [],
       "dbfsResultPath": null,
       "isJsonSchema": true,
       "metadata": {
        "isDbfsCommandResult": false
       },
       "overflow": false,
       "plotOptions": {
        "customPlotOptions": {},
        "displayType": "table",
        "pivotAggregation": null,
        "pivotColumns": null,
        "xColumns": null,
        "yColumns": null
       },
       "removedWidgets": [],
       "schema": [
        {
         "metadata": "{}",
         "name": "country",
         "type": "\"string\""
        },
        {
         "metadata": "{}",
         "name": "confirmed",
         "type": "\"integer\""
        },
        {
         "metadata": "{}",
         "name": "deaths",
         "type": "\"integer\""
        },
        {
         "metadata": "{}",
         "name": "recovered",
         "type": "\"integer\""
        },
        {
         "metadata": "{}",
         "name": "active",
         "type": "\"integer\""
        },
        {
         "metadata": "{}",
         "name": "new_cases",
         "type": "\"integer\""
        },
        {
         "metadata": "{}",
         "name": "new_deaths",
         "type": "\"integer\""
        },
        {
         "metadata": "{}",
         "name": "new_recovered",
         "type": "\"integer\""
        },
        {
         "metadata": "{}",
         "name": "deaths_per_100",
         "type": "\"double\""
        },
        {
         "metadata": "{}",
         "name": "recovered_per_100",
         "type": "\"double\""
        },
        {
         "metadata": "{}",
         "name": "deaths_per_100_recovered",
         "type": "\"double\""
        },
        {
         "metadata": "{}",
         "name": "confirmed_last_week",
         "type": "\"integer\""
        },
        {
         "metadata": "{}",
         "name": "one_week_change",
         "type": "\"integer\""
        },
        {
         "metadata": "{}",
         "name": "one_week_increase",
         "type": "\"double\""
        },
        {
         "metadata": "{}",
         "name": "who_region",
         "type": "\"string\""
        }
       ],
       "type": "table"
      }
     },
     "output_type": "display_data"
    }
   ],
   "source": [
    "%sql\n",
    "select * from covid_by_contry limit 10;"
   ]
  },
  {
   "cell_type": "code",
   "execution_count": 0,
   "metadata": {
    "application/vnd.databricks.v1+cell": {
     "cellMetadata": {},
     "inputWidgets": {},
     "nuid": "437b5a6e-1700-4786-88b2-ef5d3768ab55",
     "showTitle": false,
     "title": ""
    }
   },
   "outputs": [],
   "source": []
  }
 ],
 "metadata": {
  "application/vnd.databricks.v1+notebook": {
   "dashboards": [],
   "language": "python",
   "notebookMetadata": {
    "mostRecentlyExecutedCommandWithImplicitDF": {
     "commandId": 222722397007130,
     "dataframes": [
      "_sqldf"
     ]
    },
    "pythonIndentUnit": 4
   },
   "notebookName": "writing-into-tables",
   "widgets": {}
  }
 },
 "nbformat": 4,
 "nbformat_minor": 0
}
