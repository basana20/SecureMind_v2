{
 "cells": [
  {
   "cell_type": "code",
   "execution_count": 0,
   "metadata": {
    "application/vnd.databricks.v1+cell": {
     "cellMetadata": {
      "byteLimit": 2048000,
      "rowLimit": 10000
     },
     "inputWidgets": {},
     "nuid": "92fefc55-46f3-46b7-9e58-bce888c99fe9",
     "showTitle": false,
     "title": ""
    }
   },
   "outputs": [
    {
     "output_type": "display_data",
     "data": {
      "text/html": [
       "<style scoped>\n",
       "  .table-result-container {\n",
       "    max-height: 300px;\n",
       "    overflow: auto;\n",
       "  }\n",
       "  table, th, td {\n",
       "    border: 1px solid black;\n",
       "    border-collapse: collapse;\n",
       "  }\n",
       "  th, td {\n",
       "    padding: 5px;\n",
       "  }\n",
       "  th {\n",
       "    text-align: left;\n",
       "  }\n",
       "</style><div class='table-result-container'><table class='table-result'><thead style='background-color: white'><tr><th>database</th><th>tableName</th><th>isTemporary</th></tr></thead><tbody><tr><td>default</td><td>employee1</td><td>false</td></tr></tbody></table></div>"
      ]
     },
     "metadata": {
      "application/vnd.databricks.v1+output": {
       "addedWidgets": {},
       "aggData": [],
       "aggError": "",
       "aggOverflow": false,
       "aggSchema": [],
       "aggSeriesLimitReached": false,
       "aggType": "",
       "arguments": {},
       "columnCustomDisplayInfos": {},
       "data": [
        [
         "default",
         "employee1",
         false
        ]
       ],
       "datasetInfos": [],
       "dbfsResultPath": null,
       "isJsonSchema": true,
       "metadata": {
        "isDbfsCommandResult": false
       },
       "overflow": false,
       "plotOptions": {
        "customPlotOptions": {},
        "displayType": "table",
        "pivotAggregation": null,
        "pivotColumns": null,
        "xColumns": null,
        "yColumns": null
       },
       "removedWidgets": [],
       "schema": [
        {
         "metadata": "{}",
         "name": "database",
         "type": "\"string\""
        },
        {
         "metadata": "{}",
         "name": "tableName",
         "type": "\"string\""
        },
        {
         "metadata": "{}",
         "name": "isTemporary",
         "type": "\"boolean\""
        }
       ],
       "type": "table"
      }
     },
     "output_type": "display_data"
    }
   ],
   "source": [
    "%sql\n",
    "show tables;"
   ]
  },
  {
   "cell_type": "code",
   "execution_count": 0,
   "metadata": {
    "application/vnd.databricks.v1+cell": {
     "cellMetadata": {
      "byteLimit": 2048000,
      "rowLimit": 10000
     },
     "inputWidgets": {},
     "nuid": "6bb47ab6-3a54-4a4c-ac1a-710cffad2290",
     "showTitle": false,
     "title": ""
    }
   },
   "outputs": [
    {
     "output_type": "display_data",
     "data": {
      "text/html": [
       "<style scoped>\n",
       "  .table-result-container {\n",
       "    max-height: 300px;\n",
       "    overflow: auto;\n",
       "  }\n",
       "  table, th, td {\n",
       "    border: 1px solid black;\n",
       "    border-collapse: collapse;\n",
       "  }\n",
       "  th, td {\n",
       "    padding: 5px;\n",
       "  }\n",
       "  th {\n",
       "    text-align: left;\n",
       "  }\n",
       "</style><div class='table-result-container'><table class='table-result'><thead style='background-color: white'><tr><th>databaseName</th></tr></thead><tbody><tr><td>default</td></tr><tr><td>testdb</td></tr></tbody></table></div>"
      ]
     },
     "metadata": {
      "application/vnd.databricks.v1+output": {
       "addedWidgets": {},
       "aggData": [],
       "aggError": "",
       "aggOverflow": false,
       "aggSchema": [],
       "aggSeriesLimitReached": false,
       "aggType": "",
       "arguments": {},
       "columnCustomDisplayInfos": {},
       "data": [
        [
         "default"
        ],
        [
         "testdb"
        ]
       ],
       "datasetInfos": [],
       "dbfsResultPath": null,
       "isJsonSchema": true,
       "metadata": {
        "isDbfsCommandResult": false
       },
       "overflow": false,
       "plotOptions": {
        "customPlotOptions": {},
        "displayType": "table",
        "pivotAggregation": null,
        "pivotColumns": null,
        "xColumns": null,
        "yColumns": null
       },
       "removedWidgets": [],
       "schema": [
        {
         "metadata": "{}",
         "name": "databaseName",
         "type": "\"string\""
        }
       ],
       "type": "table"
      }
     },
     "output_type": "display_data"
    }
   ],
   "source": [
    "%sql\n",
    "show databases;"
   ]
  },
  {
   "cell_type": "code",
   "execution_count": 0,
   "metadata": {
    "application/vnd.databricks.v1+cell": {
     "cellMetadata": {
      "byteLimit": 2048000,
      "rowLimit": 10000
     },
     "inputWidgets": {},
     "nuid": "07840675-8646-48d2-9903-b5628e31c0df",
     "showTitle": false,
     "title": ""
    }
   },
   "outputs": [
    {
     "output_type": "display_data",
     "data": {
      "text/html": [
       "<style scoped>\n",
       "  .table-result-container {\n",
       "    max-height: 300px;\n",
       "    overflow: auto;\n",
       "  }\n",
       "  table, th, td {\n",
       "    border: 1px solid black;\n",
       "    border-collapse: collapse;\n",
       "  }\n",
       "  th, td {\n",
       "    padding: 5px;\n",
       "  }\n",
       "  th {\n",
       "    text-align: left;\n",
       "  }\n",
       "</style><div class='table-result-container'><table class='table-result'><thead style='background-color: white'><tr></tr></thead><tbody></tbody></table></div>"
      ]
     },
     "metadata": {
      "application/vnd.databricks.v1+output": {
       "addedWidgets": {},
       "aggData": [],
       "aggError": "",
       "aggOverflow": false,
       "aggSchema": [],
       "aggSeriesLimitReached": false,
       "aggType": "",
       "arguments": {},
       "columnCustomDisplayInfos": {},
       "data": [],
       "datasetInfos": [],
       "dbfsResultPath": null,
       "isJsonSchema": true,
       "metadata": {
        "isDbfsCommandResult": false
       },
       "overflow": false,
       "plotOptions": {
        "customPlotOptions": {},
        "displayType": "table",
        "pivotAggregation": null,
        "pivotColumns": null,
        "xColumns": null,
        "yColumns": null
       },
       "removedWidgets": [],
       "schema": [],
       "type": "table"
      }
     },
     "output_type": "display_data"
    }
   ],
   "source": [
    "%sql\n",
    "use testdb;"
   ]
  },
  {
   "cell_type": "code",
   "execution_count": 0,
   "metadata": {
    "application/vnd.databricks.v1+cell": {
     "cellMetadata": {
      "byteLimit": 2048000,
      "rowLimit": 10000
     },
     "inputWidgets": {},
     "nuid": "3a33ef17-88e9-4a01-bd3f-49ab974bde7e",
     "showTitle": false,
     "title": ""
    }
   },
   "outputs": [
    {
     "output_type": "display_data",
     "data": {
      "text/html": [
       "<style scoped>\n",
       "  .table-result-container {\n",
       "    max-height: 300px;\n",
       "    overflow: auto;\n",
       "  }\n",
       "  table, th, td {\n",
       "    border: 1px solid black;\n",
       "    border-collapse: collapse;\n",
       "  }\n",
       "  th, td {\n",
       "    padding: 5px;\n",
       "  }\n",
       "  th {\n",
       "    text-align: left;\n",
       "  }\n",
       "</style><div class='table-result-container'><table class='table-result'><thead style='background-color: white'><tr><th>database</th><th>tableName</th><th>isTemporary</th></tr></thead><tbody><tr><td>testdb</td><td>dairy_foods</td><td>false</td></tr><tr><td>testdb</td><td>employee</td><td>false</td></tr><tr><td>testdb</td><td>foods</td><td>false</td></tr><tr><td>testdb</td><td>foods_parti</td><td>false</td></tr><tr><td>testdb</td><td>soy_foods</td><td>false</td></tr><tr><td>testdb</td><td>view_foods</td><td>false</td></tr></tbody></table></div>"
      ]
     },
     "metadata": {
      "application/vnd.databricks.v1+output": {
       "addedWidgets": {},
       "aggData": [],
       "aggError": "",
       "aggOverflow": false,
       "aggSchema": [],
       "aggSeriesLimitReached": false,
       "aggType": "",
       "arguments": {},
       "columnCustomDisplayInfos": {},
       "data": [
        [
         "testdb",
         "dairy_foods",
         false
        ],
        [
         "testdb",
         "employee",
         false
        ],
        [
         "testdb",
         "foods",
         false
        ],
        [
         "testdb",
         "foods_parti",
         false
        ],
        [
         "testdb",
         "soy_foods",
         false
        ],
        [
         "testdb",
         "view_foods",
         false
        ]
       ],
       "datasetInfos": [],
       "dbfsResultPath": null,
       "isJsonSchema": true,
       "metadata": {
        "isDbfsCommandResult": false
       },
       "overflow": false,
       "plotOptions": {
        "customPlotOptions": {},
        "displayType": "table",
        "pivotAggregation": null,
        "pivotColumns": null,
        "xColumns": null,
        "yColumns": null
       },
       "removedWidgets": [],
       "schema": [
        {
         "metadata": "{}",
         "name": "database",
         "type": "\"string\""
        },
        {
         "metadata": "{}",
         "name": "tableName",
         "type": "\"string\""
        },
        {
         "metadata": "{}",
         "name": "isTemporary",
         "type": "\"boolean\""
        }
       ],
       "type": "table"
      }
     },
     "output_type": "display_data"
    }
   ],
   "source": [
    "%sql\n",
    "show tables;"
   ]
  },
  {
   "cell_type": "code",
   "execution_count": 0,
   "metadata": {
    "application/vnd.databricks.v1+cell": {
     "cellMetadata": {
      "byteLimit": 2048000,
      "rowLimit": 10000
     },
     "inputWidgets": {},
     "nuid": "8c7f181a-4e6b-4347-9e99-26f2cd8916db",
     "showTitle": false,
     "title": ""
    }
   },
   "outputs": [
    {
     "output_type": "display_data",
     "data": {
      "text/html": [
       "<style scoped>\n",
       "  .table-result-container {\n",
       "    max-height: 300px;\n",
       "    overflow: auto;\n",
       "  }\n",
       "  table, th, td {\n",
       "    border: 1px solid black;\n",
       "    border-collapse: collapse;\n",
       "  }\n",
       "  th, td {\n",
       "    padding: 5px;\n",
       "  }\n",
       "  th {\n",
       "    text-align: left;\n",
       "  }\n",
       "</style><div class='table-result-container'><table class='table-result'><thead style='background-color: white'><tr><th>database</th><th>tableName</th><th>isTemporary</th></tr></thead><tbody><tr><td>global_temp</td><td>g_temp_view_foods</td><td>true</td></tr></tbody></table></div>"
      ]
     },
     "metadata": {
      "application/vnd.databricks.v1+output": {
       "addedWidgets": {},
       "aggData": [],
       "aggError": "",
       "aggOverflow": false,
       "aggSchema": [],
       "aggSeriesLimitReached": false,
       "aggType": "",
       "arguments": {},
       "columnCustomDisplayInfos": {},
       "data": [
        [
         "global_temp",
         "g_temp_view_foods",
         true
        ]
       ],
       "datasetInfos": [],
       "dbfsResultPath": null,
       "isJsonSchema": true,
       "metadata": {
        "isDbfsCommandResult": false
       },
       "overflow": false,
       "plotOptions": {
        "customPlotOptions": {},
        "displayType": "table",
        "pivotAggregation": null,
        "pivotColumns": null,
        "xColumns": null,
        "yColumns": null
       },
       "removedWidgets": [],
       "schema": [
        {
         "metadata": "{}",
         "name": "database",
         "type": "\"string\""
        },
        {
         "metadata": "{}",
         "name": "tableName",
         "type": "\"string\""
        },
        {
         "metadata": "{}",
         "name": "isTemporary",
         "type": "\"boolean\""
        }
       ],
       "type": "table"
      }
     },
     "output_type": "display_data"
    }
   ],
   "source": [
    "%sql\n",
    "show tables in global_temp;"
   ]
  },
  {
   "cell_type": "code",
   "execution_count": 0,
   "metadata": {
    "application/vnd.databricks.v1+cell": {
     "cellMetadata": {
      "byteLimit": 2048000,
      "rowLimit": 10000
     },
     "inputWidgets": {},
     "nuid": "03935b5b-7539-4501-bf8f-6e5ca144729c",
     "showTitle": false,
     "title": ""
    }
   },
   "outputs": [
    {
     "output_type": "display_data",
     "data": {
      "text/html": [
       "<style scoped>\n",
       "  .table-result-container {\n",
       "    max-height: 300px;\n",
       "    overflow: auto;\n",
       "  }\n",
       "  table, th, td {\n",
       "    border: 1px solid black;\n",
       "    border-collapse: collapse;\n",
       "  }\n",
       "  th, td {\n",
       "    padding: 5px;\n",
       "  }\n",
       "  th {\n",
       "    text-align: left;\n",
       "  }\n",
       "</style><div class='table-result-container'><table class='table-result'><thead style='background-color: white'><tr><th>food_type</th><th>food_name</th><th>calories</th><th>country_of_origin</th><th>allergens</th></tr></thead><tbody><tr><td>condiment</td><td>mauris vulputate elementum nullam varius nulla facilisi cras non velit nec nisi vulputate nonummy maecenas tincidunt lacus at velit</td><td>152.63</td><td>Poland</td><td>gluten</td></tr><tr><td>condiment</td><td>justo nec condimentum neque sapien placerat ante nulla justo aliquam quis turpis eget elit sodales scelerisque mauris sit amet eros</td><td>236.60</td><td>Japan</td><td>dairy</td></tr><tr><td>snack</td><td>praesent blandit lacinia erat vestibulum sed magna at nunc commodo placerat praesent blandit nam nulla integer pede justo lacinia</td><td>160.25</td><td>China</td><td>soy</td></tr><tr><td>condiment</td><td>ut erat id mauris vulputate elementum nullam varius nulla facilisi cras non velit nec nisi vulputate nonummy</td><td>630.61</td><td>Czech Republic</td><td>nuts</td></tr><tr><td>condiment</td><td>volutpat sapien arcu sed augue aliquam erat volutpat in congue etiam justo etiam pretium iaculis justo in hac</td><td>690.09</td><td>Philippines</td><td>gluten</td></tr><tr><td>snack</td><td>odio in hac habitasse platea dictumst maecenas ut massa quis augue luctus tincidunt nulla mollis molestie lorem quisque</td><td>553.67</td><td>Indonesia</td><td>soy</td></tr><tr><td>snack</td><td>etiam pretium iaculis justo in hac habitasse platea dictumst etiam faucibus cursus urna ut tellus nulla ut erat</td><td>154.72</td><td>Brazil</td><td>soy</td></tr><tr><td>grain</td><td>nulla dapibus dolor vel est donec odio justo sollicitudin ut suscipit a feugiat et eros vestibulum ac est</td><td>307.11</td><td>China</td><td>dairy</td></tr><tr><td>snack</td><td>orci luctus et ultrices posuere cubilia curae duis faucibus accumsan odio curabitur convallis duis consequat</td><td>370.86</td><td>China</td><td>soy</td></tr><tr><td>vegetable</td><td>blandit nam nulla integer pede justo lacinia eget tincidunt eget tempus vel pede morbi</td><td>221.74</td><td>Philippines</td><td>gluten</td></tr><tr><td>vegetable</td><td>venenatis tristique fusce congue diam id ornare imperdiet sapien urna pretium nisl</td><td>966.59</td><td>Russia</td><td>shellfish</td></tr><tr><td>condiment</td><td>pede ac diam cras pellentesque volutpat dui maecenas tristique est et tempus semper</td><td>868.14</td><td>Nigeria</td><td>soy</td></tr><tr><td>condiment</td><td>molestie sed justo pellentesque viverra pede ac diam cras pellentesque volutpat dui</td><td>162.68</td><td>China</td><td>dairy</td></tr><tr><td>grain</td><td>est lacinia nisi venenatis tristique fusce congue diam id ornare imperdiet</td><td>413.58</td><td>Czech Republic</td><td>dairy</td></tr><tr><td>dairy</td><td>magnis dis parturient montes nascetur ridiculus mus etiam vel augue vestibulum rutrum</td><td>591.95</td><td>Morocco</td><td>soy</td></tr><tr><td>grain</td><td>ligula suspendisse ornare consequat lectus in est risus auctor sed tristique in</td><td>401.47</td><td>China</td><td>shellfish</td></tr><tr><td>seafood</td><td>diam erat fermentum justo nec condimentum neque sapien placerat ante nulla justo</td><td>150.12</td><td>Peru</td><td>nuts</td></tr><tr><td>fruit</td><td>sit amet justo morbi ut odio cras mi pede malesuada in imperdiet et commodo</td><td>689.03</td><td>France</td><td>dairy</td></tr><tr><td>grain</td><td>in leo maecenas pulvinar lobortis est phasellus sit amet erat</td><td>13.74</td><td>Indonesia</td><td>shellfish</td></tr><tr><td>fruit</td><td>cras pellentesque volutpat dui maecenas tristique est et tempus semper</td><td>862.18</td><td>Armenia</td><td>soy</td></tr></tbody></table></div>"
      ]
     },
     "metadata": {
      "application/vnd.databricks.v1+output": {
       "addedWidgets": {},
       "aggData": [],
       "aggError": "",
       "aggOverflow": false,
       "aggSchema": [],
       "aggSeriesLimitReached": false,
       "aggType": "",
       "arguments": {},
       "columnCustomDisplayInfos": {},
       "data": [
        [
         "condiment",
         "mauris vulputate elementum nullam varius nulla facilisi cras non velit nec nisi vulputate nonummy maecenas tincidunt lacus at velit",
         "152.63",
         "Poland",
         "gluten"
        ],
        [
         "condiment",
         "justo nec condimentum neque sapien placerat ante nulla justo aliquam quis turpis eget elit sodales scelerisque mauris sit amet eros",
         "236.60",
         "Japan",
         "dairy"
        ],
        [
         "snack",
         "praesent blandit lacinia erat vestibulum sed magna at nunc commodo placerat praesent blandit nam nulla integer pede justo lacinia",
         "160.25",
         "China",
         "soy"
        ],
        [
         "condiment",
         "ut erat id mauris vulputate elementum nullam varius nulla facilisi cras non velit nec nisi vulputate nonummy",
         "630.61",
         "Czech Republic",
         "nuts"
        ],
        [
         "condiment",
         "volutpat sapien arcu sed augue aliquam erat volutpat in congue etiam justo etiam pretium iaculis justo in hac",
         "690.09",
         "Philippines",
         "gluten"
        ],
        [
         "snack",
         "odio in hac habitasse platea dictumst maecenas ut massa quis augue luctus tincidunt nulla mollis molestie lorem quisque",
         "553.67",
         "Indonesia",
         "soy"
        ],
        [
         "snack",
         "etiam pretium iaculis justo in hac habitasse platea dictumst etiam faucibus cursus urna ut tellus nulla ut erat",
         "154.72",
         "Brazil",
         "soy"
        ],
        [
         "grain",
         "nulla dapibus dolor vel est donec odio justo sollicitudin ut suscipit a feugiat et eros vestibulum ac est",
         "307.11",
         "China",
         "dairy"
        ],
        [
         "snack",
         "orci luctus et ultrices posuere cubilia curae duis faucibus accumsan odio curabitur convallis duis consequat",
         "370.86",
         "China",
         "soy"
        ],
        [
         "vegetable",
         "blandit nam nulla integer pede justo lacinia eget tincidunt eget tempus vel pede morbi",
         "221.74",
         "Philippines",
         "gluten"
        ],
        [
         "vegetable",
         "venenatis tristique fusce congue diam id ornare imperdiet sapien urna pretium nisl",
         "966.59",
         "Russia",
         "shellfish"
        ],
        [
         "condiment",
         "pede ac diam cras pellentesque volutpat dui maecenas tristique est et tempus semper",
         "868.14",
         "Nigeria",
         "soy"
        ],
        [
         "condiment",
         "molestie sed justo pellentesque viverra pede ac diam cras pellentesque volutpat dui",
         "162.68",
         "China",
         "dairy"
        ],
        [
         "grain",
         "est lacinia nisi venenatis tristique fusce congue diam id ornare imperdiet",
         "413.58",
         "Czech Republic",
         "dairy"
        ],
        [
         "dairy",
         "magnis dis parturient montes nascetur ridiculus mus etiam vel augue vestibulum rutrum",
         "591.95",
         "Morocco",
         "soy"
        ],
        [
         "grain",
         "ligula suspendisse ornare consequat lectus in est risus auctor sed tristique in",
         "401.47",
         "China",
         "shellfish"
        ],
        [
         "seafood",
         "diam erat fermentum justo nec condimentum neque sapien placerat ante nulla justo",
         "150.12",
         "Peru",
         "nuts"
        ],
        [
         "fruit",
         "sit amet justo morbi ut odio cras mi pede malesuada in imperdiet et commodo",
         "689.03",
         "France",
         "dairy"
        ],
        [
         "grain",
         "in leo maecenas pulvinar lobortis est phasellus sit amet erat",
         "13.74",
         "Indonesia",
         "shellfish"
        ],
        [
         "fruit",
         "cras pellentesque volutpat dui maecenas tristique est et tempus semper",
         "862.18",
         "Armenia",
         "soy"
        ]
       ],
       "datasetInfos": [],
       "dbfsResultPath": null,
       "isJsonSchema": true,
       "metadata": {
        "isDbfsCommandResult": false
       },
       "overflow": false,
       "plotOptions": {
        "customPlotOptions": {},
        "displayType": "table",
        "pivotAggregation": null,
        "pivotColumns": null,
        "xColumns": null,
        "yColumns": null
       },
       "removedWidgets": [],
       "schema": [
        {
         "metadata": "{\"__CHAR_VARCHAR_TYPE_STRING\":\"varchar(9)\"}",
         "name": "food_type",
         "type": "\"string\""
        },
        {
         "metadata": "{\"__CHAR_VARCHAR_TYPE_STRING\":\"varchar(256)\"}",
         "name": "food_name",
         "type": "\"string\""
        },
        {
         "metadata": "{}",
         "name": "calories",
         "type": "\"decimal(6,2)\""
        },
        {
         "metadata": "{\"__CHAR_VARCHAR_TYPE_STRING\":\"varchar(50)\"}",
         "name": "country_of_origin",
         "type": "\"string\""
        },
        {
         "metadata": "{\"__CHAR_VARCHAR_TYPE_STRING\":\"varchar(9)\"}",
         "name": "allergens",
         "type": "\"string\""
        }
       ],
       "type": "table"
      }
     },
     "output_type": "display_data"
    }
   ],
   "source": [
    "%sql\n",
    "select * from view_foods;"
   ]
  },
  {
   "cell_type": "code",
   "execution_count": 0,
   "metadata": {
    "application/vnd.databricks.v1+cell": {
     "cellMetadata": {
      "byteLimit": 2048000,
      "rowLimit": 10000
     },
     "inputWidgets": {},
     "nuid": "0dd87558-ae57-42c8-a30f-5632a49888d4",
     "showTitle": false,
     "title": ""
    }
   },
   "outputs": [
    {
     "output_type": "display_data",
     "data": {
      "text/html": [
       "<style scoped>\n",
       "  .table-result-container {\n",
       "    max-height: 300px;\n",
       "    overflow: auto;\n",
       "  }\n",
       "  table, th, td {\n",
       "    border: 1px solid black;\n",
       "    border-collapse: collapse;\n",
       "  }\n",
       "  th, td {\n",
       "    padding: 5px;\n",
       "  }\n",
       "  th {\n",
       "    text-align: left;\n",
       "  }\n",
       "</style><div class='table-result-container'><table class='table-result'><thead style='background-color: white'><tr><th>food_type</th><th>food_name</th><th>calories</th><th>country_of_origin</th><th>allergens</th></tr></thead><tbody><tr><td>snack</td><td>praesent blandit lacinia erat vestibulum sed magna at nunc commodo placerat praesent blandit nam nulla integer pede justo lacinia</td><td>160.25</td><td>China</td><td>soy</td></tr><tr><td>snack</td><td>odio in hac habitasse platea dictumst maecenas ut massa quis augue luctus tincidunt nulla mollis molestie lorem quisque</td><td>553.67</td><td>Indonesia</td><td>soy</td></tr><tr><td>snack</td><td>etiam pretium iaculis justo in hac habitasse platea dictumst etiam faucibus cursus urna ut tellus nulla ut erat</td><td>154.72</td><td>Brazil</td><td>soy</td></tr><tr><td>snack</td><td>orci luctus et ultrices posuere cubilia curae duis faucibus accumsan odio curabitur convallis duis consequat</td><td>370.86</td><td>China</td><td>soy</td></tr></tbody></table></div>"
      ]
     },
     "metadata": {
      "application/vnd.databricks.v1+output": {
       "addedWidgets": {},
       "aggData": [],
       "aggError": "",
       "aggOverflow": false,
       "aggSchema": [],
       "aggSeriesLimitReached": false,
       "aggType": "",
       "arguments": {},
       "columnCustomDisplayInfos": {},
       "data": [
        [
         "snack",
         "praesent blandit lacinia erat vestibulum sed magna at nunc commodo placerat praesent blandit nam nulla integer pede justo lacinia",
         "160.25",
         "China",
         "soy"
        ],
        [
         "snack",
         "odio in hac habitasse platea dictumst maecenas ut massa quis augue luctus tincidunt nulla mollis molestie lorem quisque",
         "553.67",
         "Indonesia",
         "soy"
        ],
        [
         "snack",
         "etiam pretium iaculis justo in hac habitasse platea dictumst etiam faucibus cursus urna ut tellus nulla ut erat",
         "154.72",
         "Brazil",
         "soy"
        ],
        [
         "snack",
         "orci luctus et ultrices posuere cubilia curae duis faucibus accumsan odio curabitur convallis duis consequat",
         "370.86",
         "China",
         "soy"
        ]
       ],
       "datasetInfos": [],
       "dbfsResultPath": null,
       "isJsonSchema": true,
       "metadata": {
        "isDbfsCommandResult": false
       },
       "overflow": false,
       "plotOptions": {
        "customPlotOptions": {},
        "displayType": "table",
        "pivotAggregation": null,
        "pivotColumns": null,
        "xColumns": null,
        "yColumns": null
       },
       "removedWidgets": [],
       "schema": [
        {
         "metadata": "{\"__CHAR_VARCHAR_TYPE_STRING\":\"varchar(9)\"}",
         "name": "food_type",
         "type": "\"string\""
        },
        {
         "metadata": "{\"__CHAR_VARCHAR_TYPE_STRING\":\"varchar(256)\"}",
         "name": "food_name",
         "type": "\"string\""
        },
        {
         "metadata": "{}",
         "name": "calories",
         "type": "\"decimal(6,2)\""
        },
        {
         "metadata": "{\"__CHAR_VARCHAR_TYPE_STRING\":\"varchar(50)\"}",
         "name": "country_of_origin",
         "type": "\"string\""
        },
        {
         "metadata": "{\"__CHAR_VARCHAR_TYPE_STRING\":\"varchar(9)\"}",
         "name": "allergens",
         "type": "\"string\""
        }
       ],
       "type": "table"
      }
     },
     "output_type": "display_data"
    }
   ],
   "source": [
    "%sql\n",
    "select * from global_temp.g_temp_view_foods;"
   ]
  },
  {
   "cell_type": "code",
   "execution_count": 0,
   "metadata": {
    "application/vnd.databricks.v1+cell": {
     "cellMetadata": {
      "byteLimit": 2048000,
      "rowLimit": 10000
     },
     "inputWidgets": {},
     "nuid": "553134d5-8519-4dfd-b2ad-1e57ed1b0dff",
     "showTitle": false,
     "title": ""
    }
   },
   "outputs": [
    {
     "output_type": "display_data",
     "data": {
      "text/html": [
       "<style scoped>\n",
       "  .table-result-container {\n",
       "    max-height: 300px;\n",
       "    overflow: auto;\n",
       "  }\n",
       "  table, th, td {\n",
       "    border: 1px solid black;\n",
       "    border-collapse: collapse;\n",
       "  }\n",
       "  th, td {\n",
       "    padding: 5px;\n",
       "  }\n",
       "  th {\n",
       "    text-align: left;\n",
       "  }\n",
       "</style><div class='table-result-container'><table class='table-result'><thead style='background-color: white'><tr><th>col_name</th><th>data_type</th><th>comment</th></tr></thead><tbody><tr><td>food_type</td><td>varchar(9)</td><td>null</td></tr><tr><td>food_name</td><td>varchar(256)</td><td>null</td></tr><tr><td>calories</td><td>decimal(6,2)</td><td>null</td></tr><tr><td>country_of_origin</td><td>varchar(50)</td><td>null</td></tr><tr><td>allergens</td><td>varchar(9)</td><td>null</td></tr><tr><td></td><td></td><td></td></tr><tr><td># Detailed Table Information</td><td></td><td></td></tr><tr><td>Catalog</td><td>spark_catalog</td><td></td></tr><tr><td>Database</td><td>testdb</td><td></td></tr><tr><td>Table</td><td>view_foods</td><td></td></tr><tr><td>Owner</td><td>root</td><td></td></tr><tr><td>Created Time</td><td>Wed Feb 14 17:54:08 UTC 2024</td><td></td></tr><tr><td>Last Access</td><td>UNKNOWN</td><td></td></tr><tr><td>Created By</td><td>Spark 3.5.0</td><td></td></tr><tr><td>Type</td><td>VIEW</td><td></td></tr><tr><td>View Text</td><td>select * from foods</td><td></td></tr><tr><td>View Original Text</td><td>select * from foods</td><td></td></tr><tr><td>View Catalog and Namespace</td><td>spark_catalog.testdb</td><td></td></tr><tr><td>View Query Output Columns</td><td>[food_type, food_name, calories, country_of_origin, allergens]</td><td></td></tr><tr><td>Table Properties</td><td>[transient_lastDdlTime=1707933248]</td><td></td></tr><tr><td>Serde Library</td><td>org.apache.hadoop.hive.serde2.lazy.LazySimpleSerDe</td><td></td></tr><tr><td>InputFormat</td><td>org.apache.hadoop.mapred.SequenceFileInputFormat</td><td></td></tr><tr><td>OutputFormat</td><td>org.apache.hadoop.hive.ql.io.HiveSequenceFileOutputFormat</td><td></td></tr><tr><td>Storage Properties</td><td>[serialization.format=1]</td><td></td></tr></tbody></table></div>"
      ]
     },
     "metadata": {
      "application/vnd.databricks.v1+output": {
       "addedWidgets": {},
       "aggData": [],
       "aggError": "",
       "aggOverflow": false,
       "aggSchema": [],
       "aggSeriesLimitReached": false,
       "aggType": "",
       "arguments": {},
       "columnCustomDisplayInfos": {},
       "data": [
        [
         "food_type",
         "varchar(9)",
         null
        ],
        [
         "food_name",
         "varchar(256)",
         null
        ],
        [
         "calories",
         "decimal(6,2)",
         null
        ],
        [
         "country_of_origin",
         "varchar(50)",
         null
        ],
        [
         "allergens",
         "varchar(9)",
         null
        ],
        [
         "",
         "",
         ""
        ],
        [
         "# Detailed Table Information",
         "",
         ""
        ],
        [
         "Catalog",
         "spark_catalog",
         ""
        ],
        [
         "Database",
         "testdb",
         ""
        ],
        [
         "Table",
         "view_foods",
         ""
        ],
        [
         "Owner",
         "root",
         ""
        ],
        [
         "Created Time",
         "Wed Feb 14 17:54:08 UTC 2024",
         ""
        ],
        [
         "Last Access",
         "UNKNOWN",
         ""
        ],
        [
         "Created By",
         "Spark 3.5.0",
         ""
        ],
        [
         "Type",
         "VIEW",
         ""
        ],
        [
         "View Text",
         "select * from foods",
         ""
        ],
        [
         "View Original Text",
         "select * from foods",
         ""
        ],
        [
         "View Catalog and Namespace",
         "spark_catalog.testdb",
         ""
        ],
        [
         "View Query Output Columns",
         "[food_type, food_name, calories, country_of_origin, allergens]",
         ""
        ],
        [
         "Table Properties",
         "[transient_lastDdlTime=1707933248]",
         ""
        ],
        [
         "Serde Library",
         "org.apache.hadoop.hive.serde2.lazy.LazySimpleSerDe",
         ""
        ],
        [
         "InputFormat",
         "org.apache.hadoop.mapred.SequenceFileInputFormat",
         ""
        ],
        [
         "OutputFormat",
         "org.apache.hadoop.hive.ql.io.HiveSequenceFileOutputFormat",
         ""
        ],
        [
         "Storage Properties",
         "[serialization.format=1]",
         ""
        ]
       ],
       "datasetInfos": [],
       "dbfsResultPath": null,
       "isJsonSchema": true,
       "metadata": {
        "isDbfsCommandResult": false
       },
       "overflow": false,
       "plotOptions": {
        "customPlotOptions": {},
        "displayType": "table",
        "pivotAggregation": null,
        "pivotColumns": null,
        "xColumns": null,
        "yColumns": null
       },
       "removedWidgets": [],
       "schema": [
        {
         "metadata": "{\"comment\":\"name of the column\"}",
         "name": "col_name",
         "type": "\"string\""
        },
        {
         "metadata": "{\"comment\":\"data type of the column\"}",
         "name": "data_type",
         "type": "\"string\""
        },
        {
         "metadata": "{\"comment\":\"comment of the column\"}",
         "name": "comment",
         "type": "\"string\""
        }
       ],
       "type": "table"
      }
     },
     "output_type": "display_data"
    }
   ],
   "source": [
    "%sql\n",
    "describe extended view_foods;"
   ]
  },
  {
   "cell_type": "code",
   "execution_count": 0,
   "metadata": {
    "application/vnd.databricks.v1+cell": {
     "cellMetadata": {
      "byteLimit": 2048000,
      "rowLimit": 10000
     },
     "inputWidgets": {},
     "nuid": "d2ee52bf-4e85-44ef-be48-b05a99915635",
     "showTitle": false,
     "title": ""
    }
   },
   "outputs": [
    {
     "output_type": "display_data",
     "data": {
      "text/html": [
       "<style scoped>\n",
       "  .table-result-container {\n",
       "    max-height: 300px;\n",
       "    overflow: auto;\n",
       "  }\n",
       "  table, th, td {\n",
       "    border: 1px solid black;\n",
       "    border-collapse: collapse;\n",
       "  }\n",
       "  th, td {\n",
       "    padding: 5px;\n",
       "  }\n",
       "  th {\n",
       "    text-align: left;\n",
       "  }\n",
       "</style><div class='table-result-container'><table class='table-result'><thead style='background-color: white'><tr><th>col_name</th><th>data_type</th><th>comment</th></tr></thead><tbody><tr><td>food_type</td><td>string</td><td>null</td></tr><tr><td>food_name</td><td>string</td><td>null</td></tr><tr><td>calories</td><td>decimal(6,2)</td><td>null</td></tr><tr><td>country_of_origin</td><td>string</td><td>null</td></tr><tr><td>allergens</td><td>string</td><td>null</td></tr></tbody></table></div>"
      ]
     },
     "metadata": {
      "application/vnd.databricks.v1+output": {
       "addedWidgets": {},
       "aggData": [],
       "aggError": "",
       "aggOverflow": false,
       "aggSchema": [],
       "aggSeriesLimitReached": false,
       "aggType": "",
       "arguments": {},
       "columnCustomDisplayInfos": {},
       "data": [
        [
         "food_type",
         "string",
         null
        ],
        [
         "food_name",
         "string",
         null
        ],
        [
         "calories",
         "decimal(6,2)",
         null
        ],
        [
         "country_of_origin",
         "string",
         null
        ],
        [
         "allergens",
         "string",
         null
        ]
       ],
       "datasetInfos": [],
       "dbfsResultPath": null,
       "isJsonSchema": true,
       "metadata": {
        "isDbfsCommandResult": false
       },
       "overflow": false,
       "plotOptions": {
        "customPlotOptions": {},
        "displayType": "table",
        "pivotAggregation": null,
        "pivotColumns": null,
        "xColumns": null,
        "yColumns": null
       },
       "removedWidgets": [],
       "schema": [
        {
         "metadata": "{\"comment\":\"name of the column\"}",
         "name": "col_name",
         "type": "\"string\""
        },
        {
         "metadata": "{\"comment\":\"data type of the column\"}",
         "name": "data_type",
         "type": "\"string\""
        },
        {
         "metadata": "{\"comment\":\"comment of the column\"}",
         "name": "comment",
         "type": "\"string\""
        }
       ],
       "type": "table"
      }
     },
     "output_type": "display_data"
    }
   ],
   "source": [
    "%sql\n",
    "describe extended global_temp.g_temp_view_foods;"
   ]
  },
  {
   "cell_type": "code",
   "execution_count": 0,
   "metadata": {
    "application/vnd.databricks.v1+cell": {
     "cellMetadata": {
      "byteLimit": 2048000,
      "rowLimit": 10000
     },
     "inputWidgets": {},
     "nuid": "d6cacb49-7765-449c-9cab-f12e027bcb05",
     "showTitle": false,
     "title": ""
    }
   },
   "outputs": [
    {
     "output_type": "display_data",
     "data": {
      "text/html": [
       "<style scoped>\n",
       "  .table-result-container {\n",
       "    max-height: 300px;\n",
       "    overflow: auto;\n",
       "  }\n",
       "  table, th, td {\n",
       "    border: 1px solid black;\n",
       "    border-collapse: collapse;\n",
       "  }\n",
       "  th, td {\n",
       "    padding: 5px;\n",
       "  }\n",
       "  th {\n",
       "    text-align: left;\n",
       "  }\n",
       "</style><div class='table-result-container'><table class='table-result'><thead style='background-color: white'><tr></tr></thead><tbody></tbody></table></div>"
      ]
     },
     "metadata": {
      "application/vnd.databricks.v1+output": {
       "addedWidgets": {},
       "aggData": [],
       "aggError": "",
       "aggOverflow": false,
       "aggSchema": [],
       "aggSeriesLimitReached": false,
       "aggType": "",
       "arguments": {},
       "columnCustomDisplayInfos": {},
       "data": [],
       "datasetInfos": [],
       "dbfsResultPath": null,
       "isJsonSchema": true,
       "metadata": {
        "isDbfsCommandResult": false
       },
       "overflow": false,
       "plotOptions": {
        "customPlotOptions": {},
        "displayType": "table",
        "pivotAggregation": null,
        "pivotColumns": null,
        "xColumns": null,
        "yColumns": null
       },
       "removedWidgets": [],
       "schema": [],
       "type": "table"
      }
     },
     "output_type": "display_data"
    }
   ],
   "source": [
    "%sql\n",
    "drop view view_foods;"
   ]
  },
  {
   "cell_type": "code",
   "execution_count": 0,
   "metadata": {
    "application/vnd.databricks.v1+cell": {
     "cellMetadata": {
      "byteLimit": 2048000,
      "rowLimit": 10000
     },
     "inputWidgets": {},
     "nuid": "7dd80369-7e98-443f-ba62-4386febfafa2",
     "showTitle": false,
     "title": ""
    }
   },
   "outputs": [
    {
     "output_type": "display_data",
     "data": {
      "text/html": [
       "<style scoped>\n",
       "  .table-result-container {\n",
       "    max-height: 300px;\n",
       "    overflow: auto;\n",
       "  }\n",
       "  table, th, td {\n",
       "    border: 1px solid black;\n",
       "    border-collapse: collapse;\n",
       "  }\n",
       "  th, td {\n",
       "    padding: 5px;\n",
       "  }\n",
       "  th {\n",
       "    text-align: left;\n",
       "  }\n",
       "</style><div class='table-result-container'><table class='table-result'><thead style='background-color: white'><tr></tr></thead><tbody></tbody></table></div>"
      ]
     },
     "metadata": {
      "application/vnd.databricks.v1+output": {
       "addedWidgets": {},
       "aggData": [],
       "aggError": "",
       "aggOverflow": false,
       "aggSchema": [],
       "aggSeriesLimitReached": false,
       "aggType": "",
       "arguments": {},
       "columnCustomDisplayInfos": {},
       "data": [],
       "datasetInfos": [],
       "dbfsResultPath": null,
       "isJsonSchema": true,
       "metadata": {
        "isDbfsCommandResult": false
       },
       "overflow": false,
       "plotOptions": {
        "customPlotOptions": {},
        "displayType": "table",
        "pivotAggregation": null,
        "pivotColumns": null,
        "xColumns": null,
        "yColumns": null
       },
       "removedWidgets": [],
       "schema": [],
       "type": "table"
      }
     },
     "output_type": "display_data"
    }
   ],
   "source": [
    "%sql\n",
    "drop view global_temp.g_temp_view_foods;"
   ]
  },
  {
   "cell_type": "code",
   "execution_count": 0,
   "metadata": {
    "application/vnd.databricks.v1+cell": {
     "cellMetadata": {
      "byteLimit": 2048000,
      "rowLimit": 10000
     },
     "inputWidgets": {},
     "nuid": "49de4727-7127-49fd-a397-8f934b5c7dd5",
     "showTitle": false,
     "title": ""
    }
   },
   "outputs": [
    {
     "output_type": "display_data",
     "data": {
      "text/html": [
       "<style scoped>\n",
       "  .table-result-container {\n",
       "    max-height: 300px;\n",
       "    overflow: auto;\n",
       "  }\n",
       "  table, th, td {\n",
       "    border: 1px solid black;\n",
       "    border-collapse: collapse;\n",
       "  }\n",
       "  th, td {\n",
       "    padding: 5px;\n",
       "  }\n",
       "  th {\n",
       "    text-align: left;\n",
       "  }\n",
       "</style><div class='table-result-container'><table class='table-result'><thead style='background-color: white'><tr><th>database</th><th>tableName</th><th>isTemporary</th></tr></thead><tbody><tr><td>testdb</td><td>dairy_foods</td><td>false</td></tr><tr><td>testdb</td><td>employee</td><td>false</td></tr><tr><td>testdb</td><td>foods</td><td>false</td></tr><tr><td>testdb</td><td>foods_parti</td><td>false</td></tr><tr><td>testdb</td><td>soy_foods</td><td>false</td></tr></tbody></table></div>"
      ]
     },
     "metadata": {
      "application/vnd.databricks.v1+output": {
       "addedWidgets": {},
       "aggData": [],
       "aggError": "",
       "aggOverflow": false,
       "aggSchema": [],
       "aggSeriesLimitReached": false,
       "aggType": "",
       "arguments": {},
       "columnCustomDisplayInfos": {},
       "data": [
        [
         "testdb",
         "dairy_foods",
         false
        ],
        [
         "testdb",
         "employee",
         false
        ],
        [
         "testdb",
         "foods",
         false
        ],
        [
         "testdb",
         "foods_parti",
         false
        ],
        [
         "testdb",
         "soy_foods",
         false
        ]
       ],
       "datasetInfos": [],
       "dbfsResultPath": null,
       "isJsonSchema": true,
       "metadata": {
        "isDbfsCommandResult": false
       },
       "overflow": false,
       "plotOptions": {
        "customPlotOptions": {},
        "displayType": "table",
        "pivotAggregation": null,
        "pivotColumns": null,
        "xColumns": null,
        "yColumns": null
       },
       "removedWidgets": [],
       "schema": [
        {
         "metadata": "{}",
         "name": "database",
         "type": "\"string\""
        },
        {
         "metadata": "{}",
         "name": "tableName",
         "type": "\"string\""
        },
        {
         "metadata": "{}",
         "name": "isTemporary",
         "type": "\"boolean\""
        }
       ],
       "type": "table"
      }
     },
     "output_type": "display_data"
    }
   ],
   "source": [
    "%sql\n",
    "show tables;"
   ]
  },
  {
   "cell_type": "code",
   "execution_count": 0,
   "metadata": {
    "application/vnd.databricks.v1+cell": {
     "cellMetadata": {
      "byteLimit": 2048000,
      "rowLimit": 10000
     },
     "inputWidgets": {},
     "nuid": "0168d63e-f6a7-4d1c-9145-8347db70bdec",
     "showTitle": false,
     "title": ""
    }
   },
   "outputs": [
    {
     "output_type": "display_data",
     "data": {
      "text/html": [
       "<style scoped>\n",
       "  .table-result-container {\n",
       "    max-height: 300px;\n",
       "    overflow: auto;\n",
       "  }\n",
       "  table, th, td {\n",
       "    border: 1px solid black;\n",
       "    border-collapse: collapse;\n",
       "  }\n",
       "  th, td {\n",
       "    padding: 5px;\n",
       "  }\n",
       "  th {\n",
       "    text-align: left;\n",
       "  }\n",
       "</style><div class='table-result-container'><table class='table-result'><thead style='background-color: white'><tr></tr></thead><tbody></tbody></table></div>"
      ]
     },
     "metadata": {
      "application/vnd.databricks.v1+output": {
       "addedWidgets": {},
       "aggData": [],
       "aggError": "",
       "aggOverflow": false,
       "aggSchema": [],
       "aggSeriesLimitReached": false,
       "aggType": "",
       "arguments": {},
       "columnCustomDisplayInfos": {},
       "data": [],
       "datasetInfos": [],
       "dbfsResultPath": null,
       "isJsonSchema": true,
       "metadata": {
        "isDbfsCommandResult": false
       },
       "overflow": false,
       "plotOptions": {
        "customPlotOptions": {},
        "displayType": "table",
        "pivotAggregation": null,
        "pivotColumns": null,
        "xColumns": null,
        "yColumns": null
       },
       "removedWidgets": [],
       "schema": [],
       "type": "table"
      }
     },
     "output_type": "display_data"
    }
   ],
   "source": [
    "%sql\n",
    "drop table dairy_foods;\n",
    "drop table foods_parti;\n",
    "drop table soy_foods;"
   ]
  },
  {
   "cell_type": "code",
   "execution_count": 0,
   "metadata": {
    "application/vnd.databricks.v1+cell": {
     "cellMetadata": {
      "byteLimit": 2048000,
      "rowLimit": 10000
     },
     "inputWidgets": {},
     "nuid": "833050cf-0a3f-46e2-bd52-871933edf284",
     "showTitle": false,
     "title": ""
    }
   },
   "outputs": [
    {
     "output_type": "display_data",
     "data": {
      "text/html": [
       "<style scoped>\n",
       "  .table-result-container {\n",
       "    max-height: 300px;\n",
       "    overflow: auto;\n",
       "  }\n",
       "  table, th, td {\n",
       "    border: 1px solid black;\n",
       "    border-collapse: collapse;\n",
       "  }\n",
       "  th, td {\n",
       "    padding: 5px;\n",
       "  }\n",
       "  th {\n",
       "    text-align: left;\n",
       "  }\n",
       "</style><div class='table-result-container'><table class='table-result'><thead style='background-color: white'><tr><th>database</th><th>tableName</th><th>isTemporary</th></tr></thead><tbody><tr><td>testdb</td><td>employee</td><td>false</td></tr><tr><td>testdb</td><td>foods</td><td>false</td></tr></tbody></table></div>"
      ]
     },
     "metadata": {
      "application/vnd.databricks.v1+output": {
       "addedWidgets": {},
       "aggData": [],
       "aggError": "",
       "aggOverflow": false,
       "aggSchema": [],
       "aggSeriesLimitReached": false,
       "aggType": "",
       "arguments": {},
       "columnCustomDisplayInfos": {},
       "data": [
        [
         "testdb",
         "employee",
         false
        ],
        [
         "testdb",
         "foods",
         false
        ]
       ],
       "datasetInfos": [],
       "dbfsResultPath": null,
       "isJsonSchema": true,
       "metadata": {
        "isDbfsCommandResult": false
       },
       "overflow": false,
       "plotOptions": {
        "customPlotOptions": {},
        "displayType": "table",
        "pivotAggregation": null,
        "pivotColumns": null,
        "xColumns": null,
        "yColumns": null
       },
       "removedWidgets": [],
       "schema": [
        {
         "metadata": "{}",
         "name": "database",
         "type": "\"string\""
        },
        {
         "metadata": "{}",
         "name": "tableName",
         "type": "\"string\""
        },
        {
         "metadata": "{}",
         "name": "isTemporary",
         "type": "\"boolean\""
        }
       ],
       "type": "table"
      }
     },
     "output_type": "display_data"
    }
   ],
   "source": [
    "%sql\n",
    "show tables;"
   ]
  },
  {
   "cell_type": "code",
   "execution_count": 0,
   "metadata": {
    "application/vnd.databricks.v1+cell": {
     "cellMetadata": {
      "byteLimit": 2048000,
      "rowLimit": 10000
     },
     "inputWidgets": {},
     "nuid": "bcb25f07-a18d-4d60-8bd4-abcf4c5cbd82",
     "showTitle": false,
     "title": ""
    }
   },
   "outputs": [
    {
     "output_type": "display_data",
     "data": {
      "text/html": [
       "<style scoped>\n",
       "  .table-result-container {\n",
       "    max-height: 300px;\n",
       "    overflow: auto;\n",
       "  }\n",
       "  table, th, td {\n",
       "    border: 1px solid black;\n",
       "    border-collapse: collapse;\n",
       "  }\n",
       "  th, td {\n",
       "    padding: 5px;\n",
       "  }\n",
       "  th {\n",
       "    text-align: left;\n",
       "  }\n",
       "</style><div class='table-result-container'><table class='table-result'><thead style='background-color: white'><tr><th>col_name</th><th>data_type</th><th>comment</th></tr></thead><tbody><tr><td>food_type</td><td>varchar(9)</td><td>null</td></tr><tr><td>food_name</td><td>varchar(256)</td><td>null</td></tr><tr><td>calories</td><td>decimal(6,2)</td><td>null</td></tr><tr><td>country_of_origin</td><td>varchar(50)</td><td>null</td></tr><tr><td>allergens</td><td>varchar(9)</td><td>null</td></tr><tr><td></td><td></td><td></td></tr><tr><td># Delta Statistics Columns</td><td></td><td></td></tr><tr><td>Column Names</td><td>allergens, calories, country_of_origin, food_name, food_type</td><td></td></tr><tr><td>Column Selection Method</td><td>first-32</td><td></td></tr><tr><td></td><td></td><td></td></tr><tr><td># Detailed Table Information</td><td></td><td></td></tr><tr><td>Catalog</td><td>spark_catalog</td><td></td></tr><tr><td>Database</td><td>testdb</td><td></td></tr><tr><td>Table</td><td>foods</td><td></td></tr><tr><td>Created Time</td><td>Wed Feb 14 17:03:00 UTC 2024</td><td></td></tr><tr><td>Last Access</td><td>UNKNOWN</td><td></td></tr><tr><td>Created By</td><td>Spark 3.5.0</td><td></td></tr><tr><td>Type</td><td>MANAGED</td><td></td></tr><tr><td>Location</td><td>dbfs:/user/hive/warehouse/testdb.db/foods</td><td></td></tr><tr><td>Provider</td><td>delta</td><td></td></tr><tr><td>Owner</td><td>root</td><td></td></tr><tr><td>Is_managed_location</td><td>true</td><td></td></tr><tr><td>Table Properties</td><td>[delta.minReaderVersion=1,delta.minWriterVersion=2]</td><td></td></tr></tbody></table></div>"
      ]
     },
     "metadata": {
      "application/vnd.databricks.v1+output": {
       "addedWidgets": {},
       "aggData": [],
       "aggError": "",
       "aggOverflow": false,
       "aggSchema": [],
       "aggSeriesLimitReached": false,
       "aggType": "",
       "arguments": {},
       "columnCustomDisplayInfos": {},
       "data": [
        [
         "food_type",
         "varchar(9)",
         null
        ],
        [
         "food_name",
         "varchar(256)",
         null
        ],
        [
         "calories",
         "decimal(6,2)",
         null
        ],
        [
         "country_of_origin",
         "varchar(50)",
         null
        ],
        [
         "allergens",
         "varchar(9)",
         null
        ],
        [
         "",
         "",
         ""
        ],
        [
         "# Delta Statistics Columns",
         "",
         ""
        ],
        [
         "Column Names",
         "allergens, calories, country_of_origin, food_name, food_type",
         ""
        ],
        [
         "Column Selection Method",
         "first-32",
         ""
        ],
        [
         "",
         "",
         ""
        ],
        [
         "# Detailed Table Information",
         "",
         ""
        ],
        [
         "Catalog",
         "spark_catalog",
         ""
        ],
        [
         "Database",
         "testdb",
         ""
        ],
        [
         "Table",
         "foods",
         ""
        ],
        [
         "Created Time",
         "Wed Feb 14 17:03:00 UTC 2024",
         ""
        ],
        [
         "Last Access",
         "UNKNOWN",
         ""
        ],
        [
         "Created By",
         "Spark 3.5.0",
         ""
        ],
        [
         "Type",
         "MANAGED",
         ""
        ],
        [
         "Location",
         "dbfs:/user/hive/warehouse/testdb.db/foods",
         ""
        ],
        [
         "Provider",
         "delta",
         ""
        ],
        [
         "Owner",
         "root",
         ""
        ],
        [
         "Is_managed_location",
         "true",
         ""
        ],
        [
         "Table Properties",
         "[delta.minReaderVersion=1,delta.minWriterVersion=2]",
         ""
        ]
       ],
       "datasetInfos": [],
       "dbfsResultPath": null,
       "isJsonSchema": true,
       "metadata": {
        "isDbfsCommandResult": false
       },
       "overflow": false,
       "plotOptions": {
        "customPlotOptions": {},
        "displayType": "table",
        "pivotAggregation": null,
        "pivotColumns": null,
        "xColumns": null,
        "yColumns": null
       },
       "removedWidgets": [],
       "schema": [
        {
         "metadata": "{\"comment\":\"name of the column\"}",
         "name": "col_name",
         "type": "\"string\""
        },
        {
         "metadata": "{\"comment\":\"data type of the column\"}",
         "name": "data_type",
         "type": "\"string\""
        },
        {
         "metadata": "{\"comment\":\"comment of the column\"}",
         "name": "comment",
         "type": "\"string\""
        }
       ],
       "type": "table"
      }
     },
     "output_type": "display_data"
    }
   ],
   "source": [
    "%sql\n",
    "desc extended foods;"
   ]
  },
  {
   "cell_type": "code",
   "execution_count": 0,
   "metadata": {
    "application/vnd.databricks.v1+cell": {
     "cellMetadata": {
      "byteLimit": 2048000,
      "rowLimit": 10000
     },
     "inputWidgets": {},
     "nuid": "40b4cd06-6353-4bf7-9586-591b8d239630",
     "showTitle": false,
     "title": ""
    }
   },
   "outputs": [
    {
     "output_type": "display_data",
     "data": {
      "text/html": [
       "<style scoped>\n",
       "  .table-result-container {\n",
       "    max-height: 300px;\n",
       "    overflow: auto;\n",
       "  }\n",
       "  table, th, td {\n",
       "    border: 1px solid black;\n",
       "    border-collapse: collapse;\n",
       "  }\n",
       "  th, td {\n",
       "    padding: 5px;\n",
       "  }\n",
       "  th {\n",
       "    text-align: left;\n",
       "  }\n",
       "</style><div class='table-result-container'><table class='table-result'><thead style='background-color: white'><tr><th>path</th><th>name</th><th>size</th><th>modificationTime</th></tr></thead><tbody><tr><td>dbfs:/user/hive/warehouse/testdb.db/foods/_delta_log/</td><td>_delta_log/</td><td>0</td><td>0</td></tr><tr><td>dbfs:/user/hive/warehouse/testdb.db/foods/part-00000-29f758b5-545d-4ca3-beef-5b137eea7cdc-c000.snappy.parquet</td><td>part-00000-29f758b5-545d-4ca3-beef-5b137eea7cdc-c000.snappy.parquet</td><td>2357</td><td>1707930235000</td></tr><tr><td>dbfs:/user/hive/warehouse/testdb.db/foods/part-00000-2ff3266c-6f60-408b-96bd-92f3573d14fa-c000.snappy.parquet</td><td>part-00000-2ff3266c-6f60-408b-96bd-92f3573d14fa-c000.snappy.parquet</td><td>2359</td><td>1707930208000</td></tr><tr><td>dbfs:/user/hive/warehouse/testdb.db/foods/part-00000-54e7cf32-450a-43b3-8843-d3bec651750d-c000.snappy.parquet</td><td>part-00000-54e7cf32-450a-43b3-8843-d3bec651750d-c000.snappy.parquet</td><td>2617</td><td>1707930265000</td></tr><tr><td>dbfs:/user/hive/warehouse/testdb.db/foods/part-00000-569c392d-6026-480a-be4a-1ed5005daafd-c000.snappy.parquet</td><td>part-00000-569c392d-6026-480a-be4a-1ed5005daafd-c000.snappy.parquet</td><td>2610</td><td>1707930250000</td></tr><tr><td>dbfs:/user/hive/warehouse/testdb.db/foods/part-00000-763e1b1e-ab73-45f6-ba3e-d19fa92201f5-c000.snappy.parquet</td><td>part-00000-763e1b1e-ab73-45f6-ba3e-d19fa92201f5-c000.snappy.parquet</td><td>2469</td><td>1707930233000</td></tr><tr><td>dbfs:/user/hive/warehouse/testdb.db/foods/part-00000-7868518f-2e33-4a15-b853-cee4b46026f1-c000.snappy.parquet</td><td>part-00000-7868518f-2e33-4a15-b853-cee4b46026f1-c000.snappy.parquet</td><td>2279</td><td>1707930261000</td></tr><tr><td>dbfs:/user/hive/warehouse/testdb.db/foods/part-00000-8fc29632-c701-4684-85d6-bd6df457354a-c000.snappy.parquet</td><td>part-00000-8fc29632-c701-4684-85d6-bd6df457354a-c000.snappy.parquet</td><td>2534</td><td>1707930254000</td></tr><tr><td>dbfs:/user/hive/warehouse/testdb.db/foods/part-00000-99f72f0f-919e-43a8-abd4-ac8949d3268c-c000.snappy.parquet</td><td>part-00000-99f72f0f-919e-43a8-abd4-ac8949d3268c-c000.snappy.parquet</td><td>2535</td><td>1707930216000</td></tr><tr><td>dbfs:/user/hive/warehouse/testdb.db/foods/part-00000-ad1fb91f-1401-4faa-986d-7d5eee8deee4-c000.snappy.parquet</td><td>part-00000-ad1fb91f-1401-4faa-986d-7d5eee8deee4-c000.snappy.parquet</td><td>2397</td><td>1707930220000</td></tr><tr><td>dbfs:/user/hive/warehouse/testdb.db/foods/part-00000-ae2c4035-939d-474a-967c-18e3393dd825-c000.snappy.parquet</td><td>part-00000-ae2c4035-939d-474a-967c-18e3393dd825-c000.snappy.parquet</td><td>2547</td><td>1707930205000</td></tr><tr><td>dbfs:/user/hive/warehouse/testdb.db/foods/part-00000-afa4221a-61b8-46e1-9f67-88b06320dcbb-c000.snappy.parquet</td><td>part-00000-afa4221a-61b8-46e1-9f67-88b06320dcbb-c000.snappy.parquet</td><td>2274</td><td>1707930211000</td></tr><tr><td>dbfs:/user/hive/warehouse/testdb.db/foods/part-00000-b0c43c70-efb7-4f4b-b64a-6db22d9e127d-c000.snappy.parquet</td><td>part-00000-b0c43c70-efb7-4f4b-b64a-6db22d9e127d-c000.snappy.parquet</td><td>2538</td><td>1707930223000</td></tr><tr><td>dbfs:/user/hive/warehouse/testdb.db/foods/part-00000-bc3b812e-9114-45ae-ad8c-8a3f9345e746-c000.snappy.parquet</td><td>part-00000-bc3b812e-9114-45ae-ad8c-8a3f9345e746-c000.snappy.parquet</td><td>2349</td><td>1707930229000</td></tr><tr><td>dbfs:/user/hive/warehouse/testdb.db/foods/part-00000-cbd63f9f-2f97-4163-b4e3-eb6f0e8743fb-c000.snappy.parquet</td><td>part-00000-cbd63f9f-2f97-4163-b4e3-eb6f0e8743fb-c000.snappy.parquet</td><td>2306</td><td>1707930242000</td></tr><tr><td>dbfs:/user/hive/warehouse/testdb.db/foods/part-00000-cede3134-5b3b-4248-a055-248228487f12-c000.snappy.parquet</td><td>part-00000-cede3134-5b3b-4248-a055-248228487f12-c000.snappy.parquet</td><td>2317</td><td>1707930246000</td></tr><tr><td>dbfs:/user/hive/warehouse/testdb.db/foods/part-00000-e373fcba-b263-450b-988b-949c2621965a-c000.snappy.parquet</td><td>part-00000-e373fcba-b263-450b-988b-949c2621965a-c000.snappy.parquet</td><td>2448</td><td>1707930269000</td></tr><tr><td>dbfs:/user/hive/warehouse/testdb.db/foods/part-00000-e3a5514c-7c49-461e-91d9-5eb32438f740-c000.snappy.parquet</td><td>part-00000-e3a5514c-7c49-461e-91d9-5eb32438f740-c000.snappy.parquet</td><td>2449</td><td>1707930239000</td></tr><tr><td>dbfs:/user/hive/warehouse/testdb.db/foods/part-00000-e717522e-47ca-489d-8370-adce701d3faf-c000.snappy.parquet</td><td>part-00000-e717522e-47ca-489d-8370-adce701d3faf-c000.snappy.parquet</td><td>2431</td><td>1707930257000</td></tr><tr><td>dbfs:/user/hive/warehouse/testdb.db/foods/part-00000-ec567ae4-71bc-4f18-8203-20a1e6cd8d63-c000.snappy.parquet</td><td>part-00000-ec567ae4-71bc-4f18-8203-20a1e6cd8d63-c000.snappy.parquet</td><td>2367</td><td>1707930213000</td></tr><tr><td>dbfs:/user/hive/warehouse/testdb.db/foods/part-00000-f05f8135-6020-447f-bc8c-c3dfb4c099de-c000.snappy.parquet</td><td>part-00000-f05f8135-6020-447f-bc8c-c3dfb4c099de-c000.snappy.parquet</td><td>2347</td><td>1707930227000</td></tr></tbody></table></div>"
      ]
     },
     "metadata": {
      "application/vnd.databricks.v1+output": {
       "addedWidgets": {},
       "aggData": [],
       "aggError": "",
       "aggOverflow": false,
       "aggSchema": [],
       "aggSeriesLimitReached": false,
       "aggType": "",
       "arguments": {},
       "columnCustomDisplayInfos": {},
       "data": [
        [
         "dbfs:/user/hive/warehouse/testdb.db/foods/_delta_log/",
         "_delta_log/",
         0,
         0
        ],
        [
         "dbfs:/user/hive/warehouse/testdb.db/foods/part-00000-29f758b5-545d-4ca3-beef-5b137eea7cdc-c000.snappy.parquet",
         "part-00000-29f758b5-545d-4ca3-beef-5b137eea7cdc-c000.snappy.parquet",
         2357,
         1707930235000
        ],
        [
         "dbfs:/user/hive/warehouse/testdb.db/foods/part-00000-2ff3266c-6f60-408b-96bd-92f3573d14fa-c000.snappy.parquet",
         "part-00000-2ff3266c-6f60-408b-96bd-92f3573d14fa-c000.snappy.parquet",
         2359,
         1707930208000
        ],
        [
         "dbfs:/user/hive/warehouse/testdb.db/foods/part-00000-54e7cf32-450a-43b3-8843-d3bec651750d-c000.snappy.parquet",
         "part-00000-54e7cf32-450a-43b3-8843-d3bec651750d-c000.snappy.parquet",
         2617,
         1707930265000
        ],
        [
         "dbfs:/user/hive/warehouse/testdb.db/foods/part-00000-569c392d-6026-480a-be4a-1ed5005daafd-c000.snappy.parquet",
         "part-00000-569c392d-6026-480a-be4a-1ed5005daafd-c000.snappy.parquet",
         2610,
         1707930250000
        ],
        [
         "dbfs:/user/hive/warehouse/testdb.db/foods/part-00000-763e1b1e-ab73-45f6-ba3e-d19fa92201f5-c000.snappy.parquet",
         "part-00000-763e1b1e-ab73-45f6-ba3e-d19fa92201f5-c000.snappy.parquet",
         2469,
         1707930233000
        ],
        [
         "dbfs:/user/hive/warehouse/testdb.db/foods/part-00000-7868518f-2e33-4a15-b853-cee4b46026f1-c000.snappy.parquet",
         "part-00000-7868518f-2e33-4a15-b853-cee4b46026f1-c000.snappy.parquet",
         2279,
         1707930261000
        ],
        [
         "dbfs:/user/hive/warehouse/testdb.db/foods/part-00000-8fc29632-c701-4684-85d6-bd6df457354a-c000.snappy.parquet",
         "part-00000-8fc29632-c701-4684-85d6-bd6df457354a-c000.snappy.parquet",
         2534,
         1707930254000
        ],
        [
         "dbfs:/user/hive/warehouse/testdb.db/foods/part-00000-99f72f0f-919e-43a8-abd4-ac8949d3268c-c000.snappy.parquet",
         "part-00000-99f72f0f-919e-43a8-abd4-ac8949d3268c-c000.snappy.parquet",
         2535,
         1707930216000
        ],
        [
         "dbfs:/user/hive/warehouse/testdb.db/foods/part-00000-ad1fb91f-1401-4faa-986d-7d5eee8deee4-c000.snappy.parquet",
         "part-00000-ad1fb91f-1401-4faa-986d-7d5eee8deee4-c000.snappy.parquet",
         2397,
         1707930220000
        ],
        [
         "dbfs:/user/hive/warehouse/testdb.db/foods/part-00000-ae2c4035-939d-474a-967c-18e3393dd825-c000.snappy.parquet",
         "part-00000-ae2c4035-939d-474a-967c-18e3393dd825-c000.snappy.parquet",
         2547,
         1707930205000
        ],
        [
         "dbfs:/user/hive/warehouse/testdb.db/foods/part-00000-afa4221a-61b8-46e1-9f67-88b06320dcbb-c000.snappy.parquet",
         "part-00000-afa4221a-61b8-46e1-9f67-88b06320dcbb-c000.snappy.parquet",
         2274,
         1707930211000
        ],
        [
         "dbfs:/user/hive/warehouse/testdb.db/foods/part-00000-b0c43c70-efb7-4f4b-b64a-6db22d9e127d-c000.snappy.parquet",
         "part-00000-b0c43c70-efb7-4f4b-b64a-6db22d9e127d-c000.snappy.parquet",
         2538,
         1707930223000
        ],
        [
         "dbfs:/user/hive/warehouse/testdb.db/foods/part-00000-bc3b812e-9114-45ae-ad8c-8a3f9345e746-c000.snappy.parquet",
         "part-00000-bc3b812e-9114-45ae-ad8c-8a3f9345e746-c000.snappy.parquet",
         2349,
         1707930229000
        ],
        [
         "dbfs:/user/hive/warehouse/testdb.db/foods/part-00000-cbd63f9f-2f97-4163-b4e3-eb6f0e8743fb-c000.snappy.parquet",
         "part-00000-cbd63f9f-2f97-4163-b4e3-eb6f0e8743fb-c000.snappy.parquet",
         2306,
         1707930242000
        ],
        [
         "dbfs:/user/hive/warehouse/testdb.db/foods/part-00000-cede3134-5b3b-4248-a055-248228487f12-c000.snappy.parquet",
         "part-00000-cede3134-5b3b-4248-a055-248228487f12-c000.snappy.parquet",
         2317,
         1707930246000
        ],
        [
         "dbfs:/user/hive/warehouse/testdb.db/foods/part-00000-e373fcba-b263-450b-988b-949c2621965a-c000.snappy.parquet",
         "part-00000-e373fcba-b263-450b-988b-949c2621965a-c000.snappy.parquet",
         2448,
         1707930269000
        ],
        [
         "dbfs:/user/hive/warehouse/testdb.db/foods/part-00000-e3a5514c-7c49-461e-91d9-5eb32438f740-c000.snappy.parquet",
         "part-00000-e3a5514c-7c49-461e-91d9-5eb32438f740-c000.snappy.parquet",
         2449,
         1707930239000
        ],
        [
         "dbfs:/user/hive/warehouse/testdb.db/foods/part-00000-e717522e-47ca-489d-8370-adce701d3faf-c000.snappy.parquet",
         "part-00000-e717522e-47ca-489d-8370-adce701d3faf-c000.snappy.parquet",
         2431,
         1707930257000
        ],
        [
         "dbfs:/user/hive/warehouse/testdb.db/foods/part-00000-ec567ae4-71bc-4f18-8203-20a1e6cd8d63-c000.snappy.parquet",
         "part-00000-ec567ae4-71bc-4f18-8203-20a1e6cd8d63-c000.snappy.parquet",
         2367,
         1707930213000
        ],
        [
         "dbfs:/user/hive/warehouse/testdb.db/foods/part-00000-f05f8135-6020-447f-bc8c-c3dfb4c099de-c000.snappy.parquet",
         "part-00000-f05f8135-6020-447f-bc8c-c3dfb4c099de-c000.snappy.parquet",
         2347,
         1707930227000
        ]
       ],
       "datasetInfos": [],
       "dbfsResultPath": null,
       "isJsonSchema": true,
       "metadata": {
        "isDbfsCommandResult": false
       },
       "overflow": false,
       "plotOptions": {
        "customPlotOptions": {},
        "displayType": "table",
        "pivotAggregation": null,
        "pivotColumns": null,
        "xColumns": null,
        "yColumns": null
       },
       "removedWidgets": [],
       "schema": [
        {
         "metadata": "{}",
         "name": "path",
         "type": "\"string\""
        },
        {
         "metadata": "{}",
         "name": "name",
         "type": "\"string\""
        },
        {
         "metadata": "{}",
         "name": "size",
         "type": "\"long\""
        },
        {
         "metadata": "{}",
         "name": "modificationTime",
         "type": "\"long\""
        }
       ],
       "type": "table"
      }
     },
     "output_type": "display_data"
    }
   ],
   "source": [
    "%fs ls \"dbfs:/user/hive/warehouse/testdb.db/foods\""
   ]
  },
  {
   "cell_type": "code",
   "execution_count": 0,
   "metadata": {
    "application/vnd.databricks.v1+cell": {
     "cellMetadata": {
      "byteLimit": 2048000,
      "rowLimit": 10000
     },
     "inputWidgets": {},
     "nuid": "c1439578-5376-4848-a8c7-e881cbf045f8",
     "showTitle": false,
     "title": ""
    }
   },
   "outputs": [
    {
     "output_type": "display_data",
     "data": {
      "text/html": [
       "<style scoped>\n",
       "  .table-result-container {\n",
       "    max-height: 300px;\n",
       "    overflow: auto;\n",
       "  }\n",
       "  table, th, td {\n",
       "    border: 1px solid black;\n",
       "    border-collapse: collapse;\n",
       "  }\n",
       "  th, td {\n",
       "    padding: 5px;\n",
       "  }\n",
       "  th {\n",
       "    text-align: left;\n",
       "  }\n",
       "</style><div class='table-result-container'><table class='table-result'><thead style='background-color: white'><tr><th>path</th><th>name</th><th>size</th><th>modificationTime</th></tr></thead><tbody><tr><td>dbfs:/user/ctas/foods_partition/</td><td>foods_partition/</td><td>0</td><td>0</td></tr><tr><td>dbfs:/user/ctas/soy_foods/</td><td>soy_foods/</td><td>0</td><td>0</td></tr></tbody></table></div>"
      ]
     },
     "metadata": {
      "application/vnd.databricks.v1+output": {
       "addedWidgets": {},
       "aggData": [],
       "aggError": "",
       "aggOverflow": false,
       "aggSchema": [],
       "aggSeriesLimitReached": false,
       "aggType": "",
       "arguments": {},
       "columnCustomDisplayInfos": {},
       "data": [
        [
         "dbfs:/user/ctas/foods_partition/",
         "foods_partition/",
         0,
         0
        ],
        [
         "dbfs:/user/ctas/soy_foods/",
         "soy_foods/",
         0,
         0
        ]
       ],
       "datasetInfos": [],
       "dbfsResultPath": null,
       "isJsonSchema": true,
       "metadata": {
        "isDbfsCommandResult": false
       },
       "overflow": false,
       "plotOptions": {
        "customPlotOptions": {},
        "displayType": "table",
        "pivotAggregation": null,
        "pivotColumns": null,
        "xColumns": null,
        "yColumns": null
       },
       "removedWidgets": [],
       "schema": [
        {
         "metadata": "{}",
         "name": "path",
         "type": "\"string\""
        },
        {
         "metadata": "{}",
         "name": "name",
         "type": "\"string\""
        },
        {
         "metadata": "{}",
         "name": "size",
         "type": "\"long\""
        },
        {
         "metadata": "{}",
         "name": "modificationTime",
         "type": "\"long\""
        }
       ],
       "type": "table"
      }
     },
     "output_type": "display_data"
    }
   ],
   "source": [
    "%fs ls \"dbfs:/user/ctas\""
   ]
  },
  {
   "cell_type": "code",
   "execution_count": 0,
   "metadata": {
    "application/vnd.databricks.v1+cell": {
     "cellMetadata": {},
     "inputWidgets": {},
     "nuid": "e1bc5fdd-4d7c-420a-9b2a-8c9164393094",
     "showTitle": false,
     "title": ""
    }
   },
   "outputs": [],
   "source": []
  }
 ],
 "metadata": {
  "application/vnd.databricks.v1+notebook": {
   "dashboards": [],
   "language": "python",
   "notebookMetadata": {
    "mostRecentlyExecutedCommandWithImplicitDF": {
     "commandId": 3302854253971362,
     "dataframes": [
      "_sqldf"
     ]
    },
    "pythonIndentUnit": 4
   },
   "notebookName": "views-demo",
   "widgets": {}
  }
 },
 "nbformat": 4,
 "nbformat_minor": 0
}
