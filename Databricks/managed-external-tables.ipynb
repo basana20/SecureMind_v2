{
 "cells": [
  {
   "cell_type": "code",
   "execution_count": 0,
   "metadata": {
    "application/vnd.databricks.v1+cell": {
     "cellMetadata": {
      "byteLimit": 2048000,
      "rowLimit": 10000
     },
     "inputWidgets": {},
     "nuid": "455c48d7-d065-4ff7-9045-d3050f4fe346",
     "showTitle": false,
     "title": ""
    }
   },
   "outputs": [
    {
     "output_type": "display_data",
     "data": {
      "text/html": [
       "<style scoped>\n",
       "  .table-result-container {\n",
       "    max-height: 300px;\n",
       "    overflow: auto;\n",
       "  }\n",
       "  table, th, td {\n",
       "    border: 1px solid black;\n",
       "    border-collapse: collapse;\n",
       "  }\n",
       "  th, td {\n",
       "    padding: 5px;\n",
       "  }\n",
       "  th {\n",
       "    text-align: left;\n",
       "  }\n",
       "</style><div class='table-result-container'><table class='table-result'><thead style='background-color: white'><tr></tr></thead><tbody></tbody></table></div>"
      ]
     },
     "metadata": {
      "application/vnd.databricks.v1+output": {
       "addedWidgets": {},
       "aggData": [],
       "aggError": "",
       "aggOverflow": false,
       "aggSchema": [],
       "aggSeriesLimitReached": false,
       "aggType": "",
       "arguments": {},
       "columnCustomDisplayInfos": {},
       "data": [],
       "datasetInfos": [],
       "dbfsResultPath": null,
       "isJsonSchema": true,
       "metadata": {
        "isDbfsCommandResult": false
       },
       "overflow": false,
       "plotOptions": {
        "customPlotOptions": {},
        "displayType": "table",
        "pivotAggregation": null,
        "pivotColumns": null,
        "xColumns": null,
        "yColumns": null
       },
       "removedWidgets": [],
       "schema": [],
       "type": "table"
      }
     },
     "output_type": "display_data"
    }
   ],
   "source": [
    "%sql\n",
    "create table employee1 (id int, name string, salary double);"
   ]
  },
  {
   "cell_type": "code",
   "execution_count": 0,
   "metadata": {
    "application/vnd.databricks.v1+cell": {
     "cellMetadata": {
      "byteLimit": 2048000,
      "rowLimit": 10000
     },
     "inputWidgets": {},
     "nuid": "c1edccb4-1c00-4147-a6f7-ae83b25a4797",
     "showTitle": false,
     "title": ""
    }
   },
   "outputs": [
    {
     "output_type": "display_data",
     "data": {
      "text/html": [
       "<style scoped>\n",
       "  .table-result-container {\n",
       "    max-height: 300px;\n",
       "    overflow: auto;\n",
       "  }\n",
       "  table, th, td {\n",
       "    border: 1px solid black;\n",
       "    border-collapse: collapse;\n",
       "  }\n",
       "  th, td {\n",
       "    padding: 5px;\n",
       "  }\n",
       "  th {\n",
       "    text-align: left;\n",
       "  }\n",
       "</style><div class='table-result-container'><table class='table-result'><thead style='background-color: white'><tr><th>num_affected_rows</th><th>num_inserted_rows</th></tr></thead><tbody><tr><td>5</td><td>5</td></tr></tbody></table></div>"
      ]
     },
     "metadata": {
      "application/vnd.databricks.v1+output": {
       "addedWidgets": {},
       "aggData": [],
       "aggError": "",
       "aggOverflow": false,
       "aggSchema": [],
       "aggSeriesLimitReached": false,
       "aggType": "",
       "arguments": {},
       "columnCustomDisplayInfos": {},
       "data": [
        [
         5,
         5
        ]
       ],
       "datasetInfos": [],
       "dbfsResultPath": null,
       "isJsonSchema": true,
       "metadata": {
        "isDbfsCommandResult": false
       },
       "overflow": false,
       "plotOptions": {
        "customPlotOptions": {},
        "displayType": "table",
        "pivotAggregation": null,
        "pivotColumns": null,
        "xColumns": null,
        "yColumns": null
       },
       "removedWidgets": [],
       "schema": [
        {
         "metadata": "{}",
         "name": "num_affected_rows",
         "type": "\"long\""
        },
        {
         "metadata": "{}",
         "name": "num_inserted_rows",
         "type": "\"long\""
        }
       ],
       "type": "table"
      }
     },
     "output_type": "display_data"
    }
   ],
   "source": [
    "%sql\n",
    "insert into employee1 values\n",
    "(1, \"A\", 1000.00),\n",
    "(2, \"B\", 2000.00),\n",
    "(3, \"C\", 3000.00),\n",
    "(4, \"D\", 4000.00),\n",
    "(5, \"E\", 5000.00);"
   ]
  },
  {
   "cell_type": "code",
   "execution_count": 0,
   "metadata": {
    "application/vnd.databricks.v1+cell": {
     "cellMetadata": {
      "byteLimit": 2048000,
      "rowLimit": 10000
     },
     "inputWidgets": {},
     "nuid": "45e36a27-0241-4800-b785-4e8039f1f86d",
     "showTitle": false,
     "title": ""
    }
   },
   "outputs": [
    {
     "output_type": "display_data",
     "data": {
      "text/html": [
       "<style scoped>\n",
       "  .table-result-container {\n",
       "    max-height: 300px;\n",
       "    overflow: auto;\n",
       "  }\n",
       "  table, th, td {\n",
       "    border: 1px solid black;\n",
       "    border-collapse: collapse;\n",
       "  }\n",
       "  th, td {\n",
       "    padding: 5px;\n",
       "  }\n",
       "  th {\n",
       "    text-align: left;\n",
       "  }\n",
       "</style><div class='table-result-container'><table class='table-result'><thead style='background-color: white'><tr><th>num_affected_rows</th><th>num_inserted_rows</th></tr></thead><tbody><tr><td>5</td><td>5</td></tr></tbody></table></div>"
      ]
     },
     "metadata": {
      "application/vnd.databricks.v1+output": {
       "addedWidgets": {},
       "aggData": [],
       "aggError": "",
       "aggOverflow": false,
       "aggSchema": [],
       "aggSeriesLimitReached": false,
       "aggType": "",
       "arguments": {},
       "columnCustomDisplayInfos": {},
       "data": [
        [
         5,
         5
        ]
       ],
       "datasetInfos": [],
       "dbfsResultPath": null,
       "isJsonSchema": true,
       "metadata": {
        "isDbfsCommandResult": false
       },
       "overflow": false,
       "plotOptions": {
        "customPlotOptions": {},
        "displayType": "table",
        "pivotAggregation": null,
        "pivotColumns": null,
        "xColumns": null,
        "yColumns": null
       },
       "removedWidgets": [],
       "schema": [
        {
         "metadata": "{}",
         "name": "num_affected_rows",
         "type": "\"long\""
        },
        {
         "metadata": "{}",
         "name": "num_inserted_rows",
         "type": "\"long\""
        }
       ],
       "type": "table"
      }
     },
     "output_type": "display_data"
    }
   ],
   "source": [
    "%sql\n",
    "insert into employee1 values\n",
    "(6, \"F\", 6000.00),\n",
    "(7, \"G\", 2000.00),\n",
    "(8, \"H\", 3100.00),\n",
    "(9, \"I\", 4300.00),\n",
    "(10, \"J\", 1200.00);"
   ]
  },
  {
   "cell_type": "code",
   "execution_count": 0,
   "metadata": {
    "application/vnd.databricks.v1+cell": {
     "cellMetadata": {
      "byteLimit": 2048000,
      "rowLimit": 10000
     },
     "inputWidgets": {},
     "nuid": "65b08df8-9ae8-4540-85f7-6bc4d5d48c79",
     "showTitle": false,
     "title": ""
    }
   },
   "outputs": [
    {
     "output_type": "display_data",
     "data": {
      "text/html": [
       "<style scoped>\n",
       "  .table-result-container {\n",
       "    max-height: 300px;\n",
       "    overflow: auto;\n",
       "  }\n",
       "  table, th, td {\n",
       "    border: 1px solid black;\n",
       "    border-collapse: collapse;\n",
       "  }\n",
       "  th, td {\n",
       "    padding: 5px;\n",
       "  }\n",
       "  th {\n",
       "    text-align: left;\n",
       "  }\n",
       "</style><div class='table-result-container'><table class='table-result'><thead style='background-color: white'><tr><th>id</th><th>name</th><th>salary</th></tr></thead><tbody><tr><td>6</td><td>F</td><td>6000.0</td></tr><tr><td>7</td><td>G</td><td>2000.0</td></tr><tr><td>8</td><td>H</td><td>3100.0</td></tr><tr><td>9</td><td>I</td><td>4300.0</td></tr><tr><td>10</td><td>J</td><td>1200.0</td></tr><tr><td>1</td><td>A</td><td>1000.0</td></tr><tr><td>2</td><td>B</td><td>2000.0</td></tr><tr><td>3</td><td>C</td><td>3000.0</td></tr><tr><td>4</td><td>D</td><td>4000.0</td></tr><tr><td>5</td><td>E</td><td>5000.0</td></tr></tbody></table></div>"
      ]
     },
     "metadata": {
      "application/vnd.databricks.v1+output": {
       "addedWidgets": {},
       "aggData": [],
       "aggError": "",
       "aggOverflow": false,
       "aggSchema": [],
       "aggSeriesLimitReached": false,
       "aggType": "",
       "arguments": {},
       "columnCustomDisplayInfos": {},
       "data": [
        [
         6,
         "F",
         6000.0
        ],
        [
         7,
         "G",
         2000.0
        ],
        [
         8,
         "H",
         3100.0
        ],
        [
         9,
         "I",
         4300.0
        ],
        [
         10,
         "J",
         1200.0
        ],
        [
         1,
         "A",
         1000.0
        ],
        [
         2,
         "B",
         2000.0
        ],
        [
         3,
         "C",
         3000.0
        ],
        [
         4,
         "D",
         4000.0
        ],
        [
         5,
         "E",
         5000.0
        ]
       ],
       "datasetInfos": [],
       "dbfsResultPath": null,
       "isJsonSchema": true,
       "metadata": {
        "isDbfsCommandResult": false
       },
       "overflow": false,
       "plotOptions": {
        "customPlotOptions": {},
        "displayType": "table",
        "pivotAggregation": null,
        "pivotColumns": null,
        "xColumns": null,
        "yColumns": null
       },
       "removedWidgets": [],
       "schema": [
        {
         "metadata": "{}",
         "name": "id",
         "type": "\"integer\""
        },
        {
         "metadata": "{}",
         "name": "name",
         "type": "\"string\""
        },
        {
         "metadata": "{}",
         "name": "salary",
         "type": "\"double\""
        }
       ],
       "type": "table"
      }
     },
     "output_type": "display_data"
    }
   ],
   "source": [
    "%sql\n",
    "select * from employee1;"
   ]
  },
  {
   "cell_type": "code",
   "execution_count": 0,
   "metadata": {
    "application/vnd.databricks.v1+cell": {
     "cellMetadata": {
      "byteLimit": 2048000,
      "rowLimit": 10000
     },
     "inputWidgets": {},
     "nuid": "3363d855-c5ef-43e8-a060-e2aa41cc5e88",
     "showTitle": false,
     "title": ""
    }
   },
   "outputs": [
    {
     "output_type": "display_data",
     "data": {
      "text/html": [
       "<style scoped>\n",
       "  .table-result-container {\n",
       "    max-height: 300px;\n",
       "    overflow: auto;\n",
       "  }\n",
       "  table, th, td {\n",
       "    border: 1px solid black;\n",
       "    border-collapse: collapse;\n",
       "  }\n",
       "  th, td {\n",
       "    padding: 5px;\n",
       "  }\n",
       "  th {\n",
       "    text-align: left;\n",
       "  }\n",
       "</style><div class='table-result-container'><table class='table-result'><thead style='background-color: white'><tr><th>databaseName</th></tr></thead><tbody><tr><td>default</td></tr><tr><td>testdb</td></tr></tbody></table></div>"
      ]
     },
     "metadata": {
      "application/vnd.databricks.v1+output": {
       "addedWidgets": {},
       "aggData": [],
       "aggError": "",
       "aggOverflow": false,
       "aggSchema": [],
       "aggSeriesLimitReached": false,
       "aggType": "",
       "arguments": {},
       "columnCustomDisplayInfos": {},
       "data": [
        [
         "default"
        ],
        [
         "testdb"
        ]
       ],
       "datasetInfos": [],
       "dbfsResultPath": null,
       "isJsonSchema": true,
       "metadata": {
        "isDbfsCommandResult": false
       },
       "overflow": false,
       "plotOptions": {
        "customPlotOptions": {},
        "displayType": "table",
        "pivotAggregation": null,
        "pivotColumns": null,
        "xColumns": null,
        "yColumns": null
       },
       "removedWidgets": [],
       "schema": [
        {
         "metadata": "{}",
         "name": "databaseName",
         "type": "\"string\""
        }
       ],
       "type": "table"
      }
     },
     "output_type": "display_data"
    }
   ],
   "source": [
    "%sql\n",
    "show databases;"
   ]
  },
  {
   "cell_type": "code",
   "execution_count": 0,
   "metadata": {
    "application/vnd.databricks.v1+cell": {
     "cellMetadata": {
      "byteLimit": 2048000,
      "rowLimit": 10000
     },
     "inputWidgets": {},
     "nuid": "9828d803-f077-4857-8a0a-4a411147667f",
     "showTitle": false,
     "title": ""
    }
   },
   "outputs": [
    {
     "output_type": "display_data",
     "data": {
      "text/html": [
       "<style scoped>\n",
       "  .table-result-container {\n",
       "    max-height: 300px;\n",
       "    overflow: auto;\n",
       "  }\n",
       "  table, th, td {\n",
       "    border: 1px solid black;\n",
       "    border-collapse: collapse;\n",
       "  }\n",
       "  th, td {\n",
       "    padding: 5px;\n",
       "  }\n",
       "  th {\n",
       "    text-align: left;\n",
       "  }\n",
       "</style><div class='table-result-container'><table class='table-result'><thead style='background-color: white'><tr></tr></thead><tbody></tbody></table></div>"
      ]
     },
     "metadata": {
      "application/vnd.databricks.v1+output": {
       "addedWidgets": {},
       "aggData": [],
       "aggError": "",
       "aggOverflow": false,
       "aggSchema": [],
       "aggSeriesLimitReached": false,
       "aggType": "",
       "arguments": {},
       "columnCustomDisplayInfos": {},
       "data": [],
       "datasetInfos": [],
       "dbfsResultPath": null,
       "isJsonSchema": true,
       "metadata": {
        "isDbfsCommandResult": false
       },
       "overflow": false,
       "plotOptions": {
        "customPlotOptions": {},
        "displayType": "table",
        "pivotAggregation": null,
        "pivotColumns": null,
        "xColumns": null,
        "yColumns": null
       },
       "removedWidgets": [],
       "schema": [],
       "type": "table"
      }
     },
     "output_type": "display_data"
    }
   ],
   "source": [
    "%sql\n",
    "create database testdb;"
   ]
  },
  {
   "cell_type": "code",
   "execution_count": 0,
   "metadata": {
    "application/vnd.databricks.v1+cell": {
     "cellMetadata": {
      "byteLimit": 2048000,
      "rowLimit": 10000
     },
     "inputWidgets": {},
     "nuid": "d52d28a9-ae83-4dc1-9110-9acb17656ee1",
     "showTitle": false,
     "title": ""
    }
   },
   "outputs": [
    {
     "output_type": "display_data",
     "data": {
      "text/html": [
       "<style scoped>\n",
       "  .table-result-container {\n",
       "    max-height: 300px;\n",
       "    overflow: auto;\n",
       "  }\n",
       "  table, th, td {\n",
       "    border: 1px solid black;\n",
       "    border-collapse: collapse;\n",
       "  }\n",
       "  th, td {\n",
       "    padding: 5px;\n",
       "  }\n",
       "  th {\n",
       "    text-align: left;\n",
       "  }\n",
       "</style><div class='table-result-container'><table class='table-result'><thead style='background-color: white'><tr></tr></thead><tbody></tbody></table></div>"
      ]
     },
     "metadata": {
      "application/vnd.databricks.v1+output": {
       "addedWidgets": {},
       "aggData": [],
       "aggError": "",
       "aggOverflow": false,
       "aggSchema": [],
       "aggSeriesLimitReached": false,
       "aggType": "",
       "arguments": {},
       "columnCustomDisplayInfos": {},
       "data": [],
       "datasetInfos": [],
       "dbfsResultPath": null,
       "isJsonSchema": true,
       "metadata": {
        "isDbfsCommandResult": false
       },
       "overflow": false,
       "plotOptions": {
        "customPlotOptions": {},
        "displayType": "table",
        "pivotAggregation": null,
        "pivotColumns": null,
        "xColumns": null,
        "yColumns": null
       },
       "removedWidgets": [],
       "schema": [],
       "type": "table"
      }
     },
     "output_type": "display_data"
    }
   ],
   "source": [
    "%sql\n",
    "use testdb;"
   ]
  },
  {
   "cell_type": "code",
   "execution_count": 0,
   "metadata": {
    "application/vnd.databricks.v1+cell": {
     "cellMetadata": {
      "byteLimit": 2048000,
      "rowLimit": 10000
     },
     "inputWidgets": {},
     "nuid": "b4fa6b5f-dae6-49c5-9904-f8eb9876a62d",
     "showTitle": false,
     "title": ""
    }
   },
   "outputs": [
    {
     "output_type": "display_data",
     "data": {
      "text/html": [
       "<style scoped>\n",
       "  .table-result-container {\n",
       "    max-height: 300px;\n",
       "    overflow: auto;\n",
       "  }\n",
       "  table, th, td {\n",
       "    border: 1px solid black;\n",
       "    border-collapse: collapse;\n",
       "  }\n",
       "  th, td {\n",
       "    padding: 5px;\n",
       "  }\n",
       "  th {\n",
       "    text-align: left;\n",
       "  }\n",
       "</style><div class='table-result-container'><table class='table-result'><thead style='background-color: white'><tr><th>database</th><th>tableName</th><th>isTemporary</th></tr></thead><tbody></tbody></table></div>"
      ]
     },
     "metadata": {
      "application/vnd.databricks.v1+output": {
       "addedWidgets": {},
       "aggData": [],
       "aggError": "",
       "aggOverflow": false,
       "aggSchema": [],
       "aggSeriesLimitReached": false,
       "aggType": "",
       "arguments": {},
       "columnCustomDisplayInfos": {},
       "data": [],
       "datasetInfos": [],
       "dbfsResultPath": null,
       "isJsonSchema": true,
       "metadata": {
        "isDbfsCommandResult": false
       },
       "overflow": false,
       "plotOptions": {
        "customPlotOptions": {},
        "displayType": "table",
        "pivotAggregation": null,
        "pivotColumns": null,
        "xColumns": null,
        "yColumns": null
       },
       "removedWidgets": [],
       "schema": [
        {
         "metadata": "{}",
         "name": "database",
         "type": "\"string\""
        },
        {
         "metadata": "{}",
         "name": "tableName",
         "type": "\"string\""
        },
        {
         "metadata": "{}",
         "name": "isTemporary",
         "type": "\"boolean\""
        }
       ],
       "type": "table"
      }
     },
     "output_type": "display_data"
    }
   ],
   "source": [
    "%sql\n",
    "show tables;"
   ]
  },
  {
   "cell_type": "code",
   "execution_count": 0,
   "metadata": {
    "application/vnd.databricks.v1+cell": {
     "cellMetadata": {
      "byteLimit": 2048000,
      "rowLimit": 10000
     },
     "inputWidgets": {},
     "nuid": "a2bf5906-6e1b-4bb9-9f2f-e243841b4ffa",
     "showTitle": false,
     "title": ""
    }
   },
   "outputs": [
    {
     "output_type": "display_data",
     "data": {
      "text/html": [
       "<style scoped>\n",
       "  .table-result-container {\n",
       "    max-height: 300px;\n",
       "    overflow: auto;\n",
       "  }\n",
       "  table, th, td {\n",
       "    border: 1px solid black;\n",
       "    border-collapse: collapse;\n",
       "  }\n",
       "  th, td {\n",
       "    padding: 5px;\n",
       "  }\n",
       "  th {\n",
       "    text-align: left;\n",
       "  }\n",
       "</style><div class='table-result-container'><table class='table-result'><thead style='background-color: white'><tr></tr></thead><tbody></tbody></table></div>"
      ]
     },
     "metadata": {
      "application/vnd.databricks.v1+output": {
       "addedWidgets": {},
       "aggData": [],
       "aggError": "",
       "aggOverflow": false,
       "aggSchema": [],
       "aggSeriesLimitReached": false,
       "aggType": "",
       "arguments": {},
       "columnCustomDisplayInfos": {},
       "data": [],
       "datasetInfos": [],
       "dbfsResultPath": null,
       "isJsonSchema": true,
       "metadata": {
        "isDbfsCommandResult": false
       },
       "overflow": false,
       "plotOptions": {
        "customPlotOptions": {},
        "displayType": "table",
        "pivotAggregation": null,
        "pivotColumns": null,
        "xColumns": null,
        "yColumns": null
       },
       "removedWidgets": [],
       "schema": [],
       "type": "table"
      }
     },
     "output_type": "display_data"
    }
   ],
   "source": [
    "%sql\n",
    "create table employee (id int, name string, salary double);"
   ]
  },
  {
   "cell_type": "code",
   "execution_count": 0,
   "metadata": {
    "application/vnd.databricks.v1+cell": {
     "cellMetadata": {
      "byteLimit": 2048000,
      "rowLimit": 10000
     },
     "inputWidgets": {},
     "nuid": "9a382cb3-21bd-48fc-ac56-7da2968ea667",
     "showTitle": false,
     "title": ""
    }
   },
   "outputs": [
    {
     "output_type": "display_data",
     "data": {
      "text/html": [
       "<style scoped>\n",
       "  .table-result-container {\n",
       "    max-height: 300px;\n",
       "    overflow: auto;\n",
       "  }\n",
       "  table, th, td {\n",
       "    border: 1px solid black;\n",
       "    border-collapse: collapse;\n",
       "  }\n",
       "  th, td {\n",
       "    padding: 5px;\n",
       "  }\n",
       "  th {\n",
       "    text-align: left;\n",
       "  }\n",
       "</style><div class='table-result-container'><table class='table-result'><thead style='background-color: white'><tr><th>num_affected_rows</th><th>num_inserted_rows</th></tr></thead><tbody><tr><td>10</td><td>10</td></tr></tbody></table></div>"
      ]
     },
     "metadata": {
      "application/vnd.databricks.v1+output": {
       "addedWidgets": {},
       "aggData": [],
       "aggError": "",
       "aggOverflow": false,
       "aggSchema": [],
       "aggSeriesLimitReached": false,
       "aggType": "",
       "arguments": {},
       "columnCustomDisplayInfos": {},
       "data": [
        [
         10,
         10
        ]
       ],
       "datasetInfos": [],
       "dbfsResultPath": null,
       "isJsonSchema": true,
       "metadata": {
        "isDbfsCommandResult": false
       },
       "overflow": false,
       "plotOptions": {
        "customPlotOptions": {},
        "displayType": "table",
        "pivotAggregation": null,
        "pivotColumns": null,
        "xColumns": null,
        "yColumns": null
       },
       "removedWidgets": [],
       "schema": [
        {
         "metadata": "{}",
         "name": "num_affected_rows",
         "type": "\"long\""
        },
        {
         "metadata": "{}",
         "name": "num_inserted_rows",
         "type": "\"long\""
        }
       ],
       "type": "table"
      }
     },
     "output_type": "display_data"
    }
   ],
   "source": [
    "%sql\n",
    "insert into employee values\n",
    "(1, \"A\", 1000.00),\n",
    "(2, \"B\", 2000.00),\n",
    "(3, \"C\", 3000.00),\n",
    "(4, \"D\", 4000.00),\n",
    "(5, \"E\", 5000.00),\n",
    "(6, \"F\", 6000.00),\n",
    "(7, \"G\", 2000.00),\n",
    "(8, \"H\", 3100.00),\n",
    "(9, \"I\", 4300.00),\n",
    "(10, \"J\", 1200.00);"
   ]
  },
  {
   "cell_type": "code",
   "execution_count": 0,
   "metadata": {
    "application/vnd.databricks.v1+cell": {
     "cellMetadata": {
      "byteLimit": 2048000,
      "rowLimit": 10000
     },
     "inputWidgets": {},
     "nuid": "c1209275-ae82-42ad-ac83-a31e210113db",
     "showTitle": false,
     "title": ""
    }
   },
   "outputs": [
    {
     "output_type": "display_data",
     "data": {
      "text/html": [
       "<style scoped>\n",
       "  .table-result-container {\n",
       "    max-height: 300px;\n",
       "    overflow: auto;\n",
       "  }\n",
       "  table, th, td {\n",
       "    border: 1px solid black;\n",
       "    border-collapse: collapse;\n",
       "  }\n",
       "  th, td {\n",
       "    padding: 5px;\n",
       "  }\n",
       "  th {\n",
       "    text-align: left;\n",
       "  }\n",
       "</style><div class='table-result-container'><table class='table-result'><thead style='background-color: white'><tr><th>database</th><th>tableName</th><th>isTemporary</th></tr></thead><tbody><tr><td>testdb</td><td>employee</td><td>false</td></tr></tbody></table></div>"
      ]
     },
     "metadata": {
      "application/vnd.databricks.v1+output": {
       "addedWidgets": {},
       "aggData": [],
       "aggError": "",
       "aggOverflow": false,
       "aggSchema": [],
       "aggSeriesLimitReached": false,
       "aggType": "",
       "arguments": {},
       "columnCustomDisplayInfos": {},
       "data": [
        [
         "testdb",
         "employee",
         false
        ]
       ],
       "datasetInfos": [],
       "dbfsResultPath": null,
       "isJsonSchema": true,
       "metadata": {
        "isDbfsCommandResult": false
       },
       "overflow": false,
       "plotOptions": {
        "customPlotOptions": {},
        "displayType": "table",
        "pivotAggregation": null,
        "pivotColumns": null,
        "xColumns": null,
        "yColumns": null
       },
       "removedWidgets": [],
       "schema": [
        {
         "metadata": "{}",
         "name": "database",
         "type": "\"string\""
        },
        {
         "metadata": "{}",
         "name": "tableName",
         "type": "\"string\""
        },
        {
         "metadata": "{}",
         "name": "isTemporary",
         "type": "\"boolean\""
        }
       ],
       "type": "table"
      }
     },
     "output_type": "display_data"
    }
   ],
   "source": [
    "%sql\n",
    "show tables;"
   ]
  },
  {
   "cell_type": "code",
   "execution_count": 0,
   "metadata": {
    "application/vnd.databricks.v1+cell": {
     "cellMetadata": {
      "byteLimit": 2048000,
      "rowLimit": 10000
     },
     "inputWidgets": {},
     "nuid": "0f63c169-e40a-4708-abce-048a5475778d",
     "showTitle": false,
     "title": ""
    }
   },
   "outputs": [
    {
     "output_type": "display_data",
     "data": {
      "text/html": [
       "<style scoped>\n",
       "  .table-result-container {\n",
       "    max-height: 300px;\n",
       "    overflow: auto;\n",
       "  }\n",
       "  table, th, td {\n",
       "    border: 1px solid black;\n",
       "    border-collapse: collapse;\n",
       "  }\n",
       "  th, td {\n",
       "    padding: 5px;\n",
       "  }\n",
       "  th {\n",
       "    text-align: left;\n",
       "  }\n",
       "</style><div class='table-result-container'><table class='table-result'><thead style='background-color: white'><tr></tr></thead><tbody></tbody></table></div>"
      ]
     },
     "metadata": {
      "application/vnd.databricks.v1+output": {
       "addedWidgets": {},
       "aggData": [],
       "aggError": "",
       "aggOverflow": false,
       "aggSchema": [],
       "aggSeriesLimitReached": false,
       "aggType": "",
       "arguments": {},
       "columnCustomDisplayInfos": {},
       "data": [],
       "datasetInfos": [],
       "dbfsResultPath": null,
       "isJsonSchema": true,
       "metadata": {
        "isDbfsCommandResult": false
       },
       "overflow": false,
       "plotOptions": {
        "customPlotOptions": {},
        "displayType": "table",
        "pivotAggregation": null,
        "pivotColumns": null,
        "xColumns": null,
        "yColumns": null
       },
       "removedWidgets": [],
       "schema": [],
       "type": "table"
      }
     },
     "output_type": "display_data"
    }
   ],
   "source": [
    "%sql\n",
    "drop table employee1;"
   ]
  },
  {
   "cell_type": "code",
   "execution_count": 0,
   "metadata": {
    "application/vnd.databricks.v1+cell": {
     "cellMetadata": {
      "byteLimit": 2048000,
      "rowLimit": 10000
     },
     "inputWidgets": {},
     "nuid": "2553f1ab-10b9-49ec-aad4-c02d095b484a",
     "showTitle": false,
     "title": ""
    }
   },
   "outputs": [
    {
     "output_type": "display_data",
     "data": {
      "text/html": [
       "<style scoped>\n",
       "  .table-result-container {\n",
       "    max-height: 300px;\n",
       "    overflow: auto;\n",
       "  }\n",
       "  table, th, td {\n",
       "    border: 1px solid black;\n",
       "    border-collapse: collapse;\n",
       "  }\n",
       "  th, td {\n",
       "    padding: 5px;\n",
       "  }\n",
       "  th {\n",
       "    text-align: left;\n",
       "  }\n",
       "</style><div class='table-result-container'><table class='table-result'><thead style='background-color: white'><tr><th>id</th><th>name</th><th>salary</th></tr></thead><tbody><tr><td>1</td><td>A</td><td>1000.0</td></tr><tr><td>2</td><td>B</td><td>2000.0</td></tr><tr><td>3</td><td>C</td><td>3000.0</td></tr><tr><td>4</td><td>D</td><td>4000.0</td></tr><tr><td>5</td><td>E</td><td>5000.0</td></tr><tr><td>6</td><td>F</td><td>6000.0</td></tr><tr><td>7</td><td>G</td><td>2000.0</td></tr><tr><td>8</td><td>H</td><td>3100.0</td></tr><tr><td>9</td><td>I</td><td>4300.0</td></tr><tr><td>10</td><td>J</td><td>1200.0</td></tr></tbody></table></div>"
      ]
     },
     "metadata": {
      "application/vnd.databricks.v1+output": {
       "addedWidgets": {},
       "aggData": [],
       "aggError": "",
       "aggOverflow": false,
       "aggSchema": [],
       "aggSeriesLimitReached": false,
       "aggType": "",
       "arguments": {},
       "columnCustomDisplayInfos": {},
       "data": [
        [
         1,
         "A",
         1000.0
        ],
        [
         2,
         "B",
         2000.0
        ],
        [
         3,
         "C",
         3000.0
        ],
        [
         4,
         "D",
         4000.0
        ],
        [
         5,
         "E",
         5000.0
        ],
        [
         6,
         "F",
         6000.0
        ],
        [
         7,
         "G",
         2000.0
        ],
        [
         8,
         "H",
         3100.0
        ],
        [
         9,
         "I",
         4300.0
        ],
        [
         10,
         "J",
         1200.0
        ]
       ],
       "datasetInfos": [],
       "dbfsResultPath": null,
       "isJsonSchema": true,
       "metadata": {
        "isDbfsCommandResult": false
       },
       "overflow": false,
       "plotOptions": {
        "customPlotOptions": {},
        "displayType": "table",
        "pivotAggregation": null,
        "pivotColumns": null,
        "xColumns": null,
        "yColumns": null
       },
       "removedWidgets": [],
       "schema": [
        {
         "metadata": "{}",
         "name": "id",
         "type": "\"integer\""
        },
        {
         "metadata": "{}",
         "name": "name",
         "type": "\"string\""
        },
        {
         "metadata": "{}",
         "name": "salary",
         "type": "\"double\""
        }
       ],
       "type": "table"
      }
     },
     "output_type": "display_data"
    }
   ],
   "source": [
    "%sql\n",
    "select * from employee;"
   ]
  },
  {
   "cell_type": "code",
   "execution_count": 0,
   "metadata": {
    "application/vnd.databricks.v1+cell": {
     "cellMetadata": {
      "byteLimit": 2048000,
      "rowLimit": 10000
     },
     "inputWidgets": {},
     "nuid": "0ce92eda-3679-43d5-924f-75a14502fe2c",
     "showTitle": false,
     "title": ""
    }
   },
   "outputs": [
    {
     "output_type": "display_data",
     "data": {
      "text/html": [
       "<style scoped>\n",
       "  .table-result-container {\n",
       "    max-height: 300px;\n",
       "    overflow: auto;\n",
       "  }\n",
       "  table, th, td {\n",
       "    border: 1px solid black;\n",
       "    border-collapse: collapse;\n",
       "  }\n",
       "  th, td {\n",
       "    padding: 5px;\n",
       "  }\n",
       "  th {\n",
       "    text-align: left;\n",
       "  }\n",
       "</style><div class='table-result-container'><table class='table-result'><thead style='background-color: white'><tr></tr></thead><tbody></tbody></table></div>"
      ]
     },
     "metadata": {
      "application/vnd.databricks.v1+output": {
       "addedWidgets": {},
       "aggData": [],
       "aggError": "",
       "aggOverflow": false,
       "aggSchema": [],
       "aggSeriesLimitReached": false,
       "aggType": "",
       "arguments": {},
       "columnCustomDisplayInfos": {},
       "data": [],
       "datasetInfos": [],
       "dbfsResultPath": null,
       "isJsonSchema": true,
       "metadata": {
        "isDbfsCommandResult": false
       },
       "overflow": false,
       "plotOptions": {
        "customPlotOptions": {},
        "displayType": "table",
        "pivotAggregation": null,
        "pivotColumns": null,
        "xColumns": null,
        "yColumns": null
       },
       "removedWidgets": [],
       "schema": [],
       "type": "table"
      }
     },
     "output_type": "display_data"
    }
   ],
   "source": [
    "%sql\n",
    "create table student (\n",
    "\tstudent_id INT,\n",
    "\tfirst_name VARCHAR(50),\n",
    "\tlast_name VARCHAR(50),\n",
    "\tage INT,\n",
    "\temail VARCHAR(50),\n",
    "\tgpa DECIMAL(3,2),\n",
    "\tenrollment_date DATE,\n",
    "\tmajor VARCHAR(16)\n",
    ");"
   ]
  },
  {
   "cell_type": "code",
   "execution_count": 0,
   "metadata": {
    "application/vnd.databricks.v1+cell": {
     "cellMetadata": {
      "byteLimit": 2048000,
      "rowLimit": 10000
     },
     "inputWidgets": {},
     "nuid": "0c5f9b18-2f9c-47bd-ba6b-dddb63b0b669",
     "showTitle": false,
     "title": ""
    }
   },
   "outputs": [
    {
     "output_type": "display_data",
     "data": {
      "text/html": [
       "<style scoped>\n",
       "  .table-result-container {\n",
       "    max-height: 300px;\n",
       "    overflow: auto;\n",
       "  }\n",
       "  table, th, td {\n",
       "    border: 1px solid black;\n",
       "    border-collapse: collapse;\n",
       "  }\n",
       "  th, td {\n",
       "    padding: 5px;\n",
       "  }\n",
       "  th {\n",
       "    text-align: left;\n",
       "  }\n",
       "</style><div class='table-result-container'><table class='table-result'><thead style='background-color: white'><tr><th>database</th><th>tableName</th><th>isTemporary</th></tr></thead><tbody><tr><td>testdb</td><td>employee</td><td>false</td></tr></tbody></table></div>"
      ]
     },
     "metadata": {
      "application/vnd.databricks.v1+output": {
       "addedWidgets": {},
       "aggData": [],
       "aggError": "",
       "aggOverflow": false,
       "aggSchema": [],
       "aggSeriesLimitReached": false,
       "aggType": "",
       "arguments": {},
       "columnCustomDisplayInfos": {},
       "data": [
        [
         "testdb",
         "employee",
         false
        ]
       ],
       "datasetInfos": [],
       "dbfsResultPath": null,
       "isJsonSchema": true,
       "metadata": {
        "isDbfsCommandResult": false
       },
       "overflow": false,
       "plotOptions": {
        "customPlotOptions": {},
        "displayType": "table",
        "pivotAggregation": null,
        "pivotColumns": null,
        "xColumns": null,
        "yColumns": null
       },
       "removedWidgets": [],
       "schema": [
        {
         "metadata": "{}",
         "name": "database",
         "type": "\"string\""
        },
        {
         "metadata": "{}",
         "name": "tableName",
         "type": "\"string\""
        },
        {
         "metadata": "{}",
         "name": "isTemporary",
         "type": "\"boolean\""
        }
       ],
       "type": "table"
      }
     },
     "output_type": "display_data"
    }
   ],
   "source": [
    "%sql\n",
    "show tables;"
   ]
  },
  {
   "cell_type": "code",
   "execution_count": 0,
   "metadata": {
    "application/vnd.databricks.v1+cell": {
     "cellMetadata": {
      "byteLimit": 2048000,
      "rowLimit": 10000
     },
     "inputWidgets": {},
     "nuid": "2ca9ef2c-4b29-4399-a1ea-03407671a50b",
     "showTitle": false,
     "title": ""
    }
   },
   "outputs": [
    {
     "output_type": "display_data",
     "data": {
      "text/html": [
       "<style scoped>\n",
       "  .table-result-container {\n",
       "    max-height: 300px;\n",
       "    overflow: auto;\n",
       "  }\n",
       "  table, th, td {\n",
       "    border: 1px solid black;\n",
       "    border-collapse: collapse;\n",
       "  }\n",
       "  th, td {\n",
       "    padding: 5px;\n",
       "  }\n",
       "  th {\n",
       "    text-align: left;\n",
       "  }\n",
       "</style><div class='table-result-container'><table class='table-result'><thead style='background-color: white'><tr></tr></thead><tbody></tbody></table></div>"
      ]
     },
     "metadata": {
      "application/vnd.databricks.v1+output": {
       "addedWidgets": {},
       "aggData": [],
       "aggError": "",
       "aggOverflow": false,
       "aggSchema": [],
       "aggSeriesLimitReached": false,
       "aggType": "",
       "arguments": {},
       "columnCustomDisplayInfos": {},
       "data": [],
       "datasetInfos": [],
       "dbfsResultPath": null,
       "isJsonSchema": true,
       "metadata": {
        "isDbfsCommandResult": false
       },
       "overflow": false,
       "plotOptions": {
        "customPlotOptions": {},
        "displayType": "table",
        "pivotAggregation": null,
        "pivotColumns": null,
        "xColumns": null,
        "yColumns": null
       },
       "removedWidgets": [],
       "schema": [],
       "type": "table"
      }
     },
     "output_type": "display_data"
    }
   ],
   "source": [
    "%sql\n",
    "drop table student;"
   ]
  },
  {
   "cell_type": "code",
   "execution_count": 0,
   "metadata": {
    "application/vnd.databricks.v1+cell": {
     "cellMetadata": {
      "byteLimit": 2048000,
      "rowLimit": 10000
     },
     "inputWidgets": {},
     "nuid": "20846d9a-f9d2-4464-b819-8f848d95d86f",
     "showTitle": false,
     "title": ""
    }
   },
   "outputs": [
    {
     "output_type": "display_data",
     "data": {
      "text/html": [
       "<style scoped>\n",
       "  .table-result-container {\n",
       "    max-height: 300px;\n",
       "    overflow: auto;\n",
       "  }\n",
       "  table, th, td {\n",
       "    border: 1px solid black;\n",
       "    border-collapse: collapse;\n",
       "  }\n",
       "  th, td {\n",
       "    padding: 5px;\n",
       "  }\n",
       "  th {\n",
       "    text-align: left;\n",
       "  }\n",
       "</style><div class='table-result-container'><table class='table-result'><thead style='background-color: white'><tr></tr></thead><tbody></tbody></table></div>"
      ]
     },
     "metadata": {
      "application/vnd.databricks.v1+output": {
       "addedWidgets": {},
       "aggData": [],
       "aggError": "",
       "aggOverflow": false,
       "aggSchema": [],
       "aggSeriesLimitReached": false,
       "aggType": "",
       "arguments": {},
       "columnCustomDisplayInfos": {},
       "data": [],
       "datasetInfos": [],
       "dbfsResultPath": null,
       "isJsonSchema": true,
       "metadata": {
        "isDbfsCommandResult": false
       },
       "overflow": false,
       "plotOptions": {
        "customPlotOptions": {},
        "displayType": "table",
        "pivotAggregation": null,
        "pivotColumns": null,
        "xColumns": null,
        "yColumns": null
       },
       "removedWidgets": [],
       "schema": [],
       "type": "table"
      }
     },
     "output_type": "display_data"
    }
   ],
   "source": [
    "%sql\n",
    "create table student (\n",
    "\tstudent_id INT,\n",
    "\tfirst_name VARCHAR(50),\n",
    "\tlast_name VARCHAR(50),\n",
    "\tage INT,\n",
    "\temail VARCHAR(50),\n",
    "\tgpa DECIMAL(3,2),\n",
    "\tmajor VARCHAR(16)\n",
    ");"
   ]
  },
  {
   "cell_type": "code",
   "execution_count": 0,
   "metadata": {
    "application/vnd.databricks.v1+cell": {
     "cellMetadata": {
      "byteLimit": 2048000,
      "rowLimit": 10000
     },
     "inputWidgets": {},
     "nuid": "7afc535b-7bbc-4d1c-bc8b-81d98642248b",
     "showTitle": false,
     "title": ""
    }
   },
   "outputs": [
    {
     "output_type": "display_data",
     "data": {
      "text/html": [
       "<style scoped>\n",
       "  .table-result-container {\n",
       "    max-height: 300px;\n",
       "    overflow: auto;\n",
       "  }\n",
       "  table, th, td {\n",
       "    border: 1px solid black;\n",
       "    border-collapse: collapse;\n",
       "  }\n",
       "  th, td {\n",
       "    padding: 5px;\n",
       "  }\n",
       "  th {\n",
       "    text-align: left;\n",
       "  }\n",
       "</style><div class='table-result-container'><table class='table-result'><thead style='background-color: white'><tr><th>database</th><th>tableName</th><th>isTemporary</th></tr></thead><tbody><tr><td>testdb</td><td>employee</td><td>false</td></tr><tr><td>testdb</td><td>student</td><td>false</td></tr></tbody></table></div>"
      ]
     },
     "metadata": {
      "application/vnd.databricks.v1+output": {
       "addedWidgets": {},
       "aggData": [],
       "aggError": "",
       "aggOverflow": false,
       "aggSchema": [],
       "aggSeriesLimitReached": false,
       "aggType": "",
       "arguments": {},
       "columnCustomDisplayInfos": {},
       "data": [
        [
         "testdb",
         "employee",
         false
        ],
        [
         "testdb",
         "student",
         false
        ]
       ],
       "datasetInfos": [],
       "dbfsResultPath": null,
       "isJsonSchema": true,
       "metadata": {
        "isDbfsCommandResult": false
       },
       "overflow": false,
       "plotOptions": {
        "customPlotOptions": {},
        "displayType": "table",
        "pivotAggregation": null,
        "pivotColumns": null,
        "xColumns": null,
        "yColumns": null
       },
       "removedWidgets": [],
       "schema": [
        {
         "metadata": "{}",
         "name": "database",
         "type": "\"string\""
        },
        {
         "metadata": "{}",
         "name": "tableName",
         "type": "\"string\""
        },
        {
         "metadata": "{}",
         "name": "isTemporary",
         "type": "\"boolean\""
        }
       ],
       "type": "table"
      }
     },
     "output_type": "display_data"
    }
   ],
   "source": [
    "%sql\n",
    "show tables;"
   ]
  },
  {
   "cell_type": "code",
   "execution_count": 0,
   "metadata": {
    "application/vnd.databricks.v1+cell": {
     "cellMetadata": {
      "byteLimit": 2048000,
      "rowLimit": 10000
     },
     "inputWidgets": {},
     "nuid": "6b6d7dee-d0aa-4376-a3a9-e577ea213fe0",
     "showTitle": false,
     "title": ""
    }
   },
   "outputs": [
    {
     "output_type": "display_data",
     "data": {
      "text/html": [
       "<style scoped>\n",
       "  .table-result-container {\n",
       "    max-height: 300px;\n",
       "    overflow: auto;\n",
       "  }\n",
       "  table, th, td {\n",
       "    border: 1px solid black;\n",
       "    border-collapse: collapse;\n",
       "  }\n",
       "  th, td {\n",
       "    padding: 5px;\n",
       "  }\n",
       "  th {\n",
       "    text-align: left;\n",
       "  }\n",
       "</style><div class='table-result-container'><table class='table-result'><thead style='background-color: white'><tr><th>count(1)</th></tr></thead><tbody><tr><td>34</td></tr></tbody></table></div>"
      ]
     },
     "metadata": {
      "application/vnd.databricks.v1+output": {
       "addedWidgets": {},
       "aggData": [],
       "aggError": "",
       "aggOverflow": false,
       "aggSchema": [],
       "aggSeriesLimitReached": false,
       "aggType": "",
       "arguments": {},
       "columnCustomDisplayInfos": {},
       "data": [
        [
         34
        ]
       ],
       "datasetInfos": [],
       "dbfsResultPath": null,
       "isJsonSchema": true,
       "metadata": {
        "isDbfsCommandResult": false
       },
       "overflow": false,
       "plotOptions": {
        "customPlotOptions": {},
        "displayType": "table",
        "pivotAggregation": null,
        "pivotColumns": null,
        "xColumns": null,
        "yColumns": null
       },
       "removedWidgets": [],
       "schema": [
        {
         "metadata": "{\"__autoGeneratedAlias\":\"true\"}",
         "name": "count(1)",
         "type": "\"long\""
        }
       ],
       "type": "table"
      }
     },
     "output_type": "display_data"
    }
   ],
   "source": [
    "%sql\n",
    "select count(*) from student;"
   ]
  },
  {
   "cell_type": "code",
   "execution_count": 0,
   "metadata": {
    "application/vnd.databricks.v1+cell": {
     "cellMetadata": {
      "byteLimit": 2048000,
      "rowLimit": 10000
     },
     "inputWidgets": {},
     "nuid": "07cfb0f0-cfe6-4f4b-8f17-bced87b5d6cf",
     "showTitle": false,
     "title": ""
    }
   },
   "outputs": [
    {
     "output_type": "display_data",
     "data": {
      "text/html": [
       "<style scoped>\n",
       "  .table-result-container {\n",
       "    max-height: 300px;\n",
       "    overflow: auto;\n",
       "  }\n",
       "  table, th, td {\n",
       "    border: 1px solid black;\n",
       "    border-collapse: collapse;\n",
       "  }\n",
       "  th, td {\n",
       "    padding: 5px;\n",
       "  }\n",
       "  th {\n",
       "    text-align: left;\n",
       "  }\n",
       "</style><div class='table-result-container'><table class='table-result'><thead style='background-color: white'><tr><th>student_id</th><th>first_name</th><th>last_name</th><th>age</th><th>email</th><th>gpa</th><th>major</th></tr></thead><tbody><tr><td>1013</td><td>Adlai</td><td>Dellenbroker</td><td>21</td><td>adellenbrokerc@bloomberg.com</td><td>0.18</td><td>Computer Science</td></tr><tr><td>1023</td><td>Ernestine</td><td>Wellesley</td><td>20</td><td>ewellesleym@yellowpages.com</td><td>2.70</td><td>Computer Science</td></tr><tr><td>1029</td><td>Doralynne</td><td>Purrington</td><td>22</td><td>dpurringtons@digg.com</td><td>3.81</td><td>Computer Science</td></tr><tr><td>1005</td><td>Heloise</td><td>Dietzler</td><td>23</td><td>hdietzler4@wordpress.org</td><td>3.93</td><td>Computer Science</td></tr><tr><td>1007</td><td>Gaby</td><td>Prettejohns</td><td>24</td><td>gprettejohns6@phoca.cz</td><td>1.63</td><td>Computer Science</td></tr><tr><td>1024</td><td>Tani</td><td>McReynold</td><td>18</td><td>tmcreynoldn@xing.com</td><td>2.54</td><td>Computer Science</td></tr><tr><td>1001</td><td>Ari</td><td>Banasevich</td><td>18</td><td>abanasevich0@redcross.org</td><td>0.34</td><td>Psychology</td></tr><tr><td>1025</td><td>Norma</td><td>Schlagman</td><td>21</td><td>nschlagmano@ycombinator.com</td><td>1.16</td><td>Biology</td></tr><tr><td>1017</td><td>Bernie</td><td>Blasiak</td><td>20</td><td>bblasiakg@zdnet.com</td><td>3.16</td><td>Computer Science</td></tr><tr><td>1009</td><td>Franciska</td><td>Legen</td><td>24</td><td>flegen8@simplemachines.org</td><td>1.25</td><td>Biology</td></tr><tr><td>1021</td><td>Dolores</td><td>Nurden</td><td>22</td><td>dnurdenk@ycombinator.com</td><td>3.63</td><td>Psychology</td></tr><tr><td>1030</td><td>Teodora</td><td>McNaughton</td><td>22</td><td>tmcnaughtont@apache.org</td><td>3.79</td><td>Biology</td></tr><tr><td>1032</td><td>Skell</td><td>Youdell</td><td>22</td><td>syoudellv@globo.com</td><td>0.18</td><td>Computer Science</td></tr><tr><td>1003</td><td>Sonny</td><td>Oakwood</td><td>24</td><td>soakwood2@jimdo.com</td><td>0.91</td><td>Computer Science</td></tr><tr><td>1022</td><td>Issie</td><td>MacAscaidh</td><td>25</td><td>imacascaidhl@myspace.com</td><td>3.20</td><td>Biology</td></tr><tr><td>1034</td><td>Marice</td><td>Gillmore</td><td>21</td><td>mgillmorex@altervista.org</td><td>2.16</td><td>Biology</td></tr><tr><td>1020</td><td>Hazlett</td><td>Hamal</td><td>21</td><td>hhamalj@sphinn.com</td><td>3.04</td><td>Computer Science</td></tr><tr><td>1026</td><td>Roxine</td><td>Walburn</td><td>18</td><td>rwalburnp@php.net</td><td>2.80</td><td>Computer Science</td></tr><tr><td>1002</td><td>Rowland</td><td>Beniesh</td><td>20</td><td>rbeniesh1@aboutads.info</td><td>2.64</td><td>Biology</td></tr><tr><td>1012</td><td>Gusti</td><td>Birtwisle</td><td>24</td><td>gbirtwisleb@walmart.com</td><td>1.97</td><td>Biology</td></tr><tr><td>1008</td><td>Linc</td><td>MacPaik</td><td>23</td><td>lmacpaik7@istockphoto.com</td><td>0.86</td><td>Biology</td></tr><tr><td>1011</td><td>Nicole</td><td>Merida</td><td>19</td><td>nmeridaa@arizona.edu</td><td>2.07</td><td>Psychology</td></tr><tr><td>1016</td><td>Ema</td><td>Jordan</td><td>19</td><td>ejordanf@infoseek.co.jp</td><td>0.05</td><td>Psychology</td></tr><tr><td>1031</td><td>Kimbell</td><td>Sarchwell</td><td>25</td><td>ksarchwellu@loc.gov</td><td>2.91</td><td>Biology</td></tr><tr><td>1004</td><td>Nola</td><td>Girardi</td><td>21</td><td>ngirardi3@purevolume.com</td><td>0.75</td><td>Biology</td></tr><tr><td>1006</td><td>Thaxter</td><td>Fortnam</td><td>19</td><td>tfortnam5@twitter.com</td><td>0.91</td><td>Biology</td></tr><tr><td>1015</td><td>Illa</td><td>Goldingay</td><td>18</td><td>igoldingaye@google.nl</td><td>0.26</td><td>Biology</td></tr><tr><td>1033</td><td>Leland</td><td>Reddick</td><td>21</td><td>lreddickw@ibm.com</td><td>0.12</td><td>Psychology</td></tr><tr><td>1019</td><td>Aigneis</td><td>Lumpkin</td><td>18</td><td>alumpkini@google.cn</td><td>1.02</td><td>Biology</td></tr><tr><td>1014</td><td>Filia</td><td>Ailmer</td><td>18</td><td>failmerd@netscape.com</td><td>0.02</td><td>Biology</td></tr><tr><td>1010</td><td>Vin</td><td>Guidera</td><td>21</td><td>vguidera9@fda.gov</td><td>3.65</td><td>Psychology</td></tr><tr><td>1028</td><td>Fanya</td><td>Broadey</td><td>18</td><td>fbroadeyr@tamu.edu</td><td>3.60</td><td>Biology</td></tr><tr><td>1018</td><td>Binnie</td><td>Byrne</td><td>19</td><td>bbyrneh@upenn.edu</td><td>0.86</td><td>Biology</td></tr><tr><td>1027</td><td>Gui</td><td>Tant</td><td>20</td><td>gtantq@ifeng.com</td><td>2.70</td><td>Biology</td></tr></tbody></table></div>"
      ]
     },
     "metadata": {
      "application/vnd.databricks.v1+output": {
       "addedWidgets": {},
       "aggData": [],
       "aggError": "",
       "aggOverflow": false,
       "aggSchema": [],
       "aggSeriesLimitReached": false,
       "aggType": "",
       "arguments": {},
       "columnCustomDisplayInfos": {},
       "data": [
        [
         1013,
         "Adlai",
         "Dellenbroker",
         21,
         "adellenbrokerc@bloomberg.com",
         "0.18",
         "Computer Science"
        ],
        [
         1023,
         "Ernestine",
         "Wellesley",
         20,
         "ewellesleym@yellowpages.com",
         "2.70",
         "Computer Science"
        ],
        [
         1029,
         "Doralynne",
         "Purrington",
         22,
         "dpurringtons@digg.com",
         "3.81",
         "Computer Science"
        ],
        [
         1005,
         "Heloise",
         "Dietzler",
         23,
         "hdietzler4@wordpress.org",
         "3.93",
         "Computer Science"
        ],
        [
         1007,
         "Gaby",
         "Prettejohns",
         24,
         "gprettejohns6@phoca.cz",
         "1.63",
         "Computer Science"
        ],
        [
         1024,
         "Tani",
         "McReynold",
         18,
         "tmcreynoldn@xing.com",
         "2.54",
         "Computer Science"
        ],
        [
         1001,
         "Ari",
         "Banasevich",
         18,
         "abanasevich0@redcross.org",
         "0.34",
         "Psychology"
        ],
        [
         1025,
         "Norma",
         "Schlagman",
         21,
         "nschlagmano@ycombinator.com",
         "1.16",
         "Biology"
        ],
        [
         1017,
         "Bernie",
         "Blasiak",
         20,
         "bblasiakg@zdnet.com",
         "3.16",
         "Computer Science"
        ],
        [
         1009,
         "Franciska",
         "Legen",
         24,
         "flegen8@simplemachines.org",
         "1.25",
         "Biology"
        ],
        [
         1021,
         "Dolores",
         "Nurden",
         22,
         "dnurdenk@ycombinator.com",
         "3.63",
         "Psychology"
        ],
        [
         1030,
         "Teodora",
         "McNaughton",
         22,
         "tmcnaughtont@apache.org",
         "3.79",
         "Biology"
        ],
        [
         1032,
         "Skell",
         "Youdell",
         22,
         "syoudellv@globo.com",
         "0.18",
         "Computer Science"
        ],
        [
         1003,
         "Sonny",
         "Oakwood",
         24,
         "soakwood2@jimdo.com",
         "0.91",
         "Computer Science"
        ],
        [
         1022,
         "Issie",
         "MacAscaidh",
         25,
         "imacascaidhl@myspace.com",
         "3.20",
         "Biology"
        ],
        [
         1034,
         "Marice",
         "Gillmore",
         21,
         "mgillmorex@altervista.org",
         "2.16",
         "Biology"
        ],
        [
         1020,
         "Hazlett",
         "Hamal",
         21,
         "hhamalj@sphinn.com",
         "3.04",
         "Computer Science"
        ],
        [
         1026,
         "Roxine",
         "Walburn",
         18,
         "rwalburnp@php.net",
         "2.80",
         "Computer Science"
        ],
        [
         1002,
         "Rowland",
         "Beniesh",
         20,
         "rbeniesh1@aboutads.info",
         "2.64",
         "Biology"
        ],
        [
         1012,
         "Gusti",
         "Birtwisle",
         24,
         "gbirtwisleb@walmart.com",
         "1.97",
         "Biology"
        ],
        [
         1008,
         "Linc",
         "MacPaik",
         23,
         "lmacpaik7@istockphoto.com",
         "0.86",
         "Biology"
        ],
        [
         1011,
         "Nicole",
         "Merida",
         19,
         "nmeridaa@arizona.edu",
         "2.07",
         "Psychology"
        ],
        [
         1016,
         "Ema",
         "Jordan",
         19,
         "ejordanf@infoseek.co.jp",
         "0.05",
         "Psychology"
        ],
        [
         1031,
         "Kimbell",
         "Sarchwell",
         25,
         "ksarchwellu@loc.gov",
         "2.91",
         "Biology"
        ],
        [
         1004,
         "Nola",
         "Girardi",
         21,
         "ngirardi3@purevolume.com",
         "0.75",
         "Biology"
        ],
        [
         1006,
         "Thaxter",
         "Fortnam",
         19,
         "tfortnam5@twitter.com",
         "0.91",
         "Biology"
        ],
        [
         1015,
         "Illa",
         "Goldingay",
         18,
         "igoldingaye@google.nl",
         "0.26",
         "Biology"
        ],
        [
         1033,
         "Leland",
         "Reddick",
         21,
         "lreddickw@ibm.com",
         "0.12",
         "Psychology"
        ],
        [
         1019,
         "Aigneis",
         "Lumpkin",
         18,
         "alumpkini@google.cn",
         "1.02",
         "Biology"
        ],
        [
         1014,
         "Filia",
         "Ailmer",
         18,
         "failmerd@netscape.com",
         "0.02",
         "Biology"
        ],
        [
         1010,
         "Vin",
         "Guidera",
         21,
         "vguidera9@fda.gov",
         "3.65",
         "Psychology"
        ],
        [
         1028,
         "Fanya",
         "Broadey",
         18,
         "fbroadeyr@tamu.edu",
         "3.60",
         "Biology"
        ],
        [
         1018,
         "Binnie",
         "Byrne",
         19,
         "bbyrneh@upenn.edu",
         "0.86",
         "Biology"
        ],
        [
         1027,
         "Gui",
         "Tant",
         20,
         "gtantq@ifeng.com",
         "2.70",
         "Biology"
        ]
       ],
       "datasetInfos": [],
       "dbfsResultPath": null,
       "isJsonSchema": true,
       "metadata": {
        "isDbfsCommandResult": false
       },
       "overflow": false,
       "plotOptions": {
        "customPlotOptions": {},
        "displayType": "table",
        "pivotAggregation": null,
        "pivotColumns": null,
        "xColumns": null,
        "yColumns": null
       },
       "removedWidgets": [],
       "schema": [
        {
         "metadata": "{}",
         "name": "student_id",
         "type": "\"integer\""
        },
        {
         "metadata": "{\"__CHAR_VARCHAR_TYPE_STRING\":\"varchar(50)\"}",
         "name": "first_name",
         "type": "\"string\""
        },
        {
         "metadata": "{\"__CHAR_VARCHAR_TYPE_STRING\":\"varchar(50)\"}",
         "name": "last_name",
         "type": "\"string\""
        },
        {
         "metadata": "{}",
         "name": "age",
         "type": "\"integer\""
        },
        {
         "metadata": "{\"__CHAR_VARCHAR_TYPE_STRING\":\"varchar(50)\"}",
         "name": "email",
         "type": "\"string\""
        },
        {
         "metadata": "{}",
         "name": "gpa",
         "type": "\"decimal(3,2)\""
        },
        {
         "metadata": "{\"__CHAR_VARCHAR_TYPE_STRING\":\"varchar(16)\"}",
         "name": "major",
         "type": "\"string\""
        }
       ],
       "type": "table"
      }
     },
     "output_type": "display_data"
    }
   ],
   "source": [
    "%sql\n",
    "select * from student;"
   ]
  },
  {
   "cell_type": "code",
   "execution_count": 0,
   "metadata": {
    "application/vnd.databricks.v1+cell": {
     "cellMetadata": {
      "byteLimit": 2048000,
      "rowLimit": 10000
     },
     "inputWidgets": {},
     "nuid": "ddeca79a-50bd-46a9-91f6-b987b2cdaf19",
     "showTitle": false,
     "title": ""
    }
   },
   "outputs": [
    {
     "output_type": "display_data",
     "data": {
      "text/html": [
       "<style scoped>\n",
       "  .table-result-container {\n",
       "    max-height: 300px;\n",
       "    overflow: auto;\n",
       "  }\n",
       "  table, th, td {\n",
       "    border: 1px solid black;\n",
       "    border-collapse: collapse;\n",
       "  }\n",
       "  th, td {\n",
       "    padding: 5px;\n",
       "  }\n",
       "  th {\n",
       "    text-align: left;\n",
       "  }\n",
       "</style><div class='table-result-container'><table class='table-result'><thead style='background-color: white'><tr><th>col_name</th><th>data_type</th><th>comment</th></tr></thead><tbody><tr><td>student_id</td><td>int</td><td>null</td></tr><tr><td>first_name</td><td>varchar(50)</td><td>null</td></tr><tr><td>last_name</td><td>varchar(50)</td><td>null</td></tr><tr><td>age</td><td>int</td><td>null</td></tr><tr><td>email</td><td>varchar(50)</td><td>null</td></tr><tr><td>gpa</td><td>decimal(3,2)</td><td>null</td></tr><tr><td>major</td><td>varchar(16)</td><td>null</td></tr><tr><td></td><td></td><td></td></tr><tr><td># Delta Statistics Columns</td><td></td><td></td></tr><tr><td>Column Names</td><td>first_name, email, gpa, age, last_name, major, student_id</td><td></td></tr><tr><td>Column Selection Method</td><td>first-32</td><td></td></tr><tr><td></td><td></td><td></td></tr><tr><td># Detailed Table Information</td><td></td><td></td></tr><tr><td>Catalog</td><td>spark_catalog</td><td></td></tr><tr><td>Database</td><td>testdb</td><td></td></tr><tr><td>Table</td><td>student</td><td></td></tr><tr><td>Created Time</td><td>Wed Feb 14 16:29:40 UTC 2024</td><td></td></tr><tr><td>Last Access</td><td>UNKNOWN</td><td></td></tr><tr><td>Created By</td><td>Spark 3.5.0</td><td></td></tr><tr><td>Type</td><td>MANAGED</td><td></td></tr><tr><td>Location</td><td>dbfs:/user/hive/warehouse/testdb.db/student</td><td></td></tr><tr><td>Provider</td><td>delta</td><td></td></tr><tr><td>Owner</td><td>root</td><td></td></tr><tr><td>Is_managed_location</td><td>true</td><td></td></tr><tr><td>Table Properties</td><td>[delta.minReaderVersion=1,delta.minWriterVersion=2]</td><td></td></tr></tbody></table></div>"
      ]
     },
     "metadata": {
      "application/vnd.databricks.v1+output": {
       "addedWidgets": {},
       "aggData": [],
       "aggError": "",
       "aggOverflow": false,
       "aggSchema": [],
       "aggSeriesLimitReached": false,
       "aggType": "",
       "arguments": {},
       "columnCustomDisplayInfos": {},
       "data": [
        [
         "student_id",
         "int",
         null
        ],
        [
         "first_name",
         "varchar(50)",
         null
        ],
        [
         "last_name",
         "varchar(50)",
         null
        ],
        [
         "age",
         "int",
         null
        ],
        [
         "email",
         "varchar(50)",
         null
        ],
        [
         "gpa",
         "decimal(3,2)",
         null
        ],
        [
         "major",
         "varchar(16)",
         null
        ],
        [
         "",
         "",
         ""
        ],
        [
         "# Delta Statistics Columns",
         "",
         ""
        ],
        [
         "Column Names",
         "first_name, email, gpa, age, last_name, major, student_id",
         ""
        ],
        [
         "Column Selection Method",
         "first-32",
         ""
        ],
        [
         "",
         "",
         ""
        ],
        [
         "# Detailed Table Information",
         "",
         ""
        ],
        [
         "Catalog",
         "spark_catalog",
         ""
        ],
        [
         "Database",
         "testdb",
         ""
        ],
        [
         "Table",
         "student",
         ""
        ],
        [
         "Created Time",
         "Wed Feb 14 16:29:40 UTC 2024",
         ""
        ],
        [
         "Last Access",
         "UNKNOWN",
         ""
        ],
        [
         "Created By",
         "Spark 3.5.0",
         ""
        ],
        [
         "Type",
         "MANAGED",
         ""
        ],
        [
         "Location",
         "dbfs:/user/hive/warehouse/testdb.db/student",
         ""
        ],
        [
         "Provider",
         "delta",
         ""
        ],
        [
         "Owner",
         "root",
         ""
        ],
        [
         "Is_managed_location",
         "true",
         ""
        ],
        [
         "Table Properties",
         "[delta.minReaderVersion=1,delta.minWriterVersion=2]",
         ""
        ]
       ],
       "datasetInfos": [],
       "dbfsResultPath": null,
       "isJsonSchema": true,
       "metadata": {
        "isDbfsCommandResult": false
       },
       "overflow": false,
       "plotOptions": {
        "customPlotOptions": {},
        "displayType": "table",
        "pivotAggregation": null,
        "pivotColumns": null,
        "xColumns": null,
        "yColumns": null
       },
       "removedWidgets": [],
       "schema": [
        {
         "metadata": "{\"comment\":\"name of the column\"}",
         "name": "col_name",
         "type": "\"string\""
        },
        {
         "metadata": "{\"comment\":\"data type of the column\"}",
         "name": "data_type",
         "type": "\"string\""
        },
        {
         "metadata": "{\"comment\":\"comment of the column\"}",
         "name": "comment",
         "type": "\"string\""
        }
       ],
       "type": "table"
      }
     },
     "output_type": "display_data"
    }
   ],
   "source": [
    "%sql\n",
    "describe extended student;"
   ]
  },
  {
   "cell_type": "markdown",
   "metadata": {
    "application/vnd.databricks.v1+cell": {
     "cellMetadata": {},
     "inputWidgets": {},
     "nuid": "7f6ebd30-d781-49e0-aae2-ab1cb168111d",
     "showTitle": false,
     "title": ""
    }
   },
   "source": [
    "Managed Tables"
   ]
  },
  {
   "cell_type": "code",
   "execution_count": 0,
   "metadata": {
    "application/vnd.databricks.v1+cell": {
     "cellMetadata": {
      "byteLimit": 2048000,
      "rowLimit": 10000
     },
     "inputWidgets": {},
     "nuid": "eb844edf-6022-4e71-96eb-3ac77bf272db",
     "showTitle": false,
     "title": ""
    }
   },
   "outputs": [
    {
     "output_type": "display_data",
     "data": {
      "text/html": [
       "<style scoped>\n",
       "  .table-result-container {\n",
       "    max-height: 300px;\n",
       "    overflow: auto;\n",
       "  }\n",
       "  table, th, td {\n",
       "    border: 1px solid black;\n",
       "    border-collapse: collapse;\n",
       "  }\n",
       "  th, td {\n",
       "    padding: 5px;\n",
       "  }\n",
       "  th {\n",
       "    text-align: left;\n",
       "  }\n",
       "</style><div class='table-result-container'><table class='table-result'><thead style='background-color: white'><tr></tr></thead><tbody></tbody></table></div>"
      ]
     },
     "metadata": {
      "application/vnd.databricks.v1+output": {
       "addedWidgets": {},
       "aggData": [],
       "aggError": "",
       "aggOverflow": false,
       "aggSchema": [],
       "aggSeriesLimitReached": false,
       "aggType": "",
       "arguments": {},
       "columnCustomDisplayInfos": {},
       "data": [],
       "datasetInfos": [],
       "dbfsResultPath": null,
       "isJsonSchema": true,
       "metadata": {
        "isDbfsCommandResult": false
       },
       "overflow": false,
       "plotOptions": {
        "customPlotOptions": {},
        "displayType": "table",
        "pivotAggregation": null,
        "pivotColumns": null,
        "xColumns": null,
        "yColumns": null
       },
       "removedWidgets": [],
       "schema": [],
       "type": "table"
      }
     },
     "output_type": "display_data"
    }
   ],
   "source": [
    "%sql\n",
    "create table population (\n",
    "\tcountry_name VARCHAR(50),\n",
    "\tpopulation INT,\n",
    "\tarea INT,\n",
    "\tcapital_city VARCHAR(50),\n",
    "\tofficial_language VARCHAR(50)\n",
    ")\n",
    "location \"dbfs:/user/demo/external_tbl\";"
   ]
  },
  {
   "cell_type": "code",
   "execution_count": 0,
   "metadata": {
    "application/vnd.databricks.v1+cell": {
     "cellMetadata": {
      "byteLimit": 2048000,
      "rowLimit": 10000
     },
     "inputWidgets": {},
     "nuid": "42aeccd7-dab6-4c3f-93d5-826d817fc09c",
     "showTitle": false,
     "title": ""
    }
   },
   "outputs": [
    {
     "output_type": "display_data",
     "data": {
      "text/html": [
       "<style scoped>\n",
       "  .table-result-container {\n",
       "    max-height: 300px;\n",
       "    overflow: auto;\n",
       "  }\n",
       "  table, th, td {\n",
       "    border: 1px solid black;\n",
       "    border-collapse: collapse;\n",
       "  }\n",
       "  th, td {\n",
       "    padding: 5px;\n",
       "  }\n",
       "  th {\n",
       "    text-align: left;\n",
       "  }\n",
       "</style><div class='table-result-container'><table class='table-result'><thead style='background-color: white'><tr><th>count(1)</th></tr></thead><tbody><tr><td>20</td></tr></tbody></table></div>"
      ]
     },
     "metadata": {
      "application/vnd.databricks.v1+output": {
       "addedWidgets": {},
       "aggData": [],
       "aggError": "",
       "aggOverflow": false,
       "aggSchema": [],
       "aggSeriesLimitReached": false,
       "aggType": "",
       "arguments": {},
       "columnCustomDisplayInfos": {},
       "data": [
        [
         20
        ]
       ],
       "datasetInfos": [],
       "dbfsResultPath": null,
       "isJsonSchema": true,
       "metadata": {
        "isDbfsCommandResult": false
       },
       "overflow": false,
       "plotOptions": {
        "customPlotOptions": {},
        "displayType": "table",
        "pivotAggregation": null,
        "pivotColumns": null,
        "xColumns": null,
        "yColumns": null
       },
       "removedWidgets": [],
       "schema": [
        {
         "metadata": "{\"__autoGeneratedAlias\":\"true\"}",
         "name": "count(1)",
         "type": "\"long\""
        }
       ],
       "type": "table"
      }
     },
     "output_type": "display_data"
    }
   ],
   "source": [
    "%sql\n",
    "select count(*) from population;"
   ]
  },
  {
   "cell_type": "code",
   "execution_count": 0,
   "metadata": {
    "application/vnd.databricks.v1+cell": {
     "cellMetadata": {
      "byteLimit": 2048000,
      "rowLimit": 10000
     },
     "inputWidgets": {},
     "nuid": "7852fabf-604f-4731-ac58-2105d2ed7f1f",
     "showTitle": false,
     "title": ""
    }
   },
   "outputs": [
    {
     "output_type": "display_data",
     "data": {
      "text/html": [
       "<style scoped>\n",
       "  .table-result-container {\n",
       "    max-height: 300px;\n",
       "    overflow: auto;\n",
       "  }\n",
       "  table, th, td {\n",
       "    border: 1px solid black;\n",
       "    border-collapse: collapse;\n",
       "  }\n",
       "  th, td {\n",
       "    padding: 5px;\n",
       "  }\n",
       "  th {\n",
       "    text-align: left;\n",
       "  }\n",
       "</style><div class='table-result-container'><table class='table-result'><thead style='background-color: white'><tr><th>country_name</th><th>population</th><th>area</th><th>capital_city</th><th>official_language</th></tr></thead><tbody><tr><td>Vietnam</td><td>608047861</td><td>527323</td><td>Thị Trấn Triệu Sơn</td><td>Bengali</td></tr><tr><td>Philippines</td><td>263568634</td><td>753104</td><td>Tomingad</td><td>Romanian</td></tr><tr><td>Albania</td><td>421033316</td><td>239075</td><td>Fier-Çifçi</td><td>German</td></tr><tr><td>Vietnam</td><td>262444104</td><td>239064</td><td>Hai Riêng</td><td>Burmese</td></tr><tr><td>Philippines</td><td>987255929</td><td>176423</td><td>Sinamar</td><td>Tajik</td></tr><tr><td>Portugal</td><td>973445036</td><td>626617</td><td>Penelas</td><td>Romanian</td></tr><tr><td>Philippines</td><td>281974528</td><td>276543</td><td>Agusan</td><td>Polish</td></tr><tr><td>Russia</td><td>941220254</td><td>857523</td><td>Satinka</td><td>Icelandic</td></tr><tr><td>Colombia</td><td>711332706</td><td>341421</td><td>Cáceres</td><td>Hebrew</td></tr><tr><td>China</td><td>711741432</td><td>197706</td><td>Huancheng</td><td>Spanish</td></tr><tr><td>France</td><td>253342407</td><td>221658</td><td>Bordeaux</td><td>Finnish</td></tr><tr><td>Indonesia</td><td>346409384</td><td>606149</td><td>Leles</td><td>Pashto</td></tr><tr><td>Chile</td><td>321811129</td><td>396857</td><td>Coronel</td><td>Malagasy</td></tr><tr><td>Russia</td><td>195849681</td><td>229304</td><td>Kizilyurt</td><td>Oriya</td></tr><tr><td>Iran</td><td>527764947</td><td>387134</td><td>Khonj</td><td>Montenegrin</td></tr><tr><td>Portugal</td><td>534258500</td><td>898185</td><td>Cabouco</td><td>Dutch</td></tr><tr><td>Poland</td><td>107672453</td><td>317902</td><td>Kurów</td><td>Catalan</td></tr><tr><td>China</td><td>463888594</td><td>855712</td><td>Haimen</td><td>Hindi</td></tr><tr><td>Poland</td><td>865340631</td><td>450898</td><td>Wleń</td><td>Hindi</td></tr><tr><td>Japan</td><td>58921165</td><td>412976</td><td>Ōzu</td><td>Gagauz</td></tr></tbody></table></div>"
      ]
     },
     "metadata": {
      "application/vnd.databricks.v1+output": {
       "addedWidgets": {},
       "aggData": [],
       "aggError": "",
       "aggOverflow": false,
       "aggSchema": [],
       "aggSeriesLimitReached": false,
       "aggType": "",
       "arguments": {},
       "columnCustomDisplayInfos": {},
       "data": [
        [
         "Vietnam",
         608047861,
         527323,
         "Thị Trấn Triệu Sơn",
         "Bengali"
        ],
        [
         "Philippines",
         263568634,
         753104,
         "Tomingad",
         "Romanian"
        ],
        [
         "Albania",
         421033316,
         239075,
         "Fier-Çifçi",
         "German"
        ],
        [
         "Vietnam",
         262444104,
         239064,
         "Hai Riêng",
         "Burmese"
        ],
        [
         "Philippines",
         987255929,
         176423,
         "Sinamar",
         "Tajik"
        ],
        [
         "Portugal",
         973445036,
         626617,
         "Penelas",
         "Romanian"
        ],
        [
         "Philippines",
         281974528,
         276543,
         "Agusan",
         "Polish"
        ],
        [
         "Russia",
         941220254,
         857523,
         "Satinka",
         "Icelandic"
        ],
        [
         "Colombia",
         711332706,
         341421,
         "Cáceres",
         "Hebrew"
        ],
        [
         "China",
         711741432,
         197706,
         "Huancheng",
         "Spanish"
        ],
        [
         "France",
         253342407,
         221658,
         "Bordeaux",
         "Finnish"
        ],
        [
         "Indonesia",
         346409384,
         606149,
         "Leles",
         "Pashto"
        ],
        [
         "Chile",
         321811129,
         396857,
         "Coronel",
         "Malagasy"
        ],
        [
         "Russia",
         195849681,
         229304,
         "Kizilyurt",
         "Oriya"
        ],
        [
         "Iran",
         527764947,
         387134,
         "Khonj",
         "Montenegrin"
        ],
        [
         "Portugal",
         534258500,
         898185,
         "Cabouco",
         "Dutch"
        ],
        [
         "Poland",
         107672453,
         317902,
         "Kurów",
         "Catalan"
        ],
        [
         "China",
         463888594,
         855712,
         "Haimen",
         "Hindi"
        ],
        [
         "Poland",
         865340631,
         450898,
         "Wleń",
         "Hindi"
        ],
        [
         "Japan",
         58921165,
         412976,
         "Ōzu",
         "Gagauz"
        ]
       ],
       "datasetInfos": [],
       "dbfsResultPath": null,
       "isJsonSchema": true,
       "metadata": {
        "isDbfsCommandResult": false
       },
       "overflow": false,
       "plotOptions": {
        "customPlotOptions": {},
        "displayType": "table",
        "pivotAggregation": null,
        "pivotColumns": null,
        "xColumns": null,
        "yColumns": null
       },
       "removedWidgets": [],
       "schema": [
        {
         "metadata": "{\"__CHAR_VARCHAR_TYPE_STRING\":\"varchar(50)\"}",
         "name": "country_name",
         "type": "\"string\""
        },
        {
         "metadata": "{}",
         "name": "population",
         "type": "\"integer\""
        },
        {
         "metadata": "{}",
         "name": "area",
         "type": "\"integer\""
        },
        {
         "metadata": "{\"__CHAR_VARCHAR_TYPE_STRING\":\"varchar(50)\"}",
         "name": "capital_city",
         "type": "\"string\""
        },
        {
         "metadata": "{\"__CHAR_VARCHAR_TYPE_STRING\":\"varchar(50)\"}",
         "name": "official_language",
         "type": "\"string\""
        }
       ],
       "type": "table"
      }
     },
     "output_type": "display_data"
    }
   ],
   "source": [
    "%sql\n",
    "select * from population;"
   ]
  },
  {
   "cell_type": "code",
   "execution_count": 0,
   "metadata": {
    "application/vnd.databricks.v1+cell": {
     "cellMetadata": {
      "byteLimit": 2048000,
      "rowLimit": 10000
     },
     "inputWidgets": {},
     "nuid": "769a23cf-2774-42f4-83b4-26565c2995f5",
     "showTitle": false,
     "title": ""
    }
   },
   "outputs": [
    {
     "output_type": "display_data",
     "data": {
      "text/html": [
       "<style scoped>\n",
       "  .table-result-container {\n",
       "    max-height: 300px;\n",
       "    overflow: auto;\n",
       "  }\n",
       "  table, th, td {\n",
       "    border: 1px solid black;\n",
       "    border-collapse: collapse;\n",
       "  }\n",
       "  th, td {\n",
       "    padding: 5px;\n",
       "  }\n",
       "  th {\n",
       "    text-align: left;\n",
       "  }\n",
       "</style><div class='table-result-container'><table class='table-result'><thead style='background-color: white'><tr><th>col_name</th><th>data_type</th><th>comment</th></tr></thead><tbody><tr><td>country_name</td><td>varchar(50)</td><td>null</td></tr><tr><td>population</td><td>int</td><td>null</td></tr><tr><td>area</td><td>int</td><td>null</td></tr><tr><td>capital_city</td><td>varchar(50)</td><td>null</td></tr><tr><td>official_language</td><td>varchar(50)</td><td>null</td></tr><tr><td></td><td></td><td></td></tr><tr><td># Delta Statistics Columns</td><td></td><td></td></tr><tr><td>Column Names</td><td>area, population, capital_city, official_language, country_name</td><td></td></tr><tr><td>Column Selection Method</td><td>first-32</td><td></td></tr><tr><td></td><td></td><td></td></tr><tr><td># Detailed Table Information</td><td></td><td></td></tr><tr><td>Catalog</td><td>spark_catalog</td><td></td></tr><tr><td>Database</td><td>testdb</td><td></td></tr><tr><td>Table</td><td>population</td><td></td></tr><tr><td>Created Time</td><td>Wed Feb 14 16:46:09 UTC 2024</td><td></td></tr><tr><td>Last Access</td><td>UNKNOWN</td><td></td></tr><tr><td>Created By</td><td>Spark 3.5.0</td><td></td></tr><tr><td>Type</td><td>EXTERNAL</td><td></td></tr><tr><td>Location</td><td>dbfs:/user/demo/external_tbl</td><td></td></tr><tr><td>Provider</td><td>delta</td><td></td></tr><tr><td>Owner</td><td>root</td><td></td></tr><tr><td>Table Properties</td><td>[delta.minReaderVersion=1,delta.minWriterVersion=2]</td><td></td></tr></tbody></table></div>"
      ]
     },
     "metadata": {
      "application/vnd.databricks.v1+output": {
       "addedWidgets": {},
       "aggData": [],
       "aggError": "",
       "aggOverflow": false,
       "aggSchema": [],
       "aggSeriesLimitReached": false,
       "aggType": "",
       "arguments": {},
       "columnCustomDisplayInfos": {},
       "data": [
        [
         "country_name",
         "varchar(50)",
         null
        ],
        [
         "population",
         "int",
         null
        ],
        [
         "area",
         "int",
         null
        ],
        [
         "capital_city",
         "varchar(50)",
         null
        ],
        [
         "official_language",
         "varchar(50)",
         null
        ],
        [
         "",
         "",
         ""
        ],
        [
         "# Delta Statistics Columns",
         "",
         ""
        ],
        [
         "Column Names",
         "area, population, capital_city, official_language, country_name",
         ""
        ],
        [
         "Column Selection Method",
         "first-32",
         ""
        ],
        [
         "",
         "",
         ""
        ],
        [
         "# Detailed Table Information",
         "",
         ""
        ],
        [
         "Catalog",
         "spark_catalog",
         ""
        ],
        [
         "Database",
         "testdb",
         ""
        ],
        [
         "Table",
         "population",
         ""
        ],
        [
         "Created Time",
         "Wed Feb 14 16:46:09 UTC 2024",
         ""
        ],
        [
         "Last Access",
         "UNKNOWN",
         ""
        ],
        [
         "Created By",
         "Spark 3.5.0",
         ""
        ],
        [
         "Type",
         "EXTERNAL",
         ""
        ],
        [
         "Location",
         "dbfs:/user/demo/external_tbl",
         ""
        ],
        [
         "Provider",
         "delta",
         ""
        ],
        [
         "Owner",
         "root",
         ""
        ],
        [
         "Table Properties",
         "[delta.minReaderVersion=1,delta.minWriterVersion=2]",
         ""
        ]
       ],
       "datasetInfos": [],
       "dbfsResultPath": null,
       "isJsonSchema": true,
       "metadata": {
        "isDbfsCommandResult": false
       },
       "overflow": false,
       "plotOptions": {
        "customPlotOptions": {},
        "displayType": "table",
        "pivotAggregation": null,
        "pivotColumns": null,
        "xColumns": null,
        "yColumns": null
       },
       "removedWidgets": [],
       "schema": [
        {
         "metadata": "{\"comment\":\"name of the column\"}",
         "name": "col_name",
         "type": "\"string\""
        },
        {
         "metadata": "{\"comment\":\"data type of the column\"}",
         "name": "data_type",
         "type": "\"string\""
        },
        {
         "metadata": "{\"comment\":\"comment of the column\"}",
         "name": "comment",
         "type": "\"string\""
        }
       ],
       "type": "table"
      }
     },
     "output_type": "display_data"
    }
   ],
   "source": [
    "%sql\n",
    "describe extended population;"
   ]
  },
  {
   "cell_type": "code",
   "execution_count": 0,
   "metadata": {
    "application/vnd.databricks.v1+cell": {
     "cellMetadata": {
      "byteLimit": 2048000,
      "rowLimit": 10000
     },
     "inputWidgets": {},
     "nuid": "6873d668-aad1-4cd1-9878-804f6ed6bae2",
     "showTitle": false,
     "title": ""
    }
   },
   "outputs": [
    {
     "output_type": "display_data",
     "data": {
      "text/html": [
       "<style scoped>\n",
       "  .table-result-container {\n",
       "    max-height: 300px;\n",
       "    overflow: auto;\n",
       "  }\n",
       "  table, th, td {\n",
       "    border: 1px solid black;\n",
       "    border-collapse: collapse;\n",
       "  }\n",
       "  th, td {\n",
       "    padding: 5px;\n",
       "  }\n",
       "  th {\n",
       "    text-align: left;\n",
       "  }\n",
       "</style><div class='table-result-container'><table class='table-result'><thead style='background-color: white'><tr><th>path</th><th>name</th><th>size</th><th>modificationTime</th></tr></thead><tbody><tr><td>dbfs:/user/demo/external_tbl/_delta_log/</td><td>_delta_log/</td><td>0</td><td>0</td></tr><tr><td>dbfs:/user/demo/external_tbl/part-00000-08696be5-dc82-4f3d-becd-dd3c7055a956-c000.snappy.parquet</td><td>part-00000-08696be5-dc82-4f3d-becd-dd3c7055a956-c000.snappy.parquet</td><td>1791</td><td>1707929214000</td></tr><tr><td>dbfs:/user/demo/external_tbl/part-00000-0ba346ff-063c-4bf3-be03-09ace0a4c4ba-c000.snappy.parquet</td><td>part-00000-0ba346ff-063c-4bf3-be03-09ace0a4c4ba-c000.snappy.parquet</td><td>1926</td><td>1707929247000</td></tr><tr><td>dbfs:/user/demo/external_tbl/part-00000-13f659a9-2c00-4734-941a-29ad01506718-c000.snappy.parquet</td><td>part-00000-13f659a9-2c00-4734-941a-29ad01506718-c000.snappy.parquet</td><td>1764</td><td>1707929237000</td></tr><tr><td>dbfs:/user/demo/external_tbl/part-00000-2cfaf39c-d45b-4f25-9da2-a5bb1b25e53f-c000.snappy.parquet</td><td>part-00000-2cfaf39c-d45b-4f25-9da2-a5bb1b25e53f-c000.snappy.parquet</td><td>1806</td><td>1707929197000</td></tr><tr><td>dbfs:/user/demo/external_tbl/part-00000-3c2287b9-1b0b-4bb0-9848-6342c2855eb1-c000.snappy.parquet</td><td>part-00000-3c2287b9-1b0b-4bb0-9848-6342c2855eb1-c000.snappy.parquet</td><td>1812</td><td>1707929226000</td></tr><tr><td>dbfs:/user/demo/external_tbl/part-00000-44a291b2-c880-4403-8904-ffe0df64e1a7-c000.snappy.parquet</td><td>part-00000-44a291b2-c880-4403-8904-ffe0df64e1a7-c000.snappy.parquet</td><td>1799</td><td>1707929207000</td></tr><tr><td>dbfs:/user/demo/external_tbl/part-00000-486561f6-a97f-4007-aa87-ddd35d3d679f-c000.snappy.parquet</td><td>part-00000-486561f6-a97f-4007-aa87-ddd35d3d679f-c000.snappy.parquet</td><td>1799</td><td>1707929220000</td></tr><tr><td>dbfs:/user/demo/external_tbl/part-00000-544f1afc-c3fe-4641-8675-9d9fc539c968-c000.snappy.parquet</td><td>part-00000-544f1afc-c3fe-4641-8675-9d9fc539c968-c000.snappy.parquet</td><td>1784</td><td>1707929245000</td></tr><tr><td>dbfs:/user/demo/external_tbl/part-00000-69bc7f8e-f5fe-49d6-8f8a-2bf77efe58d5-c000.snappy.parquet</td><td>part-00000-69bc7f8e-f5fe-49d6-8f8a-2bf77efe58d5-c000.snappy.parquet</td><td>1813</td><td>1707929188000</td></tr><tr><td>dbfs:/user/demo/external_tbl/part-00000-7262d177-9f70-492c-bd37-070813ae9336-c000.snappy.parquet</td><td>part-00000-7262d177-9f70-492c-bd37-070813ae9336-c000.snappy.parquet</td><td>1757</td><td>1707929239000</td></tr><tr><td>dbfs:/user/demo/external_tbl/part-00000-74170b83-3e77-4870-85a5-695989518d81-c000.snappy.parquet</td><td>part-00000-74170b83-3e77-4870-85a5-695989518d81-c000.snappy.parquet</td><td>1791</td><td>1707929242000</td></tr><tr><td>dbfs:/user/demo/external_tbl/part-00000-9e2dad3c-6756-47f2-8929-61a781d4f124-c000.snappy.parquet</td><td>part-00000-9e2dad3c-6756-47f2-8929-61a781d4f124-c000.snappy.parquet</td><td>1792</td><td>1707929200000</td></tr><tr><td>dbfs:/user/demo/external_tbl/part-00000-a051cf10-27f1-4cad-9850-f9dbc3e87f82-c000.snappy.parquet</td><td>part-00000-a051cf10-27f1-4cad-9850-f9dbc3e87f82-c000.snappy.parquet</td><td>1827</td><td>1707929232000</td></tr><tr><td>dbfs:/user/demo/external_tbl/part-00000-a394e3ef-44a9-4733-af65-df9d98cdc503-c000.snappy.parquet</td><td>part-00000-a394e3ef-44a9-4733-af65-df9d98cdc503-c000.snappy.parquet</td><td>1813</td><td>1707929205000</td></tr><tr><td>dbfs:/user/demo/external_tbl/part-00000-bcbd6547-4d69-4632-bc6a-d50e35bc2b81-c000.snappy.parquet</td><td>part-00000-bcbd6547-4d69-4632-bc6a-d50e35bc2b81-c000.snappy.parquet</td><td>1820</td><td>1707929216000</td></tr><tr><td>dbfs:/user/demo/external_tbl/part-00000-bf8b7bc8-dfed-4f76-9143-c9245fe13359-c000.snappy.parquet</td><td>part-00000-bf8b7bc8-dfed-4f76-9143-c9245fe13359-c000.snappy.parquet</td><td>1792</td><td>1707929191000</td></tr><tr><td>dbfs:/user/demo/external_tbl/part-00000-d1d3ac0c-e6fc-44a4-a5fe-e80260aad050-c000.snappy.parquet</td><td>part-00000-d1d3ac0c-e6fc-44a4-a5fe-e80260aad050-c000.snappy.parquet</td><td>1841</td><td>1707929230000</td></tr><tr><td>dbfs:/user/demo/external_tbl/part-00000-dc385659-1984-4343-8def-2bd507d62851-c000.snappy.parquet</td><td>part-00000-dc385659-1984-4343-8def-2bd507d62851-c000.snappy.parquet</td><td>1804</td><td>1707929194000</td></tr><tr><td>dbfs:/user/demo/external_tbl/part-00000-f34b0735-6625-44c6-83fb-723c1c6a52ab-c000.snappy.parquet</td><td>part-00000-f34b0735-6625-44c6-83fb-723c1c6a52ab-c000.snappy.parquet</td><td>1791</td><td>1707929211000</td></tr><tr><td>dbfs:/user/demo/external_tbl/part-00000-ff401942-fb6d-4c25-ab28-5e04e243829f-c000.snappy.parquet</td><td>part-00000-ff401942-fb6d-4c25-ab28-5e04e243829f-c000.snappy.parquet</td><td>1763</td><td>1707929223000</td></tr></tbody></table></div>"
      ]
     },
     "metadata": {
      "application/vnd.databricks.v1+output": {
       "addedWidgets": {},
       "aggData": [],
       "aggError": "",
       "aggOverflow": false,
       "aggSchema": [],
       "aggSeriesLimitReached": false,
       "aggType": "",
       "arguments": {},
       "columnCustomDisplayInfos": {},
       "data": [
        [
         "dbfs:/user/demo/external_tbl/_delta_log/",
         "_delta_log/",
         0,
         0
        ],
        [
         "dbfs:/user/demo/external_tbl/part-00000-08696be5-dc82-4f3d-becd-dd3c7055a956-c000.snappy.parquet",
         "part-00000-08696be5-dc82-4f3d-becd-dd3c7055a956-c000.snappy.parquet",
         1791,
         1707929214000
        ],
        [
         "dbfs:/user/demo/external_tbl/part-00000-0ba346ff-063c-4bf3-be03-09ace0a4c4ba-c000.snappy.parquet",
         "part-00000-0ba346ff-063c-4bf3-be03-09ace0a4c4ba-c000.snappy.parquet",
         1926,
         1707929247000
        ],
        [
         "dbfs:/user/demo/external_tbl/part-00000-13f659a9-2c00-4734-941a-29ad01506718-c000.snappy.parquet",
         "part-00000-13f659a9-2c00-4734-941a-29ad01506718-c000.snappy.parquet",
         1764,
         1707929237000
        ],
        [
         "dbfs:/user/demo/external_tbl/part-00000-2cfaf39c-d45b-4f25-9da2-a5bb1b25e53f-c000.snappy.parquet",
         "part-00000-2cfaf39c-d45b-4f25-9da2-a5bb1b25e53f-c000.snappy.parquet",
         1806,
         1707929197000
        ],
        [
         "dbfs:/user/demo/external_tbl/part-00000-3c2287b9-1b0b-4bb0-9848-6342c2855eb1-c000.snappy.parquet",
         "part-00000-3c2287b9-1b0b-4bb0-9848-6342c2855eb1-c000.snappy.parquet",
         1812,
         1707929226000
        ],
        [
         "dbfs:/user/demo/external_tbl/part-00000-44a291b2-c880-4403-8904-ffe0df64e1a7-c000.snappy.parquet",
         "part-00000-44a291b2-c880-4403-8904-ffe0df64e1a7-c000.snappy.parquet",
         1799,
         1707929207000
        ],
        [
         "dbfs:/user/demo/external_tbl/part-00000-486561f6-a97f-4007-aa87-ddd35d3d679f-c000.snappy.parquet",
         "part-00000-486561f6-a97f-4007-aa87-ddd35d3d679f-c000.snappy.parquet",
         1799,
         1707929220000
        ],
        [
         "dbfs:/user/demo/external_tbl/part-00000-544f1afc-c3fe-4641-8675-9d9fc539c968-c000.snappy.parquet",
         "part-00000-544f1afc-c3fe-4641-8675-9d9fc539c968-c000.snappy.parquet",
         1784,
         1707929245000
        ],
        [
         "dbfs:/user/demo/external_tbl/part-00000-69bc7f8e-f5fe-49d6-8f8a-2bf77efe58d5-c000.snappy.parquet",
         "part-00000-69bc7f8e-f5fe-49d6-8f8a-2bf77efe58d5-c000.snappy.parquet",
         1813,
         1707929188000
        ],
        [
         "dbfs:/user/demo/external_tbl/part-00000-7262d177-9f70-492c-bd37-070813ae9336-c000.snappy.parquet",
         "part-00000-7262d177-9f70-492c-bd37-070813ae9336-c000.snappy.parquet",
         1757,
         1707929239000
        ],
        [
         "dbfs:/user/demo/external_tbl/part-00000-74170b83-3e77-4870-85a5-695989518d81-c000.snappy.parquet",
         "part-00000-74170b83-3e77-4870-85a5-695989518d81-c000.snappy.parquet",
         1791,
         1707929242000
        ],
        [
         "dbfs:/user/demo/external_tbl/part-00000-9e2dad3c-6756-47f2-8929-61a781d4f124-c000.snappy.parquet",
         "part-00000-9e2dad3c-6756-47f2-8929-61a781d4f124-c000.snappy.parquet",
         1792,
         1707929200000
        ],
        [
         "dbfs:/user/demo/external_tbl/part-00000-a051cf10-27f1-4cad-9850-f9dbc3e87f82-c000.snappy.parquet",
         "part-00000-a051cf10-27f1-4cad-9850-f9dbc3e87f82-c000.snappy.parquet",
         1827,
         1707929232000
        ],
        [
         "dbfs:/user/demo/external_tbl/part-00000-a394e3ef-44a9-4733-af65-df9d98cdc503-c000.snappy.parquet",
         "part-00000-a394e3ef-44a9-4733-af65-df9d98cdc503-c000.snappy.parquet",
         1813,
         1707929205000
        ],
        [
         "dbfs:/user/demo/external_tbl/part-00000-bcbd6547-4d69-4632-bc6a-d50e35bc2b81-c000.snappy.parquet",
         "part-00000-bcbd6547-4d69-4632-bc6a-d50e35bc2b81-c000.snappy.parquet",
         1820,
         1707929216000
        ],
        [
         "dbfs:/user/demo/external_tbl/part-00000-bf8b7bc8-dfed-4f76-9143-c9245fe13359-c000.snappy.parquet",
         "part-00000-bf8b7bc8-dfed-4f76-9143-c9245fe13359-c000.snappy.parquet",
         1792,
         1707929191000
        ],
        [
         "dbfs:/user/demo/external_tbl/part-00000-d1d3ac0c-e6fc-44a4-a5fe-e80260aad050-c000.snappy.parquet",
         "part-00000-d1d3ac0c-e6fc-44a4-a5fe-e80260aad050-c000.snappy.parquet",
         1841,
         1707929230000
        ],
        [
         "dbfs:/user/demo/external_tbl/part-00000-dc385659-1984-4343-8def-2bd507d62851-c000.snappy.parquet",
         "part-00000-dc385659-1984-4343-8def-2bd507d62851-c000.snappy.parquet",
         1804,
         1707929194000
        ],
        [
         "dbfs:/user/demo/external_tbl/part-00000-f34b0735-6625-44c6-83fb-723c1c6a52ab-c000.snappy.parquet",
         "part-00000-f34b0735-6625-44c6-83fb-723c1c6a52ab-c000.snappy.parquet",
         1791,
         1707929211000
        ],
        [
         "dbfs:/user/demo/external_tbl/part-00000-ff401942-fb6d-4c25-ab28-5e04e243829f-c000.snappy.parquet",
         "part-00000-ff401942-fb6d-4c25-ab28-5e04e243829f-c000.snappy.parquet",
         1763,
         1707929223000
        ]
       ],
       "datasetInfos": [],
       "dbfsResultPath": null,
       "isJsonSchema": true,
       "metadata": {
        "isDbfsCommandResult": false
       },
       "overflow": false,
       "plotOptions": {
        "customPlotOptions": {},
        "displayType": "table",
        "pivotAggregation": null,
        "pivotColumns": null,
        "xColumns": null,
        "yColumns": null
       },
       "removedWidgets": [],
       "schema": [
        {
         "metadata": "{}",
         "name": "path",
         "type": "\"string\""
        },
        {
         "metadata": "{}",
         "name": "name",
         "type": "\"string\""
        },
        {
         "metadata": "{}",
         "name": "size",
         "type": "\"long\""
        },
        {
         "metadata": "{}",
         "name": "modificationTime",
         "type": "\"long\""
        }
       ],
       "type": "table"
      }
     },
     "output_type": "display_data"
    }
   ],
   "source": [
    "%fs ls \"dbfs:/user/demo/external_tbl\""
   ]
  },
  {
   "cell_type": "code",
   "execution_count": 0,
   "metadata": {
    "application/vnd.databricks.v1+cell": {
     "cellMetadata": {
      "byteLimit": 2048000,
      "rowLimit": 10000
     },
     "inputWidgets": {},
     "nuid": "cf8e6800-605f-4d24-bf10-50c2eba314c0",
     "showTitle": false,
     "title": ""
    }
   },
   "outputs": [
    {
     "output_type": "display_data",
     "data": {
      "text/html": [
       "<style scoped>\n",
       "  .table-result-container {\n",
       "    max-height: 300px;\n",
       "    overflow: auto;\n",
       "  }\n",
       "  table, th, td {\n",
       "    border: 1px solid black;\n",
       "    border-collapse: collapse;\n",
       "  }\n",
       "  th, td {\n",
       "    padding: 5px;\n",
       "  }\n",
       "  th {\n",
       "    text-align: left;\n",
       "  }\n",
       "</style><div class='table-result-container'><table class='table-result'><thead style='background-color: white'><tr><th>path</th><th>name</th><th>size</th><th>modificationTime</th></tr></thead><tbody><tr><td>dbfs:/user/hive/warehouse/testdb.db/student/_delta_log/</td><td>_delta_log/</td><td>0</td><td>0</td></tr><tr><td>dbfs:/user/hive/warehouse/testdb.db/student/part-00000-03f55b63-7add-45e6-92fd-dd11d5b3982a-c000.snappy.parquet</td><td>part-00000-03f55b63-7add-45e6-92fd-dd11d5b3982a-c000.snappy.parquet</td><td>2390</td><td>1707928226000</td></tr><tr><td>dbfs:/user/hive/warehouse/testdb.db/student/part-00000-0b9169dd-be43-489e-b502-95abb8ed569a-c000.snappy.parquet</td><td>part-00000-0b9169dd-be43-489e-b502-95abb8ed569a-c000.snappy.parquet</td><td>2514</td><td>1707928286000</td></tr><tr><td>dbfs:/user/hive/warehouse/testdb.db/student/part-00000-0f9468c4-f8c8-41b3-bdb7-1408b6159e32-c000.snappy.parquet</td><td>part-00000-0f9468c4-f8c8-41b3-bdb7-1408b6159e32-c000.snappy.parquet</td><td>2396</td><td>1707928201000</td></tr><tr><td>dbfs:/user/hive/warehouse/testdb.db/student/part-00000-15773ca9-3237-4a56-a009-0fe378e5ee1a-c000.snappy.parquet</td><td>part-00000-15773ca9-3237-4a56-a009-0fe378e5ee1a-c000.snappy.parquet</td><td>2347</td><td>1707928309000</td></tr><tr><td>dbfs:/user/hive/warehouse/testdb.db/student/part-00000-1e3d2401-0591-422b-b380-7f46070a6b72-c000.snappy.parquet</td><td>part-00000-1e3d2401-0591-422b-b380-7f46070a6b72-c000.snappy.parquet</td><td>2458</td><td>1707928222000</td></tr><tr><td>dbfs:/user/hive/warehouse/testdb.db/student/part-00000-34620487-40d8-46bf-af4e-ac21a058fe39-c000.snappy.parquet</td><td>part-00000-34620487-40d8-46bf-af4e-ac21a058fe39-c000.snappy.parquet</td><td>2425</td><td>1707928197000</td></tr><tr><td>dbfs:/user/hive/warehouse/testdb.db/student/part-00000-3ddd3db6-4399-4676-8ea7-17d02949c53a-c000.snappy.parquet</td><td>part-00000-3ddd3db6-4399-4676-8ea7-17d02949c53a-c000.snappy.parquet</td><td>2297</td><td>1707928304000</td></tr><tr><td>dbfs:/user/hive/warehouse/testdb.db/student/part-00000-630e8790-c44e-486c-aecb-6005408603c8-c000.snappy.parquet</td><td>part-00000-630e8790-c44e-486c-aecb-6005408603c8-c000.snappy.parquet</td><td>2515</td><td>1707928245000</td></tr><tr><td>dbfs:/user/hive/warehouse/testdb.db/student/part-00000-6b331b40-ca97-4a16-93c4-c575d1db8d37-c000.snappy.parquet</td><td>part-00000-6b331b40-ca97-4a16-93c4-c575d1db8d37-c000.snappy.parquet</td><td>2417</td><td>1707928317000</td></tr><tr><td>dbfs:/user/hive/warehouse/testdb.db/student/part-00000-6fe266a1-6ab1-4acd-9aa6-f3bbbcee7255-c000.snappy.parquet</td><td>part-00000-6fe266a1-6ab1-4acd-9aa6-f3bbbcee7255-c000.snappy.parquet</td><td>2479</td><td>1707928312000</td></tr><tr><td>dbfs:/user/hive/warehouse/testdb.db/student/part-00000-804590fd-4767-4985-9140-c1cabcde2608-c000.snappy.parquet</td><td>part-00000-804590fd-4767-4985-9140-c1cabcde2608-c000.snappy.parquet</td><td>2396</td><td>1707928241000</td></tr><tr><td>dbfs:/user/hive/warehouse/testdb.db/student/part-00000-81c17629-671e-43ef-9dfa-489f3b939255-c000.snappy.parquet</td><td>part-00000-81c17629-671e-43ef-9dfa-489f3b939255-c000.snappy.parquet</td><td>2410</td><td>1707928334000</td></tr><tr><td>dbfs:/user/hive/warehouse/testdb.db/student/part-00000-82718b0f-ed5b-4009-ade4-090224929a18-c000.snappy.parquet</td><td>part-00000-82718b0f-ed5b-4009-ade4-090224929a18-c000.snappy.parquet</td><td>2347</td><td>1707928234000</td></tr><tr><td>dbfs:/user/hive/warehouse/testdb.db/student/part-00000-84407840-9df7-49ef-9515-421178e6926c-c000.snappy.parquet</td><td>part-00000-84407840-9df7-49ef-9515-421178e6926c-c000.snappy.parquet</td><td>2415</td><td>1707928326000</td></tr><tr><td>dbfs:/user/hive/warehouse/testdb.db/student/part-00000-950f3929-76a9-4ca9-b243-e840665f284b-c000.snappy.parquet</td><td>part-00000-950f3929-76a9-4ca9-b243-e840665f284b-c000.snappy.parquet</td><td>2382</td><td>1707928321000</td></tr><tr><td>dbfs:/user/hive/warehouse/testdb.db/student/part-00000-9c233f85-b90e-4b6a-a83e-09b1716657d2-c000.snappy.parquet</td><td>part-00000-9c233f85-b90e-4b6a-a83e-09b1716657d2-c000.snappy.parquet</td><td>2422</td><td>1707928260000</td></tr><tr><td>dbfs:/user/hive/warehouse/testdb.db/student/part-00000-9d1eb601-cdaf-46c6-aed7-e712c0081379-c000.snappy.parquet</td><td>part-00000-9d1eb601-cdaf-46c6-aed7-e712c0081379-c000.snappy.parquet</td><td>2333</td><td>1707928264000</td></tr><tr><td>dbfs:/user/hive/warehouse/testdb.db/student/part-00000-a279bf87-c403-414b-a84c-26fd0badd7bc-c000.snappy.parquet</td><td>part-00000-a279bf87-c403-414b-a84c-26fd0badd7bc-c000.snappy.parquet</td><td>2409</td><td>1707928300000</td></tr><tr><td>dbfs:/user/hive/warehouse/testdb.db/student/part-00000-af45fc73-818a-4278-a7ee-c73142a21f8e-c000.snappy.parquet</td><td>part-00000-af45fc73-818a-4278-a7ee-c73142a21f8e-c000.snappy.parquet</td><td>2410</td><td>1707928283000</td></tr><tr><td>dbfs:/user/hive/warehouse/testdb.db/student/part-00000-b0d4465e-ea09-438f-bb2b-9763f56e5703-c000.snappy.parquet</td><td>part-00000-b0d4465e-ea09-438f-bb2b-9763f56e5703-c000.snappy.parquet</td><td>2368</td><td>1707928330000</td></tr><tr><td>dbfs:/user/hive/warehouse/testdb.db/student/part-00000-b2b1f1d4-52bf-4c08-8ee7-f90342643feb-c000.snappy.parquet</td><td>part-00000-b2b1f1d4-52bf-4c08-8ee7-f90342643feb-c000.snappy.parquet</td><td>2423</td><td>1707928296000</td></tr><tr><td>dbfs:/user/hive/warehouse/testdb.db/student/part-00000-b79e0c06-a534-46ae-ac9e-1686dcc10f98-c000.snappy.parquet</td><td>part-00000-b79e0c06-a534-46ae-ac9e-1686dcc10f98-c000.snappy.parquet</td><td>2430</td><td>1707928290000</td></tr><tr><td>dbfs:/user/hive/warehouse/testdb.db/student/part-00000-ba13a864-1f70-4a29-ad6d-5dd3d6cfeb37-c000.snappy.parquet</td><td>part-00000-ba13a864-1f70-4a29-ad6d-5dd3d6cfeb37-c000.snappy.parquet</td><td>2367</td><td>1707928269000</td></tr><tr><td>dbfs:/user/hive/warehouse/testdb.db/student/part-00000-ba362c82-979b-4f24-85df-3fc7a656a79a-c000.snappy.parquet</td><td>part-00000-ba362c82-979b-4f24-85df-3fc7a656a79a-c000.snappy.parquet</td><td>2382</td><td>1707928257000</td></tr><tr><td>dbfs:/user/hive/warehouse/testdb.db/student/part-00000-bd03550c-8d88-403a-999a-2feafd02399a-c000.snappy.parquet</td><td>part-00000-bd03550c-8d88-403a-999a-2feafd02399a-c000.snappy.parquet</td><td>2409</td><td>1707928274000</td></tr><tr><td>dbfs:/user/hive/warehouse/testdb.db/student/part-00000-c21c0e4f-4916-4f21-a275-92d29380d4db-c000.snappy.parquet</td><td>part-00000-c21c0e4f-4916-4f21-a275-92d29380d4db-c000.snappy.parquet</td><td>2472</td><td>1707928214000</td></tr><tr><td>dbfs:/user/hive/warehouse/testdb.db/student/part-00000-de5c2cea-deeb-472d-9f9f-0dcece2300b2-c000.snappy.parquet</td><td>part-00000-de5c2cea-deeb-472d-9f9f-0dcece2300b2-c000.snappy.parquet</td><td>2382</td><td>1707928237000</td></tr><tr><td>dbfs:/user/hive/warehouse/testdb.db/student/part-00000-dee9732e-0f9f-4aa3-8fe6-5bdb403e5ea4-c000.snappy.parquet</td><td>part-00000-dee9732e-0f9f-4aa3-8fe6-5bdb403e5ea4-c000.snappy.parquet</td><td>2381</td><td>1707928218000</td></tr><tr><td>dbfs:/user/hive/warehouse/testdb.db/student/part-00000-e22e12a1-62dc-4138-9a51-477b40428ff2-c000.snappy.parquet</td><td>part-00000-e22e12a1-62dc-4138-9a51-477b40428ff2-c000.snappy.parquet</td><td>2361</td><td>1707928249000</td></tr><tr><td>dbfs:/user/hive/warehouse/testdb.db/student/part-00000-e91bf493-263e-4a26-a1ad-1423d756ef03-c000.snappy.parquet</td><td>part-00000-e91bf493-263e-4a26-a1ad-1423d756ef03-c000.snappy.parquet</td><td>2413</td><td>1707928207000</td></tr><tr><td>dbfs:/user/hive/warehouse/testdb.db/student/part-00000-eaad5622-c545-459e-98c0-0bbe79e5dc8c-c000.snappy.parquet</td><td>part-00000-eaad5622-c545-459e-98c0-0bbe79e5dc8c-c000.snappy.parquet</td><td>2417</td><td>1707928278000</td></tr><tr><td>dbfs:/user/hive/warehouse/testdb.db/student/part-00000-f56a94f5-98e0-45ab-95fa-0c30d4502f5d-c000.snappy.parquet</td><td>part-00000-f56a94f5-98e0-45ab-95fa-0c30d4502f5d-c000.snappy.parquet</td><td>2374</td><td>1707928253000</td></tr><tr><td>dbfs:/user/hive/warehouse/testdb.db/student/part-00000-f5c7b82b-cb21-44e7-b5c9-1e250db22158-c000.snappy.parquet</td><td>part-00000-f5c7b82b-cb21-44e7-b5c9-1e250db22158-c000.snappy.parquet</td><td>2418</td><td>1707928229000</td></tr><tr><td>dbfs:/user/hive/warehouse/testdb.db/student/part-00000-fbe04434-a7ca-4bf6-bd70-58eae66a7d88-c000.snappy.parquet</td><td>part-00000-fbe04434-a7ca-4bf6-bd70-58eae66a7d88-c000.snappy.parquet</td><td>2381</td><td>1707928210000</td></tr></tbody></table></div>"
      ]
     },
     "metadata": {
      "application/vnd.databricks.v1+output": {
       "addedWidgets": {},
       "aggData": [],
       "aggError": "",
       "aggOverflow": false,
       "aggSchema": [],
       "aggSeriesLimitReached": false,
       "aggType": "",
       "arguments": {},
       "columnCustomDisplayInfos": {},
       "data": [
        [
         "dbfs:/user/hive/warehouse/testdb.db/student/_delta_log/",
         "_delta_log/",
         0,
         0
        ],
        [
         "dbfs:/user/hive/warehouse/testdb.db/student/part-00000-03f55b63-7add-45e6-92fd-dd11d5b3982a-c000.snappy.parquet",
         "part-00000-03f55b63-7add-45e6-92fd-dd11d5b3982a-c000.snappy.parquet",
         2390,
         1707928226000
        ],
        [
         "dbfs:/user/hive/warehouse/testdb.db/student/part-00000-0b9169dd-be43-489e-b502-95abb8ed569a-c000.snappy.parquet",
         "part-00000-0b9169dd-be43-489e-b502-95abb8ed569a-c000.snappy.parquet",
         2514,
         1707928286000
        ],
        [
         "dbfs:/user/hive/warehouse/testdb.db/student/part-00000-0f9468c4-f8c8-41b3-bdb7-1408b6159e32-c000.snappy.parquet",
         "part-00000-0f9468c4-f8c8-41b3-bdb7-1408b6159e32-c000.snappy.parquet",
         2396,
         1707928201000
        ],
        [
         "dbfs:/user/hive/warehouse/testdb.db/student/part-00000-15773ca9-3237-4a56-a009-0fe378e5ee1a-c000.snappy.parquet",
         "part-00000-15773ca9-3237-4a56-a009-0fe378e5ee1a-c000.snappy.parquet",
         2347,
         1707928309000
        ],
        [
         "dbfs:/user/hive/warehouse/testdb.db/student/part-00000-1e3d2401-0591-422b-b380-7f46070a6b72-c000.snappy.parquet",
         "part-00000-1e3d2401-0591-422b-b380-7f46070a6b72-c000.snappy.parquet",
         2458,
         1707928222000
        ],
        [
         "dbfs:/user/hive/warehouse/testdb.db/student/part-00000-34620487-40d8-46bf-af4e-ac21a058fe39-c000.snappy.parquet",
         "part-00000-34620487-40d8-46bf-af4e-ac21a058fe39-c000.snappy.parquet",
         2425,
         1707928197000
        ],
        [
         "dbfs:/user/hive/warehouse/testdb.db/student/part-00000-3ddd3db6-4399-4676-8ea7-17d02949c53a-c000.snappy.parquet",
         "part-00000-3ddd3db6-4399-4676-8ea7-17d02949c53a-c000.snappy.parquet",
         2297,
         1707928304000
        ],
        [
         "dbfs:/user/hive/warehouse/testdb.db/student/part-00000-630e8790-c44e-486c-aecb-6005408603c8-c000.snappy.parquet",
         "part-00000-630e8790-c44e-486c-aecb-6005408603c8-c000.snappy.parquet",
         2515,
         1707928245000
        ],
        [
         "dbfs:/user/hive/warehouse/testdb.db/student/part-00000-6b331b40-ca97-4a16-93c4-c575d1db8d37-c000.snappy.parquet",
         "part-00000-6b331b40-ca97-4a16-93c4-c575d1db8d37-c000.snappy.parquet",
         2417,
         1707928317000
        ],
        [
         "dbfs:/user/hive/warehouse/testdb.db/student/part-00000-6fe266a1-6ab1-4acd-9aa6-f3bbbcee7255-c000.snappy.parquet",
         "part-00000-6fe266a1-6ab1-4acd-9aa6-f3bbbcee7255-c000.snappy.parquet",
         2479,
         1707928312000
        ],
        [
         "dbfs:/user/hive/warehouse/testdb.db/student/part-00000-804590fd-4767-4985-9140-c1cabcde2608-c000.snappy.parquet",
         "part-00000-804590fd-4767-4985-9140-c1cabcde2608-c000.snappy.parquet",
         2396,
         1707928241000
        ],
        [
         "dbfs:/user/hive/warehouse/testdb.db/student/part-00000-81c17629-671e-43ef-9dfa-489f3b939255-c000.snappy.parquet",
         "part-00000-81c17629-671e-43ef-9dfa-489f3b939255-c000.snappy.parquet",
         2410,
         1707928334000
        ],
        [
         "dbfs:/user/hive/warehouse/testdb.db/student/part-00000-82718b0f-ed5b-4009-ade4-090224929a18-c000.snappy.parquet",
         "part-00000-82718b0f-ed5b-4009-ade4-090224929a18-c000.snappy.parquet",
         2347,
         1707928234000
        ],
        [
         "dbfs:/user/hive/warehouse/testdb.db/student/part-00000-84407840-9df7-49ef-9515-421178e6926c-c000.snappy.parquet",
         "part-00000-84407840-9df7-49ef-9515-421178e6926c-c000.snappy.parquet",
         2415,
         1707928326000
        ],
        [
         "dbfs:/user/hive/warehouse/testdb.db/student/part-00000-950f3929-76a9-4ca9-b243-e840665f284b-c000.snappy.parquet",
         "part-00000-950f3929-76a9-4ca9-b243-e840665f284b-c000.snappy.parquet",
         2382,
         1707928321000
        ],
        [
         "dbfs:/user/hive/warehouse/testdb.db/student/part-00000-9c233f85-b90e-4b6a-a83e-09b1716657d2-c000.snappy.parquet",
         "part-00000-9c233f85-b90e-4b6a-a83e-09b1716657d2-c000.snappy.parquet",
         2422,
         1707928260000
        ],
        [
         "dbfs:/user/hive/warehouse/testdb.db/student/part-00000-9d1eb601-cdaf-46c6-aed7-e712c0081379-c000.snappy.parquet",
         "part-00000-9d1eb601-cdaf-46c6-aed7-e712c0081379-c000.snappy.parquet",
         2333,
         1707928264000
        ],
        [
         "dbfs:/user/hive/warehouse/testdb.db/student/part-00000-a279bf87-c403-414b-a84c-26fd0badd7bc-c000.snappy.parquet",
         "part-00000-a279bf87-c403-414b-a84c-26fd0badd7bc-c000.snappy.parquet",
         2409,
         1707928300000
        ],
        [
         "dbfs:/user/hive/warehouse/testdb.db/student/part-00000-af45fc73-818a-4278-a7ee-c73142a21f8e-c000.snappy.parquet",
         "part-00000-af45fc73-818a-4278-a7ee-c73142a21f8e-c000.snappy.parquet",
         2410,
         1707928283000
        ],
        [
         "dbfs:/user/hive/warehouse/testdb.db/student/part-00000-b0d4465e-ea09-438f-bb2b-9763f56e5703-c000.snappy.parquet",
         "part-00000-b0d4465e-ea09-438f-bb2b-9763f56e5703-c000.snappy.parquet",
         2368,
         1707928330000
        ],
        [
         "dbfs:/user/hive/warehouse/testdb.db/student/part-00000-b2b1f1d4-52bf-4c08-8ee7-f90342643feb-c000.snappy.parquet",
         "part-00000-b2b1f1d4-52bf-4c08-8ee7-f90342643feb-c000.snappy.parquet",
         2423,
         1707928296000
        ],
        [
         "dbfs:/user/hive/warehouse/testdb.db/student/part-00000-b79e0c06-a534-46ae-ac9e-1686dcc10f98-c000.snappy.parquet",
         "part-00000-b79e0c06-a534-46ae-ac9e-1686dcc10f98-c000.snappy.parquet",
         2430,
         1707928290000
        ],
        [
         "dbfs:/user/hive/warehouse/testdb.db/student/part-00000-ba13a864-1f70-4a29-ad6d-5dd3d6cfeb37-c000.snappy.parquet",
         "part-00000-ba13a864-1f70-4a29-ad6d-5dd3d6cfeb37-c000.snappy.parquet",
         2367,
         1707928269000
        ],
        [
         "dbfs:/user/hive/warehouse/testdb.db/student/part-00000-ba362c82-979b-4f24-85df-3fc7a656a79a-c000.snappy.parquet",
         "part-00000-ba362c82-979b-4f24-85df-3fc7a656a79a-c000.snappy.parquet",
         2382,
         1707928257000
        ],
        [
         "dbfs:/user/hive/warehouse/testdb.db/student/part-00000-bd03550c-8d88-403a-999a-2feafd02399a-c000.snappy.parquet",
         "part-00000-bd03550c-8d88-403a-999a-2feafd02399a-c000.snappy.parquet",
         2409,
         1707928274000
        ],
        [
         "dbfs:/user/hive/warehouse/testdb.db/student/part-00000-c21c0e4f-4916-4f21-a275-92d29380d4db-c000.snappy.parquet",
         "part-00000-c21c0e4f-4916-4f21-a275-92d29380d4db-c000.snappy.parquet",
         2472,
         1707928214000
        ],
        [
         "dbfs:/user/hive/warehouse/testdb.db/student/part-00000-de5c2cea-deeb-472d-9f9f-0dcece2300b2-c000.snappy.parquet",
         "part-00000-de5c2cea-deeb-472d-9f9f-0dcece2300b2-c000.snappy.parquet",
         2382,
         1707928237000
        ],
        [
         "dbfs:/user/hive/warehouse/testdb.db/student/part-00000-dee9732e-0f9f-4aa3-8fe6-5bdb403e5ea4-c000.snappy.parquet",
         "part-00000-dee9732e-0f9f-4aa3-8fe6-5bdb403e5ea4-c000.snappy.parquet",
         2381,
         1707928218000
        ],
        [
         "dbfs:/user/hive/warehouse/testdb.db/student/part-00000-e22e12a1-62dc-4138-9a51-477b40428ff2-c000.snappy.parquet",
         "part-00000-e22e12a1-62dc-4138-9a51-477b40428ff2-c000.snappy.parquet",
         2361,
         1707928249000
        ],
        [
         "dbfs:/user/hive/warehouse/testdb.db/student/part-00000-e91bf493-263e-4a26-a1ad-1423d756ef03-c000.snappy.parquet",
         "part-00000-e91bf493-263e-4a26-a1ad-1423d756ef03-c000.snappy.parquet",
         2413,
         1707928207000
        ],
        [
         "dbfs:/user/hive/warehouse/testdb.db/student/part-00000-eaad5622-c545-459e-98c0-0bbe79e5dc8c-c000.snappy.parquet",
         "part-00000-eaad5622-c545-459e-98c0-0bbe79e5dc8c-c000.snappy.parquet",
         2417,
         1707928278000
        ],
        [
         "dbfs:/user/hive/warehouse/testdb.db/student/part-00000-f56a94f5-98e0-45ab-95fa-0c30d4502f5d-c000.snappy.parquet",
         "part-00000-f56a94f5-98e0-45ab-95fa-0c30d4502f5d-c000.snappy.parquet",
         2374,
         1707928253000
        ],
        [
         "dbfs:/user/hive/warehouse/testdb.db/student/part-00000-f5c7b82b-cb21-44e7-b5c9-1e250db22158-c000.snappy.parquet",
         "part-00000-f5c7b82b-cb21-44e7-b5c9-1e250db22158-c000.snappy.parquet",
         2418,
         1707928229000
        ],
        [
         "dbfs:/user/hive/warehouse/testdb.db/student/part-00000-fbe04434-a7ca-4bf6-bd70-58eae66a7d88-c000.snappy.parquet",
         "part-00000-fbe04434-a7ca-4bf6-bd70-58eae66a7d88-c000.snappy.parquet",
         2381,
         1707928210000
        ]
       ],
       "datasetInfos": [],
       "dbfsResultPath": null,
       "isJsonSchema": true,
       "metadata": {
        "isDbfsCommandResult": false
       },
       "overflow": false,
       "plotOptions": {
        "customPlotOptions": {},
        "displayType": "table",
        "pivotAggregation": null,
        "pivotColumns": null,
        "xColumns": null,
        "yColumns": null
       },
       "removedWidgets": [],
       "schema": [
        {
         "metadata": "{}",
         "name": "path",
         "type": "\"string\""
        },
        {
         "metadata": "{}",
         "name": "name",
         "type": "\"string\""
        },
        {
         "metadata": "{}",
         "name": "size",
         "type": "\"long\""
        },
        {
         "metadata": "{}",
         "name": "modificationTime",
         "type": "\"long\""
        }
       ],
       "type": "table"
      }
     },
     "output_type": "display_data"
    }
   ],
   "source": [
    "%fs ls \"dbfs:/user/hive/warehouse/testdb.db/student\""
   ]
  },
  {
   "cell_type": "code",
   "execution_count": 0,
   "metadata": {
    "application/vnd.databricks.v1+cell": {
     "cellMetadata": {
      "byteLimit": 2048000,
      "rowLimit": 10000
     },
     "inputWidgets": {},
     "nuid": "fa1a055f-120c-4733-abbf-493e30e60630",
     "showTitle": false,
     "title": ""
    }
   },
   "outputs": [
    {
     "output_type": "display_data",
     "data": {
      "text/html": [
       "<style scoped>\n",
       "  .table-result-container {\n",
       "    max-height: 300px;\n",
       "    overflow: auto;\n",
       "  }\n",
       "  table, th, td {\n",
       "    border: 1px solid black;\n",
       "    border-collapse: collapse;\n",
       "  }\n",
       "  th, td {\n",
       "    padding: 5px;\n",
       "  }\n",
       "  th {\n",
       "    text-align: left;\n",
       "  }\n",
       "</style><div class='table-result-container'><table class='table-result'><thead style='background-color: white'><tr></tr></thead><tbody></tbody></table></div>"
      ]
     },
     "metadata": {
      "application/vnd.databricks.v1+output": {
       "addedWidgets": {},
       "aggData": [],
       "aggError": "",
       "aggOverflow": false,
       "aggSchema": [],
       "aggSeriesLimitReached": false,
       "aggType": "",
       "arguments": {},
       "columnCustomDisplayInfos": {},
       "data": [],
       "datasetInfos": [],
       "dbfsResultPath": null,
       "isJsonSchema": true,
       "metadata": {
        "isDbfsCommandResult": false
       },
       "overflow": false,
       "plotOptions": {
        "customPlotOptions": {},
        "displayType": "table",
        "pivotAggregation": null,
        "pivotColumns": null,
        "xColumns": null,
        "yColumns": null
       },
       "removedWidgets": [],
       "schema": [],
       "type": "table"
      }
     },
     "output_type": "display_data"
    }
   ],
   "source": [
    "%sql\n",
    "drop table student;"
   ]
  },
  {
   "cell_type": "code",
   "execution_count": 0,
   "metadata": {
    "application/vnd.databricks.v1+cell": {
     "cellMetadata": {
      "byteLimit": 2048000,
      "rowLimit": 10000
     },
     "inputWidgets": {},
     "nuid": "91aa2486-e084-442c-9119-0c1b6b84750c",
     "showTitle": false,
     "title": ""
    }
   },
   "outputs": [
    {
     "output_type": "display_data",
     "data": {
      "text/html": [
       "<style scoped>\n",
       "  .ansiout {\n",
       "    display: block;\n",
       "    unicode-bidi: embed;\n",
       "    white-space: pre-wrap;\n",
       "    word-wrap: break-word;\n",
       "    word-break: break-all;\n",
       "    font-family: \"Menlo\", \"Monaco\", \"Consolas\", \"Ubuntu Mono\", \"Source Code Pro\", monospace;\n",
       "    font-size: 13px;\n",
       "    color: #555;\n",
       "    margin-left: 4px;\n",
       "    line-height: 19px;\n",
       "  }\n",
       "</style>\n",
       "<div class=\"ansiout\"></div>"
      ]
     },
     "metadata": {
      "application/vnd.databricks.v1+output": {
       "addedWidgets": {},
       "arguments": {},
       "data": "<div class=\"ansiout\"></div>",
       "datasetInfos": [],
       "metadata": {
        "isDbfsCommandResult": false
       },
       "removedWidgets": [],
       "type": "html"
      }
     },
     "output_type": "display_data"
    },
    {
     "output_type": "display_data",
     "data": {
      "text/html": [
       "<style scoped>\n",
       "  .ansiout {\n",
       "    display: block;\n",
       "    unicode-bidi: embed;\n",
       "    white-space: pre-wrap;\n",
       "    word-wrap: break-word;\n",
       "    word-break: break-all;\n",
       "    font-family: \"Menlo\", \"Monaco\", \"Consolas\", \"Ubuntu Mono\", \"Source Code Pro\", monospace;\n",
       "    font-size: 13px;\n",
       "    color: #555;\n",
       "    margin-left: 4px;\n",
       "    line-height: 19px;\n",
       "  }\n",
       "</style>\n",
       "<div class=\"ansiout\">\tat com.databricks.backend.daemon.data.client.DbfsClient.send0(DbfsClient.scala:121)\n",
       "\tat com.databricks.backend.daemon.data.client.DbfsClient.sendIdempotent(DbfsClient.scala:69)\n",
       "\tat com.databricks.backend.daemon.data.client.DatabricksFileSystemV1.listStatus(DatabricksFileSystemV1.scala:179)\n",
       "\tat com.databricks.backend.daemon.data.client.DatabricksFileSystem.listStatus(DatabricksFileSystem.scala:164)\n",
       "\tat com.databricks.backend.daemon.dbutils.FSUtils.lsWithLimit(DBUtilsCore.scala:274)\n",
       "\tat com.databricks.backend.daemon.dbutils.FSUtils.$anonfun$lsImpl$2(DBUtilsCore.scala:243)\n",
       "\tat com.databricks.backend.daemon.dbutils.FSUtils.withFsSafetyCheck(DBUtilsCore.scala:146)\n",
       "\tat com.databricks.backend.daemon.dbutils.FSUtils.$anonfun$lsImpl$1(DBUtilsCore.scala:241)\n",
       "\tat com.databricks.backend.daemon.dbutils.FSUtils.checkPermission(DBUtilsCore.scala:141)\n",
       "\tat com.databricks.backend.daemon.dbutils.FSUtils.lsImpl(DBUtilsCore.scala:241)\n",
       "\tat com.databricks.backend.daemon.dbutils.FSUtils.$anonfun$ls$1(DBUtilsCore.scala:231)\n",
       "\tat com.databricks.logging.UsageLogging.$anonfun$recordOperation$1(UsageLogging.scala:573)\n",
       "\tat com.databricks.logging.UsageLogging.executeThunkAndCaptureResultTags$1(UsageLogging.scala:668)\n",
       "\tat com.databricks.logging.UsageLogging.$anonfun$recordOperationWithResultTags$4(UsageLogging.scala:686)\n",
       "\tat com.databricks.logging.UsageLogging.$anonfun$withAttributionContext$1(UsageLogging.scala:426)\n",
       "\tat scala.util.DynamicVariable.withValue(DynamicVariable.scala:62)\n",
       "\tat com.databricks.logging.AttributionContext$.withValue(AttributionContext.scala:216)\n",
       "\tat com.databricks.logging.UsageLogging.withAttributionContext(UsageLogging.scala:424)\n",
       "\tat com.databricks.logging.UsageLogging.withAttributionContext$(UsageLogging.scala:418)\n",
       "\tat com.databricks.backend.daemon.dbutils.FSUtils.withAttributionContext(DBUtilsCore.scala:70)\n",
       "\tat com.databricks.logging.UsageLogging.withAttributionTags(UsageLogging.scala:472)\n",
       "\tat com.databricks.logging.UsageLogging.withAttributionTags$(UsageLogging.scala:455)\n",
       "\tat com.databricks.backend.daemon.dbutils.FSUtils.withAttributionTags(DBUtilsCore.scala:70)\n",
       "\tat com.databricks.logging.UsageLogging.recordOperationWithResultTags(UsageLogging.scala:663)\n",
       "\tat com.databricks.logging.UsageLogging.recordOperationWithResultTags$(UsageLogging.scala:582)\n",
       "\tat com.databricks.backend.daemon.dbutils.FSUtils.recordOperationWithResultTags(DBUtilsCore.scala:70)\n",
       "\tat com.databricks.logging.UsageLogging.recordOperation(UsageLogging.scala:573)\n",
       "\tat com.databricks.logging.UsageLogging.recordOperation$(UsageLogging.scala:542)\n",
       "\tat com.databricks.backend.daemon.dbutils.FSUtils.recordOperation(DBUtilsCore.scala:70)\n",
       "\tat com.databricks.backend.daemon.dbutils.FSUtils.recordDbutilsFsOp(DBUtilsCore.scala:134)\n",
       "\tat com.databricks.backend.daemon.dbutils.FSUtils.ls(DBUtilsCore.scala:231)\n",
       "\tat com.databricks.dbutils_v1.impl.DbfsUtilsImpl.ls(DbfsUtilsImpl.scala:67)\n",
       "\tat $line9d5a7d5a71f948769117bb9e59ded1b231.$read$$iw$$iw$$iw$$iw$$iw$$iw.&lt;init&gt;(command-853534929598208:1)\n",
       "\tat $line9d5a7d5a71f948769117bb9e59ded1b231.$read$$iw$$iw$$iw$$iw$$iw.&lt;init&gt;(command-853534929598208:43)\n",
       "\tat $line9d5a7d5a71f948769117bb9e59ded1b231.$read$$iw$$iw$$iw$$iw.&lt;init&gt;(command-853534929598208:45)\n",
       "\tat $line9d5a7d5a71f948769117bb9e59ded1b231.$read$$iw$$iw$$iw.&lt;init&gt;(command-853534929598208:47)\n",
       "\tat $line9d5a7d5a71f948769117bb9e59ded1b231.$read$$iw$$iw.&lt;init&gt;(command-853534929598208:49)\n",
       "\tat $line9d5a7d5a71f948769117bb9e59ded1b231.$read$$iw.&lt;init&gt;(command-853534929598208:51)\n",
       "\tat $line9d5a7d5a71f948769117bb9e59ded1b231.$read.&lt;init&gt;(command-853534929598208:53)\n",
       "\tat $line9d5a7d5a71f948769117bb9e59ded1b231.$read$.&lt;init&gt;(command-853534929598208:57)\n",
       "\tat $line9d5a7d5a71f948769117bb9e59ded1b231.$read$.&lt;clinit&gt;(command-853534929598208)\n",
       "\tat $line9d5a7d5a71f948769117bb9e59ded1b231.$eval$.$print$lzycompute(&lt;notebook&gt;:7)\n",
       "\tat $line9d5a7d5a71f948769117bb9e59ded1b231.$eval$.$print(&lt;notebook&gt;:6)\n",
       "\tat $line9d5a7d5a71f948769117bb9e59ded1b231.$eval.$print(&lt;notebook&gt;)\n",
       "\tat sun.reflect.NativeMethodAccessorImpl.invoke0(Native Method)\n",
       "\tat sun.reflect.NativeMethodAccessorImpl.invoke(NativeMethodAccessorImpl.java:62)\n",
       "\tat sun.reflect.DelegatingMethodAccessorImpl.invoke(DelegatingMethodAccessorImpl.java:43)\n",
       "\tat java.lang.reflect.Method.invoke(Method.java:498)\n",
       "\tat scala.tools.nsc.interpreter.IMain$ReadEvalPrint.call(IMain.scala:747)\n",
       "\tat scala.tools.nsc.interpreter.IMain$Request.loadAndRun(IMain.scala:1020)\n",
       "\tat scala.tools.nsc.interpreter.IMain.$anonfun$interpret$1(IMain.scala:568)\n",
       "\tat scala.reflect.internal.util.ScalaClassLoader.asContext(ScalaClassLoader.scala:36)\n",
       "\tat scala.reflect.internal.util.ScalaClassLoader.asContext$(ScalaClassLoader.scala:116)\n",
       "\tat scala.reflect.internal.util.AbstractFileClassLoader.asContext(AbstractFileClassLoader.scala:41)\n",
       "\tat scala.tools.nsc.interpreter.IMain.loadAndRunReq$1(IMain.scala:567)\n",
       "\tat scala.tools.nsc.interpreter.IMain.interpret(IMain.scala:594)\n",
       "\tat scala.tools.nsc.interpreter.IMain.interpret(IMain.scala:564)\n",
       "\tat com.databricks.backend.daemon.driver.DriverILoop.execute(DriverILoop.scala:223)\n",
       "\tat com.databricks.backend.daemon.driver.ScalaDriverLocal.$anonfun$repl$1(ScalaDriverLocal.scala:236)\n",
       "\tat scala.runtime.java8.JFunction0$mcV$sp.apply(JFunction0$mcV$sp.java:23)\n",
       "\tat com.databricks.backend.daemon.driver.DriverLocal$TrapExitInternal$.trapExit(DriverLocal.scala:1489)\n",
       "\tat com.databricks.backend.daemon.driver.DriverLocal$TrapExit$.apply(DriverLocal.scala:1442)\n",
       "\tat com.databricks.backend.daemon.driver.ScalaDriverLocal.repl(ScalaDriverLocal.scala:236)\n",
       "\tat com.databricks.backend.daemon.driver.DriverLocal.$anonfun$execute$34(DriverLocal.scala:1083)\n",
       "\tat com.databricks.unity.EmptyHandle$.runWith(UCSHandle.scala:124)\n",
       "\tat com.databricks.backend.daemon.driver.DriverLocal.$anonfun$execute$22(DriverLocal.scala:1066)\n",
       "\tat com.databricks.logging.UsageLogging.$anonfun$withAttributionContext$1(UsageLogging.scala:426)\n",
       "\tat scala.util.DynamicVariable.withValue(DynamicVariable.scala:62)\n",
       "\tat com.databricks.logging.AttributionContext$.withValue(AttributionContext.scala:216)\n",
       "\tat com.databricks.logging.UsageLogging.withAttributionContext(UsageLogging.scala:424)\n",
       "\tat com.databricks.logging.UsageLogging.withAttributionContext$(UsageLogging.scala:418)\n",
       "\tat com.databricks.backend.daemon.driver.DriverLocal.withAttributionContext(DriverLocal.scala:85)\n",
       "\tat com.databricks.logging.UsageLogging.withAttributionTags(UsageLogging.scala:472)\n",
       "\tat com.databricks.logging.UsageLogging.withAttributionTags$(UsageLogging.scala:455)\n",
       "\tat com.databricks.backend.daemon.driver.DriverLocal.withAttributionTags(DriverLocal.scala:85)\n",
       "\tat com.databricks.backend.daemon.driver.DriverLocal.execute(DriverLocal.scala:1003)\n",
       "\tat com.databricks.backend.daemon.driver.DriverWrapper.$anonfun$tryExecutingCommand$1(DriverWrapper.scala:739)\n",
       "\tat scala.util.Try$.apply(Try.scala:213)\n",
       "\tat com.databricks.backend.daemon.driver.DriverWrapper.tryExecutingCommand(DriverWrapper.scala:731)\n",
       "\tat com.databricks.backend.daemon.driver.DriverWrapper.executeCommandAndGetError(DriverWrapper.scala:640)\n",
       "\tat com.databricks.backend.daemon.driver.DriverWrapper.executeCommand(DriverWrapper.scala:685)\n",
       "\tat com.databricks.backend.daemon.driver.DriverWrapper.runInnerLoop(DriverWrapper.scala:517)\n",
       "\tat com.databricks.backend.daemon.driver.DriverWrapper.runInner(DriverWrapper.scala:433)\n",
       "\tat com.databricks.backend.daemon.driver.DriverWrapper.run(DriverWrapper.scala:275)\n",
       "\tat java.lang.Thread.run(Thread.java:750)</div>"
      ]
     },
     "metadata": {
      "application/vnd.databricks.v1+output": {
       "arguments": {},
       "data": "<div class=\"ansiout\">\tat com.databricks.backend.daemon.data.client.DbfsClient.send0(DbfsClient.scala:121)\n\tat com.databricks.backend.daemon.data.client.DbfsClient.sendIdempotent(DbfsClient.scala:69)\n\tat com.databricks.backend.daemon.data.client.DatabricksFileSystemV1.listStatus(DatabricksFileSystemV1.scala:179)\n\tat com.databricks.backend.daemon.data.client.DatabricksFileSystem.listStatus(DatabricksFileSystem.scala:164)\n\tat com.databricks.backend.daemon.dbutils.FSUtils.lsWithLimit(DBUtilsCore.scala:274)\n\tat com.databricks.backend.daemon.dbutils.FSUtils.$anonfun$lsImpl$2(DBUtilsCore.scala:243)\n\tat com.databricks.backend.daemon.dbutils.FSUtils.withFsSafetyCheck(DBUtilsCore.scala:146)\n\tat com.databricks.backend.daemon.dbutils.FSUtils.$anonfun$lsImpl$1(DBUtilsCore.scala:241)\n\tat com.databricks.backend.daemon.dbutils.FSUtils.checkPermission(DBUtilsCore.scala:141)\n\tat com.databricks.backend.daemon.dbutils.FSUtils.lsImpl(DBUtilsCore.scala:241)\n\tat com.databricks.backend.daemon.dbutils.FSUtils.$anonfun$ls$1(DBUtilsCore.scala:231)\n\tat com.databricks.logging.UsageLogging.$anonfun$recordOperation$1(UsageLogging.scala:573)\n\tat com.databricks.logging.UsageLogging.executeThunkAndCaptureResultTags$1(UsageLogging.scala:668)\n\tat com.databricks.logging.UsageLogging.$anonfun$recordOperationWithResultTags$4(UsageLogging.scala:686)\n\tat com.databricks.logging.UsageLogging.$anonfun$withAttributionContext$1(UsageLogging.scala:426)\n\tat scala.util.DynamicVariable.withValue(DynamicVariable.scala:62)\n\tat com.databricks.logging.AttributionContext$.withValue(AttributionContext.scala:216)\n\tat com.databricks.logging.UsageLogging.withAttributionContext(UsageLogging.scala:424)\n\tat com.databricks.logging.UsageLogging.withAttributionContext$(UsageLogging.scala:418)\n\tat com.databricks.backend.daemon.dbutils.FSUtils.withAttributionContext(DBUtilsCore.scala:70)\n\tat com.databricks.logging.UsageLogging.withAttributionTags(UsageLogging.scala:472)\n\tat com.databricks.logging.UsageLogging.withAttributionTags$(UsageLogging.scala:455)\n\tat com.databricks.backend.daemon.dbutils.FSUtils.withAttributionTags(DBUtilsCore.scala:70)\n\tat com.databricks.logging.UsageLogging.recordOperationWithResultTags(UsageLogging.scala:663)\n\tat com.databricks.logging.UsageLogging.recordOperationWithResultTags$(UsageLogging.scala:582)\n\tat com.databricks.backend.daemon.dbutils.FSUtils.recordOperationWithResultTags(DBUtilsCore.scala:70)\n\tat com.databricks.logging.UsageLogging.recordOperation(UsageLogging.scala:573)\n\tat com.databricks.logging.UsageLogging.recordOperation$(UsageLogging.scala:542)\n\tat com.databricks.backend.daemon.dbutils.FSUtils.recordOperation(DBUtilsCore.scala:70)\n\tat com.databricks.backend.daemon.dbutils.FSUtils.recordDbutilsFsOp(DBUtilsCore.scala:134)\n\tat com.databricks.backend.daemon.dbutils.FSUtils.ls(DBUtilsCore.scala:231)\n\tat com.databricks.dbutils_v1.impl.DbfsUtilsImpl.ls(DbfsUtilsImpl.scala:67)\n\tat $line9d5a7d5a71f948769117bb9e59ded1b231.$read$$iw$$iw$$iw$$iw$$iw$$iw.&lt;init&gt;(command-853534929598208:1)\n\tat $line9d5a7d5a71f948769117bb9e59ded1b231.$read$$iw$$iw$$iw$$iw$$iw.&lt;init&gt;(command-853534929598208:43)\n\tat $line9d5a7d5a71f948769117bb9e59ded1b231.$read$$iw$$iw$$iw$$iw.&lt;init&gt;(command-853534929598208:45)\n\tat $line9d5a7d5a71f948769117bb9e59ded1b231.$read$$iw$$iw$$iw.&lt;init&gt;(command-853534929598208:47)\n\tat $line9d5a7d5a71f948769117bb9e59ded1b231.$read$$iw$$iw.&lt;init&gt;(command-853534929598208:49)\n\tat $line9d5a7d5a71f948769117bb9e59ded1b231.$read$$iw.&lt;init&gt;(command-853534929598208:51)\n\tat $line9d5a7d5a71f948769117bb9e59ded1b231.$read.&lt;init&gt;(command-853534929598208:53)\n\tat $line9d5a7d5a71f948769117bb9e59ded1b231.$read$.&lt;init&gt;(command-853534929598208:57)\n\tat $line9d5a7d5a71f948769117bb9e59ded1b231.$read$.&lt;clinit&gt;(command-853534929598208)\n\tat $line9d5a7d5a71f948769117bb9e59ded1b231.$eval$.$print$lzycompute(&lt;notebook&gt;:7)\n\tat $line9d5a7d5a71f948769117bb9e59ded1b231.$eval$.$print(&lt;notebook&gt;:6)\n\tat $line9d5a7d5a71f948769117bb9e59ded1b231.$eval.$print(&lt;notebook&gt;)\n\tat sun.reflect.NativeMethodAccessorImpl.invoke0(Native Method)\n\tat sun.reflect.NativeMethodAccessorImpl.invoke(NativeMethodAccessorImpl.java:62)\n\tat sun.reflect.DelegatingMethodAccessorImpl.invoke(DelegatingMethodAccessorImpl.java:43)\n\tat java.lang.reflect.Method.invoke(Method.java:498)\n\tat scala.tools.nsc.interpreter.IMain$ReadEvalPrint.call(IMain.scala:747)\n\tat scala.tools.nsc.interpreter.IMain$Request.loadAndRun(IMain.scala:1020)\n\tat scala.tools.nsc.interpreter.IMain.$anonfun$interpret$1(IMain.scala:568)\n\tat scala.reflect.internal.util.ScalaClassLoader.asContext(ScalaClassLoader.scala:36)\n\tat scala.reflect.internal.util.ScalaClassLoader.asContext$(ScalaClassLoader.scala:116)\n\tat scala.reflect.internal.util.AbstractFileClassLoader.asContext(AbstractFileClassLoader.scala:41)\n\tat scala.tools.nsc.interpreter.IMain.loadAndRunReq$1(IMain.scala:567)\n\tat scala.tools.nsc.interpreter.IMain.interpret(IMain.scala:594)\n\tat scala.tools.nsc.interpreter.IMain.interpret(IMain.scala:564)\n\tat com.databricks.backend.daemon.driver.DriverILoop.execute(DriverILoop.scala:223)\n\tat com.databricks.backend.daemon.driver.ScalaDriverLocal.$anonfun$repl$1(ScalaDriverLocal.scala:236)\n\tat scala.runtime.java8.JFunction0$mcV$sp.apply(JFunction0$mcV$sp.java:23)\n\tat com.databricks.backend.daemon.driver.DriverLocal$TrapExitInternal$.trapExit(DriverLocal.scala:1489)\n\tat com.databricks.backend.daemon.driver.DriverLocal$TrapExit$.apply(DriverLocal.scala:1442)\n\tat com.databricks.backend.daemon.driver.ScalaDriverLocal.repl(ScalaDriverLocal.scala:236)\n\tat com.databricks.backend.daemon.driver.DriverLocal.$anonfun$execute$34(DriverLocal.scala:1083)\n\tat com.databricks.unity.EmptyHandle$.runWith(UCSHandle.scala:124)\n\tat com.databricks.backend.daemon.driver.DriverLocal.$anonfun$execute$22(DriverLocal.scala:1066)\n\tat com.databricks.logging.UsageLogging.$anonfun$withAttributionContext$1(UsageLogging.scala:426)\n\tat scala.util.DynamicVariable.withValue(DynamicVariable.scala:62)\n\tat com.databricks.logging.AttributionContext$.withValue(AttributionContext.scala:216)\n\tat com.databricks.logging.UsageLogging.withAttributionContext(UsageLogging.scala:424)\n\tat com.databricks.logging.UsageLogging.withAttributionContext$(UsageLogging.scala:418)\n\tat com.databricks.backend.daemon.driver.DriverLocal.withAttributionContext(DriverLocal.scala:85)\n\tat com.databricks.logging.UsageLogging.withAttributionTags(UsageLogging.scala:472)\n\tat com.databricks.logging.UsageLogging.withAttributionTags$(UsageLogging.scala:455)\n\tat com.databricks.backend.daemon.driver.DriverLocal.withAttributionTags(DriverLocal.scala:85)\n\tat com.databricks.backend.daemon.driver.DriverLocal.execute(DriverLocal.scala:1003)\n\tat com.databricks.backend.daemon.driver.DriverWrapper.$anonfun$tryExecutingCommand$1(DriverWrapper.scala:739)\n\tat scala.util.Try$.apply(Try.scala:213)\n\tat com.databricks.backend.daemon.driver.DriverWrapper.tryExecutingCommand(DriverWrapper.scala:731)\n\tat com.databricks.backend.daemon.driver.DriverWrapper.executeCommandAndGetError(DriverWrapper.scala:640)\n\tat com.databricks.backend.daemon.driver.DriverWrapper.executeCommand(DriverWrapper.scala:685)\n\tat com.databricks.backend.daemon.driver.DriverWrapper.runInnerLoop(DriverWrapper.scala:517)\n\tat com.databricks.backend.daemon.driver.DriverWrapper.runInner(DriverWrapper.scala:433)\n\tat com.databricks.backend.daemon.driver.DriverWrapper.run(DriverWrapper.scala:275)\n\tat java.lang.Thread.run(Thread.java:750)</div>",
       "errorSummary": "FileNotFoundException: /user/hive/warehouse/testdb.db/student",
       "errorTraceType": "html",
       "metadata": {},
       "type": "ipynbError"
      }
     },
     "output_type": "display_data"
    }
   ],
   "source": [
    "%fs ls \"dbfs:/user/hive/warehouse/testdb.db/student\""
   ]
  },
  {
   "cell_type": "code",
   "execution_count": 0,
   "metadata": {
    "application/vnd.databricks.v1+cell": {
     "cellMetadata": {
      "byteLimit": 2048000,
      "rowLimit": 10000
     },
     "inputWidgets": {},
     "nuid": "ab14e727-133a-4c22-a3e7-7131e6b1aa4a",
     "showTitle": false,
     "title": ""
    }
   },
   "outputs": [
    {
     "output_type": "display_data",
     "data": {
      "text/html": [
       "<style scoped>\n",
       "  .table-result-container {\n",
       "    max-height: 300px;\n",
       "    overflow: auto;\n",
       "  }\n",
       "  table, th, td {\n",
       "    border: 1px solid black;\n",
       "    border-collapse: collapse;\n",
       "  }\n",
       "  th, td {\n",
       "    padding: 5px;\n",
       "  }\n",
       "  th {\n",
       "    text-align: left;\n",
       "  }\n",
       "</style><div class='table-result-container'><table class='table-result'><thead style='background-color: white'><tr></tr></thead><tbody></tbody></table></div>"
      ]
     },
     "metadata": {
      "application/vnd.databricks.v1+output": {
       "addedWidgets": {},
       "aggData": [],
       "aggError": "",
       "aggOverflow": false,
       "aggSchema": [],
       "aggSeriesLimitReached": false,
       "aggType": "",
       "arguments": {},
       "columnCustomDisplayInfos": {},
       "data": [],
       "datasetInfos": [],
       "dbfsResultPath": null,
       "isJsonSchema": true,
       "metadata": {
        "isDbfsCommandResult": false
       },
       "overflow": false,
       "plotOptions": {
        "customPlotOptions": {},
        "displayType": "table",
        "pivotAggregation": null,
        "pivotColumns": null,
        "xColumns": null,
        "yColumns": null
       },
       "removedWidgets": [],
       "schema": [],
       "type": "table"
      }
     },
     "output_type": "display_data"
    }
   ],
   "source": [
    "%sql\n",
    "drop table population;"
   ]
  },
  {
   "cell_type": "code",
   "execution_count": 0,
   "metadata": {
    "application/vnd.databricks.v1+cell": {
     "cellMetadata": {
      "byteLimit": 2048000,
      "rowLimit": 10000
     },
     "inputWidgets": {},
     "nuid": "a6ce35f8-723f-4743-81fb-75788dc48b77",
     "showTitle": false,
     "title": ""
    }
   },
   "outputs": [
    {
     "output_type": "display_data",
     "data": {
      "text/html": [
       "<style scoped>\n",
       "  .table-result-container {\n",
       "    max-height: 300px;\n",
       "    overflow: auto;\n",
       "  }\n",
       "  table, th, td {\n",
       "    border: 1px solid black;\n",
       "    border-collapse: collapse;\n",
       "  }\n",
       "  th, td {\n",
       "    padding: 5px;\n",
       "  }\n",
       "  th {\n",
       "    text-align: left;\n",
       "  }\n",
       "</style><div class='table-result-container'><table class='table-result'><thead style='background-color: white'><tr><th>path</th><th>name</th><th>size</th><th>modificationTime</th></tr></thead><tbody><tr><td>dbfs:/user/demo/external_tbl/_delta_log/</td><td>_delta_log/</td><td>0</td><td>0</td></tr><tr><td>dbfs:/user/demo/external_tbl/part-00000-08696be5-dc82-4f3d-becd-dd3c7055a956-c000.snappy.parquet</td><td>part-00000-08696be5-dc82-4f3d-becd-dd3c7055a956-c000.snappy.parquet</td><td>1791</td><td>1707929214000</td></tr><tr><td>dbfs:/user/demo/external_tbl/part-00000-0ba346ff-063c-4bf3-be03-09ace0a4c4ba-c000.snappy.parquet</td><td>part-00000-0ba346ff-063c-4bf3-be03-09ace0a4c4ba-c000.snappy.parquet</td><td>1926</td><td>1707929247000</td></tr><tr><td>dbfs:/user/demo/external_tbl/part-00000-13f659a9-2c00-4734-941a-29ad01506718-c000.snappy.parquet</td><td>part-00000-13f659a9-2c00-4734-941a-29ad01506718-c000.snappy.parquet</td><td>1764</td><td>1707929237000</td></tr><tr><td>dbfs:/user/demo/external_tbl/part-00000-2cfaf39c-d45b-4f25-9da2-a5bb1b25e53f-c000.snappy.parquet</td><td>part-00000-2cfaf39c-d45b-4f25-9da2-a5bb1b25e53f-c000.snappy.parquet</td><td>1806</td><td>1707929197000</td></tr><tr><td>dbfs:/user/demo/external_tbl/part-00000-3c2287b9-1b0b-4bb0-9848-6342c2855eb1-c000.snappy.parquet</td><td>part-00000-3c2287b9-1b0b-4bb0-9848-6342c2855eb1-c000.snappy.parquet</td><td>1812</td><td>1707929226000</td></tr><tr><td>dbfs:/user/demo/external_tbl/part-00000-44a291b2-c880-4403-8904-ffe0df64e1a7-c000.snappy.parquet</td><td>part-00000-44a291b2-c880-4403-8904-ffe0df64e1a7-c000.snappy.parquet</td><td>1799</td><td>1707929207000</td></tr><tr><td>dbfs:/user/demo/external_tbl/part-00000-486561f6-a97f-4007-aa87-ddd35d3d679f-c000.snappy.parquet</td><td>part-00000-486561f6-a97f-4007-aa87-ddd35d3d679f-c000.snappy.parquet</td><td>1799</td><td>1707929220000</td></tr><tr><td>dbfs:/user/demo/external_tbl/part-00000-544f1afc-c3fe-4641-8675-9d9fc539c968-c000.snappy.parquet</td><td>part-00000-544f1afc-c3fe-4641-8675-9d9fc539c968-c000.snappy.parquet</td><td>1784</td><td>1707929245000</td></tr><tr><td>dbfs:/user/demo/external_tbl/part-00000-69bc7f8e-f5fe-49d6-8f8a-2bf77efe58d5-c000.snappy.parquet</td><td>part-00000-69bc7f8e-f5fe-49d6-8f8a-2bf77efe58d5-c000.snappy.parquet</td><td>1813</td><td>1707929188000</td></tr><tr><td>dbfs:/user/demo/external_tbl/part-00000-7262d177-9f70-492c-bd37-070813ae9336-c000.snappy.parquet</td><td>part-00000-7262d177-9f70-492c-bd37-070813ae9336-c000.snappy.parquet</td><td>1757</td><td>1707929239000</td></tr><tr><td>dbfs:/user/demo/external_tbl/part-00000-74170b83-3e77-4870-85a5-695989518d81-c000.snappy.parquet</td><td>part-00000-74170b83-3e77-4870-85a5-695989518d81-c000.snappy.parquet</td><td>1791</td><td>1707929242000</td></tr><tr><td>dbfs:/user/demo/external_tbl/part-00000-9e2dad3c-6756-47f2-8929-61a781d4f124-c000.snappy.parquet</td><td>part-00000-9e2dad3c-6756-47f2-8929-61a781d4f124-c000.snappy.parquet</td><td>1792</td><td>1707929200000</td></tr><tr><td>dbfs:/user/demo/external_tbl/part-00000-a051cf10-27f1-4cad-9850-f9dbc3e87f82-c000.snappy.parquet</td><td>part-00000-a051cf10-27f1-4cad-9850-f9dbc3e87f82-c000.snappy.parquet</td><td>1827</td><td>1707929232000</td></tr><tr><td>dbfs:/user/demo/external_tbl/part-00000-a394e3ef-44a9-4733-af65-df9d98cdc503-c000.snappy.parquet</td><td>part-00000-a394e3ef-44a9-4733-af65-df9d98cdc503-c000.snappy.parquet</td><td>1813</td><td>1707929205000</td></tr><tr><td>dbfs:/user/demo/external_tbl/part-00000-bcbd6547-4d69-4632-bc6a-d50e35bc2b81-c000.snappy.parquet</td><td>part-00000-bcbd6547-4d69-4632-bc6a-d50e35bc2b81-c000.snappy.parquet</td><td>1820</td><td>1707929216000</td></tr><tr><td>dbfs:/user/demo/external_tbl/part-00000-bf8b7bc8-dfed-4f76-9143-c9245fe13359-c000.snappy.parquet</td><td>part-00000-bf8b7bc8-dfed-4f76-9143-c9245fe13359-c000.snappy.parquet</td><td>1792</td><td>1707929191000</td></tr><tr><td>dbfs:/user/demo/external_tbl/part-00000-d1d3ac0c-e6fc-44a4-a5fe-e80260aad050-c000.snappy.parquet</td><td>part-00000-d1d3ac0c-e6fc-44a4-a5fe-e80260aad050-c000.snappy.parquet</td><td>1841</td><td>1707929230000</td></tr><tr><td>dbfs:/user/demo/external_tbl/part-00000-dc385659-1984-4343-8def-2bd507d62851-c000.snappy.parquet</td><td>part-00000-dc385659-1984-4343-8def-2bd507d62851-c000.snappy.parquet</td><td>1804</td><td>1707929194000</td></tr><tr><td>dbfs:/user/demo/external_tbl/part-00000-f34b0735-6625-44c6-83fb-723c1c6a52ab-c000.snappy.parquet</td><td>part-00000-f34b0735-6625-44c6-83fb-723c1c6a52ab-c000.snappy.parquet</td><td>1791</td><td>1707929211000</td></tr><tr><td>dbfs:/user/demo/external_tbl/part-00000-ff401942-fb6d-4c25-ab28-5e04e243829f-c000.snappy.parquet</td><td>part-00000-ff401942-fb6d-4c25-ab28-5e04e243829f-c000.snappy.parquet</td><td>1763</td><td>1707929223000</td></tr></tbody></table></div>"
      ]
     },
     "metadata": {
      "application/vnd.databricks.v1+output": {
       "addedWidgets": {},
       "aggData": [],
       "aggError": "",
       "aggOverflow": false,
       "aggSchema": [],
       "aggSeriesLimitReached": false,
       "aggType": "",
       "arguments": {},
       "columnCustomDisplayInfos": {},
       "data": [
        [
         "dbfs:/user/demo/external_tbl/_delta_log/",
         "_delta_log/",
         0,
         0
        ],
        [
         "dbfs:/user/demo/external_tbl/part-00000-08696be5-dc82-4f3d-becd-dd3c7055a956-c000.snappy.parquet",
         "part-00000-08696be5-dc82-4f3d-becd-dd3c7055a956-c000.snappy.parquet",
         1791,
         1707929214000
        ],
        [
         "dbfs:/user/demo/external_tbl/part-00000-0ba346ff-063c-4bf3-be03-09ace0a4c4ba-c000.snappy.parquet",
         "part-00000-0ba346ff-063c-4bf3-be03-09ace0a4c4ba-c000.snappy.parquet",
         1926,
         1707929247000
        ],
        [
         "dbfs:/user/demo/external_tbl/part-00000-13f659a9-2c00-4734-941a-29ad01506718-c000.snappy.parquet",
         "part-00000-13f659a9-2c00-4734-941a-29ad01506718-c000.snappy.parquet",
         1764,
         1707929237000
        ],
        [
         "dbfs:/user/demo/external_tbl/part-00000-2cfaf39c-d45b-4f25-9da2-a5bb1b25e53f-c000.snappy.parquet",
         "part-00000-2cfaf39c-d45b-4f25-9da2-a5bb1b25e53f-c000.snappy.parquet",
         1806,
         1707929197000
        ],
        [
         "dbfs:/user/demo/external_tbl/part-00000-3c2287b9-1b0b-4bb0-9848-6342c2855eb1-c000.snappy.parquet",
         "part-00000-3c2287b9-1b0b-4bb0-9848-6342c2855eb1-c000.snappy.parquet",
         1812,
         1707929226000
        ],
        [
         "dbfs:/user/demo/external_tbl/part-00000-44a291b2-c880-4403-8904-ffe0df64e1a7-c000.snappy.parquet",
         "part-00000-44a291b2-c880-4403-8904-ffe0df64e1a7-c000.snappy.parquet",
         1799,
         1707929207000
        ],
        [
         "dbfs:/user/demo/external_tbl/part-00000-486561f6-a97f-4007-aa87-ddd35d3d679f-c000.snappy.parquet",
         "part-00000-486561f6-a97f-4007-aa87-ddd35d3d679f-c000.snappy.parquet",
         1799,
         1707929220000
        ],
        [
         "dbfs:/user/demo/external_tbl/part-00000-544f1afc-c3fe-4641-8675-9d9fc539c968-c000.snappy.parquet",
         "part-00000-544f1afc-c3fe-4641-8675-9d9fc539c968-c000.snappy.parquet",
         1784,
         1707929245000
        ],
        [
         "dbfs:/user/demo/external_tbl/part-00000-69bc7f8e-f5fe-49d6-8f8a-2bf77efe58d5-c000.snappy.parquet",
         "part-00000-69bc7f8e-f5fe-49d6-8f8a-2bf77efe58d5-c000.snappy.parquet",
         1813,
         1707929188000
        ],
        [
         "dbfs:/user/demo/external_tbl/part-00000-7262d177-9f70-492c-bd37-070813ae9336-c000.snappy.parquet",
         "part-00000-7262d177-9f70-492c-bd37-070813ae9336-c000.snappy.parquet",
         1757,
         1707929239000
        ],
        [
         "dbfs:/user/demo/external_tbl/part-00000-74170b83-3e77-4870-85a5-695989518d81-c000.snappy.parquet",
         "part-00000-74170b83-3e77-4870-85a5-695989518d81-c000.snappy.parquet",
         1791,
         1707929242000
        ],
        [
         "dbfs:/user/demo/external_tbl/part-00000-9e2dad3c-6756-47f2-8929-61a781d4f124-c000.snappy.parquet",
         "part-00000-9e2dad3c-6756-47f2-8929-61a781d4f124-c000.snappy.parquet",
         1792,
         1707929200000
        ],
        [
         "dbfs:/user/demo/external_tbl/part-00000-a051cf10-27f1-4cad-9850-f9dbc3e87f82-c000.snappy.parquet",
         "part-00000-a051cf10-27f1-4cad-9850-f9dbc3e87f82-c000.snappy.parquet",
         1827,
         1707929232000
        ],
        [
         "dbfs:/user/demo/external_tbl/part-00000-a394e3ef-44a9-4733-af65-df9d98cdc503-c000.snappy.parquet",
         "part-00000-a394e3ef-44a9-4733-af65-df9d98cdc503-c000.snappy.parquet",
         1813,
         1707929205000
        ],
        [
         "dbfs:/user/demo/external_tbl/part-00000-bcbd6547-4d69-4632-bc6a-d50e35bc2b81-c000.snappy.parquet",
         "part-00000-bcbd6547-4d69-4632-bc6a-d50e35bc2b81-c000.snappy.parquet",
         1820,
         1707929216000
        ],
        [
         "dbfs:/user/demo/external_tbl/part-00000-bf8b7bc8-dfed-4f76-9143-c9245fe13359-c000.snappy.parquet",
         "part-00000-bf8b7bc8-dfed-4f76-9143-c9245fe13359-c000.snappy.parquet",
         1792,
         1707929191000
        ],
        [
         "dbfs:/user/demo/external_tbl/part-00000-d1d3ac0c-e6fc-44a4-a5fe-e80260aad050-c000.snappy.parquet",
         "part-00000-d1d3ac0c-e6fc-44a4-a5fe-e80260aad050-c000.snappy.parquet",
         1841,
         1707929230000
        ],
        [
         "dbfs:/user/demo/external_tbl/part-00000-dc385659-1984-4343-8def-2bd507d62851-c000.snappy.parquet",
         "part-00000-dc385659-1984-4343-8def-2bd507d62851-c000.snappy.parquet",
         1804,
         1707929194000
        ],
        [
         "dbfs:/user/demo/external_tbl/part-00000-f34b0735-6625-44c6-83fb-723c1c6a52ab-c000.snappy.parquet",
         "part-00000-f34b0735-6625-44c6-83fb-723c1c6a52ab-c000.snappy.parquet",
         1791,
         1707929211000
        ],
        [
         "dbfs:/user/demo/external_tbl/part-00000-ff401942-fb6d-4c25-ab28-5e04e243829f-c000.snappy.parquet",
         "part-00000-ff401942-fb6d-4c25-ab28-5e04e243829f-c000.snappy.parquet",
         1763,
         1707929223000
        ]
       ],
       "datasetInfos": [],
       "dbfsResultPath": null,
       "isJsonSchema": true,
       "metadata": {
        "isDbfsCommandResult": false
       },
       "overflow": false,
       "plotOptions": {
        "customPlotOptions": {},
        "displayType": "table",
        "pivotAggregation": null,
        "pivotColumns": null,
        "xColumns": null,
        "yColumns": null
       },
       "removedWidgets": [],
       "schema": [
        {
         "metadata": "{}",
         "name": "path",
         "type": "\"string\""
        },
        {
         "metadata": "{}",
         "name": "name",
         "type": "\"string\""
        },
        {
         "metadata": "{}",
         "name": "size",
         "type": "\"long\""
        },
        {
         "metadata": "{}",
         "name": "modificationTime",
         "type": "\"long\""
        }
       ],
       "type": "table"
      }
     },
     "output_type": "display_data"
    }
   ],
   "source": [
    "%fs ls \"dbfs:/user/demo/external_tbl\""
   ]
  },
  {
   "cell_type": "code",
   "execution_count": 0,
   "metadata": {
    "application/vnd.databricks.v1+cell": {
     "cellMetadata": {
      "byteLimit": 2048000,
      "rowLimit": 10000
     },
     "inputWidgets": {},
     "nuid": "c217e211-5c80-4a3f-a700-f0448869d85a",
     "showTitle": false,
     "title": ""
    }
   },
   "outputs": [
    {
     "output_type": "display_data",
     "data": {
      "text/html": [
       "<style scoped>\n",
       "  .table-result-container {\n",
       "    max-height: 300px;\n",
       "    overflow: auto;\n",
       "  }\n",
       "  table, th, td {\n",
       "    border: 1px solid black;\n",
       "    border-collapse: collapse;\n",
       "  }\n",
       "  th, td {\n",
       "    padding: 5px;\n",
       "  }\n",
       "  th {\n",
       "    text-align: left;\n",
       "  }\n",
       "</style><div class='table-result-container'><table class='table-result'><thead style='background-color: white'><tr><th>database</th><th>tableName</th><th>isTemporary</th></tr></thead><tbody><tr><td>testdb</td><td>employee</td><td>false</td></tr></tbody></table></div>"
      ]
     },
     "metadata": {
      "application/vnd.databricks.v1+output": {
       "addedWidgets": {},
       "aggData": [],
       "aggError": "",
       "aggOverflow": false,
       "aggSchema": [],
       "aggSeriesLimitReached": false,
       "aggType": "",
       "arguments": {},
       "columnCustomDisplayInfos": {},
       "data": [
        [
         "testdb",
         "employee",
         false
        ]
       ],
       "datasetInfos": [],
       "dbfsResultPath": null,
       "isJsonSchema": true,
       "metadata": {
        "isDbfsCommandResult": false
       },
       "overflow": false,
       "plotOptions": {
        "customPlotOptions": {},
        "displayType": "table",
        "pivotAggregation": null,
        "pivotColumns": null,
        "xColumns": null,
        "yColumns": null
       },
       "removedWidgets": [],
       "schema": [
        {
         "metadata": "{}",
         "name": "database",
         "type": "\"string\""
        },
        {
         "metadata": "{}",
         "name": "tableName",
         "type": "\"string\""
        },
        {
         "metadata": "{}",
         "name": "isTemporary",
         "type": "\"boolean\""
        }
       ],
       "type": "table"
      }
     },
     "output_type": "display_data"
    }
   ],
   "source": [
    "%sql\n",
    "show tables;"
   ]
  },
  {
   "cell_type": "code",
   "execution_count": 0,
   "metadata": {
    "application/vnd.databricks.v1+cell": {
     "cellMetadata": {
      "byteLimit": 2048000,
      "rowLimit": 10000
     },
     "inputWidgets": {},
     "nuid": "ac673ede-d9a6-48f3-a093-0291d51baf32",
     "showTitle": false,
     "title": ""
    }
   },
   "outputs": [
    {
     "output_type": "display_data",
     "data": {
      "text/html": [
       "<style scoped>\n",
       "  .table-result-container {\n",
       "    max-height: 300px;\n",
       "    overflow: auto;\n",
       "  }\n",
       "  table, th, td {\n",
       "    border: 1px solid black;\n",
       "    border-collapse: collapse;\n",
       "  }\n",
       "  th, td {\n",
       "    padding: 5px;\n",
       "  }\n",
       "  th {\n",
       "    text-align: left;\n",
       "  }\n",
       "</style><div class='table-result-container'><table class='table-result'><thead style='background-color: white'><tr><th>id</th><th>name</th><th>salary</th></tr></thead><tbody><tr><td>1</td><td>A</td><td>1000.0</td></tr><tr><td>2</td><td>B</td><td>2000.0</td></tr><tr><td>3</td><td>C</td><td>3000.0</td></tr><tr><td>4</td><td>D</td><td>4000.0</td></tr><tr><td>5</td><td>E</td><td>5000.0</td></tr><tr><td>6</td><td>F</td><td>6000.0</td></tr><tr><td>7</td><td>G</td><td>2000.0</td></tr><tr><td>8</td><td>H</td><td>3100.0</td></tr><tr><td>9</td><td>I</td><td>4300.0</td></tr><tr><td>10</td><td>J</td><td>1200.0</td></tr></tbody></table></div>"
      ]
     },
     "metadata": {
      "application/vnd.databricks.v1+output": {
       "addedWidgets": {},
       "aggData": [],
       "aggError": "",
       "aggOverflow": false,
       "aggSchema": [],
       "aggSeriesLimitReached": false,
       "aggType": "",
       "arguments": {},
       "columnCustomDisplayInfos": {},
       "data": [
        [
         1,
         "A",
         1000.0
        ],
        [
         2,
         "B",
         2000.0
        ],
        [
         3,
         "C",
         3000.0
        ],
        [
         4,
         "D",
         4000.0
        ],
        [
         5,
         "E",
         5000.0
        ],
        [
         6,
         "F",
         6000.0
        ],
        [
         7,
         "G",
         2000.0
        ],
        [
         8,
         "H",
         3100.0
        ],
        [
         9,
         "I",
         4300.0
        ],
        [
         10,
         "J",
         1200.0
        ]
       ],
       "datasetInfos": [],
       "dbfsResultPath": null,
       "isJsonSchema": true,
       "metadata": {
        "isDbfsCommandResult": false
       },
       "overflow": false,
       "plotOptions": {
        "customPlotOptions": {},
        "displayType": "table",
        "pivotAggregation": null,
        "pivotColumns": null,
        "xColumns": null,
        "yColumns": null
       },
       "removedWidgets": [],
       "schema": [
        {
         "metadata": "{}",
         "name": "id",
         "type": "\"integer\""
        },
        {
         "metadata": "{}",
         "name": "name",
         "type": "\"string\""
        },
        {
         "metadata": "{}",
         "name": "salary",
         "type": "\"double\""
        }
       ],
       "type": "table"
      }
     },
     "output_type": "display_data"
    }
   ],
   "source": [
    "%sql\n",
    "select * from employee;"
   ]
  },
  {
   "cell_type": "code",
   "execution_count": 0,
   "metadata": {
    "application/vnd.databricks.v1+cell": {
     "cellMetadata": {},
     "inputWidgets": {},
     "nuid": "d9447ab5-19d8-45fa-9fd4-d9f43ba61b48",
     "showTitle": false,
     "title": ""
    }
   },
   "outputs": [],
   "source": []
  }
 ],
 "metadata": {
  "application/vnd.databricks.v1+notebook": {
   "dashboards": [],
   "language": "python",
   "notebookMetadata": {
    "mostRecentlyExecutedCommandWithImplicitDF": {
     "commandId": 853534929598210,
     "dataframes": [
      "_sqldf"
     ]
    },
    "pythonIndentUnit": 4
   },
   "notebookName": "managed-external-tables",
   "widgets": {}
  }
 },
 "nbformat": 4,
 "nbformat_minor": 0
}
